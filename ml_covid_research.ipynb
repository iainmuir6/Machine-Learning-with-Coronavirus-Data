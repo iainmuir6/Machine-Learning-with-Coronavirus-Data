{
 "cells": [
  {
   "cell_type": "markdown",
   "metadata": {},
   "source": [
    "# CS 4993 Independent Study – Machine Learning with COVID Data"
   ]
  },
  {
   "cell_type": "markdown",
   "metadata": {},
   "source": [
    "***Professor: [Haiyang Shen](https://engineering.virginia.edu/faculty/haiying-shen)***  \n",
    "***Researcher: [Iain Muir](https://www.linkedin.com/in/iain-muir-b37718164/) | iam9ez***"
   ]
  },
  {
   "cell_type": "markdown",
   "metadata": {},
   "source": [
    "*Github Project:* https://github.com/iainmuir6/machineLearning_covidData\n",
    "\n",
    "*Last Updated: June 7th, 2021*"
   ]
  },
  {
   "cell_type": "markdown",
   "metadata": {},
   "source": [
    "References\n",
    "* [CS 4774 ML Material – Professor Rich Nguyen](https://www.cs.virginia.edu/~nn4pj/teaching)\n",
    "* [Steps to Building Machine Learning Model](https://analyticsindiamag.com/the-7-key-steps-to-build-your-machine-learning-model/)\n",
    "* [Steps to Data Preprocessing](https://hackernoon.com/what-steps-should-one-take-while-doing-data-preprocessing-502c993e1caa)\n",
    "* [Handling Missing Values](https://towardsdatascience.com/7-ways-to-handle-missing-values-in-machine-learning-1a6326adf79e)\n",
    "* [Feature Selection I](https://towardsdatascience.com/the-5-feature-selection-algorithms-every-data-scientist-need-to-know-3a6b566efd2)\n",
    "* [Feature Selection II](https://machinelearningmastery.com/feature-selection-machine-learning-python/)\n",
    "* [Keras Neural Network I](https://towardsdatascience.com/3-ways-to-create-a-machine-learning-model-with-keras-and-tensorflow-2-0-de09323af4d3)"
   ]
  },
  {
   "cell_type": "markdown",
   "metadata": {},
   "source": [
    "#### TODO List\n",
    "* Loop through models, incrementally changing nodes/layers\n",
    "* Run Models with Generated Data\n",
    "    * Look more into GAN\n",
    "* Convolution, Pooling, Recurrent, etc. Layers?\n",
    "* Variety of Deep Learning Models\n",
    "    * Organize Models by Performance\n",
    "    \n",
    "Consider...\n",
    "* Alternative method for handling missing values"
   ]
  },
  {
   "cell_type": "markdown",
   "metadata": {
    "collapsed": true
   },
   "source": [
    "## 0. Import Packages"
   ]
  },
  {
   "cell_type": "markdown",
   "metadata": {},
   "source": [
    "#### 0.1 General Imports"
   ]
  },
  {
   "cell_type": "code",
   "execution_count": 1,
   "metadata": {},
   "outputs": [],
   "source": [
    "from IPython.display import Markdown, display\n",
    "from scipy.stats import reciprocal\n",
    "import matplotlib.pyplot as plt\n",
    "from matplotlib import cm\n",
    "import missingno as msno\n",
    "import seaborn as sns\n",
    "import pandas as pd\n",
    "import numpy as np\n",
    "import random"
   ]
  },
  {
   "cell_type": "markdown",
   "metadata": {},
   "source": [
    "#### 0.2 ML Imports"
   ]
  },
  {
   "cell_type": "code",
   "execution_count": 2,
   "metadata": {},
   "outputs": [],
   "source": [
    "from sklearn.metrics import classification_report, confusion_matrix, accuracy_score, precision_score, recall_score, f1_score\n",
    "from sklearn.model_selection import train_test_split, RandomizedSearchCV, RepeatedStratifiedKFold\n",
    "from sklearn.preprocessing import OrdinalEncoder, StandardScaler, MinMaxScaler\n",
    "from sklearn.feature_selection import SelectKBest, chi2, RFE, SelectFromModel\n",
    "from sklearn.linear_model import LogisticRegression\n",
    "from sklearn.ensemble import RandomForestClassifier\n",
    "import sklearn\n",
    "\n",
    "from keras.layers import Dense, LeakyReLU, PReLU, BatchNormalization, Activation, InputLayer\n",
    "from keras.wrappers.scikit_learn import KerasRegressor\n",
    "from keras.callbacks import EarlyStopping\n",
    "from keras.optimizers import Adam, SGD\n",
    "from keras.models import Sequential\n",
    "from tensorflow import keras\n",
    "import tensorflow as tf"
   ]
  },
  {
   "cell_type": "code",
   "execution_count": 3,
   "metadata": {},
   "outputs": [
    {
     "data": {
      "text/plain": [
       "'2.3.0'"
      ]
     },
     "execution_count": 3,
     "metadata": {},
     "output_type": "execute_result"
    }
   ],
   "source": [
    "tf.__version__"
   ]
  },
  {
   "cell_type": "code",
   "execution_count": 4,
   "metadata": {},
   "outputs": [
    {
     "data": {
      "text/plain": [
       "'2.4.0'"
      ]
     },
     "execution_count": 4,
     "metadata": {},
     "output_type": "execute_result"
    }
   ],
   "source": [
    "keras.__version__"
   ]
  },
  {
   "cell_type": "code",
   "execution_count": 5,
   "metadata": {},
   "outputs": [
    {
     "data": {
      "text/plain": [
       "'0.21.2'"
      ]
     },
     "execution_count": 5,
     "metadata": {},
     "output_type": "execute_result"
    }
   ],
   "source": [
    "sklearn.__version__"
   ]
  },
  {
   "cell_type": "code",
   "execution_count": 6,
   "metadata": {},
   "outputs": [],
   "source": [
    "SEED = 42"
   ]
  },
  {
   "cell_type": "code",
   "execution_count": 7,
   "metadata": {},
   "outputs": [],
   "source": [
    "show_data = False"
   ]
  },
  {
   "cell_type": "markdown",
   "metadata": {},
   "source": [
    "## 1. Read Excel File"
   ]
  },
  {
   "cell_type": "markdown",
   "metadata": {},
   "source": [
    "#### 1.1 Data Overview"
   ]
  },
  {
   "cell_type": "code",
   "execution_count": 8,
   "metadata": {
    "scrolled": true
   },
   "outputs": [],
   "source": [
    "df = pd.read_excel('ed_pred.xlsx')\n",
    "df = df.reset_index()\n",
    "if show_data:\n",
    "    df.head(5)"
   ]
  },
  {
   "cell_type": "code",
   "execution_count": 9,
   "metadata": {},
   "outputs": [
    {
     "data": {
      "text/plain": [
       "(7380, 41)"
      ]
     },
     "execution_count": 9,
     "metadata": {},
     "output_type": "execute_result"
    }
   ],
   "source": [
    "df.shape"
   ]
  },
  {
   "cell_type": "code",
   "execution_count": 10,
   "metadata": {},
   "outputs": [
    {
     "data": {
      "text/plain": [
       "Index(['index', 'patno', 'Admitted', 'AdmittingDepartment', 'COVIDResult',\n",
       "       'Age', 'FirstRace', 'Ethnicity', 'Sex', 'heart_rate', 'sbp', 'dbp',\n",
       "       'pulse_ox', 'resp_rate', 'height', 'wght', 'cbc_wbc', 'cbc_hematocrit',\n",
       "       'cbc_hemoglobin', 'cbc_platelets', 'cbc_neutrophil_c',\n",
       "       'cbc_eosinophil_perc', 'cbc_lymphocyte_c', 'cbc_lymphocyte_perc',\n",
       "       'cbc_eosinophil_c', 'cbc_eosinophil_perc.1', 'cbc_monocyte_c',\n",
       "       'cbc_eosinophil_perc.2', 'cmp_sodium', 'cmp_potassium', 'cmp_chloride',\n",
       "       'cmp_bicarbonate', 'cmp_bun', 'cmp_creatinine', 'cmp_glucose',\n",
       "       'cmp_alt', 'cmp_ast', 'cmp_alkaline_phosphatase', 'cmp_total_protein',\n",
       "       'cmp_albumin', 'cmp_bilirubin'],\n",
       "      dtype='object')"
      ]
     },
     "execution_count": 10,
     "metadata": {},
     "output_type": "execute_result"
    }
   ],
   "source": [
    "target = 'COVIDResult'\n",
    "df.columns"
   ]
  },
  {
   "cell_type": "markdown",
   "metadata": {},
   "source": [
    "###### Column Description\n",
    "Note (src - [Walk-In-Lab](https://www.walkinlab.com/products/view/complete-blood-count-cbc-comprehensive-metabolic-panel-cmp-14-blood-test-panel#:~:text=A%20CBC%20also%20helps%20your,anemia%2C%20and%20several%20other%20disorders.&text=Comprehensive%20Metabolic%20Panel%20)): \n",
    "\n",
    "CBC == [Complete Blood Count](https://www.mayoclinic.org/tests-procedures/complete-blood-count/about/pac-20384919)\n",
    "* Complete Blood Count (CBC) gives important information about the numbers and kinds of cells in the blood, especially red blood cells, white blood cells, and platelets. A CBC helps your health professional check any symptoms, such as fatigue, weakness, or bruising, that you may have. A CBC also helps your health professional diagnose conditions, such as infection, anemia, and several other disorders.\n",
    "\n",
    "CMP == [Comprehensive Metabolic Panel](https://www.mayocliniclabs.com/test-catalog/Clinical+and+Interpretive/113631)\n",
    "* Comprehensive Metabolic Panel (CMP-14) with eGFR is a group of 14 laboratory tests ordered to give information about the current status of your liver, kidneys, and electrolyte and acid/base balance.  The test gives the current status of your blood sugar and blood proteins also."
   ]
  },
  {
   "cell_type": "markdown",
   "metadata": {},
   "source": [
    "#### 1.2 Descriptive Statistics"
   ]
  },
  {
   "cell_type": "code",
   "execution_count": 11,
   "metadata": {
    "scrolled": true
   },
   "outputs": [],
   "source": [
    "if show_data:\n",
    "    df.info()\n",
    "target = 'COVIDResult'"
   ]
  },
  {
   "cell_type": "code",
   "execution_count": 12,
   "metadata": {
    "scrolled": true
   },
   "outputs": [],
   "source": [
    "if show_data:\n",
    "    df.describe()"
   ]
  },
  {
   "cell_type": "code",
   "execution_count": 13,
   "metadata": {
    "scrolled": true
   },
   "outputs": [],
   "source": [
    "if show_data:\n",
    "    df.corr()"
   ]
  },
  {
   "cell_type": "code",
   "execution_count": 14,
   "metadata": {
    "scrolled": true
   },
   "outputs": [
    {
     "name": "stdout",
     "output_type": "stream",
     "text": [
      "None Detected    6910\n",
      "Detected          470\n",
      "Name: COVIDResult, dtype: int64\n"
     ]
    }
   ],
   "source": [
    "print(df[target].value_counts())"
   ]
  },
  {
   "cell_type": "markdown",
   "metadata": {},
   "source": [
    "#### 1.3 Inspect Null Data"
   ]
  },
  {
   "cell_type": "code",
   "execution_count": 15,
   "metadata": {
    "scrolled": true
   },
   "outputs": [
    {
     "name": "stdout",
     "output_type": "stream",
     "text": [
      "Total Number of NULL Data Points: 69411\n"
     ]
    }
   ],
   "source": [
    "print('Total Number of NULL Data Points:', df.isnull().sum().sum())\n",
    "if show_data:\n",
    "    df.isnull().sum()"
   ]
  },
  {
   "cell_type": "code",
   "execution_count": 16,
   "metadata": {
    "scrolled": true
   },
   "outputs": [],
   "source": [
    "d = {\n",
    "    col: round(df[col].isnull().sum() * 100 / len(df[col]), 4)\n",
    "    for col in df\n",
    "}\n",
    "d = dict(sorted(d.items(), key=lambda item: item[1], reverse=True))\n",
    "majority_null = [k for k, v in d.items() if v > 50.0]\n",
    "\n",
    "if show_data:\n",
    "    print(\"Null Data Points by variable\")\n",
    "    d"
   ]
  },
  {
   "cell_type": "code",
   "execution_count": 17,
   "metadata": {
    "scrolled": false
   },
   "outputs": [],
   "source": [
    "if show_data:\n",
    "    msno.matrix(df)\n",
    "    # msno.heatmap(df)"
   ]
  },
  {
   "cell_type": "markdown",
   "metadata": {},
   "source": [
    "## 2. Data Preparation"
   ]
  },
  {
   "cell_type": "markdown",
   "metadata": {},
   "source": [
    "#### 2.1 Drop Columns"
   ]
  },
  {
   "cell_type": "code",
   "execution_count": 18,
   "metadata": {},
   "outputs": [],
   "source": [
    "trim_df = df.drop(columns=majority_null)\n",
    "trim_df = trim_df.drop(columns=['index', 'patno'])\n",
    "if show_data:\n",
    "    trim_df.head(5)"
   ]
  },
  {
   "cell_type": "code",
   "execution_count": 19,
   "metadata": {},
   "outputs": [
    {
     "data": {
      "text/plain": [
       "53978"
      ]
     },
     "execution_count": 19,
     "metadata": {},
     "output_type": "execute_result"
    }
   ],
   "source": [
    "trim_df.isnull().sum().sum()"
   ]
  },
  {
   "cell_type": "markdown",
   "metadata": {},
   "source": [
    "#### 2.2 Handle Categorical Variables"
   ]
  },
  {
   "cell_type": "code",
   "execution_count": 20,
   "metadata": {},
   "outputs": [
    {
     "data": {
      "text/plain": [
       "Index(['COVIDResult', 'FirstRace', 'Ethnicity', 'Sex', 'cmp_bicarbonate',\n",
       "       'cmp_bun', 'cmp_creatinine', 'cmp_alt', 'cmp_bilirubin'],\n",
       "      dtype='object')"
      ]
     },
     "execution_count": 20,
     "metadata": {},
     "output_type": "execute_result"
    }
   ],
   "source": [
    "trim_df.select_dtypes(include=['object']).columns"
   ]
  },
  {
   "cell_type": "markdown",
   "metadata": {},
   "source": [
    "###### 2.2.1 Manual Conversion"
   ]
  },
  {
   "cell_type": "code",
   "execution_count": 21,
   "metadata": {
    "scrolled": true
   },
   "outputs": [],
   "source": [
    "cat_cols = [\n",
    "    'cmp_bicarbonate', 'cmp_bun', 'cmp_creatinine', 'cmp_alt', 'cmp_bilirubin'\n",
    "]\n",
    "less_than_list = [\n",
    "    '<5', '<2', '<0.2', '<6', '<0.1'\n",
    "]\n",
    "\n",
    "\n",
    "def replace_cat(val, less, num):\n",
    "    if val == less:\n",
    "        return random.uniform(0, num) if \".\" in less else random.randint(0, num)\n",
    "    else:\n",
    "        return float(val)\n",
    "\n",
    "    \n",
    "trim_df2 = trim_df.copy()\n",
    "for col, less_than in zip(cat_cols, less_than_list):\n",
    "    upper_range = float(less_than[1:])\n",
    "    trim_df2[col] = trim_df2[col].apply(lambda x: replace_cat(x, less_than, upper_range))\n",
    "\n",
    "if show_data:\n",
    "    trim_df2.head(5)"
   ]
  },
  {
   "cell_type": "code",
   "execution_count": 22,
   "metadata": {
    "scrolled": true
   },
   "outputs": [],
   "source": [
    "if show_data:\n",
    "    trim_df2.info()"
   ]
  },
  {
   "cell_type": "markdown",
   "metadata": {},
   "source": [
    "###### 2.2.2 Encoding"
   ]
  },
  {
   "cell_type": "code",
   "execution_count": 23,
   "metadata": {},
   "outputs": [],
   "source": [
    "cat_cols = [\n",
    "    'COVIDResult', 'FirstRace', 'Ethnicity', 'Sex'\n",
    "]\n",
    "\n",
    "trim_df3 = trim_df2.copy()\n",
    "for col in cat_cols:\n",
    "    trim_df3[col] = trim_df3[col].fillna(\"Unspecified\")\n",
    "    enc = OrdinalEncoder()\n",
    "    trim_df3[col + \"_Encoded\"] = enc.fit_transform(trim_df3[[col]])\n",
    "if show_data:\n",
    "    trim_df3.head(5)"
   ]
  },
  {
   "cell_type": "markdown",
   "metadata": {},
   "source": [
    "###### 2.2.3 Categorical Codes"
   ]
  },
  {
   "cell_type": "code",
   "execution_count": 24,
   "metadata": {
    "scrolled": true
   },
   "outputs": [
    {
     "data": {
      "text/markdown": [
       "**COVIDResult**"
      ],
      "text/plain": [
       "<IPython.core.display.Markdown object>"
      ]
     },
     "metadata": {},
     "output_type": "display_data"
    },
    {
     "name": "stdout",
     "output_type": "stream",
     "text": [
      "('Detected', 0.0)\n",
      "('None Detected', 1.0)\n",
      "\n"
     ]
    },
    {
     "data": {
      "text/markdown": [
       "**FirstRace**"
      ],
      "text/plain": [
       "<IPython.core.display.Markdown object>"
      ]
     },
     "metadata": {},
     "output_type": "display_data"
    },
    {
     "name": "stdout",
     "output_type": "stream",
     "text": [
      "('African American', 0.0)\n",
      "('American Indian and Alaska Native', 1.0)\n",
      "('Asian', 2.0)\n",
      "('Hispanic', 3.0)\n",
      "('Native Hawaiian and Other Pacific Islander', 4.0)\n",
      "('Other', 5.0)\n",
      "('Patient Refused', 6.0)\n",
      "('Patient Unavailable', 7.0)\n",
      "('Unspecified', 8.0)\n",
      "('White or Caucasian', 9.0)\n",
      "\n"
     ]
    },
    {
     "data": {
      "text/markdown": [
       "**Ethnicity**"
      ],
      "text/plain": [
       "<IPython.core.display.Markdown object>"
      ]
     },
     "metadata": {},
     "output_type": "display_data"
    },
    {
     "name": "stdout",
     "output_type": "stream",
     "text": [
      "('*Unspecified', 0.0)\n",
      "('Hispanic', 1.0)\n",
      "('Non-Hispanic', 2.0)\n",
      "('Patient Refused', 3.0)\n",
      "('Patient Unavailable', 4.0)\n",
      "\n"
     ]
    },
    {
     "data": {
      "text/markdown": [
       "**Sex**"
      ],
      "text/plain": [
       "<IPython.core.display.Markdown object>"
      ]
     },
     "metadata": {},
     "output_type": "display_data"
    },
    {
     "name": "stdout",
     "output_type": "stream",
     "text": [
      "('Female', 0.0)\n",
      "('Male', 1.0)\n",
      "('Unknown', 2.0)\n",
      "\n"
     ]
    }
   ],
   "source": [
    "for col in cat_cols:\n",
    "    display(Markdown(\"**{}**\".format(col)))\n",
    "    for each in trim_df3.groupby([col, col + '_Encoded']).indices:\n",
    "        print(each)\n",
    "    print()"
   ]
  },
  {
   "cell_type": "code",
   "execution_count": 25,
   "metadata": {
    "scrolled": true
   },
   "outputs": [],
   "source": [
    "trim_df3 = trim_df3.drop(columns=['COVIDResult', 'FirstRace', 'Ethnicity', 'Sex'])\n",
    "if show_data:\n",
    "    trim_df3.head(5)"
   ]
  },
  {
   "cell_type": "code",
   "execution_count": 26,
   "metadata": {},
   "outputs": [
    {
     "data": {
      "text/plain": [
       "(7380, 36)"
      ]
     },
     "execution_count": 26,
     "metadata": {},
     "output_type": "execute_result"
    }
   ],
   "source": [
    "trim_df3.shape"
   ]
  },
  {
   "cell_type": "code",
   "execution_count": 27,
   "metadata": {
    "scrolled": true
   },
   "outputs": [],
   "source": [
    "if show_data:\n",
    "    trim_df3.info()"
   ]
  },
  {
   "cell_type": "markdown",
   "metadata": {},
   "source": [
    "#### 2.3 Handle Missing Values"
   ]
  },
  {
   "cell_type": "code",
   "execution_count": 28,
   "metadata": {
    "scrolled": true
   },
   "outputs": [],
   "source": [
    "num_cols = [\n",
    "    'heart_rate', 'sbp', 'dbp', 'pulse_ox', 'resp_rate', 'cbc_wbc', 'cbc_hematocrit', 'cbc_hemoglobin',\n",
    "    'cbc_platelets', 'cbc_neutrophil_c', 'cbc_eosinophil_perc', 'cbc_lymphocyte_c',\n",
    "    'cbc_lymphocyte_perc', 'cbc_eosinophil_c', 'cbc_eosinophil_perc.1', 'cbc_monocyte_c',\n",
    "    'cbc_eosinophil_perc.2', 'cmp_sodium', 'cmp_potassium', 'cmp_chloride', 'cmp_bicarbonate',\n",
    "    'cmp_bun', 'cmp_creatinine', 'cmp_glucose', 'cmp_alt', 'cmp_ast', 'cmp_alkaline_phosphatase',\n",
    "    'cmp_total_protein', 'cmp_albumin', 'cmp_bilirubin'\n",
    "]\n",
    "\n",
    "trim_df4 = trim_df3.copy()\n",
    "for col in num_cols:\n",
    "    trim_df4[col] = trim_df4[col].replace(np.NaN, trim_df4[col].mean())\n",
    "    \n",
    "if show_data:\n",
    "    trim_df4.head(5)"
   ]
  },
  {
   "cell_type": "code",
   "execution_count": 29,
   "metadata": {},
   "outputs": [
    {
     "data": {
      "text/plain": [
       "0"
      ]
     },
     "execution_count": 29,
     "metadata": {},
     "output_type": "execute_result"
    }
   ],
   "source": [
    "trim_df4.isnull().sum().sum()"
   ]
  },
  {
   "cell_type": "markdown",
   "metadata": {},
   "source": [
    "#### 2.4 Feature Scaling"
   ]
  },
  {
   "cell_type": "code",
   "execution_count": 30,
   "metadata": {},
   "outputs": [],
   "source": [
    "code_cols = [\n",
    "    'Admitted', 'FirstRace_Encoded', 'Ethnicity_Encoded', 'Sex_Encoded', 'COVIDResult_Encoded'\n",
    "]\n",
    "\n",
    "codes_df = trim_df4[code_cols]\n",
    "trim_df5 = trim_df4.drop(columns=code_cols)\n",
    "\n",
    "scaler = StandardScaler()\n",
    "scaled = scaler.fit_transform(trim_df5)\n",
    "scaled_df = pd.DataFrame(data=scaled, columns=trim_df5.columns)"
   ]
  },
  {
   "cell_type": "code",
   "execution_count": 31,
   "metadata": {
    "scrolled": true
   },
   "outputs": [],
   "source": [
    "merged_df = pd.concat([scaled_df, codes_df], axis=1)\n",
    "if show_data:\n",
    "    merged_df.head(5)"
   ]
  },
  {
   "cell_type": "markdown",
   "metadata": {},
   "source": [
    "#### 2.5 Train / Test Split"
   ]
  },
  {
   "cell_type": "code",
   "execution_count": 32,
   "metadata": {},
   "outputs": [],
   "source": [
    "train, test = train_test_split(merged_df, test_size=0.2, random_state=SEED)"
   ]
  },
  {
   "cell_type": "markdown",
   "metadata": {},
   "source": [
    "#### 2.6 Final Prepared Data"
   ]
  },
  {
   "cell_type": "code",
   "execution_count": 33,
   "metadata": {},
   "outputs": [],
   "source": [
    "final_data = merged_df.copy()\n",
    "final_train = train.copy()\n",
    "final_test = test.copy()\n",
    "target = 'COVIDResult_Encoded'"
   ]
  },
  {
   "cell_type": "code",
   "execution_count": 34,
   "metadata": {},
   "outputs": [
    {
     "data": {
      "text/plain": [
       "(7380, 36)"
      ]
     },
     "execution_count": 34,
     "metadata": {},
     "output_type": "execute_result"
    }
   ],
   "source": [
    "final_data.shape"
   ]
  },
  {
   "cell_type": "code",
   "execution_count": 35,
   "metadata": {},
   "outputs": [
    {
     "data": {
      "text/plain": [
       "(5904, 36)"
      ]
     },
     "execution_count": 35,
     "metadata": {},
     "output_type": "execute_result"
    }
   ],
   "source": [
    "final_train.shape"
   ]
  },
  {
   "cell_type": "code",
   "execution_count": 36,
   "metadata": {},
   "outputs": [
    {
     "data": {
      "text/plain": [
       "(1476, 36)"
      ]
     },
     "execution_count": 36,
     "metadata": {},
     "output_type": "execute_result"
    }
   ],
   "source": [
    "final_test.shape"
   ]
  },
  {
   "cell_type": "code",
   "execution_count": 37,
   "metadata": {},
   "outputs": [
    {
     "name": "stdout",
     "output_type": "stream",
     "text": [
      "1.0    5543\n",
      "0.0     361\n",
      "Name: COVIDResult_Encoded, dtype: int64\n",
      "1.0    1367\n",
      "0.0     109\n",
      "Name: COVIDResult_Encoded, dtype: int64\n"
     ]
    }
   ],
   "source": [
    "print(final_train[target].value_counts())\n",
    "print(final_test[target].value_counts())"
   ]
  },
  {
   "cell_type": "markdown",
   "metadata": {},
   "source": [
    "## 3. Feature Selection"
   ]
  },
  {
   "cell_type": "code",
   "execution_count": 38,
   "metadata": {},
   "outputs": [],
   "source": [
    "X = final_data.loc[:, final_data.columns != target]\n",
    "pos_X = trim_df4.loc[:, trim_df4.columns != target]\n",
    "X_norm = MinMaxScaler().fit_transform(pos_X)\n",
    "Y = final_data[target]"
   ]
  },
  {
   "cell_type": "markdown",
   "metadata": {},
   "source": [
    "###### Number of Features"
   ]
  },
  {
   "cell_type": "code",
   "execution_count": 39,
   "metadata": {},
   "outputs": [],
   "source": [
    "top_n_feats = 35"
   ]
  },
  {
   "cell_type": "code",
   "execution_count": 40,
   "metadata": {},
   "outputs": [],
   "source": [
    "def plot_scores(scores, selector):\n",
    "    plt.bar(range(len(scores)), scores, color='b')\n",
    "    plt.show()"
   ]
  },
  {
   "cell_type": "markdown",
   "metadata": {},
   "source": [
    "#### 3.1 Pearson Correlation"
   ]
  },
  {
   "cell_type": "code",
   "execution_count": 41,
   "metadata": {},
   "outputs": [
    {
     "data": {
      "image/png": "[encoded data removed]",
      "text/plain": [
       "<Figure size 432x288 with 1 Axes>"
      ]
     },
     "metadata": {
      "needs_background": "light"
     },
     "output_type": "display_data"
    },
    {
     "data": {
      "text/plain": [
       "array([ True,  True,  True,  True,  True,  True,  True,  True,  True,\n",
       "        True,  True,  True,  True,  True,  True,  True,  True,  True,\n",
       "        True,  True,  True,  True,  True,  True,  True,  True,  True,\n",
       "        True,  True,  True,  True,  True,  True,  True,  True])"
      ]
     },
     "execution_count": 41,
     "metadata": {},
     "output_type": "execute_result"
    }
   ],
   "source": [
    "def correlation_selector(x, y):\n",
    "    correl_dict = {\n",
    "        col: np.corrcoef(x[col], y)[0, 1] for col in x.columns.tolist()\n",
    "    }\n",
    "    correl_dict = {\n",
    "        col: 0 if np.isnan(cor) else np.abs(cor) for col, cor in correl_dict.items()\n",
    "    }\n",
    "    plot_scores(list(correl_dict.values()), 'correlation')\n",
    "    \n",
    "    correl_dict = dict(sorted(correl_dict.items(), key=lambda item: item[1], reverse=True)[:top_n_feats])\n",
    "    top_n = np.array([\n",
    "        True if col in list(correl_dict.keys()) else False for col in x.columns.tolist()\n",
    "    ])\n",
    "    return top_n\n",
    "\n",
    "\n",
    "corr_top_n = correlation_selector(X, Y)\n",
    "corr_top_n"
   ]
  },
  {
   "cell_type": "markdown",
   "metadata": {},
   "source": [
    "#### 3.2 Chi-Squared"
   ]
  },
  {
   "cell_type": "code",
   "execution_count": 42,
   "metadata": {},
   "outputs": [
    {
     "data": {
      "image/png": "[encoded data removed]",
      "text/plain": [
       "<Figure size 432x288 with 1 Axes>"
      ]
     },
     "metadata": {
      "needs_background": "light"
     },
     "output_type": "display_data"
    },
    {
     "data": {
      "text/plain": [
       "array([ True,  True,  True,  True,  True,  True,  True,  True,  True,\n",
       "        True,  True,  True,  True,  True,  True,  True,  True,  True,\n",
       "        True,  True,  True,  True,  True,  True,  True,  True,  True,\n",
       "        True,  True,  True,  True,  True,  True,  True,  True])"
      ]
     },
     "execution_count": 42,
     "metadata": {},
     "output_type": "execute_result"
    }
   ],
   "source": [
    "def chi_selector(y):\n",
    "    chi_sq = SelectKBest(chi2, k=top_n_feats)\n",
    "    chi_sq.fit(X_norm, y)\n",
    "    top_n = chi_sq.get_support()\n",
    "    plot_scores(chi_sq.scores_, 'chi-squared')\n",
    "    return top_n\n",
    "\n",
    "\n",
    "chi_top_n = chi_selector(Y)\n",
    "chi_top_n"
   ]
  },
  {
   "cell_type": "markdown",
   "metadata": {},
   "source": [
    "#### 3.3 Recursive Feature Elimination"
   ]
  },
  {
   "cell_type": "code",
   "execution_count": 43,
   "metadata": {},
   "outputs": [
    {
     "name": "stderr",
     "output_type": "stream",
     "text": [
      "/Library/Frameworks/Python.framework/Versions/3.6/lib/python3.6/site-packages/sklearn/linear_model/logistic.py:432: FutureWarning: Default solver will be changed to 'lbfgs' in 0.22. Specify a solver to silence this warning.\n",
      "  FutureWarning)\n"
     ]
    },
    {
     "data": {
      "text/plain": [
       "array([ True,  True,  True,  True,  True,  True,  True,  True,  True,\n",
       "        True,  True,  True,  True,  True,  True,  True,  True,  True,\n",
       "        True,  True,  True,  True,  True,  True,  True,  True,  True,\n",
       "        True,  True,  True,  True,  True,  True,  True,  True])"
      ]
     },
     "execution_count": 43,
     "metadata": {},
     "output_type": "execute_result"
    }
   ],
   "source": [
    "def rfe_selector(y):\n",
    "    rfe = RFE(estimator=LogisticRegression(), n_features_to_select=top_n_feats, step=10, verbose=0)\n",
    "    rfe.fit(X_norm, y)\n",
    "    top_n = rfe.get_support()\n",
    "    return top_n\n",
    "\n",
    "\n",
    "rfe_top_n = rfe_selector(Y)\n",
    "rfe_top_n"
   ]
  },
  {
   "cell_type": "markdown",
   "metadata": {},
   "source": [
    "#### 3.4 Lasso: SelectFromModel"
   ]
  },
  {
   "cell_type": "code",
   "execution_count": 44,
   "metadata": {},
   "outputs": [
    {
     "name": "stderr",
     "output_type": "stream",
     "text": [
      "/Library/Frameworks/Python.framework/Versions/3.6/lib/python3.6/site-packages/sklearn/linear_model/logistic.py:432: FutureWarning: Default solver will be changed to 'lbfgs' in 0.22. Specify a solver to silence this warning.\n",
      "  FutureWarning)\n"
     ]
    },
    {
     "data": {
      "text/plain": [
       "array([False, False, False, False, False,  True, False,  True, False,\n",
       "       False,  True,  True,  True,  True, False, False,  True,  True,\n",
       "        True, False, False, False, False, False, False, False, False,\n",
       "       False,  True,  True,  True,  True, False,  True, False])"
      ]
     },
     "execution_count": 44,
     "metadata": {},
     "output_type": "execute_result"
    }
   ],
   "source": [
    "def lasso_selector(y):\n",
    "    lasso = SelectFromModel(LogisticRegression(penalty=\"l2\"), max_features=top_n_feats)\n",
    "    lasso.fit(X_norm, y)\n",
    "    top_n = lasso.get_support()\n",
    "    return top_n\n",
    "\n",
    "\n",
    "lasso_top_n = lasso_selector(Y)\n",
    "lasso_top_n"
   ]
  },
  {
   "cell_type": "markdown",
   "metadata": {},
   "source": [
    "#### 3.5 RandomForestClassifier: SelectFromModel"
   ]
  },
  {
   "cell_type": "code",
   "execution_count": 45,
   "metadata": {},
   "outputs": [
    {
     "data": {
      "text/plain": [
       "array([ True,  True,  True,  True,  True,  True,  True, False, False,\n",
       "       False, False, False, False, False, False, False, False, False,\n",
       "       False, False, False, False, False, False, False, False, False,\n",
       "       False, False, False, False, False,  True,  True, False])"
      ]
     },
     "execution_count": 45,
     "metadata": {},
     "output_type": "execute_result"
    }
   ],
   "source": [
    "def rfc_selector(x, y):\n",
    "    rfc = SelectFromModel(RandomForestClassifier(n_estimators=100), max_features=top_n_feats)\n",
    "    rfc.fit(x, y)\n",
    "    top_n = rfc.get_support()\n",
    "    return top_n\n",
    "\n",
    "\n",
    "rfc_top_n = rfc_selector(X, Y)\n",
    "rfc_top_n"
   ]
  },
  {
   "cell_type": "markdown",
   "metadata": {},
   "source": [
    "#### 3.6 Cumulative Feature Selection"
   ]
  },
  {
   "cell_type": "code",
   "execution_count": 46,
   "metadata": {
    "scrolled": true
   },
   "outputs": [
    {
     "data": {
      "text/html": [
       "<div>\n",
       "<style scoped>\n",
       "    .dataframe tbody tr th:only-of-type {\n",
       "        vertical-align: middle;\n",
       "    }\n",
       "\n",
       "    .dataframe tbody tr th {\n",
       "        vertical-align: top;\n",
       "    }\n",
       "\n",
       "    .dataframe thead th {\n",
       "        text-align: right;\n",
       "    }\n",
       "</style>\n",
       "<table border=\"1\" class=\"dataframe\">\n",
       "  <thead>\n",
       "    <tr style=\"text-align: right;\">\n",
       "      <th></th>\n",
       "      <th>feature</th>\n",
       "      <th>correlation</th>\n",
       "      <th>chi-sq</th>\n",
       "      <th>rfe</th>\n",
       "      <th>lasso</th>\n",
       "      <th>rfc</th>\n",
       "      <th>total</th>\n",
       "    </tr>\n",
       "  </thead>\n",
       "  <tbody>\n",
       "    <tr>\n",
       "      <th>1</th>\n",
       "      <td>resp_rate</td>\n",
       "      <td>True</td>\n",
       "      <td>True</td>\n",
       "      <td>True</td>\n",
       "      <td>True</td>\n",
       "      <td>True</td>\n",
       "      <td>5</td>\n",
       "    </tr>\n",
       "    <tr>\n",
       "      <th>2</th>\n",
       "      <td>Ethnicity_Encoded</td>\n",
       "      <td>True</td>\n",
       "      <td>True</td>\n",
       "      <td>True</td>\n",
       "      <td>True</td>\n",
       "      <td>True</td>\n",
       "      <td>5</td>\n",
       "    </tr>\n",
       "    <tr>\n",
       "      <th>3</th>\n",
       "      <td>sbp</td>\n",
       "      <td>True</td>\n",
       "      <td>True</td>\n",
       "      <td>True</td>\n",
       "      <td>False</td>\n",
       "      <td>True</td>\n",
       "      <td>4</td>\n",
       "    </tr>\n",
       "    <tr>\n",
       "      <th>4</th>\n",
       "      <td>pulse_ox</td>\n",
       "      <td>True</td>\n",
       "      <td>True</td>\n",
       "      <td>True</td>\n",
       "      <td>False</td>\n",
       "      <td>True</td>\n",
       "      <td>4</td>\n",
       "    </tr>\n",
       "    <tr>\n",
       "      <th>5</th>\n",
       "      <td>heart_rate</td>\n",
       "      <td>True</td>\n",
       "      <td>True</td>\n",
       "      <td>True</td>\n",
       "      <td>False</td>\n",
       "      <td>True</td>\n",
       "      <td>4</td>\n",
       "    </tr>\n",
       "    <tr>\n",
       "      <th>6</th>\n",
       "      <td>dbp</td>\n",
       "      <td>True</td>\n",
       "      <td>True</td>\n",
       "      <td>True</td>\n",
       "      <td>False</td>\n",
       "      <td>True</td>\n",
       "      <td>4</td>\n",
       "    </tr>\n",
       "    <tr>\n",
       "      <th>7</th>\n",
       "      <td>cmp_total_protein</td>\n",
       "      <td>True</td>\n",
       "      <td>True</td>\n",
       "      <td>True</td>\n",
       "      <td>True</td>\n",
       "      <td>False</td>\n",
       "      <td>4</td>\n",
       "    </tr>\n",
       "    <tr>\n",
       "      <th>8</th>\n",
       "      <td>cmp_sodium</td>\n",
       "      <td>True</td>\n",
       "      <td>True</td>\n",
       "      <td>True</td>\n",
       "      <td>True</td>\n",
       "      <td>False</td>\n",
       "      <td>4</td>\n",
       "    </tr>\n",
       "    <tr>\n",
       "      <th>9</th>\n",
       "      <td>cmp_bilirubin</td>\n",
       "      <td>True</td>\n",
       "      <td>True</td>\n",
       "      <td>True</td>\n",
       "      <td>True</td>\n",
       "      <td>False</td>\n",
       "      <td>4</td>\n",
       "    </tr>\n",
       "    <tr>\n",
       "      <th>10</th>\n",
       "      <td>cmp_albumin</td>\n",
       "      <td>True</td>\n",
       "      <td>True</td>\n",
       "      <td>True</td>\n",
       "      <td>True</td>\n",
       "      <td>False</td>\n",
       "      <td>4</td>\n",
       "    </tr>\n",
       "    <tr>\n",
       "      <th>11</th>\n",
       "      <td>cbc_wbc</td>\n",
       "      <td>True</td>\n",
       "      <td>True</td>\n",
       "      <td>True</td>\n",
       "      <td>False</td>\n",
       "      <td>True</td>\n",
       "      <td>4</td>\n",
       "    </tr>\n",
       "    <tr>\n",
       "      <th>12</th>\n",
       "      <td>cbc_neutrophil_c</td>\n",
       "      <td>True</td>\n",
       "      <td>True</td>\n",
       "      <td>True</td>\n",
       "      <td>True</td>\n",
       "      <td>False</td>\n",
       "      <td>4</td>\n",
       "    </tr>\n",
       "    <tr>\n",
       "      <th>13</th>\n",
       "      <td>cbc_monocyte_c</td>\n",
       "      <td>True</td>\n",
       "      <td>True</td>\n",
       "      <td>True</td>\n",
       "      <td>True</td>\n",
       "      <td>False</td>\n",
       "      <td>4</td>\n",
       "    </tr>\n",
       "    <tr>\n",
       "      <th>14</th>\n",
       "      <td>cbc_lymphocyte_perc</td>\n",
       "      <td>True</td>\n",
       "      <td>True</td>\n",
       "      <td>True</td>\n",
       "      <td>True</td>\n",
       "      <td>False</td>\n",
       "      <td>4</td>\n",
       "    </tr>\n",
       "    <tr>\n",
       "      <th>15</th>\n",
       "      <td>cbc_lymphocyte_c</td>\n",
       "      <td>True</td>\n",
       "      <td>True</td>\n",
       "      <td>True</td>\n",
       "      <td>True</td>\n",
       "      <td>False</td>\n",
       "      <td>4</td>\n",
       "    </tr>\n",
       "    <tr>\n",
       "      <th>16</th>\n",
       "      <td>cbc_hematocrit</td>\n",
       "      <td>True</td>\n",
       "      <td>True</td>\n",
       "      <td>True</td>\n",
       "      <td>True</td>\n",
       "      <td>False</td>\n",
       "      <td>4</td>\n",
       "    </tr>\n",
       "    <tr>\n",
       "      <th>17</th>\n",
       "      <td>cbc_eosinophil_perc.2</td>\n",
       "      <td>True</td>\n",
       "      <td>True</td>\n",
       "      <td>True</td>\n",
       "      <td>True</td>\n",
       "      <td>False</td>\n",
       "      <td>4</td>\n",
       "    </tr>\n",
       "    <tr>\n",
       "      <th>18</th>\n",
       "      <td>cbc_eosinophil_perc</td>\n",
       "      <td>True</td>\n",
       "      <td>True</td>\n",
       "      <td>True</td>\n",
       "      <td>True</td>\n",
       "      <td>False</td>\n",
       "      <td>4</td>\n",
       "    </tr>\n",
       "    <tr>\n",
       "      <th>19</th>\n",
       "      <td>FirstRace_Encoded</td>\n",
       "      <td>True</td>\n",
       "      <td>True</td>\n",
       "      <td>True</td>\n",
       "      <td>False</td>\n",
       "      <td>True</td>\n",
       "      <td>4</td>\n",
       "    </tr>\n",
       "    <tr>\n",
       "      <th>20</th>\n",
       "      <td>Age</td>\n",
       "      <td>True</td>\n",
       "      <td>True</td>\n",
       "      <td>True</td>\n",
       "      <td>False</td>\n",
       "      <td>True</td>\n",
       "      <td>4</td>\n",
       "    </tr>\n",
       "    <tr>\n",
       "      <th>21</th>\n",
       "      <td>Admitted</td>\n",
       "      <td>True</td>\n",
       "      <td>True</td>\n",
       "      <td>True</td>\n",
       "      <td>True</td>\n",
       "      <td>False</td>\n",
       "      <td>4</td>\n",
       "    </tr>\n",
       "    <tr>\n",
       "      <th>22</th>\n",
       "      <td>cmp_potassium</td>\n",
       "      <td>True</td>\n",
       "      <td>True</td>\n",
       "      <td>True</td>\n",
       "      <td>False</td>\n",
       "      <td>False</td>\n",
       "      <td>3</td>\n",
       "    </tr>\n",
       "    <tr>\n",
       "      <th>23</th>\n",
       "      <td>cmp_glucose</td>\n",
       "      <td>True</td>\n",
       "      <td>True</td>\n",
       "      <td>True</td>\n",
       "      <td>False</td>\n",
       "      <td>False</td>\n",
       "      <td>3</td>\n",
       "    </tr>\n",
       "    <tr>\n",
       "      <th>24</th>\n",
       "      <td>cmp_creatinine</td>\n",
       "      <td>True</td>\n",
       "      <td>True</td>\n",
       "      <td>True</td>\n",
       "      <td>False</td>\n",
       "      <td>False</td>\n",
       "      <td>3</td>\n",
       "    </tr>\n",
       "    <tr>\n",
       "      <th>25</th>\n",
       "      <td>cmp_chloride</td>\n",
       "      <td>True</td>\n",
       "      <td>True</td>\n",
       "      <td>True</td>\n",
       "      <td>False</td>\n",
       "      <td>False</td>\n",
       "      <td>3</td>\n",
       "    </tr>\n",
       "    <tr>\n",
       "      <th>26</th>\n",
       "      <td>cmp_bun</td>\n",
       "      <td>True</td>\n",
       "      <td>True</td>\n",
       "      <td>True</td>\n",
       "      <td>False</td>\n",
       "      <td>False</td>\n",
       "      <td>3</td>\n",
       "    </tr>\n",
       "    <tr>\n",
       "      <th>27</th>\n",
       "      <td>cmp_bicarbonate</td>\n",
       "      <td>True</td>\n",
       "      <td>True</td>\n",
       "      <td>True</td>\n",
       "      <td>False</td>\n",
       "      <td>False</td>\n",
       "      <td>3</td>\n",
       "    </tr>\n",
       "    <tr>\n",
       "      <th>28</th>\n",
       "      <td>cmp_ast</td>\n",
       "      <td>True</td>\n",
       "      <td>True</td>\n",
       "      <td>True</td>\n",
       "      <td>False</td>\n",
       "      <td>False</td>\n",
       "      <td>3</td>\n",
       "    </tr>\n",
       "    <tr>\n",
       "      <th>29</th>\n",
       "      <td>cmp_alt</td>\n",
       "      <td>True</td>\n",
       "      <td>True</td>\n",
       "      <td>True</td>\n",
       "      <td>False</td>\n",
       "      <td>False</td>\n",
       "      <td>3</td>\n",
       "    </tr>\n",
       "    <tr>\n",
       "      <th>30</th>\n",
       "      <td>cmp_alkaline_phosphatase</td>\n",
       "      <td>True</td>\n",
       "      <td>True</td>\n",
       "      <td>True</td>\n",
       "      <td>False</td>\n",
       "      <td>False</td>\n",
       "      <td>3</td>\n",
       "    </tr>\n",
       "    <tr>\n",
       "      <th>31</th>\n",
       "      <td>cbc_platelets</td>\n",
       "      <td>True</td>\n",
       "      <td>True</td>\n",
       "      <td>True</td>\n",
       "      <td>False</td>\n",
       "      <td>False</td>\n",
       "      <td>3</td>\n",
       "    </tr>\n",
       "    <tr>\n",
       "      <th>32</th>\n",
       "      <td>cbc_hemoglobin</td>\n",
       "      <td>True</td>\n",
       "      <td>True</td>\n",
       "      <td>True</td>\n",
       "      <td>False</td>\n",
       "      <td>False</td>\n",
       "      <td>3</td>\n",
       "    </tr>\n",
       "    <tr>\n",
       "      <th>33</th>\n",
       "      <td>cbc_eosinophil_perc.1</td>\n",
       "      <td>True</td>\n",
       "      <td>True</td>\n",
       "      <td>True</td>\n",
       "      <td>False</td>\n",
       "      <td>False</td>\n",
       "      <td>3</td>\n",
       "    </tr>\n",
       "    <tr>\n",
       "      <th>34</th>\n",
       "      <td>cbc_eosinophil_c</td>\n",
       "      <td>True</td>\n",
       "      <td>True</td>\n",
       "      <td>True</td>\n",
       "      <td>False</td>\n",
       "      <td>False</td>\n",
       "      <td>3</td>\n",
       "    </tr>\n",
       "    <tr>\n",
       "      <th>35</th>\n",
       "      <td>Sex_Encoded</td>\n",
       "      <td>True</td>\n",
       "      <td>True</td>\n",
       "      <td>True</td>\n",
       "      <td>False</td>\n",
       "      <td>False</td>\n",
       "      <td>3</td>\n",
       "    </tr>\n",
       "  </tbody>\n",
       "</table>\n",
       "</div>"
      ],
      "text/plain": [
       "                     feature  correlation  chi-sq   rfe  lasso    rfc  total\n",
       "1                  resp_rate         True    True  True   True   True      5\n",
       "2          Ethnicity_Encoded         True    True  True   True   True      5\n",
       "3                        sbp         True    True  True  False   True      4\n",
       "4                   pulse_ox         True    True  True  False   True      4\n",
       "5                 heart_rate         True    True  True  False   True      4\n",
       "6                        dbp         True    True  True  False   True      4\n",
       "7          cmp_total_protein         True    True  True   True  False      4\n",
       "8                 cmp_sodium         True    True  True   True  False      4\n",
       "9              cmp_bilirubin         True    True  True   True  False      4\n",
       "10               cmp_albumin         True    True  True   True  False      4\n",
       "11                   cbc_wbc         True    True  True  False   True      4\n",
       "12          cbc_neutrophil_c         True    True  True   True  False      4\n",
       "13            cbc_monocyte_c         True    True  True   True  False      4\n",
       "14       cbc_lymphocyte_perc         True    True  True   True  False      4\n",
       "15          cbc_lymphocyte_c         True    True  True   True  False      4\n",
       "16            cbc_hematocrit         True    True  True   True  False      4\n",
       "17     cbc_eosinophil_perc.2         True    True  True   True  False      4\n",
       "18       cbc_eosinophil_perc         True    True  True   True  False      4\n",
       "19         FirstRace_Encoded         True    True  True  False   True      4\n",
       "20                       Age         True    True  True  False   True      4\n",
       "21                  Admitted         True    True  True   True  False      4\n",
       "22             cmp_potassium         True    True  True  False  False      3\n",
       "23               cmp_glucose         True    True  True  False  False      3\n",
       "24            cmp_creatinine         True    True  True  False  False      3\n",
       "25              cmp_chloride         True    True  True  False  False      3\n",
       "26                   cmp_bun         True    True  True  False  False      3\n",
       "27           cmp_bicarbonate         True    True  True  False  False      3\n",
       "28                   cmp_ast         True    True  True  False  False      3\n",
       "29                   cmp_alt         True    True  True  False  False      3\n",
       "30  cmp_alkaline_phosphatase         True    True  True  False  False      3\n",
       "31             cbc_platelets         True    True  True  False  False      3\n",
       "32            cbc_hemoglobin         True    True  True  False  False      3\n",
       "33     cbc_eosinophil_perc.1         True    True  True  False  False      3\n",
       "34          cbc_eosinophil_c         True    True  True  False  False      3\n",
       "35               Sex_Encoded         True    True  True  False  False      3"
      ]
     },
     "execution_count": 46,
     "metadata": {},
     "output_type": "execute_result"
    }
   ],
   "source": [
    "cumm_df = pd.DataFrame({\n",
    "    'feature': X.columns.tolist(),\n",
    "    'correlation': corr_top_n,\n",
    "    'chi-sq': chi_top_n,\n",
    "    'rfe': rfe_top_n,\n",
    "    'lasso': lasso_top_n,\n",
    "    'rfc': rfc_top_n\n",
    "})\n",
    "cumm_df['total'] = np.sum(cumm_df, axis=1)\n",
    "cumm_df = cumm_df.sort_values(['total', 'feature'], ascending=False)\n",
    "cumm_df.index = range(1, len(cumm_df) + 1)\n",
    "cumm_df"
   ]
  },
  {
   "cell_type": "code",
   "execution_count": 47,
   "metadata": {},
   "outputs": [
    {
     "data": {
      "text/plain": [
       "['resp_rate',\n",
       " 'Ethnicity_Encoded',\n",
       " 'sbp',\n",
       " 'pulse_ox',\n",
       " 'heart_rate',\n",
       " 'dbp',\n",
       " 'cmp_total_protein',\n",
       " 'cmp_sodium',\n",
       " 'cmp_bilirubin',\n",
       " 'cmp_albumin',\n",
       " 'cbc_wbc',\n",
       " 'cbc_neutrophil_c',\n",
       " 'cbc_monocyte_c',\n",
       " 'cbc_lymphocyte_perc',\n",
       " 'cbc_lymphocyte_c',\n",
       " 'cbc_hematocrit',\n",
       " 'cbc_eosinophil_perc.2',\n",
       " 'cbc_eosinophil_perc',\n",
       " 'FirstRace_Encoded',\n",
       " 'Age',\n",
       " 'Admitted',\n",
       " 'cmp_potassium',\n",
       " 'cmp_glucose',\n",
       " 'cmp_creatinine',\n",
       " 'cmp_chloride',\n",
       " 'cmp_bun',\n",
       " 'cmp_bicarbonate',\n",
       " 'cmp_ast',\n",
       " 'cmp_alt',\n",
       " 'cmp_alkaline_phosphatase',\n",
       " 'cbc_platelets',\n",
       " 'cbc_hemoglobin',\n",
       " 'cbc_eosinophil_perc.1',\n",
       " 'cbc_eosinophil_c',\n",
       " 'Sex_Encoded']"
      ]
     },
     "execution_count": 47,
     "metadata": {},
     "output_type": "execute_result"
    }
   ],
   "source": [
    "top_n_features = list(cumm_df.iloc[:top_n_feats]['feature'])\n",
    "top_n_features"
   ]
  },
  {
   "cell_type": "markdown",
   "metadata": {},
   "source": [
    "## 4. Model Selection"
   ]
  },
  {
   "cell_type": "markdown",
   "metadata": {},
   "source": [
    "#### 4.1 Train / Test Data"
   ]
  },
  {
   "cell_type": "code",
   "execution_count": 48,
   "metadata": {},
   "outputs": [],
   "source": [
    "X_train = final_train[top_n_features]\n",
    "y_train = final_train[target]\n",
    "X_test = final_test[top_n_features]\n",
    "y_test = final_test[target]"
   ]
  },
  {
   "cell_type": "code",
   "execution_count": 49,
   "metadata": {},
   "outputs": [
    {
     "name": "stdout",
     "output_type": "stream",
     "text": [
      "X_train (5904, 35)\n",
      "y_train (5904,)\n",
      "\n",
      "X_test (1476, 35)\n",
      "y_test (1476,)\n"
     ]
    }
   ],
   "source": [
    "print('X_train', X_train.shape)\n",
    "print('y_train', y_train.shape)\n",
    "print()\n",
    "print('X_test', X_test.shape)\n",
    "print('y_test', y_test.shape)"
   ]
  },
  {
   "cell_type": "markdown",
   "metadata": {},
   "source": [
    "#### 4.2 Model Construction"
   ]
  },
  {
   "cell_type": "markdown",
   "metadata": {},
   "source": [
    "###### 4.2.1 Documentation"
   ]
  },
  {
   "cell_type": "markdown",
   "metadata": {},
   "source": [
    "[Keras Layers/Activation Documentation](https://keras.io/api/layers/)"
   ]
  },
  {
   "cell_type": "markdown",
   "metadata": {},
   "source": [
    "Loss Functions\n",
    "* 'binary_crossentropy'\n",
    "* 'sparse_categorical_crossentropy'\n",
    "\n",
    "Optimizers\n",
    "* 'adam'\n",
    "* 'sgd'"
   ]
  },
  {
   "cell_type": "code",
   "execution_count": 50,
   "metadata": {},
   "outputs": [],
   "source": [
    "tf.keras.backend.set_floatx('float64')\n",
    "tf.random.set_seed(SEED)\n",
    "np.random.seed(SEED)"
   ]
  },
  {
   "cell_type": "markdown",
   "metadata": {},
   "source": [
    "###### 4.2.2 Models"
   ]
  },
  {
   "cell_type": "code",
   "execution_count": 51,
   "metadata": {},
   "outputs": [],
   "source": [
    "seq1 = Sequential([\n",
    "    BatchNormalization(),\n",
    "    Dense(300, use_bias=False),\n",
    "    BatchNormalization(),\n",
    "    Activation('relu'),\n",
    "    Dense(100, use_bias=False),\n",
    "    Activation('relu'),\n",
    "    BatchNormalization(),\n",
    "    Dense(2, activation='softmax')\n",
    "])"
   ]
  },
  {
   "cell_type": "code",
   "execution_count": 52,
   "metadata": {},
   "outputs": [],
   "source": [
    "seq2 = Sequential([\n",
    "    Dense(top_n_feats, activation='relu'),\n",
    "    Dense(6, activation='relu'),\n",
    "    Dense(2, activation='softmax')\n",
    "])"
   ]
  },
  {
   "cell_type": "code",
   "execution_count": 53,
   "metadata": {},
   "outputs": [],
   "source": [
    "seq3 = Sequential([\n",
    "    Dense(top_n_feats, kernel_initializer='he_normal'),\n",
    "    PReLU(),\n",
    "    Dense(6, kernel_initializer='he_normal'),\n",
    "    PReLU(),\n",
    "    Dense(2, activation='softmax')\n",
    "])"
   ]
  },
  {
   "cell_type": "code",
   "execution_count": 54,
   "metadata": {},
   "outputs": [],
   "source": [
    "# keras.utils.plot_model(model, \"seq_model1.png\", show_shapes=True)"
   ]
  },
  {
   "cell_type": "markdown",
   "metadata": {},
   "source": [
    "#### 4.3 Model Evaluation Functions"
   ]
  },
  {
   "cell_type": "code",
   "execution_count": 55,
   "metadata": {},
   "outputs": [],
   "source": [
    "def plot_metric(hist, metric):\n",
    "    train_metrics = hist.history[metric]\n",
    "    val_metrics = hist.history['val_'+metric]\n",
    "    epochs = range(1, len(train_metrics) + 1)\n",
    "    plt.plot(epochs, train_metrics, 'bo--')\n",
    "    plt.plot(epochs, val_metrics, 'ro-')\n",
    "    plt.title('Training and Validation '+ metric)\n",
    "    plt.xlabel(\"Epochs\")\n",
    "    plt.ylabel(metric)\n",
    "    plt.legend([\"train_\"+metric, 'val_'+metric])\n",
    "    plt.show()"
   ]
  },
  {
   "cell_type": "code",
   "execution_count": 56,
   "metadata": {
    "scrolled": true
   },
   "outputs": [],
   "source": [
    "def plot_history(hist):\n",
    "    display(Markdown('**Training/Validation Loss and Accuracy**'))\n",
    "    pd.DataFrame(hist.history).plot(figsize=(8,5))\n",
    "    plt.grid(True)\n",
    "    plt.gca().set_ylim(0, 1)\n",
    "    plt.show()"
   ]
  },
  {
   "cell_type": "code",
   "execution_count": 57,
   "metadata": {},
   "outputs": [],
   "source": [
    "def metric_evaluation(y_test, y_pred):\n",
    "    display(Markdown('**Metric Scores**'))\n",
    "    print(\"Accuracy: {:.2f}%\".format(accuracy_score(y_test, y_pred) * 100))\n",
    "    print(\"Precision: {:.2f}%\".format(precision_score(y_test, y_pred) * 100))\n",
    "    print(\"Recall: {:.2f}%\".format(recall_score(y_test, y_pred) * 100))\n",
    "    print(\"F1: {:.2f}%\".format(f1_score(y_test, y_pred) * 100))\n",
    "    print(\"\\nConfusion Matrix:\")\n",
    "    print(confusion_matrix(y_test, y_pred))"
   ]
  },
  {
   "cell_type": "code",
   "execution_count": 58,
   "metadata": {},
   "outputs": [],
   "source": [
    "def plot_confusion_matrix(y_test, y_pred):\n",
    "    display(Markdown('**Confusion Matrix**'))\n",
    "    cm_df = pd.DataFrame(\n",
    "        confusion_matrix(y_test, y_pred), columns=['Detected', 'None Detected'], index=['Detected', 'None Detected']\n",
    "    )\n",
    "    ax = sns.heatmap(\n",
    "        data=cm_df, cmap=cm.Blues, annot=True, fmt='d'\n",
    "    )\n",
    "    ax.set(xlabel='Predicted', ylabel='Actual')\n",
    "    plt.show()"
   ]
  },
  {
   "cell_type": "markdown",
   "metadata": {},
   "source": [
    "#### 4.4 Simultaneous Model Evaluation"
   ]
  },
  {
   "cell_type": "code",
   "execution_count": 65,
   "metadata": {},
   "outputs": [],
   "source": [
    "model_lst = [\n",
    "    {'name': 'Sequential: Dense + Batch Normalization Layers, ReLU Activations',\n",
    "     'model': seq1, 'loss': 'sparse_categorical_crossentropy', 'optimizer': Adam(learning_rate=1e-4)},\n",
    "    {'name': 'Sequential: Dense Layers, ReLU Activation',\n",
    "     'model': seq2, 'loss': 'sparse_categorical_crossentropy', 'optimizer': Adam(learning_rate=1e-4)},\n",
    "    {'name': 'Sequential: Dense Layers, PReLU Activation',\n",
    "     'model': seq3, 'loss': 'sparse_categorical_crossentropy', 'optimizer': Adam(learning_rate=1e-4)}\n",
    "]"
   ]
  },
  {
   "cell_type": "code",
   "execution_count": 99,
   "metadata": {},
   "outputs": [],
   "source": [
    "EPOCHS = 30\n",
    "BATCH_SIZE = 200\n",
    "VAL_SPLIT = 0.2"
   ]
  },
  {
   "cell_type": "code",
   "execution_count": 67,
   "metadata": {},
   "outputs": [],
   "source": [
    "def test_models(models, xy, isolate=None):\n",
    "    X_train, y_train, X_test, y_test = xy\n",
    "    for i, m in enumerate(models):\n",
    "        name, model, loss, optimizer = m.values()\n",
    "        if isolate is not None and i + 1 != isolate:\n",
    "            print('Skipping Model {}...'.format(i + 1))\n",
    "            continue\n",
    "        \n",
    "        display(Markdown('### Model {} – {}'.format(i + 1, name)))\n",
    "        \n",
    "        # 1. Compile\n",
    "        model.compile(\n",
    "            loss=loss, optimizer=optimizer, metrics=['accuracy']\n",
    "        )\n",
    "        \n",
    "        # 2. Fit\n",
    "        history = model.fit(\n",
    "            X_train, y_train,\n",
    "            batch_size=BATCH_SIZE, epochs=EPOCHS, validation_split=VAL_SPLIT, shuffle=True, verbose=0\n",
    "        )\n",
    "        \n",
    "        # 3. Visualize Model\n",
    "        display(Markdown(\"**Summary**\"))\n",
    "        model.summary()\n",
    "        plot_history(history)\n",
    "        \n",
    "        # 4. Evaluate\n",
    "        display(Markdown(\"**Evaluation and Prediction**\"))\n",
    "        loss, accuracy = model.evaluate(x=X_test, y=y_test)\n",
    "        print(\"\\nLoss: {:.2f}%\".format(loss * 100))\n",
    "        print(\"Accuracy: {:.2f}%\".format(accuracy * 100))\n",
    "        \n",
    "        # 5. Predict\n",
    "        y_prediction_array = model.predict(X_test)\n",
    "        y_prediction = np.argmax(y_prediction_array, axis=1)\n",
    "        \n",
    "        # 6. Visualize Predictions\n",
    "        metric_evaluation(y_test, y_prediction)\n",
    "        plot_confusion_matrix(y_test, y_prediction)\n",
    "        \n",
    "        print()"
   ]
  },
  {
   "cell_type": "code",
   "execution_count": 68,
   "metadata": {
    "scrolled": true
   },
   "outputs": [
    {
     "data": {
      "text/markdown": [
       "### Model 1 – Sequential: Dense + Batch Normalization Layers, ReLU Activations"
      ],
      "text/plain": [
       "<IPython.core.display.Markdown object>"
      ]
     },
     "metadata": {},
     "output_type": "display_data"
    },
    {
     "data": {
      "text/markdown": [
       "**Summary**"
      ],
      "text/plain": [
       "<IPython.core.display.Markdown object>"
      ]
     },
     "metadata": {},
     "output_type": "display_data"
    },
    {
     "name": "stdout",
     "output_type": "stream",
     "text": [
      "Model: \"sequential\"\n",
      "_________________________________________________________________\n",
      "Layer (type)                 Output Shape              Param #   \n",
      "=================================================================\n",
      "batch_normalization (BatchNo (None, 35)                140       \n",
      "_________________________________________________________________\n",
      "dense (Dense)                (None, 300)               10500     \n",
      "_________________________________________________________________\n",
      "batch_normalization_1 (Batch (None, 300)               1200      \n",
      "_________________________________________________________________\n",
      "activation (Activation)      (None, 300)               0         \n",
      "_________________________________________________________________\n",
      "dense_1 (Dense)              (None, 100)               30000     \n",
      "_________________________________________________________________\n",
      "activation_1 (Activation)    (None, 100)               0         \n",
      "_________________________________________________________________\n",
      "batch_normalization_2 (Batch (None, 100)               400       \n",
      "_________________________________________________________________\n",
      "dense_2 (Dense)              (None, 2)                 202       \n",
      "=================================================================\n",
      "Total params: 42,442\n",
      "Trainable params: 41,572\n",
      "Non-trainable params: 870\n",
      "_________________________________________________________________\n"
     ]
    },
    {
     "data": {
      "text/markdown": [
       "**Training/Validation Loss and Accuracy**"
      ],
      "text/plain": [
       "<IPython.core.display.Markdown object>"
      ]
     },
     "metadata": {},
     "output_type": "display_data"
    },
    {
     "data": {
      "image/png": "[encoded data removed]",
      "text/plain": [
       "<Figure size 576x360 with 1 Axes>"
      ]
     },
     "metadata": {
      "needs_background": "light"
     },
     "output_type": "display_data"
    },
    {
     "data": {
      "text/markdown": [
       "**Evaluation and Prediction**"
      ],
      "text/plain": [
       "<IPython.core.display.Markdown object>"
      ]
     },
     "metadata": {},
     "output_type": "display_data"
    },
    {
     "name": "stdout",
     "output_type": "stream",
     "text": [
      "47/47 [==============================] - 0s 2ms/step - loss: 0.3152 - accuracy: 0.9187\n",
      "\n",
      "Loss: 31.52%\n",
      "Accuracy: 91.87%\n"
     ]
    },
    {
     "data": {
      "text/markdown": [
       "**Metric Scores**"
      ],
      "text/plain": [
       "<IPython.core.display.Markdown object>"
      ]
     },
     "metadata": {},
     "output_type": "display_data"
    },
    {
     "name": "stdout",
     "output_type": "stream",
     "text": [
      "Accuracy: 91.87%\n",
      "Precision: 94.44%\n",
      "Recall: 96.93%\n",
      "F1: 95.67%\n",
      "\n",
      "Confusion Matrix:\n",
      "[[  31   78]\n",
      " [  42 1325]]\n"
     ]
    },
    {
     "data": {
      "text/markdown": [
       "**Confusion Matrix**"
      ],
      "text/plain": [
       "<IPython.core.display.Markdown object>"
      ]
     },
     "metadata": {},
     "output_type": "display_data"
    },
    {
     "data": {
      "image/png": "[encoded data removed]",
      "text/plain": [
       "<Figure size 432x288 with 2 Axes>"
      ]
     },
     "metadata": {
      "needs_background": "light"
     },
     "output_type": "display_data"
    },
    {
     "name": "stdout",
     "output_type": "stream",
     "text": [
      "\n"
     ]
    },
    {
     "data": {
      "text/markdown": [
       "### Model 2 – Sequential: Dense Layers, ReLU Activation"
      ],
      "text/plain": [
       "<IPython.core.display.Markdown object>"
      ]
     },
     "metadata": {},
     "output_type": "display_data"
    },
    {
     "data": {
      "text/markdown": [
       "**Summary**"
      ],
      "text/plain": [
       "<IPython.core.display.Markdown object>"
      ]
     },
     "metadata": {},
     "output_type": "display_data"
    },
    {
     "name": "stdout",
     "output_type": "stream",
     "text": [
      "Model: \"sequential_1\"\n",
      "_________________________________________________________________\n",
      "Layer (type)                 Output Shape              Param #   \n",
      "=================================================================\n",
      "dense_3 (Dense)              (None, 35)                1260      \n",
      "_________________________________________________________________\n",
      "dense_4 (Dense)              (None, 6)                 216       \n",
      "_________________________________________________________________\n",
      "dense_5 (Dense)              (None, 2)                 14        \n",
      "=================================================================\n",
      "Total params: 1,490\n",
      "Trainable params: 1,490\n",
      "Non-trainable params: 0\n",
      "_________________________________________________________________\n"
     ]
    },
    {
     "data": {
      "text/markdown": [
       "**Training/Validation Loss and Accuracy**"
      ],
      "text/plain": [
       "<IPython.core.display.Markdown object>"
      ]
     },
     "metadata": {},
     "output_type": "display_data"
    },
    {
     "data": {
      "image/png": "[encoded data removed]",
      "text/plain": [
       "<Figure size 576x360 with 1 Axes>"
      ]
     },
     "metadata": {
      "needs_background": "light"
     },
     "output_type": "display_data"
    },
    {
     "data": {
      "text/markdown": [
       "**Evaluation and Prediction**"
      ],
      "text/plain": [
       "<IPython.core.display.Markdown object>"
      ]
     },
     "metadata": {},
     "output_type": "display_data"
    },
    {
     "name": "stdout",
     "output_type": "stream",
     "text": [
      "47/47 [==============================] - 0s 908us/step - loss: 0.2681 - accuracy: 0.9214\n",
      "\n",
      "Loss: 26.81%\n",
      "Accuracy: 92.14%\n"
     ]
    },
    {
     "data": {
      "text/markdown": [
       "**Metric Scores**"
      ],
      "text/plain": [
       "<IPython.core.display.Markdown object>"
      ]
     },
     "metadata": {},
     "output_type": "display_data"
    },
    {
     "name": "stdout",
     "output_type": "stream",
     "text": [
      "Accuracy: 92.14%\n",
      "Precision: 92.58%\n",
      "Recall: 99.49%\n",
      "F1: 95.91%\n",
      "\n",
      "Confusion Matrix:\n",
      "[[   0  109]\n",
      " [   7 1360]]\n"
     ]
    },
    {
     "data": {
      "text/markdown": [
       "**Confusion Matrix**"
      ],
      "text/plain": [
       "<IPython.core.display.Markdown object>"
      ]
     },
     "metadata": {},
     "output_type": "display_data"
    },
    {
     "data": {
      "image/png": "[encoded data removed]",
      "text/plain": [
       "<Figure size 432x288 with 2 Axes>"
      ]
     },
     "metadata": {
      "needs_background": "light"
     },
     "output_type": "display_data"
    },
    {
     "name": "stdout",
     "output_type": "stream",
     "text": [
      "\n"
     ]
    },
    {
     "data": {
      "text/markdown": [
       "### Model 3 – Sequential: Dense Layers, PReLU Activation"
      ],
      "text/plain": [
       "<IPython.core.display.Markdown object>"
      ]
     },
     "metadata": {},
     "output_type": "display_data"
    },
    {
     "data": {
      "text/markdown": [
       "**Summary**"
      ],
      "text/plain": [
       "<IPython.core.display.Markdown object>"
      ]
     },
     "metadata": {},
     "output_type": "display_data"
    },
    {
     "name": "stdout",
     "output_type": "stream",
     "text": [
      "Model: \"sequential_2\"\n",
      "_________________________________________________________________\n",
      "Layer (type)                 Output Shape              Param #   \n",
      "=================================================================\n",
      "dense_6 (Dense)              (None, 35)                1260      \n",
      "_________________________________________________________________\n",
      "p_re_lu (PReLU)              (None, 35)                35        \n",
      "_________________________________________________________________\n",
      "dense_7 (Dense)              (None, 6)                 216       \n",
      "_________________________________________________________________\n",
      "p_re_lu_1 (PReLU)            (None, 6)                 6         \n",
      "_________________________________________________________________\n",
      "dense_8 (Dense)              (None, 2)                 14        \n",
      "=================================================================\n",
      "Total params: 1,531\n",
      "Trainable params: 1,531\n",
      "Non-trainable params: 0\n",
      "_________________________________________________________________\n"
     ]
    },
    {
     "data": {
      "text/markdown": [
       "**Training/Validation Loss and Accuracy**"
      ],
      "text/plain": [
       "<IPython.core.display.Markdown object>"
      ]
     },
     "metadata": {},
     "output_type": "display_data"
    },
    {
     "data": {
      "image/png": "[encoded data removed]",
      "text/plain": [
       "<Figure size 576x360 with 1 Axes>"
      ]
     },
     "metadata": {
      "needs_background": "light"
     },
     "output_type": "display_data"
    },
    {
     "data": {
      "text/markdown": [
       "**Evaluation and Prediction**"
      ],
      "text/plain": [
       "<IPython.core.display.Markdown object>"
      ]
     },
     "metadata": {},
     "output_type": "display_data"
    },
    {
     "name": "stdout",
     "output_type": "stream",
     "text": [
      "47/47 [==============================] - 0s 1ms/step - loss: 0.6389 - accuracy: 0.7852\n",
      "\n",
      "Loss: 63.89%\n",
      "Accuracy: 78.52%\n"
     ]
    },
    {
     "data": {
      "text/markdown": [
       "**Metric Scores**"
      ],
      "text/plain": [
       "<IPython.core.display.Markdown object>"
      ]
     },
     "metadata": {},
     "output_type": "display_data"
    },
    {
     "name": "stdout",
     "output_type": "stream",
     "text": [
      "Accuracy: 78.52%\n",
      "Precision: 92.54%\n",
      "Recall: 83.54%\n",
      "F1: 87.81%\n",
      "\n",
      "Confusion Matrix:\n",
      "[[  17   92]\n",
      " [ 225 1142]]\n"
     ]
    },
    {
     "data": {
      "text/markdown": [
       "**Confusion Matrix**"
      ],
      "text/plain": [
       "<IPython.core.display.Markdown object>"
      ]
     },
     "metadata": {},
     "output_type": "display_data"
    },
    {
     "data": {
      "image/png": "[encoded data removed]",
      "text/plain": [
       "<Figure size 432x288 with 2 Axes>"
      ]
     },
     "metadata": {
      "needs_background": "light"
     },
     "output_type": "display_data"
    },
    {
     "name": "stdout",
     "output_type": "stream",
     "text": [
      "\n"
     ]
    }
   ],
   "source": [
    "test_models(model_lst, (X_train, y_train, X_test, y_test))"
   ]
  },
  {
   "cell_type": "markdown",
   "metadata": {},
   "source": [
    "#### Randomized Search"
   ]
  },
  {
   "cell_type": "code",
   "execution_count": 127,
   "metadata": {},
   "outputs": [],
   "source": [
    "def build_model(n_hidden=1, n_neurons=30, learning_rate=3e-3, input_shape=[top_n_feats]):\n",
    "    model = Sequential([\n",
    "        InputLayer(input_shape=input_shape)\n",
    "    ])\n",
    "    for layer in range(n_hidden):\n",
    "        model.add(Dense(n_neurons, activation=\"relu\"))\n",
    "    model.add(Dense(1))\n",
    "    optimizer = SGD(lr=learning_rate)\n",
    "    model.compile(loss=\"mse\", optimizer=optimizer)\n",
    "    return model"
   ]
  },
  {
   "cell_type": "code",
   "execution_count": 128,
   "metadata": {},
   "outputs": [],
   "source": [
    "keras_reg = KerasRegressor(build_model)"
   ]
  },
  {
   "cell_type": "code",
   "execution_count": 129,
   "metadata": {},
   "outputs": [],
   "source": [
    "hyperparameters = {\n",
    "    'n_hidden': [0, 1, 2, 3],\n",
    "    'n_neurons': np.arange(1, 100),\n",
    "    'learning_rate': reciprocal(3e-4, 3e-2)\n",
    "}"
   ]
  },
  {
   "cell_type": "code",
   "execution_count": 130,
   "metadata": {},
   "outputs": [],
   "source": [
    "cv = RepeatedStratifiedKFold(n_splits=10, n_repeats=3, random_state=SEED)"
   ]
  },
  {
   "cell_type": "code",
   "execution_count": 131,
   "metadata": {},
   "outputs": [],
   "source": [
    "rnd_search_cv = RandomizedSearchCV(keras_reg, hyperparameters, n_iter=10, cv=cv)"
   ]
  },
  {
   "cell_type": "code",
   "execution_count": 132,
   "metadata": {
    "scrolled": true
   },
   "outputs": [
    {
     "name": "stdout",
     "output_type": "stream",
     "text": [
      "19/19 [==============================] - 0s 1ms/step - loss: 0.0743\n",
      "19/19 [==============================] - 0s 1ms/step - loss: 0.0727\n",
      "19/19 [==============================] - 0s 950us/step - loss: 0.0789\n",
      "19/19 [==============================] - 0s 902us/step - loss: 0.0729\n",
      "19/19 [==============================] - 0s 950us/step - loss: 0.0851\n",
      "19/19 [==============================] - 0s 1ms/step - loss: 0.0886\n",
      "19/19 [==============================] - 0s 1ms/step - loss: 0.0689\n",
      "19/19 [==============================] - 0s 1ms/step - loss: 0.0793\n",
      "19/19 [==============================] - 0s 979us/step - loss: 0.0742\n",
      "19/19 [==============================] - 0s 901us/step - loss: 0.0762\n",
      "19/19 [==============================] - 0s 997us/step - loss: 0.0742\n",
      "19/19 [==============================] - 0s 975us/step - loss: 0.0743\n",
      "19/19 [==============================] - 0s 1ms/step - loss: 0.0761\n",
      "19/19 [==============================] - 0s 1ms/step - loss: 0.0767\n",
      "19/19 [==============================] - 0s 995us/step - loss: 0.0937\n",
      "19/19 [==============================] - 0s 1ms/step - loss: 0.0729\n",
      "19/19 [==============================] - 0s 1ms/step - loss: 0.0742\n",
      "19/19 [==============================] - 0s 911us/step - loss: 0.0678\n",
      "19/19 [==============================] - 0s 1ms/step - loss: 0.0740\n",
      "19/19 [==============================] - 0s 976us/step - loss: 0.1110\n",
      "19/19 [==============================] - 0s 1ms/step - loss: 0.0692\n",
      "19/19 [==============================] - 0s 1ms/step - loss: 0.0833\n",
      "19/19 [==============================] - 0s 1ms/step - loss: 0.0941\n",
      "19/19 [==============================] - 0s 2ms/step - loss: 0.0737\n",
      "19/19 [==============================] - 0s 902us/step - loss: 0.0702\n",
      "19/19 [==============================] - 0s 896us/step - loss: 0.0696\n",
      "19/19 [==============================] - 0s 1ms/step - loss: 0.0737\n",
      "19/19 [==============================] - 0s 967us/step - loss: 0.0671\n",
      "19/19 [==============================] - 0s 898us/step - loss: 0.0724\n",
      "19/19 [==============================] - 0s 1ms/step - loss: 0.0928\n",
      "19/19 [==============================] - 0s 879us/step - loss: 0.0772\n",
      "19/19 [==============================] - 0s 900us/step - loss: 0.0909\n",
      "19/19 [==============================] - 0s 874us/step - loss: 0.0798\n",
      "19/19 [==============================] - 0s 820us/step - loss: 0.0886\n",
      "19/19 [==============================] - 0s 831us/step - loss: 0.0918\n",
      "19/19 [==============================] - 0s 960us/step - loss: 0.0934\n",
      "19/19 [==============================] - 0s 849us/step - loss: 0.0771\n",
      "19/19 [==============================] - 0s 871us/step - loss: 0.0808\n",
      "19/19 [==============================] - 0s 852us/step - loss: 0.0825\n",
      "19/19 [==============================] - 0s 821us/step - loss: 0.0771\n",
      "19/19 [==============================] - 0s 900us/step - loss: 0.0939\n",
      "19/19 [==============================] - 0s 854us/step - loss: 0.0826\n",
      "19/19 [==============================] - 0s 968us/step - loss: 0.0834\n",
      "19/19 [==============================] - 0s 804us/step - loss: 0.0857\n",
      "19/19 [==============================] - 0s 814us/step - loss: 0.1058\n",
      "19/19 [==============================] - 0s 883us/step - loss: 0.0870\n",
      "19/19 [==============================] - 0s 759us/step - loss: 0.0883\n",
      "19/19 [==============================] - 0s 809us/step - loss: 0.0850\n",
      "19/19 [==============================] - 0s 910us/step - loss: 0.0859\n",
      "19/19 [==============================] - 0s 855us/step - loss: 0.1063\n",
      "19/19 [==============================] - 0s 1ms/step - loss: 0.0835\n",
      "19/19 [==============================] - 0s 1ms/step - loss: 0.0775\n",
      "19/19 [==============================] - 0s 1ms/step - loss: 0.0938\n",
      "19/19 [==============================] - 0s 782us/step - loss: 0.0814\n",
      "19/19 [==============================] - 0s 966us/step - loss: 0.0835\n",
      "19/19 [==============================] - 0s 912us/step - loss: 0.0747\n",
      "19/19 [==============================] - 0s 827us/step - loss: 0.0772\n",
      "19/19 [==============================] - 0s 809us/step - loss: 0.0770\n",
      "19/19 [==============================] - 0s 897us/step - loss: 0.0771\n",
      "19/19 [==============================] - 0s 806us/step - loss: 0.0824\n",
      "19/19 [==============================] - 0s 1ms/step - loss: 0.0566\n",
      "19/19 [==============================] - 0s 827us/step - loss: 0.0559\n",
      "19/19 [==============================] - 0s 1ms/step - loss: 0.0542\n",
      "19/19 [==============================] - 0s 1ms/step - loss: 0.0554\n",
      "19/19 [==============================] - 0s 942us/step - loss: 0.0580\n",
      "19/19 [==============================] - 0s 908us/step - loss: 0.0581\n",
      "19/19 [==============================] - 0s 1ms/step - loss: 0.0580\n",
      "19/19 [==============================] - 0s 882us/step - loss: 0.0570\n",
      "19/19 [==============================] - 0s 1ms/step - loss: 0.0578\n",
      "19/19 [==============================] - 0s 1ms/step - loss: 0.0557\n",
      "19/19 [==============================] - 0s 914us/step - loss: 0.0576\n",
      "19/19 [==============================] - 0s 932us/step - loss: 0.0583\n",
      "19/19 [==============================] - 0s 979us/step - loss: 0.0570\n",
      "19/19 [==============================] - 0s 999us/step - loss: 0.0563\n",
      "19/19 [==============================] - 0s 1ms/step - loss: 0.0594\n",
      "19/19 [==============================] - 0s 1ms/step - loss: 0.0568\n",
      "19/19 [==============================] - 0s 929us/step - loss: 0.0574\n",
      "19/19 [==============================] - 0s 917us/step - loss: 0.0585\n",
      "19/19 [==============================] - 0s 922us/step - loss: 0.0514\n",
      "19/19 [==============================] - 0s 936us/step - loss: 0.0730\n",
      "19/19 [==============================] - 0s 1ms/step - loss: 0.0544\n",
      "19/19 [==============================] - 0s 928us/step - loss: 0.0606\n",
      "19/19 [==============================] - 0s 918us/step - loss: 0.0715\n",
      "19/19 [==============================] - 0s 1ms/step - loss: 0.0627\n",
      "19/19 [==============================] - 0s 1ms/step - loss: 0.0548\n",
      "19/19 [==============================] - 0s 948us/step - loss: 0.0590\n",
      "19/19 [==============================] - 0s 953us/step - loss: 0.0543\n",
      "19/19 [==============================] - 0s 918us/step - loss: 0.0545\n",
      "19/19 [==============================] - 0s 936us/step - loss: 0.0547\n",
      "19/19 [==============================] - 0s 844us/step - loss: 0.0643\n",
      "19/19 [==============================] - 0s 795us/step - loss: nan\n",
      "19/19 [==============================] - 0s 935us/step - loss: nan\n",
      "19/19 [==============================] - 0s 857us/step - loss: nan\n",
      "19/19 [==============================] - 0s 864us/step - loss: nan\n",
      "19/19 [==============================] - 0s 883us/step - loss: nan\n",
      "19/19 [==============================] - 0s 814us/step - loss: nan\n",
      "19/19 [==============================] - 0s 846us/step - loss: nan\n",
      "19/19 [==============================] - 0s 798us/step - loss: nan\n",
      "19/19 [==============================] - 0s 821us/step - loss: nan\n",
      "19/19 [==============================] - 0s 1ms/step - loss: nan\n",
      "19/19 [==============================] - 0s 797us/step - loss: nan\n",
      "19/19 [==============================] - 0s 808us/step - loss: nan\n",
      "19/19 [==============================] - 0s 778us/step - loss: nan\n",
      "19/19 [==============================] - 0s 822us/step - loss: nan\n",
      "19/19 [==============================] - 0s 832us/step - loss: nan\n",
      "19/19 [==============================] - 0s 806us/step - loss: nan\n",
      "19/19 [==============================] - 0s 815us/step - loss: nan\n",
      "19/19 [==============================] - 0s 830us/step - loss: nan\n",
      "19/19 [==============================] - 0s 798us/step - loss: nan\n",
      "19/19 [==============================] - 0s 774us/step - loss: nan\n",
      "19/19 [==============================] - 0s 791us/step - loss: nan\n",
      "19/19 [==============================] - 0s 821us/step - loss: nan\n",
      "19/19 [==============================] - 0s 901us/step - loss: nan\n",
      "19/19 [==============================] - 0s 829us/step - loss: nan\n",
      "19/19 [==============================] - 0s 829us/step - loss: nan\n",
      "19/19 [==============================] - 0s 950us/step - loss: nan\n",
      "19/19 [==============================] - 0s 857us/step - loss: nan\n",
      "19/19 [==============================] - 0s 780us/step - loss: nan\n",
      "19/19 [==============================] - 0s 818us/step - loss: nan\n",
      "19/19 [==============================] - 0s 840us/step - loss: nan\n",
      "19/19 [==============================] - 0s 838us/step - loss: 0.0550\n",
      "19/19 [==============================] - 0s 1ms/step - loss: 0.0552\n",
      "19/19 [==============================] - 0s 2ms/step - loss: 0.0520\n",
      "19/19 [==============================] - 0s 886us/step - loss: 0.0572\n",
      "19/19 [==============================] - 0s 864us/step - loss: 0.0743\n",
      "19/19 [==============================] - 0s 836us/step - loss: 0.0613\n",
      "19/19 [==============================] - 0s 820us/step - loss: 0.0553\n",
      "19/19 [==============================] - 0s 988us/step - loss: 0.0565\n",
      "19/19 [==============================] - 0s 922us/step - loss: 0.0564\n",
      "19/19 [==============================] - 0s 845us/step - loss: 0.0556\n",
      "19/19 [==============================] - 0s 2ms/step - loss: 0.0592\n",
      "19/19 [==============================] - 0s 784us/step - loss: 0.0589\n",
      "19/19 [==============================] - 0s 889us/step - loss: 0.0572\n",
      "19/19 [==============================] - 0s 926us/step - loss: 0.0561\n",
      "19/19 [==============================] - 0s 880us/step - loss: 0.0591\n",
      "19/19 [==============================] - 0s 832us/step - loss: 0.0565\n",
      "19/19 [==============================] - 0s 926us/step - loss: 0.0565\n",
      "19/19 [==============================] - 0s 1ms/step - loss: 0.0566\n",
      "19/19 [==============================] - 0s 908us/step - loss: 0.0530\n",
      "19/19 [==============================] - 0s 2ms/step - loss: 0.0671\n",
      "19/19 [==============================] - 0s 855us/step - loss: 0.0548\n",
      "19/19 [==============================] - 0s 797us/step - loss: 0.0575\n",
      "19/19 [==============================] - 0s 852us/step - loss: 0.0593\n",
      "19/19 [==============================] - 0s 902us/step - loss: 0.0584\n",
      "19/19 [==============================] - 0s 834us/step - loss: 0.0597\n",
      "19/19 [==============================] - 0s 855us/step - loss: 0.0562\n",
      "19/19 [==============================] - 0s 847us/step - loss: 0.0555\n",
      "19/19 [==============================] - 0s 922us/step - loss: 0.0534\n",
      "19/19 [==============================] - 0s 1ms/step - loss: 0.0526\n",
      "19/19 [==============================] - 0s 842us/step - loss: 0.0593\n",
      "19/19 [==============================] - 0s 880us/step - loss: 0.0573\n",
      "19/19 [==============================] - 0s 904us/step - loss: 0.0569\n",
      "19/19 [==============================] - 0s 939us/step - loss: 0.0647\n",
      "19/19 [==============================] - 0s 809us/step - loss: 0.0609\n",
      "19/19 [==============================] - 0s 942us/step - loss: 0.0635\n",
      "19/19 [==============================] - 0s 886us/step - loss: 0.0917\n",
      "19/19 [==============================] - 0s 829us/step - loss: 0.0667\n",
      "19/19 [==============================] - 0s 861us/step - loss: 0.0586\n",
      "19/19 [==============================] - 0s 983us/step - loss: 0.0654\n",
      "19/19 [==============================] - 0s 801us/step - loss: 0.0568\n",
      "19/19 [==============================] - 0s 1ms/step - loss: 0.0641\n",
      "19/19 [==============================] - 0s 978us/step - loss: 0.0619\n",
      "19/19 [==============================] - 0s 926us/step - loss: 0.0661\n",
      "19/19 [==============================] - 0s 880us/step - loss: 0.0597\n",
      "19/19 [==============================] - 0s 977us/step - loss: 0.0602\n",
      "19/19 [==============================] - 0s 840us/step - loss: 0.0596\n",
      "19/19 [==============================] - 0s 798us/step - loss: 0.0620\n",
      "19/19 [==============================] - 0s 1ms/step - loss: 0.0603\n",
      "19/19 [==============================] - 0s 818us/step - loss: 0.0597\n",
      "19/19 [==============================] - 0s 2ms/step - loss: 0.0794\n",
      "19/19 [==============================] - 0s 995us/step - loss: 0.0586\n",
      "19/19 [==============================] - 0s 812us/step - loss: 0.0667\n",
      "19/19 [==============================] - 0s 954us/step - loss: 0.0693\n",
      "19/19 [==============================] - 0s 752us/step - loss: 0.0583\n",
      "19/19 [==============================] - 0s 874us/step - loss: 0.0624\n",
      "19/19 [==============================] - 0s 851us/step - loss: 0.0582\n",
      "19/19 [==============================] - 0s 872us/step - loss: 0.0615\n",
      "19/19 [==============================] - 0s 810us/step - loss: 0.0590\n",
      "19/19 [==============================] - 0s 962us/step - loss: 0.0567\n",
      "19/19 [==============================] - 0s 930us/step - loss: 0.0619\n",
      "19/19 [==============================] - 0s 932us/step - loss: 0.0564\n",
      "19/19 [==============================] - 0s 761us/step - loss: 0.0558\n",
      "19/19 [==============================] - 0s 820us/step - loss: 0.0563\n",
      "19/19 [==============================] - 0s 763us/step - loss: 0.0581\n",
      "19/19 [==============================] - 0s 835us/step - loss: 0.0576\n",
      "19/19 [==============================] - 0s 839us/step - loss: 0.0585\n",
      "19/19 [==============================] - 0s 3ms/step - loss: 0.0569\n",
      "19/19 [==============================] - 0s 3ms/step - loss: 0.0560\n",
      "19/19 [==============================] - 0s 832us/step - loss: 0.0558\n",
      "19/19 [==============================] - 0s 756us/step - loss: 0.0581\n",
      "19/19 [==============================] - 0s 764us/step - loss: 0.0575\n",
      "19/19 [==============================] - 0s 929us/step - loss: 0.0578\n",
      "19/19 [==============================] - 0s 967us/step - loss: 0.0543\n",
      "19/19 [==============================] - 0s 977us/step - loss: 0.0566\n",
      "19/19 [==============================] - 0s 1ms/step - loss: 0.0623\n",
      "19/19 [==============================] - 0s 792us/step - loss: 0.0552\n",
      "19/19 [==============================] - 0s 919us/step - loss: 0.0581\n",
      "19/19 [==============================] - 0s 792us/step - loss: 0.0573\n",
      "19/19 [==============================] - 0s 892us/step - loss: 0.0540\n",
      "19/19 [==============================] - 0s 968us/step - loss: 0.0570\n",
      "19/19 [==============================] - 0s 949us/step - loss: 0.0542\n",
      "19/19 [==============================] - 0s 1ms/step - loss: 0.0562\n",
      "19/19 [==============================] - 0s 824us/step - loss: 0.0604\n",
      "19/19 [==============================] - 0s 828us/step - loss: 0.0588\n",
      "19/19 [==============================] - 0s 922us/step - loss: 0.0573\n",
      "19/19 [==============================] - 0s 894us/step - loss: 0.0558\n",
      "19/19 [==============================] - 0s 880us/step - loss: 0.0571\n",
      "19/19 [==============================] - 0s 844us/step - loss: 0.0547\n",
      "19/19 [==============================] - 0s 872us/step - loss: 0.0567\n",
      "19/19 [==============================] - 0s 1ms/step - loss: 0.0584\n",
      "19/19 [==============================] - 0s 883us/step - loss: 0.0938\n",
      "19/19 [==============================] - 0s 902us/step - loss: 0.1095\n",
      "19/19 [==============================] - 0s 771us/step - loss: 0.0982\n",
      "19/19 [==============================] - 0s 811us/step - loss: 0.0945\n",
      "19/19 [==============================] - 0s 810us/step - loss: 0.1580\n",
      "19/19 [==============================] - 0s 1ms/step - loss: 0.0961\n",
      "19/19 [==============================] - 0s 796us/step - loss: 0.0941\n",
      "19/19 [==============================] - 0s 822us/step - loss: 0.1022\n",
      "19/19 [==============================] - 0s 955us/step - loss: 0.0977\n",
      "19/19 [==============================] - 0s 898us/step - loss: 0.0826\n",
      "19/19 [==============================] - 0s 876us/step - loss: 0.1193\n",
      "19/19 [==============================] - 0s 1ms/step - loss: 0.0945\n",
      "19/19 [==============================] - 0s 889us/step - loss: 0.1225\n",
      "19/19 [==============================] - 0s 815us/step - loss: 0.0972\n",
      "19/19 [==============================] - 0s 897us/step - loss: 0.1141\n",
      "19/19 [==============================] - 0s 793us/step - loss: 0.1051\n",
      "19/19 [==============================] - 0s 811us/step - loss: 0.1049\n",
      "19/19 [==============================] - 0s 855us/step - loss: 0.0977\n",
      "19/19 [==============================] - 0s 1ms/step - loss: 0.0788\n",
      "19/19 [==============================] - 0s 790us/step - loss: 0.2429\n",
      "19/19 [==============================] - 0s 883us/step - loss: 0.1019\n",
      "19/19 [==============================] - 0s 904us/step - loss: 0.1016\n",
      "19/19 [==============================] - 0s 844us/step - loss: 0.1077\n",
      "19/19 [==============================] - 0s 830us/step - loss: 0.0874\n",
      "19/19 [==============================] - 0s 963us/step - loss: 0.0833\n",
      "19/19 [==============================] - 0s 865us/step - loss: 0.0967\n"
     ]
    },
    {
     "name": "stdout",
     "output_type": "stream",
     "text": [
      "19/19 [==============================] - 0s 811us/step - loss: 0.0831\n",
      "19/19 [==============================] - 0s 845us/step - loss: 0.0866\n",
      "19/19 [==============================] - 0s 835us/step - loss: 0.0873\n",
      "19/19 [==============================] - 0s 814us/step - loss: 0.1426\n",
      "19/19 [==============================] - 0s 1ms/step - loss: 0.0664\n",
      "19/19 [==============================] - 0s 882us/step - loss: 0.0657\n",
      "19/19 [==============================] - 0s 902us/step - loss: 0.0683\n",
      "19/19 [==============================] - 0s 1ms/step - loss: 0.0660\n",
      "19/19 [==============================] - 0s 1ms/step - loss: 0.0715\n",
      "19/19 [==============================] - 0s 1ms/step - loss: 0.0911\n",
      "19/19 [==============================] - 0s 1ms/step - loss: 0.0621\n",
      "19/19 [==============================] - 0s 920us/step - loss: 0.0672\n",
      "19/19 [==============================] - 0s 2ms/step - loss: 0.0667\n",
      "19/19 [==============================] - 0s 1ms/step - loss: 0.0660\n",
      "19/19 [==============================] - 0s 1ms/step - loss: 0.0688\n",
      "19/19 [==============================] - 0s 939us/step - loss: 0.0632\n",
      "19/19 [==============================] - 0s 1ms/step - loss: 0.0696\n",
      "19/19 [==============================] - 0s 1ms/step - loss: 0.0669\n",
      "19/19 [==============================] - 0s 1ms/step - loss: 0.0688\n",
      "19/19 [==============================] - 0s 1ms/step - loss: 0.0658\n",
      "19/19 [==============================] - 0s 912us/step - loss: 0.0654\n",
      "19/19 [==============================] - 0s 907us/step - loss: 0.0675\n",
      "19/19 [==============================] - 0s 981us/step - loss: 0.0590\n",
      "19/19 [==============================] - 0s 1ms/step - loss: 0.0674\n",
      "19/19 [==============================] - 0s 1ms/step - loss: 0.0643\n",
      "19/19 [==============================] - 0s 950us/step - loss: 0.0698\n",
      "19/19 [==============================] - 0s 853us/step - loss: 0.0693\n",
      "19/19 [==============================] - 0s 1ms/step - loss: 0.0641\n",
      "19/19 [==============================] - 0s 1ms/step - loss: 0.0700\n",
      "19/19 [==============================] - 0s 924us/step - loss: 0.0618\n",
      "19/19 [==============================] - 0s 1ms/step - loss: 0.0600\n",
      "19/19 [==============================] - 0s 935us/step - loss: 0.0691\n",
      "19/19 [==============================] - 0s 1ms/step - loss: 0.0595\n",
      "19/19 [==============================] - 0s 991us/step - loss: 0.0646\n",
      "19/19 [==============================] - 0s 947us/step - loss: 0.0576\n",
      "19/19 [==============================] - 0s 931us/step - loss: 0.0598\n",
      "19/19 [==============================] - 0s 876us/step - loss: 0.0591\n",
      "19/19 [==============================] - 0s 925us/step - loss: 0.0579\n",
      "19/19 [==============================] - 0s 878us/step - loss: 0.0597\n",
      "19/19 [==============================] - 0s 849us/step - loss: 0.0605\n",
      "19/19 [==============================] - 0s 901us/step - loss: 0.0593\n",
      "19/19 [==============================] - 0s 918us/step - loss: 0.0555\n",
      "19/19 [==============================] - 0s 872us/step - loss: 0.0577\n",
      "19/19 [==============================] - 0s 1ms/step - loss: 0.0564\n",
      "19/19 [==============================] - 0s 1ms/step - loss: 0.0561\n",
      "19/19 [==============================] - 0s 1ms/step - loss: 0.0589\n",
      "19/19 [==============================] - 0s 1ms/step - loss: 0.0551\n",
      "19/19 [==============================] - 0s 909us/step - loss: 0.0573\n",
      "19/19 [==============================] - 0s 908us/step - loss: 0.0619\n",
      "19/19 [==============================] - 0s 1ms/step - loss: 0.0568\n",
      "19/19 [==============================] - 0s 910us/step - loss: 0.0540\n",
      "19/19 [==============================] - 0s 992us/step - loss: 0.0620\n",
      "19/19 [==============================] - 0s 1ms/step - loss: 0.0535\n",
      "19/19 [==============================] - 0s 972us/step - loss: 0.0639\n",
      "19/19 [==============================] - 0s 911us/step - loss: 0.0563\n",
      "19/19 [==============================] - 0s 897us/step - loss: 0.0581\n",
      "19/19 [==============================] - 0s 925us/step - loss: 0.0707\n",
      "19/19 [==============================] - 0s 882us/step - loss: 0.0571\n",
      "19/19 [==============================] - 0s 945us/step - loss: 0.0572\n",
      "19/19 [==============================] - 0s 1ms/step - loss: 0.0564\n",
      "19/19 [==============================] - 0s 985us/step - loss: 0.0571\n",
      "19/19 [==============================] - 0s 1ms/step - loss: 0.0574\n",
      "19/19 [==============================] - 0s 941us/step - loss: 0.0532\n",
      "19/19 [==============================] - 0s 830us/step - loss: 0.0606\n"
     ]
    },
    {
     "name": "stderr",
     "output_type": "stream",
     "text": [
      "/Library/Frameworks/Python.framework/Versions/3.6/lib/python3.6/site-packages/sklearn/model_selection/_search.py:813: DeprecationWarning: The default of the `iid` parameter will change from True to False in version 0.22 and will be removed in 0.24. This will change numeric results when test-set sizes are unequal.\n",
      "  DeprecationWarning)\n"
     ]
    },
    {
     "name": "stdout",
     "output_type": "stream",
     "text": [
      "CPU times: user 27min 32s, sys: 3min 43s, total: 31min 16s\n",
      "Wall time: 20min 29s\n"
     ]
    },
    {
     "data": {
      "text/plain": [
       "RandomizedSearchCV(cv=<sklearn.model_selection._split.RepeatedStratifiedKFold object at 0x14e33d3c8>,\n",
       "                   error_score='raise-deprecating',\n",
       "                   estimator=<tensorflow.python.keras.wrappers.scikit_learn.KerasRegressor object at 0x1504cc518>,\n",
       "                   iid='warn', n_iter=10, n_jobs=None,\n",
       "                   param_distributions={'learning_rate': <scipy.stats._distn_infrastructure.rv_frozen object at 0x1550...\n",
       "       18, 19, 20, 21, 22, 23, 24, 25, 26, 27, 28, 29, 30, 31, 32, 33, 34,\n",
       "       35, 36, 37, 38, 39, 40, 41, 42, 43, 44, 45, 46, 47, 48, 49, 50, 51,\n",
       "       52, 53, 54, 55, 56, 57, 58, 59, 60, 61, 62, 63, 64, 65, 66, 67, 68,\n",
       "       69, 70, 71, 72, 73, 74, 75, 76, 77, 78, 79, 80, 81, 82, 83, 84, 85,\n",
       "       86, 87, 88, 89, 90, 91, 92, 93, 94, 95, 96, 97, 98, 99])},\n",
       "                   pre_dispatch='2*n_jobs', random_state=None, refit=True,\n",
       "                   return_train_score=False, scoring=None, verbose=0)"
      ]
     },
     "execution_count": 132,
     "metadata": {},
     "output_type": "execute_result"
    }
   ],
   "source": [
    "%%time\n",
    "rnd_search_cv.fit(\n",
    "    X_train, y_train, epochs=EPOCHS, validation_split=VAL_SPLIT, callbacks=[EarlyStopping(patience=10)], verbose=0\n",
    ")"
   ]
  },
  {
   "cell_type": "code",
   "execution_count": 133,
   "metadata": {},
   "outputs": [
    {
     "data": {
      "text/plain": [
       "{'learning_rate': 0.02298924804076755, 'n_hidden': 1, 'n_neurons': 9}"
      ]
     },
     "execution_count": 133,
     "metadata": {},
     "output_type": "execute_result"
    }
   ],
   "source": [
    "best_params = rnd_search_cv.best_params_\n",
    "best_params"
   ]
  },
  {
   "cell_type": "code",
   "execution_count": 134,
   "metadata": {},
   "outputs": [
    {
     "data": {
      "text/plain": [
       "-0.05697540660862684"
      ]
     },
     "execution_count": 134,
     "metadata": {},
     "output_type": "execute_result"
    }
   ],
   "source": [
    "rnd_search_cv.best_score_"
   ]
  },
  {
   "cell_type": "code",
   "execution_count": 135,
   "metadata": {},
   "outputs": [
    {
     "data": {
      "text/html": [
       "<div>\n",
       "<style scoped>\n",
       "    .dataframe tbody tr th:only-of-type {\n",
       "        vertical-align: middle;\n",
       "    }\n",
       "\n",
       "    .dataframe tbody tr th {\n",
       "        vertical-align: top;\n",
       "    }\n",
       "\n",
       "    .dataframe thead th {\n",
       "        text-align: right;\n",
       "    }\n",
       "</style>\n",
       "<table border=\"1\" class=\"dataframe\">\n",
       "  <thead>\n",
       "    <tr style=\"text-align: right;\">\n",
       "      <th></th>\n",
       "      <th>mean_fit_time</th>\n",
       "      <th>std_fit_time</th>\n",
       "      <th>mean_score_time</th>\n",
       "      <th>std_score_time</th>\n",
       "      <th>param_learning_rate</th>\n",
       "      <th>param_n_hidden</th>\n",
       "      <th>param_n_neurons</th>\n",
       "      <th>params</th>\n",
       "      <th>split0_test_score</th>\n",
       "      <th>split1_test_score</th>\n",
       "      <th>...</th>\n",
       "      <th>split23_test_score</th>\n",
       "      <th>split24_test_score</th>\n",
       "      <th>split25_test_score</th>\n",
       "      <th>split26_test_score</th>\n",
       "      <th>split27_test_score</th>\n",
       "      <th>split28_test_score</th>\n",
       "      <th>split29_test_score</th>\n",
       "      <th>mean_test_score</th>\n",
       "      <th>std_test_score</th>\n",
       "      <th>rank_test_score</th>\n",
       "    </tr>\n",
       "  </thead>\n",
       "  <tbody>\n",
       "    <tr>\n",
       "      <th>0</th>\n",
       "      <td>5.258703</td>\n",
       "      <td>0.336717</td>\n",
       "      <td>0.077058</td>\n",
       "      <td>0.007565</td>\n",
       "      <td>0.000371923</td>\n",
       "      <td>3</td>\n",
       "      <td>80</td>\n",
       "      <td>{'learning_rate': 0.00037192261022352417, 'n_h...</td>\n",
       "      <td>-0.074291</td>\n",
       "      <td>-0.072709</td>\n",
       "      <td>...</td>\n",
       "      <td>-0.073655</td>\n",
       "      <td>-0.070190</td>\n",
       "      <td>-0.069607</td>\n",
       "      <td>-0.073730</td>\n",
       "      <td>-0.067097</td>\n",
       "      <td>-0.072376</td>\n",
       "      <td>-0.092841</td>\n",
       "      <td>-0.077742</td>\n",
       "      <td>0.009601</td>\n",
       "      <td>7</td>\n",
       "    </tr>\n",
       "    <tr>\n",
       "      <th>1</th>\n",
       "      <td>3.852280</td>\n",
       "      <td>0.108896</td>\n",
       "      <td>0.072829</td>\n",
       "      <td>0.002893</td>\n",
       "      <td>0.000876322</td>\n",
       "      <td>1</td>\n",
       "      <td>47</td>\n",
       "      <td>{'learning_rate': 0.0008763224455697141, 'n_hi...</td>\n",
       "      <td>-0.077177</td>\n",
       "      <td>-0.090914</td>\n",
       "      <td>...</td>\n",
       "      <td>-0.081447</td>\n",
       "      <td>-0.083505</td>\n",
       "      <td>-0.074744</td>\n",
       "      <td>-0.077163</td>\n",
       "      <td>-0.076992</td>\n",
       "      <td>-0.077082</td>\n",
       "      <td>-0.082367</td>\n",
       "      <td>-0.085049</td>\n",
       "      <td>0.007835</td>\n",
       "      <td>8</td>\n",
       "    </tr>\n",
       "    <tr>\n",
       "      <th>2</th>\n",
       "      <td>4.578925</td>\n",
       "      <td>0.112232</td>\n",
       "      <td>0.088715</td>\n",
       "      <td>0.073961</td>\n",
       "      <td>0.0051748</td>\n",
       "      <td>3</td>\n",
       "      <td>55</td>\n",
       "      <td>{'learning_rate': 0.0051747964719537, 'n_hidde...</td>\n",
       "      <td>-0.056566</td>\n",
       "      <td>-0.055925</td>\n",
       "      <td>...</td>\n",
       "      <td>-0.062680</td>\n",
       "      <td>-0.054774</td>\n",
       "      <td>-0.059033</td>\n",
       "      <td>-0.054272</td>\n",
       "      <td>-0.054456</td>\n",
       "      <td>-0.054698</td>\n",
       "      <td>-0.064320</td>\n",
       "      <td>-0.058105</td>\n",
       "      <td>0.004558</td>\n",
       "      <td>3</td>\n",
       "    </tr>\n",
       "    <tr>\n",
       "      <th>3</th>\n",
       "      <td>1.398059</td>\n",
       "      <td>0.015037</td>\n",
       "      <td>0.086876</td>\n",
       "      <td>0.076467</td>\n",
       "      <td>0.0277705</td>\n",
       "      <td>0</td>\n",
       "      <td>3</td>\n",
       "      <td>{'learning_rate': 0.027770456976200626, 'n_hid...</td>\n",
       "      <td>NaN</td>\n",
       "      <td>NaN</td>\n",
       "      <td>...</td>\n",
       "      <td>NaN</td>\n",
       "      <td>NaN</td>\n",
       "      <td>NaN</td>\n",
       "      <td>NaN</td>\n",
       "      <td>NaN</td>\n",
       "      <td>NaN</td>\n",
       "      <td>NaN</td>\n",
       "      <td>NaN</td>\n",
       "      <td>NaN</td>\n",
       "      <td>10</td>\n",
       "    </tr>\n",
       "    <tr>\n",
       "      <th>4</th>\n",
       "      <td>3.969833</td>\n",
       "      <td>0.120470</td>\n",
       "      <td>0.075540</td>\n",
       "      <td>0.009133</td>\n",
       "      <td>0.0157399</td>\n",
       "      <td>2</td>\n",
       "      <td>21</td>\n",
       "      <td>{'learning_rate': 0.01573990360087585, 'n_hidd...</td>\n",
       "      <td>-0.054962</td>\n",
       "      <td>-0.055206</td>\n",
       "      <td>...</td>\n",
       "      <td>-0.058380</td>\n",
       "      <td>-0.059654</td>\n",
       "      <td>-0.056241</td>\n",
       "      <td>-0.055545</td>\n",
       "      <td>-0.053425</td>\n",
       "      <td>-0.052626</td>\n",
       "      <td>-0.059286</td>\n",
       "      <td>-0.057533</td>\n",
       "      <td>0.004244</td>\n",
       "      <td>2</td>\n",
       "    </tr>\n",
       "  </tbody>\n",
       "</table>\n",
       "<p>5 rows × 41 columns</p>\n",
       "</div>"
      ],
      "text/plain": [
       "   mean_fit_time  std_fit_time  mean_score_time  std_score_time  \\\n",
       "0       5.258703      0.336717         0.077058        0.007565   \n",
       "1       3.852280      0.108896         0.072829        0.002893   \n",
       "2       4.578925      0.112232         0.088715        0.073961   \n",
       "3       1.398059      0.015037         0.086876        0.076467   \n",
       "4       3.969833      0.120470         0.075540        0.009133   \n",
       "\n",
       "  param_learning_rate param_n_hidden param_n_neurons  \\\n",
       "0         0.000371923              3              80   \n",
       "1         0.000876322              1              47   \n",
       "2           0.0051748              3              55   \n",
       "3           0.0277705              0               3   \n",
       "4           0.0157399              2              21   \n",
       "\n",
       "                                              params  split0_test_score  \\\n",
       "0  {'learning_rate': 0.00037192261022352417, 'n_h...          -0.074291   \n",
       "1  {'learning_rate': 0.0008763224455697141, 'n_hi...          -0.077177   \n",
       "2  {'learning_rate': 0.0051747964719537, 'n_hidde...          -0.056566   \n",
       "3  {'learning_rate': 0.027770456976200626, 'n_hid...                NaN   \n",
       "4  {'learning_rate': 0.01573990360087585, 'n_hidd...          -0.054962   \n",
       "\n",
       "   split1_test_score  ...  split23_test_score  split24_test_score  \\\n",
       "0          -0.072709  ...           -0.073655           -0.070190   \n",
       "1          -0.090914  ...           -0.081447           -0.083505   \n",
       "2          -0.055925  ...           -0.062680           -0.054774   \n",
       "3                NaN  ...                 NaN                 NaN   \n",
       "4          -0.055206  ...           -0.058380           -0.059654   \n",
       "\n",
       "   split25_test_score  split26_test_score  split27_test_score  \\\n",
       "0           -0.069607           -0.073730           -0.067097   \n",
       "1           -0.074744           -0.077163           -0.076992   \n",
       "2           -0.059033           -0.054272           -0.054456   \n",
       "3                 NaN                 NaN                 NaN   \n",
       "4           -0.056241           -0.055545           -0.053425   \n",
       "\n",
       "   split28_test_score  split29_test_score  mean_test_score  std_test_score  \\\n",
       "0           -0.072376           -0.092841        -0.077742        0.009601   \n",
       "1           -0.077082           -0.082367        -0.085049        0.007835   \n",
       "2           -0.054698           -0.064320        -0.058105        0.004558   \n",
       "3                 NaN                 NaN              NaN             NaN   \n",
       "4           -0.052626           -0.059286        -0.057533        0.004244   \n",
       "\n",
       "   rank_test_score  \n",
       "0                7  \n",
       "1                8  \n",
       "2                3  \n",
       "3               10  \n",
       "4                2  \n",
       "\n",
       "[5 rows x 41 columns]"
      ]
     },
     "execution_count": 135,
     "metadata": {},
     "output_type": "execute_result"
    }
   ],
   "source": [
    "cv_results = pd.DataFrame(rnd_search_cv.cv_results_)\n",
    "cv_results.head(5)"
   ]
  },
  {
   "cell_type": "code",
   "execution_count": 136,
   "metadata": {
    "scrolled": true
   },
   "outputs": [
    {
     "data": {
      "text/plain": [
       "mean_fit_time                                                    3.86284\n",
       "std_fit_time                                                    0.391776\n",
       "mean_score_time                                                0.0774776\n",
       "std_score_time                                                 0.0176452\n",
       "param_learning_rate                                            0.0229892\n",
       "param_n_hidden                                                         1\n",
       "param_n_neurons                                                        9\n",
       "params                 {'learning_rate': 0.02298924804076755, 'n_hidd...\n",
       "split0_test_score                                             -0.0563913\n",
       "split1_test_score                                             -0.0557954\n",
       "split2_test_score                                             -0.0562857\n",
       "split3_test_score                                              -0.058103\n",
       "split4_test_score                                             -0.0575592\n",
       "split5_test_score                                             -0.0585009\n",
       "split6_test_score                                              -0.056935\n",
       "split7_test_score                                              -0.056037\n",
       "split8_test_score                                             -0.0558148\n",
       "split9_test_score                                             -0.0581182\n",
       "split10_test_score                                            -0.0575455\n",
       "split11_test_score                                            -0.0578255\n",
       "split12_test_score                                            -0.0543305\n",
       "split13_test_score                                            -0.0566465\n",
       "split14_test_score                                            -0.0623065\n",
       "split15_test_score                                            -0.0552006\n",
       "split16_test_score                                             -0.058132\n",
       "split17_test_score                                            -0.0572658\n",
       "split18_test_score                                            -0.0539621\n",
       "split19_test_score                                            -0.0569913\n",
       "split20_test_score                                             -0.054176\n",
       "split21_test_score                                            -0.0561735\n",
       "split22_test_score                                            -0.0603994\n",
       "split23_test_score                                            -0.0587741\n",
       "split24_test_score                                            -0.0573449\n",
       "split25_test_score                                            -0.0557696\n",
       "split26_test_score                                             -0.057085\n",
       "split27_test_score                                            -0.0547196\n",
       "split28_test_score                                            -0.0566548\n",
       "split29_test_score                                            -0.0584296\n",
       "mean_test_score                                               -0.0569754\n",
       "std_test_score                                                0.00175365\n",
       "rank_test_score                                                        1\n",
       "Name: 6, dtype: object"
      ]
     },
     "execution_count": 136,
     "metadata": {},
     "output_type": "execute_result"
    }
   ],
   "source": [
    "cv_results.iloc[rnd_search_cv.best_index_]"
   ]
  },
  {
   "cell_type": "code",
   "execution_count": 137,
   "metadata": {},
   "outputs": [],
   "source": [
    "top_x = 3"
   ]
  },
  {
   "cell_type": "code",
   "execution_count": 138,
   "metadata": {},
   "outputs": [
    {
     "data": {
      "text/html": [
       "<div>\n",
       "<style scoped>\n",
       "    .dataframe tbody tr th:only-of-type {\n",
       "        vertical-align: middle;\n",
       "    }\n",
       "\n",
       "    .dataframe tbody tr th {\n",
       "        vertical-align: top;\n",
       "    }\n",
       "\n",
       "    .dataframe thead th {\n",
       "        text-align: right;\n",
       "    }\n",
       "</style>\n",
       "<table border=\"1\" class=\"dataframe\">\n",
       "  <thead>\n",
       "    <tr style=\"text-align: right;\">\n",
       "      <th></th>\n",
       "      <th>index</th>\n",
       "      <th>mean_fit_time</th>\n",
       "      <th>std_fit_time</th>\n",
       "      <th>mean_score_time</th>\n",
       "      <th>std_score_time</th>\n",
       "      <th>param_learning_rate</th>\n",
       "      <th>param_n_hidden</th>\n",
       "      <th>param_n_neurons</th>\n",
       "      <th>params</th>\n",
       "      <th>split0_test_score</th>\n",
       "      <th>...</th>\n",
       "      <th>split23_test_score</th>\n",
       "      <th>split24_test_score</th>\n",
       "      <th>split25_test_score</th>\n",
       "      <th>split26_test_score</th>\n",
       "      <th>split27_test_score</th>\n",
       "      <th>split28_test_score</th>\n",
       "      <th>split29_test_score</th>\n",
       "      <th>mean_test_score</th>\n",
       "      <th>std_test_score</th>\n",
       "      <th>rank_test_score</th>\n",
       "    </tr>\n",
       "  </thead>\n",
       "  <tbody>\n",
       "    <tr>\n",
       "      <th>0</th>\n",
       "      <td>6</td>\n",
       "      <td>3.862837</td>\n",
       "      <td>0.391776</td>\n",
       "      <td>0.077478</td>\n",
       "      <td>0.017645</td>\n",
       "      <td>0.0229892</td>\n",
       "      <td>1</td>\n",
       "      <td>9</td>\n",
       "      <td>{'learning_rate': 0.02298924804076755, 'n_hidd...</td>\n",
       "      <td>-0.056391</td>\n",
       "      <td>...</td>\n",
       "      <td>-0.058774</td>\n",
       "      <td>-0.057345</td>\n",
       "      <td>-0.055770</td>\n",
       "      <td>-0.057085</td>\n",
       "      <td>-0.054720</td>\n",
       "      <td>-0.056655</td>\n",
       "      <td>-0.058430</td>\n",
       "      <td>-0.056975</td>\n",
       "      <td>0.001754</td>\n",
       "      <td>1</td>\n",
       "    </tr>\n",
       "    <tr>\n",
       "      <th>1</th>\n",
       "      <td>4</td>\n",
       "      <td>3.969833</td>\n",
       "      <td>0.120470</td>\n",
       "      <td>0.075540</td>\n",
       "      <td>0.009133</td>\n",
       "      <td>0.0157399</td>\n",
       "      <td>2</td>\n",
       "      <td>21</td>\n",
       "      <td>{'learning_rate': 0.01573990360087585, 'n_hidd...</td>\n",
       "      <td>-0.054962</td>\n",
       "      <td>...</td>\n",
       "      <td>-0.058380</td>\n",
       "      <td>-0.059654</td>\n",
       "      <td>-0.056241</td>\n",
       "      <td>-0.055545</td>\n",
       "      <td>-0.053425</td>\n",
       "      <td>-0.052626</td>\n",
       "      <td>-0.059286</td>\n",
       "      <td>-0.057533</td>\n",
       "      <td>0.004244</td>\n",
       "      <td>2</td>\n",
       "    </tr>\n",
       "    <tr>\n",
       "      <th>2</th>\n",
       "      <td>2</td>\n",
       "      <td>4.578925</td>\n",
       "      <td>0.112232</td>\n",
       "      <td>0.088715</td>\n",
       "      <td>0.073961</td>\n",
       "      <td>0.0051748</td>\n",
       "      <td>3</td>\n",
       "      <td>55</td>\n",
       "      <td>{'learning_rate': 0.0051747964719537, 'n_hidde...</td>\n",
       "      <td>-0.056566</td>\n",
       "      <td>...</td>\n",
       "      <td>-0.062680</td>\n",
       "      <td>-0.054774</td>\n",
       "      <td>-0.059033</td>\n",
       "      <td>-0.054272</td>\n",
       "      <td>-0.054456</td>\n",
       "      <td>-0.054698</td>\n",
       "      <td>-0.064320</td>\n",
       "      <td>-0.058105</td>\n",
       "      <td>0.004558</td>\n",
       "      <td>3</td>\n",
       "    </tr>\n",
       "  </tbody>\n",
       "</table>\n",
       "<p>3 rows × 42 columns</p>\n",
       "</div>"
      ],
      "text/plain": [
       "   index  mean_fit_time  std_fit_time  mean_score_time  std_score_time  \\\n",
       "0      6       3.862837      0.391776         0.077478        0.017645   \n",
       "1      4       3.969833      0.120470         0.075540        0.009133   \n",
       "2      2       4.578925      0.112232         0.088715        0.073961   \n",
       "\n",
       "  param_learning_rate param_n_hidden param_n_neurons  \\\n",
       "0           0.0229892              1               9   \n",
       "1           0.0157399              2              21   \n",
       "2           0.0051748              3              55   \n",
       "\n",
       "                                              params  split0_test_score  ...  \\\n",
       "0  {'learning_rate': 0.02298924804076755, 'n_hidd...          -0.056391  ...   \n",
       "1  {'learning_rate': 0.01573990360087585, 'n_hidd...          -0.054962  ...   \n",
       "2  {'learning_rate': 0.0051747964719537, 'n_hidde...          -0.056566  ...   \n",
       "\n",
       "   split23_test_score  split24_test_score  split25_test_score  \\\n",
       "0           -0.058774           -0.057345           -0.055770   \n",
       "1           -0.058380           -0.059654           -0.056241   \n",
       "2           -0.062680           -0.054774           -0.059033   \n",
       "\n",
       "   split26_test_score  split27_test_score  split28_test_score  \\\n",
       "0           -0.057085           -0.054720           -0.056655   \n",
       "1           -0.055545           -0.053425           -0.052626   \n",
       "2           -0.054272           -0.054456           -0.054698   \n",
       "\n",
       "   split29_test_score  mean_test_score  std_test_score  rank_test_score  \n",
       "0           -0.058430        -0.056975        0.001754                1  \n",
       "1           -0.059286        -0.057533        0.004244                2  \n",
       "2           -0.064320        -0.058105        0.004558                3  \n",
       "\n",
       "[3 rows x 42 columns]"
      ]
     },
     "execution_count": 138,
     "metadata": {},
     "output_type": "execute_result"
    }
   ],
   "source": [
    "top_x_models = cv_results.loc[cv_results['rank_test_score'].isin(range(1, top_x+1))].sort_values(by=['rank_test_score'])\n",
    "final_top_x_models = top_x_models.reset_index()\n",
    "final_top_x_models"
   ]
  },
  {
   "cell_type": "code",
   "execution_count": 139,
   "metadata": {},
   "outputs": [],
   "source": [
    "def build_model2(n_hidden, n_neurons):\n",
    "    model = Sequential([\n",
    "        InputLayer(input_shape=[top_n_feats])\n",
    "    ])\n",
    "    for layer in range(n_hidden):\n",
    "        model.add(Dense(n_neurons, activation=\"relu\"))\n",
    "    model.add(Dense(1))\n",
    "    return model"
   ]
  },
  {
   "cell_type": "code",
   "execution_count": 140,
   "metadata": {},
   "outputs": [],
   "source": [
    "best_models_list = [{\n",
    "    'name': 'Randomized Search: #{} Model'.format(idx + 1),\n",
    "    'model': build_model2(n_hidden=model['param_n_hidden'], n_neurons=model['param_n_neurons']),\n",
    "    'loss': 'sparse_categorical_crossentropy',\n",
    "    'optimizer': SGD(learning_rate=model['param_learning_rate'])\n",
    "} for idx, model in final_top_x_models.iterrows()]"
   ]
  },
  {
   "cell_type": "code",
   "execution_count": 141,
   "metadata": {},
   "outputs": [
    {
     "data": {
      "text/plain": [
       "[{'name': 'Randomized Search: #1 Model',\n",
       "  'model': <tensorflow.python.keras.engine.sequential.Sequential at 0x15b2ee6a0>,\n",
       "  'loss': 'sparse_categorical_crossentropy',\n",
       "  'optimizer': <tensorflow.python.keras.optimizer_v2.gradient_descent.SGD at 0x15876fe80>},\n",
       " {'name': 'Randomized Search: #2 Model',\n",
       "  'model': <tensorflow.python.keras.engine.sequential.Sequential at 0x15875e668>,\n",
       "  'loss': 'sparse_categorical_crossentropy',\n",
       "  'optimizer': <tensorflow.python.keras.optimizer_v2.gradient_descent.SGD at 0x15876c1d0>},\n",
       " {'name': 'Randomized Search: #3 Model',\n",
       "  'model': <tensorflow.python.keras.engine.sequential.Sequential at 0x15876cdd8>,\n",
       "  'loss': 'sparse_categorical_crossentropy',\n",
       "  'optimizer': <tensorflow.python.keras.optimizer_v2.gradient_descent.SGD at 0x15f9244e0>}]"
      ]
     },
     "execution_count": 141,
     "metadata": {},
     "output_type": "execute_result"
    }
   ],
   "source": [
    "best_models_list"
   ]
  },
  {
   "cell_type": "code",
   "execution_count": 143,
   "metadata": {},
   "outputs": [],
   "source": [
    "# test_models(best_models_list, (X_train, y_train, X_test, y_test))"
   ]
  },
  {
   "cell_type": "markdown",
   "metadata": {},
   "source": [
    "## Random Data Generation"
   ]
  },
  {
   "cell_type": "code",
   "execution_count": null,
   "metadata": {},
   "outputs": [],
   "source": [
    "new_data_points = 7500"
   ]
  },
  {
   "cell_type": "code",
   "execution_count": null,
   "metadata": {},
   "outputs": [],
   "source": [
    "new_data = pd.DataFrame()"
   ]
  },
  {
   "cell_type": "code",
   "execution_count": null,
   "metadata": {},
   "outputs": [],
   "source": [
    "%%time\n",
    "\n",
    "total = len(trim_df4)\n",
    "for col in trim_df4.columns.tolist():\n",
    "    if col in code_cols:\n",
    "        counts = trim_df4[col].value_counts()\n",
    "        choices = list(counts.index)\n",
    "        weights = [count/total for count in counts.values]\n",
    "        new_data[col] = np.random.choice(\n",
    "            a=choices, p=weights, size=(new_data_points,)\n",
    "        )\n",
    "    else:\n",
    "        new_data[col] = np.random.normal(\n",
    "            loc=trim_df4[col].mean(), scale=trim_df4[col].std(), size=new_data_points\n",
    "        )"
   ]
  },
  {
   "cell_type": "code",
   "execution_count": null,
   "metadata": {},
   "outputs": [],
   "source": [
    "if show_data:\n",
    "    new_data.head(5)"
   ]
  },
  {
   "cell_type": "code",
   "execution_count": null,
   "metadata": {},
   "outputs": [],
   "source": [
    "new_data.shape"
   ]
  },
  {
   "cell_type": "code",
   "execution_count": null,
   "metadata": {
    "scrolled": true
   },
   "outputs": [],
   "source": [
    "real = trim_df4.describe()\n",
    "fake = new_data.describe()\n",
    "fake"
   ]
  },
  {
   "cell_type": "code",
   "execution_count": null,
   "metadata": {},
   "outputs": [],
   "source": [
    "mean_real = real.iloc[1]\n",
    "mean_fake = fake.iloc[1]\n",
    "std_real = real.iloc[2]\n",
    "std_fake = fake.iloc[2]"
   ]
  },
  {
   "cell_type": "code",
   "execution_count": null,
   "metadata": {},
   "outputs": [],
   "source": [
    "(mean_real - mean_fake).mean()"
   ]
  },
  {
   "cell_type": "code",
   "execution_count": null,
   "metadata": {},
   "outputs": [],
   "source": [
    "(std_real - std_fake).mean()"
   ]
  },
  {
   "cell_type": "code",
   "execution_count": null,
   "metadata": {},
   "outputs": [],
   "source": [
    "new_df = pd.concat([trim_df4, new_data], axis=0).reset_index().drop(columns=['index'])"
   ]
  },
  {
   "cell_type": "code",
   "execution_count": null,
   "metadata": {},
   "outputs": [],
   "source": [
    "if show_data:\n",
    "    new_df.head(5)"
   ]
  },
  {
   "cell_type": "code",
   "execution_count": null,
   "metadata": {},
   "outputs": [],
   "source": [
    "new_df.shape"
   ]
  },
  {
   "cell_type": "code",
   "execution_count": null,
   "metadata": {},
   "outputs": [],
   "source": [
    "codes_df2 = new_df[code_cols]\n",
    "trim_df6 = new_df.drop(columns=code_cols)\n",
    "scaler2 = StandardScaler()\n",
    "scaled_df2 = pd.DataFrame(data=scaler2.fit_transform(trim_df6), columns=trim_df6.columns.tolist())\n",
    "merged_df2 = pd.concat([scaled_df2, codes_df2], axis=1)\n",
    "if show_data:\n",
    "    merged_df2.head()"
   ]
  },
  {
   "cell_type": "code",
   "execution_count": null,
   "metadata": {},
   "outputs": [],
   "source": [
    "train2, test2 = train_test_split(merged_df2, test_size=0.2, random_state=SEED)"
   ]
  },
  {
   "cell_type": "code",
   "execution_count": null,
   "metadata": {},
   "outputs": [],
   "source": [
    "final_data2 = merged_df2.copy()\n",
    "final_train2 = train2.copy()\n",
    "final_test2 = test2.copy()\n",
    "target = 'COVIDResult_Encoded'"
   ]
  },
  {
   "cell_type": "code",
   "execution_count": null,
   "metadata": {},
   "outputs": [],
   "source": [
    "print(final_train2[target].value_counts())\n",
    "print(final_test2[target].value_counts())"
   ]
  },
  {
   "cell_type": "code",
   "execution_count": null,
   "metadata": {},
   "outputs": [],
   "source": [
    "X_train2 = final_train2.loc[:, final_train2.columns != target]\n",
    "y_train2 = final_train2[target]\n",
    "\n",
    "X_test2 = final_test2.loc[:, final_test2.columns != target]\n",
    "y_test2 = final_test2[target]"
   ]
  },
  {
   "cell_type": "code",
   "execution_count": null,
   "metadata": {
    "scrolled": true
   },
   "outputs": [],
   "source": [
    "test_models(model_lst, (X_train2, y_train2, X_test2, y_test2))"
   ]
  }
 ],
 "metadata": {
  "kernelspec": {
   "display_name": "Python 3",
   "language": "python",
   "name": "python3"
  },
  "language_info": {
   "codemirror_mode": {
    "name": "ipython",
    "version": 3
   },
   "file_extension": ".py",
   "mimetype": "text/x-python",
   "name": "python",
   "nbconvert_exporter": "python",
   "pygments_lexer": "ipython3",
   "version": "3.6.4"
  }
 },
 "nbformat": 4,
 "nbformat_minor": 1
}
