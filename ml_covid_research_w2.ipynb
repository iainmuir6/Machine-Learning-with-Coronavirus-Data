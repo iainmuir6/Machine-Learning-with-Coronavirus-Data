{
 "cells": [
  {
   "cell_type": "markdown",
   "metadata": {},
   "source": [
    "# CS 4993 Independent Study – Machine Learning with COVID Data"
   ]
  },
  {
   "cell_type": "markdown",
   "metadata": {},
   "source": [
    "***Professor: [Haiyang Shen](https://engineering.virginia.edu/faculty/haiying-shen)***  \n",
    "***Researcher: [Iain Muir](https://www.linkedin.com/in/iain-muir-b37718164/) | iam9ez***"
   ]
  },
  {
   "cell_type": "markdown",
   "metadata": {},
   "source": [
    "*Github Project:* https://github.com/iainmuir6/machineLearning_covidData  \n",
    "*Last Updated: June 8th, 2021*  "
   ]
  },
  {
   "cell_type": "markdown",
   "metadata": {},
   "source": [
    "*References*\n",
    "* [CS 4774 ML Material – Professor Rich Nguyen](https://www.cs.virginia.edu/~nn4pj/teaching)\n",
    "* [Steps to Building Machine Learning Model](https://analyticsindiamag.com/the-7-key-steps-to-build-your-machine-learning-model/)\n",
    "* [Steps to Data Preprocessing](https://hackernoon.com/what-steps-should-one-take-while-doing-data-preprocessing-502c993e1caa)\n",
    "* [Handling Missing Values](https://towardsdatascience.com/7-ways-to-handle-missing-values-in-machine-learning-1a6326adf79e)\n",
    "* [Feature Selection I](https://towardsdatascience.com/the-5-feature-selection-algorithms-every-data-scientist-need-to-know-3a6b566efd2)\n",
    "* [Feature Selection II](https://machinelearningmastery.com/feature-selection-machine-learning-python/)\n",
    "* [Keras Neural Network I](https://towardsdatascience.com/3-ways-to-create-a-machine-learning-model-with-keras-and-tensorflow-2-0-de09323af4d3)\n",
    "* [GAN I](https://datasciencecampus.ons.gov.uk/projects/generative-adversarial-networks-gans-for-synthetic-dataset-generation-with-binary-classes/)\n",
    "* [GAN II](https://nbviewer.jupyter.org/github/codyznash/GANs_for_Credit_Card_Data/blob/master/GAN_comparisons.ipynb#Generated%20Data%20Testing)"
   ]
  },
  {
   "cell_type": "markdown",
   "metadata": {},
   "source": [
    "## Table of Contents <a class=\"anchor\" id=\"toc\"></a>\n",
    "* **[0. Import Packages](#setup)**\n",
    "    * [0.1 General Imports](#imp1)\n",
    "    * [0.2 ML Imports](#imp2)\n",
    "* **[1. Read Excel File](#data)**\n",
    "    * [1.1 Data Overview](#overview)\n",
    "    * [1.2 Descriptive Statistics](#stats)\n",
    "    * [1.3 Inspect Null Data](#null)\n",
    "* **[2. Data Preparation](#prep)**\n",
    "    * [2.1 Drop Columns](#drop)\n",
    "    * [2.2 Handle Categorical Variables](#handle1)\n",
    "        * *[2.2.1 Manual Conversion](#manual)*\n",
    "        * *[2.2.2 Encoding](#encoding)*\n",
    "        * *[2.2.3 Categorical Codes](#codes)*\n",
    "    * [2.3 Handle Missing Values](#handle2)\n",
    "    * [2.4 Feature Scaling](#scaling)\n",
    "    * [2.5 Train / Test Split](#split)\n",
    "    * [2.6 Final Prepared Data](#final_data)\n",
    "* **[3. Feature Selection](#feature)**\n",
    "    * [3.1 Pearson Correlation](#corr)\n",
    "    * [3.2 Chi-Squared Test](#chi_sq)\n",
    "    * [3.3 Recursive Feature Elimination](#rfe)\n",
    "    * [3.4 SelectFromModel: Lasso](#lasso)\n",
    "    * [3.5 SelectFromModel: Random Forest Classifier](#rfc)\n",
    "    * [3.6 Cumulative Feature Selection](#cum)\n",
    "* **[4. Model Selection](#model)**\n",
    "    * [4.1 Train / Test Data](#tt)\n",
    "    * [4.2 Model Construction](#models)\n",
    "    * [4.3 Model Evaluation Functions](#funcs)\n",
    "    * [4.4 Simultaneous Model Evaluation](#eval)\n",
    "    * [4.5 RandomizedSearch](#search)\n",
    "* **[5. Random Data Generation](#data_gen)**\n",
    "* **[6. Generative Adverserial Networks](#gan)**\n",
    "    * [6.1 Network Setup](#setup2)"
   ]
  },
  {
   "cell_type": "markdown",
   "metadata": {
    "collapsed": true
   },
   "source": [
    "## 0. Import Packages <a class=\"anchor\" id=\"setup\"></a>"
   ]
  },
  {
   "cell_type": "markdown",
   "metadata": {},
   "source": [
    "[Table of Contents](#toc)"
   ]
  },
  {
   "cell_type": "markdown",
   "metadata": {},
   "source": [
    "#### 0.1 General Imports <a class=\"anchor\" id=\"imp1\"></a>"
   ]
  },
  {
   "cell_type": "code",
   "execution_count": 115,
   "metadata": {},
   "outputs": [],
   "source": [
    "from IPython.display import Markdown, display\n",
    "from scipy.stats import reciprocal\n",
    "import matplotlib.pyplot as plt\n",
    "from matplotlib import cm\n",
    "import missingno as msno\n",
    "import seaborn as sns\n",
    "import pandas as pd\n",
    "import numpy as np\n",
    "import random\n",
    "import os"
   ]
  },
  {
   "cell_type": "markdown",
   "metadata": {},
   "source": [
    "#### 0.2 ML Imports <a class=\"anchor\" id=\"imp2\"></a>"
   ]
  },
  {
   "cell_type": "code",
   "execution_count": 116,
   "metadata": {},
   "outputs": [],
   "source": [
    "from sklearn.metrics import confusion_matrix, accuracy_score, precision_score, recall_score, f1_score\n",
    "from sklearn.model_selection import train_test_split, RandomizedSearchCV, RepeatedStratifiedKFold\n",
    "from sklearn.preprocessing import OrdinalEncoder, StandardScaler, MinMaxScaler\n",
    "from sklearn.feature_selection import SelectKBest, chi2, RFE, SelectFromModel\n",
    "from sklearn.linear_model import LogisticRegression\n",
    "from sklearn.ensemble import RandomForestClassifier\n",
    "import sklearn\n",
    "\n",
    "from keras.layers import Dense, LeakyReLU, PReLU, BatchNormalization, Activation, InputLayer\n",
    "from keras.wrappers.scikit_learn import KerasRegressor\n",
    "from keras.callbacks import EarlyStopping\n",
    "from keras.optimizers import Adam, SGD\n",
    "from keras.models import Sequential\n",
    "from tensorflow import keras\n",
    "import tensorflow as tf\n",
    "\n",
    "from GAN import GAN"
   ]
  },
  {
   "cell_type": "code",
   "execution_count": 117,
   "metadata": {},
   "outputs": [
    {
     "data": {
      "text/plain": [
       "'2.3.0'"
      ]
     },
     "execution_count": 117,
     "metadata": {},
     "output_type": "execute_result"
    }
   ],
   "source": [
    "tf.__version__"
   ]
  },
  {
   "cell_type": "code",
   "execution_count": 118,
   "metadata": {},
   "outputs": [
    {
     "data": {
      "text/plain": [
       "'2.4.0'"
      ]
     },
     "execution_count": 118,
     "metadata": {},
     "output_type": "execute_result"
    }
   ],
   "source": [
    "keras.__version__"
   ]
  },
  {
   "cell_type": "code",
   "execution_count": 119,
   "metadata": {},
   "outputs": [
    {
     "data": {
      "text/plain": [
       "'0.21.2'"
      ]
     },
     "execution_count": 119,
     "metadata": {},
     "output_type": "execute_result"
    }
   ],
   "source": [
    "sklearn.__version__"
   ]
  },
  {
   "cell_type": "code",
   "execution_count": 120,
   "metadata": {},
   "outputs": [],
   "source": [
    "SEED = 0"
   ]
  },
  {
   "cell_type": "markdown",
   "metadata": {},
   "source": [
    "## 1. Read Excel File <a class=\"anchor\" id=\"data\"></a>"
   ]
  },
  {
   "cell_type": "markdown",
   "metadata": {},
   "source": [
    "[Table of Contents](#toc)"
   ]
  },
  {
   "cell_type": "markdown",
   "metadata": {},
   "source": [
    "#### 1.1 Data Overview <a class=\"anchor\" id=\"overview\"></a>"
   ]
  },
  {
   "cell_type": "code",
   "execution_count": 121,
   "metadata": {
    "scrolled": true
   },
   "outputs": [
    {
     "data": {
      "text/html": [
       "<div>\n",
       "<style scoped>\n",
       "    .dataframe tbody tr th:only-of-type {\n",
       "        vertical-align: middle;\n",
       "    }\n",
       "\n",
       "    .dataframe tbody tr th {\n",
       "        vertical-align: top;\n",
       "    }\n",
       "\n",
       "    .dataframe thead th {\n",
       "        text-align: right;\n",
       "    }\n",
       "</style>\n",
       "<table border=\"1\" class=\"dataframe\">\n",
       "  <thead>\n",
       "    <tr style=\"text-align: right;\">\n",
       "      <th></th>\n",
       "      <th>index</th>\n",
       "      <th>patno</th>\n",
       "      <th>Admitted</th>\n",
       "      <th>AdmittingDepartment</th>\n",
       "      <th>COVIDResult</th>\n",
       "      <th>Age</th>\n",
       "      <th>FirstRace</th>\n",
       "      <th>Ethnicity</th>\n",
       "      <th>Sex</th>\n",
       "      <th>heart_rate</th>\n",
       "      <th>...</th>\n",
       "      <th>cmp_bicarbonate</th>\n",
       "      <th>cmp_bun</th>\n",
       "      <th>cmp_creatinine</th>\n",
       "      <th>cmp_glucose</th>\n",
       "      <th>cmp_alt</th>\n",
       "      <th>cmp_ast</th>\n",
       "      <th>cmp_alkaline_phosphatase</th>\n",
       "      <th>cmp_total_protein</th>\n",
       "      <th>cmp_albumin</th>\n",
       "      <th>cmp_bilirubin</th>\n",
       "    </tr>\n",
       "  </thead>\n",
       "  <tbody>\n",
       "    <tr>\n",
       "      <th>0</th>\n",
       "      <td>0</td>\n",
       "      <td>1</td>\n",
       "      <td>1</td>\n",
       "      <td>UVHE MICU</td>\n",
       "      <td>None Detected</td>\n",
       "      <td>78</td>\n",
       "      <td>White or Caucasian</td>\n",
       "      <td>Non-Hispanic</td>\n",
       "      <td>Female</td>\n",
       "      <td>94.0</td>\n",
       "      <td>...</td>\n",
       "      <td>26</td>\n",
       "      <td>31</td>\n",
       "      <td>2.5</td>\n",
       "      <td>82.0</td>\n",
       "      <td>14</td>\n",
       "      <td>26.0</td>\n",
       "      <td>80.0</td>\n",
       "      <td>8.5</td>\n",
       "      <td>4.3</td>\n",
       "      <td>0.5</td>\n",
       "    </tr>\n",
       "    <tr>\n",
       "      <th>1</th>\n",
       "      <td>1</td>\n",
       "      <td>2</td>\n",
       "      <td>0</td>\n",
       "      <td>NaN</td>\n",
       "      <td>None Detected</td>\n",
       "      <td>23</td>\n",
       "      <td>White or Caucasian</td>\n",
       "      <td>Non-Hispanic</td>\n",
       "      <td>Female</td>\n",
       "      <td>121.0</td>\n",
       "      <td>...</td>\n",
       "      <td>19</td>\n",
       "      <td>11</td>\n",
       "      <td>0.9</td>\n",
       "      <td>83.0</td>\n",
       "      <td>73</td>\n",
       "      <td>NaN</td>\n",
       "      <td>100.0</td>\n",
       "      <td>8.1</td>\n",
       "      <td>4.6</td>\n",
       "      <td>0.6</td>\n",
       "    </tr>\n",
       "    <tr>\n",
       "      <th>2</th>\n",
       "      <td>2</td>\n",
       "      <td>3</td>\n",
       "      <td>0</td>\n",
       "      <td>NaN</td>\n",
       "      <td>None Detected</td>\n",
       "      <td>55</td>\n",
       "      <td>African American</td>\n",
       "      <td>Non-Hispanic</td>\n",
       "      <td>Male</td>\n",
       "      <td>83.0</td>\n",
       "      <td>...</td>\n",
       "      <td>23</td>\n",
       "      <td>9</td>\n",
       "      <td>1.2</td>\n",
       "      <td>123.0</td>\n",
       "      <td>26</td>\n",
       "      <td>29.0</td>\n",
       "      <td>106.0</td>\n",
       "      <td>7.1</td>\n",
       "      <td>4.0</td>\n",
       "      <td>0.7</td>\n",
       "    </tr>\n",
       "    <tr>\n",
       "      <th>3</th>\n",
       "      <td>3</td>\n",
       "      <td>4</td>\n",
       "      <td>1</td>\n",
       "      <td>UVHE MICU</td>\n",
       "      <td>None Detected</td>\n",
       "      <td>50</td>\n",
       "      <td>White or Caucasian</td>\n",
       "      <td>Non-Hispanic</td>\n",
       "      <td>Male</td>\n",
       "      <td>88.0</td>\n",
       "      <td>...</td>\n",
       "      <td>30</td>\n",
       "      <td>45</td>\n",
       "      <td>1.6</td>\n",
       "      <td>297.0</td>\n",
       "      <td>22</td>\n",
       "      <td>NaN</td>\n",
       "      <td>78.0</td>\n",
       "      <td>7.8</td>\n",
       "      <td>3.7</td>\n",
       "      <td>0.5</td>\n",
       "    </tr>\n",
       "    <tr>\n",
       "      <th>4</th>\n",
       "      <td>4</td>\n",
       "      <td>5</td>\n",
       "      <td>0</td>\n",
       "      <td>NaN</td>\n",
       "      <td>None Detected</td>\n",
       "      <td>67</td>\n",
       "      <td>African American</td>\n",
       "      <td>Non-Hispanic</td>\n",
       "      <td>Female</td>\n",
       "      <td>90.0</td>\n",
       "      <td>...</td>\n",
       "      <td>27</td>\n",
       "      <td>25</td>\n",
       "      <td>1.0</td>\n",
       "      <td>96.0</td>\n",
       "      <td>12</td>\n",
       "      <td>18.0</td>\n",
       "      <td>122.0</td>\n",
       "      <td>7.4</td>\n",
       "      <td>3.5</td>\n",
       "      <td>0.2</td>\n",
       "    </tr>\n",
       "  </tbody>\n",
       "</table>\n",
       "<p>5 rows × 41 columns</p>\n",
       "</div>"
      ],
      "text/plain": [
       "   index  patno  Admitted AdmittingDepartment    COVIDResult  Age  \\\n",
       "0      0      1         1           UVHE MICU  None Detected   78   \n",
       "1      1      2         0                 NaN  None Detected   23   \n",
       "2      2      3         0                 NaN  None Detected   55   \n",
       "3      3      4         1           UVHE MICU  None Detected   50   \n",
       "4      4      5         0                 NaN  None Detected   67   \n",
       "\n",
       "            FirstRace     Ethnicity     Sex  heart_rate  ...  cmp_bicarbonate  \\\n",
       "0  White or Caucasian  Non-Hispanic  Female        94.0  ...               26   \n",
       "1  White or Caucasian  Non-Hispanic  Female       121.0  ...               19   \n",
       "2    African American  Non-Hispanic    Male        83.0  ...               23   \n",
       "3  White or Caucasian  Non-Hispanic    Male        88.0  ...               30   \n",
       "4    African American  Non-Hispanic  Female        90.0  ...               27   \n",
       "\n",
       "   cmp_bun  cmp_creatinine  cmp_glucose  cmp_alt  cmp_ast  \\\n",
       "0       31             2.5         82.0       14     26.0   \n",
       "1       11             0.9         83.0       73      NaN   \n",
       "2        9             1.2        123.0       26     29.0   \n",
       "3       45             1.6        297.0       22      NaN   \n",
       "4       25             1.0         96.0       12     18.0   \n",
       "\n",
       "   cmp_alkaline_phosphatase  cmp_total_protein  cmp_albumin  cmp_bilirubin  \n",
       "0                      80.0                8.5          4.3            0.5  \n",
       "1                     100.0                8.1          4.6            0.6  \n",
       "2                     106.0                7.1          4.0            0.7  \n",
       "3                      78.0                7.8          3.7            0.5  \n",
       "4                     122.0                7.4          3.5            0.2  \n",
       "\n",
       "[5 rows x 41 columns]"
      ]
     },
     "execution_count": 121,
     "metadata": {},
     "output_type": "execute_result"
    }
   ],
   "source": [
    "df = pd.read_excel('ed_pred.xlsx')\n",
    "df = df.reset_index()\n",
    "df.head(5)"
   ]
  },
  {
   "cell_type": "code",
   "execution_count": 122,
   "metadata": {},
   "outputs": [
    {
     "data": {
      "text/plain": [
       "(7380, 41)"
      ]
     },
     "execution_count": 122,
     "metadata": {},
     "output_type": "execute_result"
    }
   ],
   "source": [
    "df.shape"
   ]
  },
  {
   "cell_type": "code",
   "execution_count": 123,
   "metadata": {},
   "outputs": [
    {
     "data": {
      "text/plain": [
       "Index(['index', 'patno', 'Admitted', 'AdmittingDepartment', 'COVIDResult',\n",
       "       'Age', 'FirstRace', 'Ethnicity', 'Sex', 'heart_rate', 'sbp', 'dbp',\n",
       "       'pulse_ox', 'resp_rate', 'height', 'wght', 'cbc_wbc', 'cbc_hematocrit',\n",
       "       'cbc_hemoglobin', 'cbc_platelets', 'cbc_neutrophil_c',\n",
       "       'cbc_eosinophil_perc', 'cbc_lymphocyte_c', 'cbc_lymphocyte_perc',\n",
       "       'cbc_eosinophil_c', 'cbc_eosinophil_perc.1', 'cbc_monocyte_c',\n",
       "       'cbc_eosinophil_perc.2', 'cmp_sodium', 'cmp_potassium', 'cmp_chloride',\n",
       "       'cmp_bicarbonate', 'cmp_bun', 'cmp_creatinine', 'cmp_glucose',\n",
       "       'cmp_alt', 'cmp_ast', 'cmp_alkaline_phosphatase', 'cmp_total_protein',\n",
       "       'cmp_albumin', 'cmp_bilirubin'],\n",
       "      dtype='object')"
      ]
     },
     "execution_count": 123,
     "metadata": {},
     "output_type": "execute_result"
    }
   ],
   "source": [
    "target = 'COVIDResult'\n",
    "df.columns"
   ]
  },
  {
   "cell_type": "markdown",
   "metadata": {},
   "source": [
    "###### Column Description\n",
    "Note (src - [Walk-In-Lab](https://www.walkinlab.com/products/view/complete-blood-count-cbc-comprehensive-metabolic-panel-cmp-14-blood-test-panel#:~:text=A%20CBC%20also%20helps%20your,anemia%2C%20and%20several%20other%20disorders.&text=Comprehensive%20Metabolic%20Panel%20)): \n",
    "\n",
    "CBC == [Complete Blood Count](https://www.mayoclinic.org/tests-procedures/complete-blood-count/about/pac-20384919)\n",
    "* Complete Blood Count (CBC) gives important information about the numbers and kinds of cells in the blood, especially red blood cells, white blood cells, and platelets. A CBC helps your health professional check any symptoms, such as fatigue, weakness, or bruising, that you may have. A CBC also helps your health professional diagnose conditions, such as infection, anemia, and several other disorders.\n",
    "\n",
    "CMP == [Comprehensive Metabolic Panel](https://www.mayocliniclabs.com/test-catalog/Clinical+and+Interpretive/113631)\n",
    "* Comprehensive Metabolic Panel (CMP-14) with eGFR is a group of 14 laboratory tests ordered to give information about the current status of your liver, kidneys, and electrolyte and acid/base balance.  The test gives the current status of your blood sugar and blood proteins also."
   ]
  },
  {
   "cell_type": "markdown",
   "metadata": {},
   "source": [
    "#### 1.2 Descriptive Statistics <a class=\"anchor\" id=\"stats\"></a>"
   ]
  },
  {
   "cell_type": "code",
   "execution_count": 124,
   "metadata": {
    "scrolled": true
   },
   "outputs": [
    {
     "name": "stdout",
     "output_type": "stream",
     "text": [
      "<class 'pandas.core.frame.DataFrame'>\n",
      "RangeIndex: 7380 entries, 0 to 7379\n",
      "Data columns (total 41 columns):\n",
      " #   Column                    Non-Null Count  Dtype  \n",
      "---  ------                    --------------  -----  \n",
      " 0   index                     7380 non-null   int64  \n",
      " 1   patno                     7380 non-null   int64  \n",
      " 2   Admitted                  7380 non-null   int64  \n",
      " 3   AdmittingDepartment       3003 non-null   object \n",
      " 4   COVIDResult               7380 non-null   object \n",
      " 5   Age                       7380 non-null   int64  \n",
      " 6   FirstRace                 7379 non-null   object \n",
      " 7   Ethnicity                 7380 non-null   object \n",
      " 8   Sex                       7380 non-null   object \n",
      " 9   heart_rate                7352 non-null   float64\n",
      " 10  sbp                       7292 non-null   float64\n",
      " 11  dbp                       7292 non-null   float64\n",
      " 12  pulse_ox                  7346 non-null   float64\n",
      " 13  resp_rate                 7312 non-null   float64\n",
      " 14  height                    456 non-null    float64\n",
      " 15  wght                      3248 non-null   float64\n",
      " 16  cbc_wbc                   6256 non-null   float64\n",
      " 17  cbc_hematocrit            6256 non-null   float64\n",
      " 18  cbc_hemoglobin            6257 non-null   float64\n",
      " 19  cbc_platelets             6256 non-null   float64\n",
      " 20  cbc_neutrophil_c          3873 non-null   float64\n",
      " 21  cbc_eosinophil_perc       3872 non-null   float64\n",
      " 22  cbc_lymphocyte_c          3874 non-null   float64\n",
      " 23  cbc_lymphocyte_perc       3874 non-null   float64\n",
      " 24  cbc_eosinophil_c          3872 non-null   float64\n",
      " 25  cbc_eosinophil_perc.1     3872 non-null   float64\n",
      " 26  cbc_monocyte_c            3874 non-null   float64\n",
      " 27  cbc_eosinophil_perc.2     3872 non-null   float64\n",
      " 28  cmp_sodium                6286 non-null   float64\n",
      " 29  cmp_potassium             5570 non-null   float64\n",
      " 30  cmp_chloride              6286 non-null   float64\n",
      " 31  cmp_bicarbonate           6276 non-null   object \n",
      " 32  cmp_bun                   6286 non-null   object \n",
      " 33  cmp_creatinine            6286 non-null   object \n",
      " 34  cmp_glucose               6286 non-null   float64\n",
      " 35  cmp_alt                   5401 non-null   object \n",
      " 36  cmp_ast                   4767 non-null   float64\n",
      " 37  cmp_alkaline_phosphatase  5399 non-null   float64\n",
      " 38  cmp_total_protein         5175 non-null   float64\n",
      " 39  cmp_albumin               5402 non-null   float64\n",
      " 40  cmp_bilirubin             5401 non-null   object \n",
      "dtypes: float64(27), int64(4), object(10)\n",
      "memory usage: 2.3+ MB\n"
     ]
    }
   ],
   "source": [
    "df.info()\n",
    "target = 'COVIDResult'"
   ]
  },
  {
   "cell_type": "code",
   "execution_count": 125,
   "metadata": {
    "scrolled": true
   },
   "outputs": [
    {
     "data": {
      "text/html": [
       "<div>\n",
       "<style scoped>\n",
       "    .dataframe tbody tr th:only-of-type {\n",
       "        vertical-align: middle;\n",
       "    }\n",
       "\n",
       "    .dataframe tbody tr th {\n",
       "        vertical-align: top;\n",
       "    }\n",
       "\n",
       "    .dataframe thead th {\n",
       "        text-align: right;\n",
       "    }\n",
       "</style>\n",
       "<table border=\"1\" class=\"dataframe\">\n",
       "  <thead>\n",
       "    <tr style=\"text-align: right;\">\n",
       "      <th></th>\n",
       "      <th>index</th>\n",
       "      <th>patno</th>\n",
       "      <th>Admitted</th>\n",
       "      <th>Age</th>\n",
       "      <th>heart_rate</th>\n",
       "      <th>sbp</th>\n",
       "      <th>dbp</th>\n",
       "      <th>pulse_ox</th>\n",
       "      <th>resp_rate</th>\n",
       "      <th>height</th>\n",
       "      <th>...</th>\n",
       "      <th>cbc_monocyte_c</th>\n",
       "      <th>cbc_eosinophil_perc.2</th>\n",
       "      <th>cmp_sodium</th>\n",
       "      <th>cmp_potassium</th>\n",
       "      <th>cmp_chloride</th>\n",
       "      <th>cmp_glucose</th>\n",
       "      <th>cmp_ast</th>\n",
       "      <th>cmp_alkaline_phosphatase</th>\n",
       "      <th>cmp_total_protein</th>\n",
       "      <th>cmp_albumin</th>\n",
       "    </tr>\n",
       "  </thead>\n",
       "  <tbody>\n",
       "    <tr>\n",
       "      <th>count</th>\n",
       "      <td>7380.000000</td>\n",
       "      <td>7380.000000</td>\n",
       "      <td>7380.000000</td>\n",
       "      <td>7380.000000</td>\n",
       "      <td>7352.000000</td>\n",
       "      <td>7292.000000</td>\n",
       "      <td>7292.000000</td>\n",
       "      <td>7346.000000</td>\n",
       "      <td>7312.000000</td>\n",
       "      <td>456.000000</td>\n",
       "      <td>...</td>\n",
       "      <td>3874.000000</td>\n",
       "      <td>3872.000000</td>\n",
       "      <td>6286.000000</td>\n",
       "      <td>5570.000000</td>\n",
       "      <td>6286.000000</td>\n",
       "      <td>6286.000000</td>\n",
       "      <td>4767.000000</td>\n",
       "      <td>5399.000000</td>\n",
       "      <td>5175.000000</td>\n",
       "      <td>5402.000000</td>\n",
       "    </tr>\n",
       "    <tr>\n",
       "      <th>mean</th>\n",
       "      <td>3689.500000</td>\n",
       "      <td>3690.500000</td>\n",
       "      <td>0.406911</td>\n",
       "      <td>48.977642</td>\n",
       "      <td>94.529788</td>\n",
       "      <td>135.998354</td>\n",
       "      <td>76.034696</td>\n",
       "      <td>97.064661</td>\n",
       "      <td>21.029130</td>\n",
       "      <td>65.971491</td>\n",
       "      <td>...</td>\n",
       "      <td>0.740428</td>\n",
       "      <td>1.492485</td>\n",
       "      <td>137.104677</td>\n",
       "      <td>4.043447</td>\n",
       "      <td>102.562997</td>\n",
       "      <td>137.406141</td>\n",
       "      <td>55.627858</td>\n",
       "      <td>114.154843</td>\n",
       "      <td>7.210473</td>\n",
       "      <td>3.846113</td>\n",
       "    </tr>\n",
       "    <tr>\n",
       "      <th>std</th>\n",
       "      <td>2130.566826</td>\n",
       "      <td>2130.566826</td>\n",
       "      <td>0.491291</td>\n",
       "      <td>23.525661</td>\n",
       "      <td>23.352438</td>\n",
       "      <td>27.256409</td>\n",
       "      <td>15.302797</td>\n",
       "      <td>3.832935</td>\n",
       "      <td>6.762566</td>\n",
       "      <td>7.635750</td>\n",
       "      <td>...</td>\n",
       "      <td>0.545253</td>\n",
       "      <td>2.276703</td>\n",
       "      <td>4.366669</td>\n",
       "      <td>0.603037</td>\n",
       "      <td>5.600923</td>\n",
       "      <td>92.857337</td>\n",
       "      <td>154.142598</td>\n",
       "      <td>89.983238</td>\n",
       "      <td>0.843891</td>\n",
       "      <td>0.577974</td>\n",
       "    </tr>\n",
       "    <tr>\n",
       "      <th>min</th>\n",
       "      <td>0.000000</td>\n",
       "      <td>1.000000</td>\n",
       "      <td>0.000000</td>\n",
       "      <td>0.000000</td>\n",
       "      <td>0.000000</td>\n",
       "      <td>46.000000</td>\n",
       "      <td>0.000000</td>\n",
       "      <td>25.000000</td>\n",
       "      <td>0.000000</td>\n",
       "      <td>2.000000</td>\n",
       "      <td>...</td>\n",
       "      <td>0.000000</td>\n",
       "      <td>0.000000</td>\n",
       "      <td>107.000000</td>\n",
       "      <td>2.000000</td>\n",
       "      <td>60.000000</td>\n",
       "      <td>22.000000</td>\n",
       "      <td>7.000000</td>\n",
       "      <td>21.000000</td>\n",
       "      <td>2.400000</td>\n",
       "      <td>1.000000</td>\n",
       "    </tr>\n",
       "    <tr>\n",
       "      <th>25%</th>\n",
       "      <td>1844.750000</td>\n",
       "      <td>1845.750000</td>\n",
       "      <td>0.000000</td>\n",
       "      <td>31.000000</td>\n",
       "      <td>78.000000</td>\n",
       "      <td>118.000000</td>\n",
       "      <td>65.000000</td>\n",
       "      <td>96.000000</td>\n",
       "      <td>18.000000</td>\n",
       "      <td>63.000000</td>\n",
       "      <td>...</td>\n",
       "      <td>0.460000</td>\n",
       "      <td>0.100000</td>\n",
       "      <td>135.000000</td>\n",
       "      <td>3.700000</td>\n",
       "      <td>100.000000</td>\n",
       "      <td>94.000000</td>\n",
       "      <td>23.000000</td>\n",
       "      <td>71.000000</td>\n",
       "      <td>6.700000</td>\n",
       "      <td>3.500000</td>\n",
       "    </tr>\n",
       "    <tr>\n",
       "      <th>50%</th>\n",
       "      <td>3689.500000</td>\n",
       "      <td>3690.500000</td>\n",
       "      <td>0.000000</td>\n",
       "      <td>52.000000</td>\n",
       "      <td>92.000000</td>\n",
       "      <td>133.000000</td>\n",
       "      <td>75.000000</td>\n",
       "      <td>98.000000</td>\n",
       "      <td>20.000000</td>\n",
       "      <td>67.000000</td>\n",
       "      <td>...</td>\n",
       "      <td>0.670000</td>\n",
       "      <td>0.800000</td>\n",
       "      <td>138.000000</td>\n",
       "      <td>4.000000</td>\n",
       "      <td>103.000000</td>\n",
       "      <td>109.000000</td>\n",
       "      <td>31.000000</td>\n",
       "      <td>90.000000</td>\n",
       "      <td>7.200000</td>\n",
       "      <td>3.900000</td>\n",
       "    </tr>\n",
       "    <tr>\n",
       "      <th>75%</th>\n",
       "      <td>5534.250000</td>\n",
       "      <td>5535.250000</td>\n",
       "      <td>1.000000</td>\n",
       "      <td>67.000000</td>\n",
       "      <td>107.000000</td>\n",
       "      <td>151.000000</td>\n",
       "      <td>86.000000</td>\n",
       "      <td>99.000000</td>\n",
       "      <td>22.000000</td>\n",
       "      <td>70.000000</td>\n",
       "      <td>...</td>\n",
       "      <td>0.940000</td>\n",
       "      <td>2.000000</td>\n",
       "      <td>140.000000</td>\n",
       "      <td>4.300000</td>\n",
       "      <td>106.000000</td>\n",
       "      <td>140.000000</td>\n",
       "      <td>46.000000</td>\n",
       "      <td>123.000000</td>\n",
       "      <td>7.700000</td>\n",
       "      <td>4.200000</td>\n",
       "    </tr>\n",
       "    <tr>\n",
       "      <th>max</th>\n",
       "      <td>7379.000000</td>\n",
       "      <td>7380.000000</td>\n",
       "      <td>1.000000</td>\n",
       "      <td>119.000000</td>\n",
       "      <td>235.000000</td>\n",
       "      <td>258.000000</td>\n",
       "      <td>147.000000</td>\n",
       "      <td>100.000000</td>\n",
       "      <td>111.000000</td>\n",
       "      <td>77.000000</td>\n",
       "      <td>...</td>\n",
       "      <td>17.790000</td>\n",
       "      <td>41.100000</td>\n",
       "      <td>182.000000</td>\n",
       "      <td>8.900000</td>\n",
       "      <td>143.000000</td>\n",
       "      <td>1576.000000</td>\n",
       "      <td>6479.000000</td>\n",
       "      <td>1126.000000</td>\n",
       "      <td>11.300000</td>\n",
       "      <td>6.300000</td>\n",
       "    </tr>\n",
       "  </tbody>\n",
       "</table>\n",
       "<p>8 rows × 31 columns</p>\n",
       "</div>"
      ],
      "text/plain": [
       "             index        patno     Admitted          Age   heart_rate  \\\n",
       "count  7380.000000  7380.000000  7380.000000  7380.000000  7352.000000   \n",
       "mean   3689.500000  3690.500000     0.406911    48.977642    94.529788   \n",
       "std    2130.566826  2130.566826     0.491291    23.525661    23.352438   \n",
       "min       0.000000     1.000000     0.000000     0.000000     0.000000   \n",
       "25%    1844.750000  1845.750000     0.000000    31.000000    78.000000   \n",
       "50%    3689.500000  3690.500000     0.000000    52.000000    92.000000   \n",
       "75%    5534.250000  5535.250000     1.000000    67.000000   107.000000   \n",
       "max    7379.000000  7380.000000     1.000000   119.000000   235.000000   \n",
       "\n",
       "               sbp          dbp     pulse_ox    resp_rate      height  ...  \\\n",
       "count  7292.000000  7292.000000  7346.000000  7312.000000  456.000000  ...   \n",
       "mean    135.998354    76.034696    97.064661    21.029130   65.971491  ...   \n",
       "std      27.256409    15.302797     3.832935     6.762566    7.635750  ...   \n",
       "min      46.000000     0.000000    25.000000     0.000000    2.000000  ...   \n",
       "25%     118.000000    65.000000    96.000000    18.000000   63.000000  ...   \n",
       "50%     133.000000    75.000000    98.000000    20.000000   67.000000  ...   \n",
       "75%     151.000000    86.000000    99.000000    22.000000   70.000000  ...   \n",
       "max     258.000000   147.000000   100.000000   111.000000   77.000000  ...   \n",
       "\n",
       "       cbc_monocyte_c  cbc_eosinophil_perc.2   cmp_sodium  cmp_potassium  \\\n",
       "count     3874.000000            3872.000000  6286.000000    5570.000000   \n",
       "mean         0.740428               1.492485   137.104677       4.043447   \n",
       "std          0.545253               2.276703     4.366669       0.603037   \n",
       "min          0.000000               0.000000   107.000000       2.000000   \n",
       "25%          0.460000               0.100000   135.000000       3.700000   \n",
       "50%          0.670000               0.800000   138.000000       4.000000   \n",
       "75%          0.940000               2.000000   140.000000       4.300000   \n",
       "max         17.790000              41.100000   182.000000       8.900000   \n",
       "\n",
       "       cmp_chloride  cmp_glucose      cmp_ast  cmp_alkaline_phosphatase  \\\n",
       "count   6286.000000  6286.000000  4767.000000               5399.000000   \n",
       "mean     102.562997   137.406141    55.627858                114.154843   \n",
       "std        5.600923    92.857337   154.142598                 89.983238   \n",
       "min       60.000000    22.000000     7.000000                 21.000000   \n",
       "25%      100.000000    94.000000    23.000000                 71.000000   \n",
       "50%      103.000000   109.000000    31.000000                 90.000000   \n",
       "75%      106.000000   140.000000    46.000000                123.000000   \n",
       "max      143.000000  1576.000000  6479.000000               1126.000000   \n",
       "\n",
       "       cmp_total_protein  cmp_albumin  \n",
       "count        5175.000000  5402.000000  \n",
       "mean            7.210473     3.846113  \n",
       "std             0.843891     0.577974  \n",
       "min             2.400000     1.000000  \n",
       "25%             6.700000     3.500000  \n",
       "50%             7.200000     3.900000  \n",
       "75%             7.700000     4.200000  \n",
       "max            11.300000     6.300000  \n",
       "\n",
       "[8 rows x 31 columns]"
      ]
     },
     "execution_count": 125,
     "metadata": {},
     "output_type": "execute_result"
    }
   ],
   "source": [
    "df.describe()"
   ]
  },
  {
   "cell_type": "code",
   "execution_count": 126,
   "metadata": {
    "scrolled": true
   },
   "outputs": [
    {
     "data": {
      "text/html": [
       "<div>\n",
       "<style scoped>\n",
       "    .dataframe tbody tr th:only-of-type {\n",
       "        vertical-align: middle;\n",
       "    }\n",
       "\n",
       "    .dataframe tbody tr th {\n",
       "        vertical-align: top;\n",
       "    }\n",
       "\n",
       "    .dataframe thead th {\n",
       "        text-align: right;\n",
       "    }\n",
       "</style>\n",
       "<table border=\"1\" class=\"dataframe\">\n",
       "  <thead>\n",
       "    <tr style=\"text-align: right;\">\n",
       "      <th></th>\n",
       "      <th>index</th>\n",
       "      <th>patno</th>\n",
       "      <th>Admitted</th>\n",
       "      <th>Age</th>\n",
       "      <th>heart_rate</th>\n",
       "      <th>sbp</th>\n",
       "      <th>dbp</th>\n",
       "      <th>pulse_ox</th>\n",
       "      <th>resp_rate</th>\n",
       "      <th>height</th>\n",
       "      <th>...</th>\n",
       "      <th>cbc_monocyte_c</th>\n",
       "      <th>cbc_eosinophil_perc.2</th>\n",
       "      <th>cmp_sodium</th>\n",
       "      <th>cmp_potassium</th>\n",
       "      <th>cmp_chloride</th>\n",
       "      <th>cmp_glucose</th>\n",
       "      <th>cmp_ast</th>\n",
       "      <th>cmp_alkaline_phosphatase</th>\n",
       "      <th>cmp_total_protein</th>\n",
       "      <th>cmp_albumin</th>\n",
       "    </tr>\n",
       "  </thead>\n",
       "  <tbody>\n",
       "    <tr>\n",
       "      <th>index</th>\n",
       "      <td>1.000000</td>\n",
       "      <td>1.000000</td>\n",
       "      <td>-0.030377</td>\n",
       "      <td>-0.071132</td>\n",
       "      <td>-0.014543</td>\n",
       "      <td>-0.013479</td>\n",
       "      <td>-0.002088</td>\n",
       "      <td>0.066634</td>\n",
       "      <td>-0.031710</td>\n",
       "      <td>-0.017314</td>\n",
       "      <td>...</td>\n",
       "      <td>0.006011</td>\n",
       "      <td>0.000322</td>\n",
       "      <td>0.039232</td>\n",
       "      <td>-0.005859</td>\n",
       "      <td>0.026758</td>\n",
       "      <td>-0.010492</td>\n",
       "      <td>-0.036648</td>\n",
       "      <td>-0.011070</td>\n",
       "      <td>0.016393</td>\n",
       "      <td>0.045855</td>\n",
       "    </tr>\n",
       "    <tr>\n",
       "      <th>patno</th>\n",
       "      <td>1.000000</td>\n",
       "      <td>1.000000</td>\n",
       "      <td>-0.030377</td>\n",
       "      <td>-0.071132</td>\n",
       "      <td>-0.014543</td>\n",
       "      <td>-0.013479</td>\n",
       "      <td>-0.002088</td>\n",
       "      <td>0.066634</td>\n",
       "      <td>-0.031710</td>\n",
       "      <td>-0.017314</td>\n",
       "      <td>...</td>\n",
       "      <td>0.006011</td>\n",
       "      <td>0.000322</td>\n",
       "      <td>0.039232</td>\n",
       "      <td>-0.005859</td>\n",
       "      <td>0.026758</td>\n",
       "      <td>-0.010492</td>\n",
       "      <td>-0.036648</td>\n",
       "      <td>-0.011070</td>\n",
       "      <td>0.016393</td>\n",
       "      <td>0.045855</td>\n",
       "    </tr>\n",
       "    <tr>\n",
       "      <th>Admitted</th>\n",
       "      <td>-0.030377</td>\n",
       "      <td>-0.030377</td>\n",
       "      <td>1.000000</td>\n",
       "      <td>0.259000</td>\n",
       "      <td>0.071533</td>\n",
       "      <td>-0.034520</td>\n",
       "      <td>-0.083964</td>\n",
       "      <td>-0.187805</td>\n",
       "      <td>0.141345</td>\n",
       "      <td>0.006556</td>\n",
       "      <td>...</td>\n",
       "      <td>0.090950</td>\n",
       "      <td>-0.122416</td>\n",
       "      <td>-0.139857</td>\n",
       "      <td>0.123330</td>\n",
       "      <td>-0.145144</td>\n",
       "      <td>0.125331</td>\n",
       "      <td>0.098732</td>\n",
       "      <td>0.117501</td>\n",
       "      <td>-0.169298</td>\n",
       "      <td>-0.301735</td>\n",
       "    </tr>\n",
       "    <tr>\n",
       "      <th>Age</th>\n",
       "      <td>-0.071132</td>\n",
       "      <td>-0.071132</td>\n",
       "      <td>0.259000</td>\n",
       "      <td>1.000000</td>\n",
       "      <td>-0.343054</td>\n",
       "      <td>0.255632</td>\n",
       "      <td>0.021500</td>\n",
       "      <td>-0.233759</td>\n",
       "      <td>-0.128765</td>\n",
       "      <td>0.237857</td>\n",
       "      <td>...</td>\n",
       "      <td>-0.068070</td>\n",
       "      <td>-0.003148</td>\n",
       "      <td>-0.077553</td>\n",
       "      <td>0.129890</td>\n",
       "      <td>-0.137116</td>\n",
       "      <td>0.097948</td>\n",
       "      <td>-0.014016</td>\n",
       "      <td>-0.091849</td>\n",
       "      <td>-0.147716</td>\n",
       "      <td>-0.312481</td>\n",
       "    </tr>\n",
       "    <tr>\n",
       "      <th>heart_rate</th>\n",
       "      <td>-0.014543</td>\n",
       "      <td>-0.014543</td>\n",
       "      <td>0.071533</td>\n",
       "      <td>-0.343054</td>\n",
       "      <td>1.000000</td>\n",
       "      <td>-0.128325</td>\n",
       "      <td>0.032385</td>\n",
       "      <td>-0.018398</td>\n",
       "      <td>0.397967</td>\n",
       "      <td>-0.277916</td>\n",
       "      <td>...</td>\n",
       "      <td>0.100502</td>\n",
       "      <td>-0.102094</td>\n",
       "      <td>-0.062122</td>\n",
       "      <td>-0.048065</td>\n",
       "      <td>-0.073826</td>\n",
       "      <td>0.074114</td>\n",
       "      <td>0.025044</td>\n",
       "      <td>0.123586</td>\n",
       "      <td>0.046071</td>\n",
       "      <td>0.021046</td>\n",
       "    </tr>\n",
       "    <tr>\n",
       "      <th>sbp</th>\n",
       "      <td>-0.013479</td>\n",
       "      <td>-0.013479</td>\n",
       "      <td>-0.034520</td>\n",
       "      <td>0.255632</td>\n",
       "      <td>-0.128325</td>\n",
       "      <td>1.000000</td>\n",
       "      <td>0.700990</td>\n",
       "      <td>0.012399</td>\n",
       "      <td>-0.054224</td>\n",
       "      <td>0.129512</td>\n",
       "      <td>...</td>\n",
       "      <td>-0.037211</td>\n",
       "      <td>0.056011</td>\n",
       "      <td>0.089829</td>\n",
       "      <td>-0.016583</td>\n",
       "      <td>0.003022</td>\n",
       "      <td>0.052785</td>\n",
       "      <td>-0.058817</td>\n",
       "      <td>-0.102502</td>\n",
       "      <td>0.195652</td>\n",
       "      <td>0.193473</td>\n",
       "    </tr>\n",
       "    <tr>\n",
       "      <th>dbp</th>\n",
       "      <td>-0.002088</td>\n",
       "      <td>-0.002088</td>\n",
       "      <td>-0.083964</td>\n",
       "      <td>0.021500</td>\n",
       "      <td>0.032385</td>\n",
       "      <td>0.700990</td>\n",
       "      <td>1.000000</td>\n",
       "      <td>0.044760</td>\n",
       "      <td>-0.038692</td>\n",
       "      <td>0.178501</td>\n",
       "      <td>...</td>\n",
       "      <td>-0.019228</td>\n",
       "      <td>0.026571</td>\n",
       "      <td>0.119920</td>\n",
       "      <td>-0.055991</td>\n",
       "      <td>0.036059</td>\n",
       "      <td>0.017755</td>\n",
       "      <td>-0.010922</td>\n",
       "      <td>-0.091883</td>\n",
       "      <td>0.268447</td>\n",
       "      <td>0.288271</td>\n",
       "    </tr>\n",
       "    <tr>\n",
       "      <th>pulse_ox</th>\n",
       "      <td>0.066634</td>\n",
       "      <td>0.066634</td>\n",
       "      <td>-0.187805</td>\n",
       "      <td>-0.233759</td>\n",
       "      <td>-0.018398</td>\n",
       "      <td>0.012399</td>\n",
       "      <td>0.044760</td>\n",
       "      <td>1.000000</td>\n",
       "      <td>-0.203094</td>\n",
       "      <td>0.003070</td>\n",
       "      <td>...</td>\n",
       "      <td>-0.002565</td>\n",
       "      <td>0.017027</td>\n",
       "      <td>0.012110</td>\n",
       "      <td>-0.118440</td>\n",
       "      <td>0.099202</td>\n",
       "      <td>-0.105208</td>\n",
       "      <td>-0.052456</td>\n",
       "      <td>-0.005379</td>\n",
       "      <td>0.037321</td>\n",
       "      <td>0.123265</td>\n",
       "    </tr>\n",
       "    <tr>\n",
       "      <th>resp_rate</th>\n",
       "      <td>-0.031710</td>\n",
       "      <td>-0.031710</td>\n",
       "      <td>0.141345</td>\n",
       "      <td>-0.128765</td>\n",
       "      <td>0.397967</td>\n",
       "      <td>-0.054224</td>\n",
       "      <td>-0.038692</td>\n",
       "      <td>-0.203094</td>\n",
       "      <td>1.000000</td>\n",
       "      <td>-0.339655</td>\n",
       "      <td>...</td>\n",
       "      <td>0.078115</td>\n",
       "      <td>-0.037053</td>\n",
       "      <td>-0.013692</td>\n",
       "      <td>0.118477</td>\n",
       "      <td>-0.008239</td>\n",
       "      <td>0.076232</td>\n",
       "      <td>0.037055</td>\n",
       "      <td>0.099776</td>\n",
       "      <td>-0.078270</td>\n",
       "      <td>-0.083926</td>\n",
       "    </tr>\n",
       "    <tr>\n",
       "      <th>height</th>\n",
       "      <td>-0.017314</td>\n",
       "      <td>-0.017314</td>\n",
       "      <td>0.006556</td>\n",
       "      <td>0.237857</td>\n",
       "      <td>-0.277916</td>\n",
       "      <td>0.129512</td>\n",
       "      <td>0.178501</td>\n",
       "      <td>0.003070</td>\n",
       "      <td>-0.339655</td>\n",
       "      <td>1.000000</td>\n",
       "      <td>...</td>\n",
       "      <td>-0.033168</td>\n",
       "      <td>-0.156211</td>\n",
       "      <td>0.055314</td>\n",
       "      <td>-0.173582</td>\n",
       "      <td>0.030194</td>\n",
       "      <td>0.057657</td>\n",
       "      <td>0.005574</td>\n",
       "      <td>-0.187236</td>\n",
       "      <td>0.127008</td>\n",
       "      <td>0.030490</td>\n",
       "    </tr>\n",
       "    <tr>\n",
       "      <th>wght</th>\n",
       "      <td>-0.057584</td>\n",
       "      <td>-0.057584</td>\n",
       "      <td>0.138873</td>\n",
       "      <td>0.432725</td>\n",
       "      <td>-0.375283</td>\n",
       "      <td>0.256390</td>\n",
       "      <td>0.191655</td>\n",
       "      <td>-0.130171</td>\n",
       "      <td>-0.299886</td>\n",
       "      <td>0.506950</td>\n",
       "      <td>...</td>\n",
       "      <td>-0.046526</td>\n",
       "      <td>0.035913</td>\n",
       "      <td>0.031168</td>\n",
       "      <td>-0.001168</td>\n",
       "      <td>-0.009780</td>\n",
       "      <td>0.117112</td>\n",
       "      <td>0.013699</td>\n",
       "      <td>-0.201825</td>\n",
       "      <td>0.089641</td>\n",
       "      <td>-0.087129</td>\n",
       "    </tr>\n",
       "    <tr>\n",
       "      <th>cbc_wbc</th>\n",
       "      <td>-0.005411</td>\n",
       "      <td>-0.005411</td>\n",
       "      <td>0.140818</td>\n",
       "      <td>-0.035561</td>\n",
       "      <td>0.127127</td>\n",
       "      <td>-0.044712</td>\n",
       "      <td>-0.035427</td>\n",
       "      <td>-0.053765</td>\n",
       "      <td>0.107466</td>\n",
       "      <td>-0.006946</td>\n",
       "      <td>...</td>\n",
       "      <td>0.509534</td>\n",
       "      <td>-0.116462</td>\n",
       "      <td>-0.031298</td>\n",
       "      <td>0.052575</td>\n",
       "      <td>-0.036382</td>\n",
       "      <td>0.079747</td>\n",
       "      <td>0.038337</td>\n",
       "      <td>0.038098</td>\n",
       "      <td>0.011260</td>\n",
       "      <td>-0.020093</td>\n",
       "    </tr>\n",
       "    <tr>\n",
       "      <th>cbc_hematocrit</th>\n",
       "      <td>0.022097</td>\n",
       "      <td>0.022097</td>\n",
       "      <td>-0.201153</td>\n",
       "      <td>-0.134952</td>\n",
       "      <td>0.003627</td>\n",
       "      <td>0.123147</td>\n",
       "      <td>0.271443</td>\n",
       "      <td>-0.049715</td>\n",
       "      <td>-0.037861</td>\n",
       "      <td>0.100637</td>\n",
       "      <td>...</td>\n",
       "      <td>0.021607</td>\n",
       "      <td>-0.009774</td>\n",
       "      <td>0.208495</td>\n",
       "      <td>-0.039061</td>\n",
       "      <td>0.058504</td>\n",
       "      <td>0.008516</td>\n",
       "      <td>0.018966</td>\n",
       "      <td>-0.155929</td>\n",
       "      <td>0.403966</td>\n",
       "      <td>0.522731</td>\n",
       "    </tr>\n",
       "    <tr>\n",
       "      <th>cbc_hemoglobin</th>\n",
       "      <td>0.026712</td>\n",
       "      <td>0.026712</td>\n",
       "      <td>-0.218690</td>\n",
       "      <td>-0.179703</td>\n",
       "      <td>0.011397</td>\n",
       "      <td>0.118943</td>\n",
       "      <td>0.280105</td>\n",
       "      <td>-0.006979</td>\n",
       "      <td>-0.052274</td>\n",
       "      <td>0.092058</td>\n",
       "      <td>...</td>\n",
       "      <td>0.024400</td>\n",
       "      <td>-0.023797</td>\n",
       "      <td>0.152671</td>\n",
       "      <td>-0.086993</td>\n",
       "      <td>0.032291</td>\n",
       "      <td>-0.009205</td>\n",
       "      <td>0.014291</td>\n",
       "      <td>-0.158250</td>\n",
       "      <td>0.389195</td>\n",
       "      <td>0.545362</td>\n",
       "    </tr>\n",
       "    <tr>\n",
       "      <th>cbc_platelets</th>\n",
       "      <td>0.034431</td>\n",
       "      <td>0.034431</td>\n",
       "      <td>-0.048104</td>\n",
       "      <td>-0.186491</td>\n",
       "      <td>0.156655</td>\n",
       "      <td>-0.004040</td>\n",
       "      <td>0.034225</td>\n",
       "      <td>0.040013</td>\n",
       "      <td>0.078875</td>\n",
       "      <td>-0.241994</td>\n",
       "      <td>...</td>\n",
       "      <td>0.189150</td>\n",
       "      <td>0.015036</td>\n",
       "      <td>0.000126</td>\n",
       "      <td>0.012827</td>\n",
       "      <td>-0.035093</td>\n",
       "      <td>0.032876</td>\n",
       "      <td>-0.072822</td>\n",
       "      <td>0.036632</td>\n",
       "      <td>0.224736</td>\n",
       "      <td>0.124224</td>\n",
       "    </tr>\n",
       "    <tr>\n",
       "      <th>cbc_neutrophil_c</th>\n",
       "      <td>0.015320</td>\n",
       "      <td>0.015320</td>\n",
       "      <td>0.207518</td>\n",
       "      <td>0.000455</td>\n",
       "      <td>0.144446</td>\n",
       "      <td>-0.054473</td>\n",
       "      <td>-0.051273</td>\n",
       "      <td>-0.068710</td>\n",
       "      <td>0.101723</td>\n",
       "      <td>0.073823</td>\n",
       "      <td>...</td>\n",
       "      <td>0.442835</td>\n",
       "      <td>-0.231476</td>\n",
       "      <td>-0.055907</td>\n",
       "      <td>0.059657</td>\n",
       "      <td>-0.061286</td>\n",
       "      <td>0.117837</td>\n",
       "      <td>0.030051</td>\n",
       "      <td>0.028203</td>\n",
       "      <td>0.008387</td>\n",
       "      <td>-0.044713</td>\n",
       "    </tr>\n",
       "    <tr>\n",
       "      <th>cbc_eosinophil_perc</th>\n",
       "      <td>0.000322</td>\n",
       "      <td>0.000322</td>\n",
       "      <td>-0.122416</td>\n",
       "      <td>-0.003148</td>\n",
       "      <td>-0.102094</td>\n",
       "      <td>0.056011</td>\n",
       "      <td>0.026571</td>\n",
       "      <td>0.017027</td>\n",
       "      <td>-0.037053</td>\n",
       "      <td>-0.156211</td>\n",
       "      <td>...</td>\n",
       "      <td>-0.059593</td>\n",
       "      <td>1.000000</td>\n",
       "      <td>0.083970</td>\n",
       "      <td>0.014421</td>\n",
       "      <td>0.067240</td>\n",
       "      <td>-0.064207</td>\n",
       "      <td>-0.044503</td>\n",
       "      <td>0.030661</td>\n",
       "      <td>0.009270</td>\n",
       "      <td>-0.021485</td>\n",
       "    </tr>\n",
       "    <tr>\n",
       "      <th>cbc_lymphocyte_c</th>\n",
       "      <td>-0.019357</td>\n",
       "      <td>-0.019357</td>\n",
       "      <td>-0.094380</td>\n",
       "      <td>-0.141078</td>\n",
       "      <td>0.050274</td>\n",
       "      <td>0.009810</td>\n",
       "      <td>0.048564</td>\n",
       "      <td>0.007033</td>\n",
       "      <td>0.099687</td>\n",
       "      <td>-0.328064</td>\n",
       "      <td>...</td>\n",
       "      <td>0.155681</td>\n",
       "      <td>0.082187</td>\n",
       "      <td>0.106285</td>\n",
       "      <td>0.018151</td>\n",
       "      <td>0.097709</td>\n",
       "      <td>-0.035040</td>\n",
       "      <td>-0.017489</td>\n",
       "      <td>0.002187</td>\n",
       "      <td>0.028924</td>\n",
       "      <td>0.132946</td>\n",
       "    </tr>\n",
       "    <tr>\n",
       "      <th>cbc_lymphocyte_perc</th>\n",
       "      <td>-0.009835</td>\n",
       "      <td>-0.009835</td>\n",
       "      <td>-0.234463</td>\n",
       "      <td>-0.197247</td>\n",
       "      <td>-0.030777</td>\n",
       "      <td>-0.001484</td>\n",
       "      <td>0.058332</td>\n",
       "      <td>0.094088</td>\n",
       "      <td>0.013950</td>\n",
       "      <td>-0.297477</td>\n",
       "      <td>...</td>\n",
       "      <td>-0.163475</td>\n",
       "      <td>0.236394</td>\n",
       "      <td>0.146085</td>\n",
       "      <td>-0.073324</td>\n",
       "      <td>0.170409</td>\n",
       "      <td>-0.129518</td>\n",
       "      <td>-0.021960</td>\n",
       "      <td>-0.004045</td>\n",
       "      <td>0.024257</td>\n",
       "      <td>0.147584</td>\n",
       "    </tr>\n",
       "    <tr>\n",
       "      <th>cbc_eosinophil_c</th>\n",
       "      <td>-0.010186</td>\n",
       "      <td>-0.010186</td>\n",
       "      <td>-0.056693</td>\n",
       "      <td>-0.028611</td>\n",
       "      <td>-0.031720</td>\n",
       "      <td>0.032620</td>\n",
       "      <td>0.020709</td>\n",
       "      <td>-0.011299</td>\n",
       "      <td>0.016372</td>\n",
       "      <td>-0.172728</td>\n",
       "      <td>...</td>\n",
       "      <td>0.186129</td>\n",
       "      <td>0.702266</td>\n",
       "      <td>0.057141</td>\n",
       "      <td>0.025359</td>\n",
       "      <td>0.051368</td>\n",
       "      <td>-0.030097</td>\n",
       "      <td>-0.037181</td>\n",
       "      <td>0.023790</td>\n",
       "      <td>0.024046</td>\n",
       "      <td>0.002132</td>\n",
       "    </tr>\n",
       "    <tr>\n",
       "      <th>cbc_eosinophil_perc.1</th>\n",
       "      <td>0.000322</td>\n",
       "      <td>0.000322</td>\n",
       "      <td>-0.122416</td>\n",
       "      <td>-0.003148</td>\n",
       "      <td>-0.102094</td>\n",
       "      <td>0.056011</td>\n",
       "      <td>0.026571</td>\n",
       "      <td>0.017027</td>\n",
       "      <td>-0.037053</td>\n",
       "      <td>-0.156211</td>\n",
       "      <td>...</td>\n",
       "      <td>-0.059593</td>\n",
       "      <td>1.000000</td>\n",
       "      <td>0.083970</td>\n",
       "      <td>0.014421</td>\n",
       "      <td>0.067240</td>\n",
       "      <td>-0.064207</td>\n",
       "      <td>-0.044503</td>\n",
       "      <td>0.030661</td>\n",
       "      <td>0.009270</td>\n",
       "      <td>-0.021485</td>\n",
       "    </tr>\n",
       "    <tr>\n",
       "      <th>cbc_monocyte_c</th>\n",
       "      <td>0.006011</td>\n",
       "      <td>0.006011</td>\n",
       "      <td>0.090950</td>\n",
       "      <td>-0.068070</td>\n",
       "      <td>0.100502</td>\n",
       "      <td>-0.037211</td>\n",
       "      <td>-0.019228</td>\n",
       "      <td>-0.002565</td>\n",
       "      <td>0.078115</td>\n",
       "      <td>-0.033168</td>\n",
       "      <td>...</td>\n",
       "      <td>1.000000</td>\n",
       "      <td>-0.059593</td>\n",
       "      <td>-0.022803</td>\n",
       "      <td>0.006029</td>\n",
       "      <td>-0.042564</td>\n",
       "      <td>-0.007272</td>\n",
       "      <td>0.011405</td>\n",
       "      <td>0.009640</td>\n",
       "      <td>0.045531</td>\n",
       "      <td>-0.001810</td>\n",
       "    </tr>\n",
       "    <tr>\n",
       "      <th>cbc_eosinophil_perc.2</th>\n",
       "      <td>0.000322</td>\n",
       "      <td>0.000322</td>\n",
       "      <td>-0.122416</td>\n",
       "      <td>-0.003148</td>\n",
       "      <td>-0.102094</td>\n",
       "      <td>0.056011</td>\n",
       "      <td>0.026571</td>\n",
       "      <td>0.017027</td>\n",
       "      <td>-0.037053</td>\n",
       "      <td>-0.156211</td>\n",
       "      <td>...</td>\n",
       "      <td>-0.059593</td>\n",
       "      <td>1.000000</td>\n",
       "      <td>0.083970</td>\n",
       "      <td>0.014421</td>\n",
       "      <td>0.067240</td>\n",
       "      <td>-0.064207</td>\n",
       "      <td>-0.044503</td>\n",
       "      <td>0.030661</td>\n",
       "      <td>0.009270</td>\n",
       "      <td>-0.021485</td>\n",
       "    </tr>\n",
       "    <tr>\n",
       "      <th>cmp_sodium</th>\n",
       "      <td>0.039232</td>\n",
       "      <td>0.039232</td>\n",
       "      <td>-0.139857</td>\n",
       "      <td>-0.077553</td>\n",
       "      <td>-0.062122</td>\n",
       "      <td>0.089829</td>\n",
       "      <td>0.119920</td>\n",
       "      <td>0.012110</td>\n",
       "      <td>-0.013692</td>\n",
       "      <td>0.055314</td>\n",
       "      <td>...</td>\n",
       "      <td>-0.022803</td>\n",
       "      <td>0.083970</td>\n",
       "      <td>1.000000</td>\n",
       "      <td>-0.134295</td>\n",
       "      <td>0.721939</td>\n",
       "      <td>-0.235284</td>\n",
       "      <td>-0.002077</td>\n",
       "      <td>-0.139260</td>\n",
       "      <td>0.040876</td>\n",
       "      <td>0.207628</td>\n",
       "    </tr>\n",
       "    <tr>\n",
       "      <th>cmp_potassium</th>\n",
       "      <td>-0.005859</td>\n",
       "      <td>-0.005859</td>\n",
       "      <td>0.123330</td>\n",
       "      <td>0.129890</td>\n",
       "      <td>-0.048065</td>\n",
       "      <td>-0.016583</td>\n",
       "      <td>-0.055991</td>\n",
       "      <td>-0.118440</td>\n",
       "      <td>0.118477</td>\n",
       "      <td>-0.173582</td>\n",
       "      <td>...</td>\n",
       "      <td>0.006029</td>\n",
       "      <td>0.014421</td>\n",
       "      <td>-0.134295</td>\n",
       "      <td>1.000000</td>\n",
       "      <td>-0.034364</td>\n",
       "      <td>0.189133</td>\n",
       "      <td>0.052079</td>\n",
       "      <td>0.104493</td>\n",
       "      <td>0.000182</td>\n",
       "      <td>-0.057138</td>\n",
       "    </tr>\n",
       "    <tr>\n",
       "      <th>cmp_chloride</th>\n",
       "      <td>0.026758</td>\n",
       "      <td>0.026758</td>\n",
       "      <td>-0.145144</td>\n",
       "      <td>-0.137116</td>\n",
       "      <td>-0.073826</td>\n",
       "      <td>0.003022</td>\n",
       "      <td>0.036059</td>\n",
       "      <td>0.099202</td>\n",
       "      <td>-0.008239</td>\n",
       "      <td>0.030194</td>\n",
       "      <td>...</td>\n",
       "      <td>-0.042564</td>\n",
       "      <td>0.067240</td>\n",
       "      <td>0.721939</td>\n",
       "      <td>-0.034364</td>\n",
       "      <td>1.000000</td>\n",
       "      <td>-0.258474</td>\n",
       "      <td>-0.014191</td>\n",
       "      <td>-0.127214</td>\n",
       "      <td>-0.148060</td>\n",
       "      <td>0.066461</td>\n",
       "    </tr>\n",
       "    <tr>\n",
       "      <th>cmp_glucose</th>\n",
       "      <td>-0.010492</td>\n",
       "      <td>-0.010492</td>\n",
       "      <td>0.125331</td>\n",
       "      <td>0.097948</td>\n",
       "      <td>0.074114</td>\n",
       "      <td>0.052785</td>\n",
       "      <td>0.017755</td>\n",
       "      <td>-0.105208</td>\n",
       "      <td>0.076232</td>\n",
       "      <td>0.057657</td>\n",
       "      <td>...</td>\n",
       "      <td>-0.007272</td>\n",
       "      <td>-0.064207</td>\n",
       "      <td>-0.235284</td>\n",
       "      <td>0.189133</td>\n",
       "      <td>-0.258474</td>\n",
       "      <td>1.000000</td>\n",
       "      <td>-0.002650</td>\n",
       "      <td>0.051861</td>\n",
       "      <td>0.043708</td>\n",
       "      <td>-0.066460</td>\n",
       "    </tr>\n",
       "    <tr>\n",
       "      <th>cmp_ast</th>\n",
       "      <td>-0.036648</td>\n",
       "      <td>-0.036648</td>\n",
       "      <td>0.098732</td>\n",
       "      <td>-0.014016</td>\n",
       "      <td>0.025044</td>\n",
       "      <td>-0.058817</td>\n",
       "      <td>-0.010922</td>\n",
       "      <td>-0.052456</td>\n",
       "      <td>0.037055</td>\n",
       "      <td>0.005574</td>\n",
       "      <td>...</td>\n",
       "      <td>0.011405</td>\n",
       "      <td>-0.044503</td>\n",
       "      <td>-0.002077</td>\n",
       "      <td>0.052079</td>\n",
       "      <td>-0.014191</td>\n",
       "      <td>-0.002650</td>\n",
       "      <td>1.000000</td>\n",
       "      <td>0.168172</td>\n",
       "      <td>-0.057133</td>\n",
       "      <td>-0.072939</td>\n",
       "    </tr>\n",
       "    <tr>\n",
       "      <th>cmp_alkaline_phosphatase</th>\n",
       "      <td>-0.011070</td>\n",
       "      <td>-0.011070</td>\n",
       "      <td>0.117501</td>\n",
       "      <td>-0.091849</td>\n",
       "      <td>0.123586</td>\n",
       "      <td>-0.102502</td>\n",
       "      <td>-0.091883</td>\n",
       "      <td>-0.005379</td>\n",
       "      <td>0.099776</td>\n",
       "      <td>-0.187236</td>\n",
       "      <td>...</td>\n",
       "      <td>0.009640</td>\n",
       "      <td>0.030661</td>\n",
       "      <td>-0.139260</td>\n",
       "      <td>0.104493</td>\n",
       "      <td>-0.127214</td>\n",
       "      <td>0.051861</td>\n",
       "      <td>0.168172</td>\n",
       "      <td>1.000000</td>\n",
       "      <td>-0.050349</td>\n",
       "      <td>-0.235270</td>\n",
       "    </tr>\n",
       "    <tr>\n",
       "      <th>cmp_total_protein</th>\n",
       "      <td>0.016393</td>\n",
       "      <td>0.016393</td>\n",
       "      <td>-0.169298</td>\n",
       "      <td>-0.147716</td>\n",
       "      <td>0.046071</td>\n",
       "      <td>0.195652</td>\n",
       "      <td>0.268447</td>\n",
       "      <td>0.037321</td>\n",
       "      <td>-0.078270</td>\n",
       "      <td>0.127008</td>\n",
       "      <td>...</td>\n",
       "      <td>0.045531</td>\n",
       "      <td>0.009270</td>\n",
       "      <td>0.040876</td>\n",
       "      <td>0.000182</td>\n",
       "      <td>-0.148060</td>\n",
       "      <td>0.043708</td>\n",
       "      <td>-0.057133</td>\n",
       "      <td>-0.050349</td>\n",
       "      <td>1.000000</td>\n",
       "      <td>0.614664</td>\n",
       "    </tr>\n",
       "    <tr>\n",
       "      <th>cmp_albumin</th>\n",
       "      <td>0.045855</td>\n",
       "      <td>0.045855</td>\n",
       "      <td>-0.301735</td>\n",
       "      <td>-0.312481</td>\n",
       "      <td>0.021046</td>\n",
       "      <td>0.193473</td>\n",
       "      <td>0.288271</td>\n",
       "      <td>0.123265</td>\n",
       "      <td>-0.083926</td>\n",
       "      <td>0.030490</td>\n",
       "      <td>...</td>\n",
       "      <td>-0.001810</td>\n",
       "      <td>-0.021485</td>\n",
       "      <td>0.207628</td>\n",
       "      <td>-0.057138</td>\n",
       "      <td>0.066461</td>\n",
       "      <td>-0.066460</td>\n",
       "      <td>-0.072939</td>\n",
       "      <td>-0.235270</td>\n",
       "      <td>0.614664</td>\n",
       "      <td>1.000000</td>\n",
       "    </tr>\n",
       "  </tbody>\n",
       "</table>\n",
       "<p>31 rows × 31 columns</p>\n",
       "</div>"
      ],
      "text/plain": [
       "                             index     patno  Admitted       Age  heart_rate  \\\n",
       "index                     1.000000  1.000000 -0.030377 -0.071132   -0.014543   \n",
       "patno                     1.000000  1.000000 -0.030377 -0.071132   -0.014543   \n",
       "Admitted                 -0.030377 -0.030377  1.000000  0.259000    0.071533   \n",
       "Age                      -0.071132 -0.071132  0.259000  1.000000   -0.343054   \n",
       "heart_rate               -0.014543 -0.014543  0.071533 -0.343054    1.000000   \n",
       "sbp                      -0.013479 -0.013479 -0.034520  0.255632   -0.128325   \n",
       "dbp                      -0.002088 -0.002088 -0.083964  0.021500    0.032385   \n",
       "pulse_ox                  0.066634  0.066634 -0.187805 -0.233759   -0.018398   \n",
       "resp_rate                -0.031710 -0.031710  0.141345 -0.128765    0.397967   \n",
       "height                   -0.017314 -0.017314  0.006556  0.237857   -0.277916   \n",
       "wght                     -0.057584 -0.057584  0.138873  0.432725   -0.375283   \n",
       "cbc_wbc                  -0.005411 -0.005411  0.140818 -0.035561    0.127127   \n",
       "cbc_hematocrit            0.022097  0.022097 -0.201153 -0.134952    0.003627   \n",
       "cbc_hemoglobin            0.026712  0.026712 -0.218690 -0.179703    0.011397   \n",
       "cbc_platelets             0.034431  0.034431 -0.048104 -0.186491    0.156655   \n",
       "cbc_neutrophil_c          0.015320  0.015320  0.207518  0.000455    0.144446   \n",
       "cbc_eosinophil_perc       0.000322  0.000322 -0.122416 -0.003148   -0.102094   \n",
       "cbc_lymphocyte_c         -0.019357 -0.019357 -0.094380 -0.141078    0.050274   \n",
       "cbc_lymphocyte_perc      -0.009835 -0.009835 -0.234463 -0.197247   -0.030777   \n",
       "cbc_eosinophil_c         -0.010186 -0.010186 -0.056693 -0.028611   -0.031720   \n",
       "cbc_eosinophil_perc.1     0.000322  0.000322 -0.122416 -0.003148   -0.102094   \n",
       "cbc_monocyte_c            0.006011  0.006011  0.090950 -0.068070    0.100502   \n",
       "cbc_eosinophil_perc.2     0.000322  0.000322 -0.122416 -0.003148   -0.102094   \n",
       "cmp_sodium                0.039232  0.039232 -0.139857 -0.077553   -0.062122   \n",
       "cmp_potassium            -0.005859 -0.005859  0.123330  0.129890   -0.048065   \n",
       "cmp_chloride              0.026758  0.026758 -0.145144 -0.137116   -0.073826   \n",
       "cmp_glucose              -0.010492 -0.010492  0.125331  0.097948    0.074114   \n",
       "cmp_ast                  -0.036648 -0.036648  0.098732 -0.014016    0.025044   \n",
       "cmp_alkaline_phosphatase -0.011070 -0.011070  0.117501 -0.091849    0.123586   \n",
       "cmp_total_protein         0.016393  0.016393 -0.169298 -0.147716    0.046071   \n",
       "cmp_albumin               0.045855  0.045855 -0.301735 -0.312481    0.021046   \n",
       "\n",
       "                               sbp       dbp  pulse_ox  resp_rate    height  \\\n",
       "index                    -0.013479 -0.002088  0.066634  -0.031710 -0.017314   \n",
       "patno                    -0.013479 -0.002088  0.066634  -0.031710 -0.017314   \n",
       "Admitted                 -0.034520 -0.083964 -0.187805   0.141345  0.006556   \n",
       "Age                       0.255632  0.021500 -0.233759  -0.128765  0.237857   \n",
       "heart_rate               -0.128325  0.032385 -0.018398   0.397967 -0.277916   \n",
       "sbp                       1.000000  0.700990  0.012399  -0.054224  0.129512   \n",
       "dbp                       0.700990  1.000000  0.044760  -0.038692  0.178501   \n",
       "pulse_ox                  0.012399  0.044760  1.000000  -0.203094  0.003070   \n",
       "resp_rate                -0.054224 -0.038692 -0.203094   1.000000 -0.339655   \n",
       "height                    0.129512  0.178501  0.003070  -0.339655  1.000000   \n",
       "wght                      0.256390  0.191655 -0.130171  -0.299886  0.506950   \n",
       "cbc_wbc                  -0.044712 -0.035427 -0.053765   0.107466 -0.006946   \n",
       "cbc_hematocrit            0.123147  0.271443 -0.049715  -0.037861  0.100637   \n",
       "cbc_hemoglobin            0.118943  0.280105 -0.006979  -0.052274  0.092058   \n",
       "cbc_platelets            -0.004040  0.034225  0.040013   0.078875 -0.241994   \n",
       "cbc_neutrophil_c         -0.054473 -0.051273 -0.068710   0.101723  0.073823   \n",
       "cbc_eosinophil_perc       0.056011  0.026571  0.017027  -0.037053 -0.156211   \n",
       "cbc_lymphocyte_c          0.009810  0.048564  0.007033   0.099687 -0.328064   \n",
       "cbc_lymphocyte_perc      -0.001484  0.058332  0.094088   0.013950 -0.297477   \n",
       "cbc_eosinophil_c          0.032620  0.020709 -0.011299   0.016372 -0.172728   \n",
       "cbc_eosinophil_perc.1     0.056011  0.026571  0.017027  -0.037053 -0.156211   \n",
       "cbc_monocyte_c           -0.037211 -0.019228 -0.002565   0.078115 -0.033168   \n",
       "cbc_eosinophil_perc.2     0.056011  0.026571  0.017027  -0.037053 -0.156211   \n",
       "cmp_sodium                0.089829  0.119920  0.012110  -0.013692  0.055314   \n",
       "cmp_potassium            -0.016583 -0.055991 -0.118440   0.118477 -0.173582   \n",
       "cmp_chloride              0.003022  0.036059  0.099202  -0.008239  0.030194   \n",
       "cmp_glucose               0.052785  0.017755 -0.105208   0.076232  0.057657   \n",
       "cmp_ast                  -0.058817 -0.010922 -0.052456   0.037055  0.005574   \n",
       "cmp_alkaline_phosphatase -0.102502 -0.091883 -0.005379   0.099776 -0.187236   \n",
       "cmp_total_protein         0.195652  0.268447  0.037321  -0.078270  0.127008   \n",
       "cmp_albumin               0.193473  0.288271  0.123265  -0.083926  0.030490   \n",
       "\n",
       "                          ...  cbc_monocyte_c  cbc_eosinophil_perc.2  \\\n",
       "index                     ...        0.006011               0.000322   \n",
       "patno                     ...        0.006011               0.000322   \n",
       "Admitted                  ...        0.090950              -0.122416   \n",
       "Age                       ...       -0.068070              -0.003148   \n",
       "heart_rate                ...        0.100502              -0.102094   \n",
       "sbp                       ...       -0.037211               0.056011   \n",
       "dbp                       ...       -0.019228               0.026571   \n",
       "pulse_ox                  ...       -0.002565               0.017027   \n",
       "resp_rate                 ...        0.078115              -0.037053   \n",
       "height                    ...       -0.033168              -0.156211   \n",
       "wght                      ...       -0.046526               0.035913   \n",
       "cbc_wbc                   ...        0.509534              -0.116462   \n",
       "cbc_hematocrit            ...        0.021607              -0.009774   \n",
       "cbc_hemoglobin            ...        0.024400              -0.023797   \n",
       "cbc_platelets             ...        0.189150               0.015036   \n",
       "cbc_neutrophil_c          ...        0.442835              -0.231476   \n",
       "cbc_eosinophil_perc       ...       -0.059593               1.000000   \n",
       "cbc_lymphocyte_c          ...        0.155681               0.082187   \n",
       "cbc_lymphocyte_perc       ...       -0.163475               0.236394   \n",
       "cbc_eosinophil_c          ...        0.186129               0.702266   \n",
       "cbc_eosinophil_perc.1     ...       -0.059593               1.000000   \n",
       "cbc_monocyte_c            ...        1.000000              -0.059593   \n",
       "cbc_eosinophil_perc.2     ...       -0.059593               1.000000   \n",
       "cmp_sodium                ...       -0.022803               0.083970   \n",
       "cmp_potassium             ...        0.006029               0.014421   \n",
       "cmp_chloride              ...       -0.042564               0.067240   \n",
       "cmp_glucose               ...       -0.007272              -0.064207   \n",
       "cmp_ast                   ...        0.011405              -0.044503   \n",
       "cmp_alkaline_phosphatase  ...        0.009640               0.030661   \n",
       "cmp_total_protein         ...        0.045531               0.009270   \n",
       "cmp_albumin               ...       -0.001810              -0.021485   \n",
       "\n",
       "                          cmp_sodium  cmp_potassium  cmp_chloride  \\\n",
       "index                       0.039232      -0.005859      0.026758   \n",
       "patno                       0.039232      -0.005859      0.026758   \n",
       "Admitted                   -0.139857       0.123330     -0.145144   \n",
       "Age                        -0.077553       0.129890     -0.137116   \n",
       "heart_rate                 -0.062122      -0.048065     -0.073826   \n",
       "sbp                         0.089829      -0.016583      0.003022   \n",
       "dbp                         0.119920      -0.055991      0.036059   \n",
       "pulse_ox                    0.012110      -0.118440      0.099202   \n",
       "resp_rate                  -0.013692       0.118477     -0.008239   \n",
       "height                      0.055314      -0.173582      0.030194   \n",
       "wght                        0.031168      -0.001168     -0.009780   \n",
       "cbc_wbc                    -0.031298       0.052575     -0.036382   \n",
       "cbc_hematocrit              0.208495      -0.039061      0.058504   \n",
       "cbc_hemoglobin              0.152671      -0.086993      0.032291   \n",
       "cbc_platelets               0.000126       0.012827     -0.035093   \n",
       "cbc_neutrophil_c           -0.055907       0.059657     -0.061286   \n",
       "cbc_eosinophil_perc         0.083970       0.014421      0.067240   \n",
       "cbc_lymphocyte_c            0.106285       0.018151      0.097709   \n",
       "cbc_lymphocyte_perc         0.146085      -0.073324      0.170409   \n",
       "cbc_eosinophil_c            0.057141       0.025359      0.051368   \n",
       "cbc_eosinophil_perc.1       0.083970       0.014421      0.067240   \n",
       "cbc_monocyte_c             -0.022803       0.006029     -0.042564   \n",
       "cbc_eosinophil_perc.2       0.083970       0.014421      0.067240   \n",
       "cmp_sodium                  1.000000      -0.134295      0.721939   \n",
       "cmp_potassium              -0.134295       1.000000     -0.034364   \n",
       "cmp_chloride                0.721939      -0.034364      1.000000   \n",
       "cmp_glucose                -0.235284       0.189133     -0.258474   \n",
       "cmp_ast                    -0.002077       0.052079     -0.014191   \n",
       "cmp_alkaline_phosphatase   -0.139260       0.104493     -0.127214   \n",
       "cmp_total_protein           0.040876       0.000182     -0.148060   \n",
       "cmp_albumin                 0.207628      -0.057138      0.066461   \n",
       "\n",
       "                          cmp_glucose   cmp_ast  cmp_alkaline_phosphatase  \\\n",
       "index                       -0.010492 -0.036648                 -0.011070   \n",
       "patno                       -0.010492 -0.036648                 -0.011070   \n",
       "Admitted                     0.125331  0.098732                  0.117501   \n",
       "Age                          0.097948 -0.014016                 -0.091849   \n",
       "heart_rate                   0.074114  0.025044                  0.123586   \n",
       "sbp                          0.052785 -0.058817                 -0.102502   \n",
       "dbp                          0.017755 -0.010922                 -0.091883   \n",
       "pulse_ox                    -0.105208 -0.052456                 -0.005379   \n",
       "resp_rate                    0.076232  0.037055                  0.099776   \n",
       "height                       0.057657  0.005574                 -0.187236   \n",
       "wght                         0.117112  0.013699                 -0.201825   \n",
       "cbc_wbc                      0.079747  0.038337                  0.038098   \n",
       "cbc_hematocrit               0.008516  0.018966                 -0.155929   \n",
       "cbc_hemoglobin              -0.009205  0.014291                 -0.158250   \n",
       "cbc_platelets                0.032876 -0.072822                  0.036632   \n",
       "cbc_neutrophil_c             0.117837  0.030051                  0.028203   \n",
       "cbc_eosinophil_perc         -0.064207 -0.044503                  0.030661   \n",
       "cbc_lymphocyte_c            -0.035040 -0.017489                  0.002187   \n",
       "cbc_lymphocyte_perc         -0.129518 -0.021960                 -0.004045   \n",
       "cbc_eosinophil_c            -0.030097 -0.037181                  0.023790   \n",
       "cbc_eosinophil_perc.1       -0.064207 -0.044503                  0.030661   \n",
       "cbc_monocyte_c              -0.007272  0.011405                  0.009640   \n",
       "cbc_eosinophil_perc.2       -0.064207 -0.044503                  0.030661   \n",
       "cmp_sodium                  -0.235284 -0.002077                 -0.139260   \n",
       "cmp_potassium                0.189133  0.052079                  0.104493   \n",
       "cmp_chloride                -0.258474 -0.014191                 -0.127214   \n",
       "cmp_glucose                  1.000000 -0.002650                  0.051861   \n",
       "cmp_ast                     -0.002650  1.000000                  0.168172   \n",
       "cmp_alkaline_phosphatase     0.051861  0.168172                  1.000000   \n",
       "cmp_total_protein            0.043708 -0.057133                 -0.050349   \n",
       "cmp_albumin                 -0.066460 -0.072939                 -0.235270   \n",
       "\n",
       "                          cmp_total_protein  cmp_albumin  \n",
       "index                              0.016393     0.045855  \n",
       "patno                              0.016393     0.045855  \n",
       "Admitted                          -0.169298    -0.301735  \n",
       "Age                               -0.147716    -0.312481  \n",
       "heart_rate                         0.046071     0.021046  \n",
       "sbp                                0.195652     0.193473  \n",
       "dbp                                0.268447     0.288271  \n",
       "pulse_ox                           0.037321     0.123265  \n",
       "resp_rate                         -0.078270    -0.083926  \n",
       "height                             0.127008     0.030490  \n",
       "wght                               0.089641    -0.087129  \n",
       "cbc_wbc                            0.011260    -0.020093  \n",
       "cbc_hematocrit                     0.403966     0.522731  \n",
       "cbc_hemoglobin                     0.389195     0.545362  \n",
       "cbc_platelets                      0.224736     0.124224  \n",
       "cbc_neutrophil_c                   0.008387    -0.044713  \n",
       "cbc_eosinophil_perc                0.009270    -0.021485  \n",
       "cbc_lymphocyte_c                   0.028924     0.132946  \n",
       "cbc_lymphocyte_perc                0.024257     0.147584  \n",
       "cbc_eosinophil_c                   0.024046     0.002132  \n",
       "cbc_eosinophil_perc.1              0.009270    -0.021485  \n",
       "cbc_monocyte_c                     0.045531    -0.001810  \n",
       "cbc_eosinophil_perc.2              0.009270    -0.021485  \n",
       "cmp_sodium                         0.040876     0.207628  \n",
       "cmp_potassium                      0.000182    -0.057138  \n",
       "cmp_chloride                      -0.148060     0.066461  \n",
       "cmp_glucose                        0.043708    -0.066460  \n",
       "cmp_ast                           -0.057133    -0.072939  \n",
       "cmp_alkaline_phosphatase          -0.050349    -0.235270  \n",
       "cmp_total_protein                  1.000000     0.614664  \n",
       "cmp_albumin                        0.614664     1.000000  \n",
       "\n",
       "[31 rows x 31 columns]"
      ]
     },
     "execution_count": 126,
     "metadata": {},
     "output_type": "execute_result"
    }
   ],
   "source": [
    "df.corr()"
   ]
  },
  {
   "cell_type": "code",
   "execution_count": 127,
   "metadata": {
    "scrolled": true
   },
   "outputs": [
    {
     "name": "stdout",
     "output_type": "stream",
     "text": [
      "None Detected    6910\n",
      "Detected          470\n",
      "Name: COVIDResult, dtype: int64\n"
     ]
    }
   ],
   "source": [
    "print(df[target].value_counts())"
   ]
  },
  {
   "cell_type": "code",
   "execution_count": 128,
   "metadata": {},
   "outputs": [
    {
     "name": "stdout",
     "output_type": "stream",
     "text": [
      "None Detected Duplicates: 0\n",
      "Detected Duplicates: 0\n",
      "Total Duplicates: 0\n",
      "Fraction Duplicated: 0.0\n"
     ]
    }
   ],
   "source": [
    "none_detected_dups = sum(df.loc[df[target]=='None Detected'].duplicated())\n",
    "detected_dups = sum(df.loc[df[target]=='Detected'].duplicated())\n",
    "total_dups = none_detected_dups + detected_dups\n",
    "\n",
    "print('None Detected Duplicates:', none_detected_dups)\n",
    "print('Detected Duplicates:', detected_dups)\n",
    "print('Total Duplicates:', total_dups)\n",
    "print('Fraction Duplicated:', total_dups / len(df))"
   ]
  },
  {
   "cell_type": "markdown",
   "metadata": {},
   "source": [
    "#### 1.3 Inspect Null Data <a class=\"anchor\" id=\"null\"></a>"
   ]
  },
  {
   "cell_type": "code",
   "execution_count": 129,
   "metadata": {
    "scrolled": true
   },
   "outputs": [
    {
     "name": "stdout",
     "output_type": "stream",
     "text": [
      "Total Number of NULL Data Points: 69411\n"
     ]
    },
    {
     "data": {
      "text/plain": [
       "index                          0\n",
       "patno                          0\n",
       "Admitted                       0\n",
       "AdmittingDepartment         4377\n",
       "COVIDResult                    0\n",
       "Age                            0\n",
       "FirstRace                      1\n",
       "Ethnicity                      0\n",
       "Sex                            0\n",
       "heart_rate                    28\n",
       "sbp                           88\n",
       "dbp                           88\n",
       "pulse_ox                      34\n",
       "resp_rate                     68\n",
       "height                      6924\n",
       "wght                        4132\n",
       "cbc_wbc                     1124\n",
       "cbc_hematocrit              1124\n",
       "cbc_hemoglobin              1123\n",
       "cbc_platelets               1124\n",
       "cbc_neutrophil_c            3507\n",
       "cbc_eosinophil_perc         3508\n",
       "cbc_lymphocyte_c            3506\n",
       "cbc_lymphocyte_perc         3506\n",
       "cbc_eosinophil_c            3508\n",
       "cbc_eosinophil_perc.1       3508\n",
       "cbc_monocyte_c              3506\n",
       "cbc_eosinophil_perc.2       3508\n",
       "cmp_sodium                  1094\n",
       "cmp_potassium               1810\n",
       "cmp_chloride                1094\n",
       "cmp_bicarbonate             1104\n",
       "cmp_bun                     1094\n",
       "cmp_creatinine              1094\n",
       "cmp_glucose                 1094\n",
       "cmp_alt                     1979\n",
       "cmp_ast                     2613\n",
       "cmp_alkaline_phosphatase    1981\n",
       "cmp_total_protein           2205\n",
       "cmp_albumin                 1978\n",
       "cmp_bilirubin               1979\n",
       "dtype: int64"
      ]
     },
     "execution_count": 129,
     "metadata": {},
     "output_type": "execute_result"
    }
   ],
   "source": [
    "print('Total Number of NULL Data Points:', df.isnull().sum().sum())\n",
    "df.isnull().sum()"
   ]
  },
  {
   "cell_type": "code",
   "execution_count": 130,
   "metadata": {
    "scrolled": true
   },
   "outputs": [
    {
     "name": "stdout",
     "output_type": "stream",
     "text": [
      "Null Data Points by variable\n"
     ]
    },
    {
     "data": {
      "text/plain": [
       "{'height': 93.8211,\n",
       " 'AdmittingDepartment': 59.3089,\n",
       " 'wght': 55.9892,\n",
       " 'cbc_eosinophil_perc': 47.5339,\n",
       " 'cbc_eosinophil_c': 47.5339,\n",
       " 'cbc_eosinophil_perc.1': 47.5339,\n",
       " 'cbc_eosinophil_perc.2': 47.5339,\n",
       " 'cbc_neutrophil_c': 47.5203,\n",
       " 'cbc_lymphocyte_c': 47.5068,\n",
       " 'cbc_lymphocyte_perc': 47.5068,\n",
       " 'cbc_monocyte_c': 47.5068,\n",
       " 'cmp_ast': 35.4065,\n",
       " 'cmp_total_protein': 29.878,\n",
       " 'cmp_alkaline_phosphatase': 26.8428,\n",
       " 'cmp_alt': 26.8157,\n",
       " 'cmp_bilirubin': 26.8157,\n",
       " 'cmp_albumin': 26.8022,\n",
       " 'cmp_potassium': 24.5257,\n",
       " 'cbc_wbc': 15.2304,\n",
       " 'cbc_hematocrit': 15.2304,\n",
       " 'cbc_platelets': 15.2304,\n",
       " 'cbc_hemoglobin': 15.2168,\n",
       " 'cmp_bicarbonate': 14.9593,\n",
       " 'cmp_sodium': 14.8238,\n",
       " 'cmp_chloride': 14.8238,\n",
       " 'cmp_bun': 14.8238,\n",
       " 'cmp_creatinine': 14.8238,\n",
       " 'cmp_glucose': 14.8238,\n",
       " 'sbp': 1.1924,\n",
       " 'dbp': 1.1924,\n",
       " 'resp_rate': 0.9214,\n",
       " 'pulse_ox': 0.4607,\n",
       " 'heart_rate': 0.3794,\n",
       " 'FirstRace': 0.0136,\n",
       " 'index': 0.0,\n",
       " 'patno': 0.0,\n",
       " 'Admitted': 0.0,\n",
       " 'COVIDResult': 0.0,\n",
       " 'Age': 0.0,\n",
       " 'Ethnicity': 0.0,\n",
       " 'Sex': 0.0}"
      ]
     },
     "execution_count": 130,
     "metadata": {},
     "output_type": "execute_result"
    }
   ],
   "source": [
    "d = {\n",
    "    col: round(df[col].isnull().sum() * 100 / len(df[col]), 4)\n",
    "    for col in df\n",
    "}\n",
    "d = dict(sorted(d.items(), key=lambda item: item[1], reverse=True))\n",
    "majority_null = [k for k, v in d.items() if v > 50.0]\n",
    "\n",
    "print(\"Null Data Points by variable\")\n",
    "d"
   ]
  },
  {
   "cell_type": "code",
   "execution_count": 131,
   "metadata": {
    "scrolled": false
   },
   "outputs": [
    {
     "data": {
      "text/plain": [
       "<AxesSubplot:>"
      ]
     },
     "execution_count": 131,
     "metadata": {},
     "output_type": "execute_result"
    },
    {
     "data": {
      "image/png": "[encoded data removed]",
      "text/plain": [
       "<Figure size 1800x720 with 2 Axes>"
      ]
     },
     "metadata": {},
     "output_type": "display_data"
    }
   ],
   "source": [
    "msno.matrix(df)\n",
    "# msno.heatmap(df)"
   ]
  },
  {
   "cell_type": "markdown",
   "metadata": {},
   "source": [
    "## 2. Data Preparation <a class=\"anchor\" id=\"prep\"></a>"
   ]
  },
  {
   "cell_type": "markdown",
   "metadata": {},
   "source": [
    "[Table of Contents](#toc)"
   ]
  },
  {
   "cell_type": "markdown",
   "metadata": {},
   "source": [
    "#### 2.1 Drop Columns <a class=\"anchor\" id=\"drop\"></a>"
   ]
  },
  {
   "cell_type": "code",
   "execution_count": 132,
   "metadata": {},
   "outputs": [
    {
     "data": {
      "text/html": [
       "<div>\n",
       "<style scoped>\n",
       "    .dataframe tbody tr th:only-of-type {\n",
       "        vertical-align: middle;\n",
       "    }\n",
       "\n",
       "    .dataframe tbody tr th {\n",
       "        vertical-align: top;\n",
       "    }\n",
       "\n",
       "    .dataframe thead th {\n",
       "        text-align: right;\n",
       "    }\n",
       "</style>\n",
       "<table border=\"1\" class=\"dataframe\">\n",
       "  <thead>\n",
       "    <tr style=\"text-align: right;\">\n",
       "      <th></th>\n",
       "      <th>Admitted</th>\n",
       "      <th>COVIDResult</th>\n",
       "      <th>Age</th>\n",
       "      <th>FirstRace</th>\n",
       "      <th>Ethnicity</th>\n",
       "      <th>Sex</th>\n",
       "      <th>heart_rate</th>\n",
       "      <th>sbp</th>\n",
       "      <th>dbp</th>\n",
       "      <th>pulse_ox</th>\n",
       "      <th>...</th>\n",
       "      <th>cmp_bicarbonate</th>\n",
       "      <th>cmp_bun</th>\n",
       "      <th>cmp_creatinine</th>\n",
       "      <th>cmp_glucose</th>\n",
       "      <th>cmp_alt</th>\n",
       "      <th>cmp_ast</th>\n",
       "      <th>cmp_alkaline_phosphatase</th>\n",
       "      <th>cmp_total_protein</th>\n",
       "      <th>cmp_albumin</th>\n",
       "      <th>cmp_bilirubin</th>\n",
       "    </tr>\n",
       "  </thead>\n",
       "  <tbody>\n",
       "    <tr>\n",
       "      <th>0</th>\n",
       "      <td>1</td>\n",
       "      <td>None Detected</td>\n",
       "      <td>78</td>\n",
       "      <td>White or Caucasian</td>\n",
       "      <td>Non-Hispanic</td>\n",
       "      <td>Female</td>\n",
       "      <td>94.0</td>\n",
       "      <td>138.0</td>\n",
       "      <td>82.0</td>\n",
       "      <td>96.0</td>\n",
       "      <td>...</td>\n",
       "      <td>26</td>\n",
       "      <td>31</td>\n",
       "      <td>2.5</td>\n",
       "      <td>82.0</td>\n",
       "      <td>14</td>\n",
       "      <td>26.0</td>\n",
       "      <td>80.0</td>\n",
       "      <td>8.5</td>\n",
       "      <td>4.3</td>\n",
       "      <td>0.5</td>\n",
       "    </tr>\n",
       "    <tr>\n",
       "      <th>1</th>\n",
       "      <td>0</td>\n",
       "      <td>None Detected</td>\n",
       "      <td>23</td>\n",
       "      <td>White or Caucasian</td>\n",
       "      <td>Non-Hispanic</td>\n",
       "      <td>Female</td>\n",
       "      <td>121.0</td>\n",
       "      <td>134.0</td>\n",
       "      <td>88.0</td>\n",
       "      <td>98.0</td>\n",
       "      <td>...</td>\n",
       "      <td>19</td>\n",
       "      <td>11</td>\n",
       "      <td>0.9</td>\n",
       "      <td>83.0</td>\n",
       "      <td>73</td>\n",
       "      <td>NaN</td>\n",
       "      <td>100.0</td>\n",
       "      <td>8.1</td>\n",
       "      <td>4.6</td>\n",
       "      <td>0.6</td>\n",
       "    </tr>\n",
       "    <tr>\n",
       "      <th>2</th>\n",
       "      <td>0</td>\n",
       "      <td>None Detected</td>\n",
       "      <td>55</td>\n",
       "      <td>African American</td>\n",
       "      <td>Non-Hispanic</td>\n",
       "      <td>Male</td>\n",
       "      <td>83.0</td>\n",
       "      <td>152.0</td>\n",
       "      <td>76.0</td>\n",
       "      <td>98.0</td>\n",
       "      <td>...</td>\n",
       "      <td>23</td>\n",
       "      <td>9</td>\n",
       "      <td>1.2</td>\n",
       "      <td>123.0</td>\n",
       "      <td>26</td>\n",
       "      <td>29.0</td>\n",
       "      <td>106.0</td>\n",
       "      <td>7.1</td>\n",
       "      <td>4.0</td>\n",
       "      <td>0.7</td>\n",
       "    </tr>\n",
       "    <tr>\n",
       "      <th>3</th>\n",
       "      <td>1</td>\n",
       "      <td>None Detected</td>\n",
       "      <td>50</td>\n",
       "      <td>White or Caucasian</td>\n",
       "      <td>Non-Hispanic</td>\n",
       "      <td>Male</td>\n",
       "      <td>88.0</td>\n",
       "      <td>138.0</td>\n",
       "      <td>65.0</td>\n",
       "      <td>87.0</td>\n",
       "      <td>...</td>\n",
       "      <td>30</td>\n",
       "      <td>45</td>\n",
       "      <td>1.6</td>\n",
       "      <td>297.0</td>\n",
       "      <td>22</td>\n",
       "      <td>NaN</td>\n",
       "      <td>78.0</td>\n",
       "      <td>7.8</td>\n",
       "      <td>3.7</td>\n",
       "      <td>0.5</td>\n",
       "    </tr>\n",
       "    <tr>\n",
       "      <th>4</th>\n",
       "      <td>0</td>\n",
       "      <td>None Detected</td>\n",
       "      <td>67</td>\n",
       "      <td>African American</td>\n",
       "      <td>Non-Hispanic</td>\n",
       "      <td>Female</td>\n",
       "      <td>90.0</td>\n",
       "      <td>128.0</td>\n",
       "      <td>69.0</td>\n",
       "      <td>98.0</td>\n",
       "      <td>...</td>\n",
       "      <td>27</td>\n",
       "      <td>25</td>\n",
       "      <td>1.0</td>\n",
       "      <td>96.0</td>\n",
       "      <td>12</td>\n",
       "      <td>18.0</td>\n",
       "      <td>122.0</td>\n",
       "      <td>7.4</td>\n",
       "      <td>3.5</td>\n",
       "      <td>0.2</td>\n",
       "    </tr>\n",
       "  </tbody>\n",
       "</table>\n",
       "<p>5 rows × 36 columns</p>\n",
       "</div>"
      ],
      "text/plain": [
       "   Admitted    COVIDResult  Age           FirstRace     Ethnicity     Sex  \\\n",
       "0         1  None Detected   78  White or Caucasian  Non-Hispanic  Female   \n",
       "1         0  None Detected   23  White or Caucasian  Non-Hispanic  Female   \n",
       "2         0  None Detected   55    African American  Non-Hispanic    Male   \n",
       "3         1  None Detected   50  White or Caucasian  Non-Hispanic    Male   \n",
       "4         0  None Detected   67    African American  Non-Hispanic  Female   \n",
       "\n",
       "   heart_rate    sbp   dbp  pulse_ox  ...  cmp_bicarbonate  cmp_bun  \\\n",
       "0        94.0  138.0  82.0      96.0  ...               26       31   \n",
       "1       121.0  134.0  88.0      98.0  ...               19       11   \n",
       "2        83.0  152.0  76.0      98.0  ...               23        9   \n",
       "3        88.0  138.0  65.0      87.0  ...               30       45   \n",
       "4        90.0  128.0  69.0      98.0  ...               27       25   \n",
       "\n",
       "   cmp_creatinine  cmp_glucose  cmp_alt  cmp_ast  cmp_alkaline_phosphatase  \\\n",
       "0             2.5         82.0       14     26.0                      80.0   \n",
       "1             0.9         83.0       73      NaN                     100.0   \n",
       "2             1.2        123.0       26     29.0                     106.0   \n",
       "3             1.6        297.0       22      NaN                      78.0   \n",
       "4             1.0         96.0       12     18.0                     122.0   \n",
       "\n",
       "   cmp_total_protein  cmp_albumin  cmp_bilirubin  \n",
       "0                8.5          4.3            0.5  \n",
       "1                8.1          4.6            0.6  \n",
       "2                7.1          4.0            0.7  \n",
       "3                7.8          3.7            0.5  \n",
       "4                7.4          3.5            0.2  \n",
       "\n",
       "[5 rows x 36 columns]"
      ]
     },
     "execution_count": 132,
     "metadata": {},
     "output_type": "execute_result"
    }
   ],
   "source": [
    "trim_df = df.drop(columns=majority_null)\n",
    "trim_df = trim_df.drop(columns=['index', 'patno'])\n",
    "trim_df.head(5)"
   ]
  },
  {
   "cell_type": "code",
   "execution_count": 133,
   "metadata": {},
   "outputs": [
    {
     "data": {
      "text/plain": [
       "53978"
      ]
     },
     "execution_count": 133,
     "metadata": {},
     "output_type": "execute_result"
    }
   ],
   "source": [
    "trim_df.isnull().sum().sum()"
   ]
  },
  {
   "cell_type": "markdown",
   "metadata": {},
   "source": [
    "#### 2.2 Handle Categorical Variables <a class=\"anchor\" id=\"handle1\"></a>"
   ]
  },
  {
   "cell_type": "code",
   "execution_count": 134,
   "metadata": {},
   "outputs": [
    {
     "data": {
      "text/plain": [
       "Index(['COVIDResult', 'FirstRace', 'Ethnicity', 'Sex', 'cmp_bicarbonate',\n",
       "       'cmp_bun', 'cmp_creatinine', 'cmp_alt', 'cmp_bilirubin'],\n",
       "      dtype='object')"
      ]
     },
     "execution_count": 134,
     "metadata": {},
     "output_type": "execute_result"
    }
   ],
   "source": [
    "trim_df.select_dtypes(include=['object']).columns"
   ]
  },
  {
   "cell_type": "markdown",
   "metadata": {},
   "source": [
    "###### 2.2.1 Manual Conversion <a class=\"anchor\" id=\"manual\"></a>"
   ]
  },
  {
   "cell_type": "code",
   "execution_count": 135,
   "metadata": {
    "scrolled": true
   },
   "outputs": [
    {
     "data": {
      "text/html": [
       "<div>\n",
       "<style scoped>\n",
       "    .dataframe tbody tr th:only-of-type {\n",
       "        vertical-align: middle;\n",
       "    }\n",
       "\n",
       "    .dataframe tbody tr th {\n",
       "        vertical-align: top;\n",
       "    }\n",
       "\n",
       "    .dataframe thead th {\n",
       "        text-align: right;\n",
       "    }\n",
       "</style>\n",
       "<table border=\"1\" class=\"dataframe\">\n",
       "  <thead>\n",
       "    <tr style=\"text-align: right;\">\n",
       "      <th></th>\n",
       "      <th>Admitted</th>\n",
       "      <th>COVIDResult</th>\n",
       "      <th>Age</th>\n",
       "      <th>FirstRace</th>\n",
       "      <th>Ethnicity</th>\n",
       "      <th>Sex</th>\n",
       "      <th>heart_rate</th>\n",
       "      <th>sbp</th>\n",
       "      <th>dbp</th>\n",
       "      <th>pulse_ox</th>\n",
       "      <th>...</th>\n",
       "      <th>cmp_bicarbonate</th>\n",
       "      <th>cmp_bun</th>\n",
       "      <th>cmp_creatinine</th>\n",
       "      <th>cmp_glucose</th>\n",
       "      <th>cmp_alt</th>\n",
       "      <th>cmp_ast</th>\n",
       "      <th>cmp_alkaline_phosphatase</th>\n",
       "      <th>cmp_total_protein</th>\n",
       "      <th>cmp_albumin</th>\n",
       "      <th>cmp_bilirubin</th>\n",
       "    </tr>\n",
       "  </thead>\n",
       "  <tbody>\n",
       "    <tr>\n",
       "      <th>0</th>\n",
       "      <td>1</td>\n",
       "      <td>None Detected</td>\n",
       "      <td>78</td>\n",
       "      <td>White or Caucasian</td>\n",
       "      <td>Non-Hispanic</td>\n",
       "      <td>Female</td>\n",
       "      <td>94.0</td>\n",
       "      <td>138.0</td>\n",
       "      <td>82.0</td>\n",
       "      <td>96.0</td>\n",
       "      <td>...</td>\n",
       "      <td>26.0</td>\n",
       "      <td>31.0</td>\n",
       "      <td>2.5</td>\n",
       "      <td>82.0</td>\n",
       "      <td>14.0</td>\n",
       "      <td>26.0</td>\n",
       "      <td>80.0</td>\n",
       "      <td>8.5</td>\n",
       "      <td>4.3</td>\n",
       "      <td>0.5</td>\n",
       "    </tr>\n",
       "    <tr>\n",
       "      <th>1</th>\n",
       "      <td>0</td>\n",
       "      <td>None Detected</td>\n",
       "      <td>23</td>\n",
       "      <td>White or Caucasian</td>\n",
       "      <td>Non-Hispanic</td>\n",
       "      <td>Female</td>\n",
       "      <td>121.0</td>\n",
       "      <td>134.0</td>\n",
       "      <td>88.0</td>\n",
       "      <td>98.0</td>\n",
       "      <td>...</td>\n",
       "      <td>19.0</td>\n",
       "      <td>11.0</td>\n",
       "      <td>0.9</td>\n",
       "      <td>83.0</td>\n",
       "      <td>73.0</td>\n",
       "      <td>NaN</td>\n",
       "      <td>100.0</td>\n",
       "      <td>8.1</td>\n",
       "      <td>4.6</td>\n",
       "      <td>0.6</td>\n",
       "    </tr>\n",
       "    <tr>\n",
       "      <th>2</th>\n",
       "      <td>0</td>\n",
       "      <td>None Detected</td>\n",
       "      <td>55</td>\n",
       "      <td>African American</td>\n",
       "      <td>Non-Hispanic</td>\n",
       "      <td>Male</td>\n",
       "      <td>83.0</td>\n",
       "      <td>152.0</td>\n",
       "      <td>76.0</td>\n",
       "      <td>98.0</td>\n",
       "      <td>...</td>\n",
       "      <td>23.0</td>\n",
       "      <td>9.0</td>\n",
       "      <td>1.2</td>\n",
       "      <td>123.0</td>\n",
       "      <td>26.0</td>\n",
       "      <td>29.0</td>\n",
       "      <td>106.0</td>\n",
       "      <td>7.1</td>\n",
       "      <td>4.0</td>\n",
       "      <td>0.7</td>\n",
       "    </tr>\n",
       "    <tr>\n",
       "      <th>3</th>\n",
       "      <td>1</td>\n",
       "      <td>None Detected</td>\n",
       "      <td>50</td>\n",
       "      <td>White or Caucasian</td>\n",
       "      <td>Non-Hispanic</td>\n",
       "      <td>Male</td>\n",
       "      <td>88.0</td>\n",
       "      <td>138.0</td>\n",
       "      <td>65.0</td>\n",
       "      <td>87.0</td>\n",
       "      <td>...</td>\n",
       "      <td>30.0</td>\n",
       "      <td>45.0</td>\n",
       "      <td>1.6</td>\n",
       "      <td>297.0</td>\n",
       "      <td>22.0</td>\n",
       "      <td>NaN</td>\n",
       "      <td>78.0</td>\n",
       "      <td>7.8</td>\n",
       "      <td>3.7</td>\n",
       "      <td>0.5</td>\n",
       "    </tr>\n",
       "    <tr>\n",
       "      <th>4</th>\n",
       "      <td>0</td>\n",
       "      <td>None Detected</td>\n",
       "      <td>67</td>\n",
       "      <td>African American</td>\n",
       "      <td>Non-Hispanic</td>\n",
       "      <td>Female</td>\n",
       "      <td>90.0</td>\n",
       "      <td>128.0</td>\n",
       "      <td>69.0</td>\n",
       "      <td>98.0</td>\n",
       "      <td>...</td>\n",
       "      <td>27.0</td>\n",
       "      <td>25.0</td>\n",
       "      <td>1.0</td>\n",
       "      <td>96.0</td>\n",
       "      <td>12.0</td>\n",
       "      <td>18.0</td>\n",
       "      <td>122.0</td>\n",
       "      <td>7.4</td>\n",
       "      <td>3.5</td>\n",
       "      <td>0.2</td>\n",
       "    </tr>\n",
       "  </tbody>\n",
       "</table>\n",
       "<p>5 rows × 36 columns</p>\n",
       "</div>"
      ],
      "text/plain": [
       "   Admitted    COVIDResult  Age           FirstRace     Ethnicity     Sex  \\\n",
       "0         1  None Detected   78  White or Caucasian  Non-Hispanic  Female   \n",
       "1         0  None Detected   23  White or Caucasian  Non-Hispanic  Female   \n",
       "2         0  None Detected   55    African American  Non-Hispanic    Male   \n",
       "3         1  None Detected   50  White or Caucasian  Non-Hispanic    Male   \n",
       "4         0  None Detected   67    African American  Non-Hispanic  Female   \n",
       "\n",
       "   heart_rate    sbp   dbp  pulse_ox  ...  cmp_bicarbonate  cmp_bun  \\\n",
       "0        94.0  138.0  82.0      96.0  ...             26.0     31.0   \n",
       "1       121.0  134.0  88.0      98.0  ...             19.0     11.0   \n",
       "2        83.0  152.0  76.0      98.0  ...             23.0      9.0   \n",
       "3        88.0  138.0  65.0      87.0  ...             30.0     45.0   \n",
       "4        90.0  128.0  69.0      98.0  ...             27.0     25.0   \n",
       "\n",
       "   cmp_creatinine  cmp_glucose  cmp_alt  cmp_ast  cmp_alkaline_phosphatase  \\\n",
       "0             2.5         82.0     14.0     26.0                      80.0   \n",
       "1             0.9         83.0     73.0      NaN                     100.0   \n",
       "2             1.2        123.0     26.0     29.0                     106.0   \n",
       "3             1.6        297.0     22.0      NaN                      78.0   \n",
       "4             1.0         96.0     12.0     18.0                     122.0   \n",
       "\n",
       "   cmp_total_protein  cmp_albumin  cmp_bilirubin  \n",
       "0                8.5          4.3            0.5  \n",
       "1                8.1          4.6            0.6  \n",
       "2                7.1          4.0            0.7  \n",
       "3                7.8          3.7            0.5  \n",
       "4                7.4          3.5            0.2  \n",
       "\n",
       "[5 rows x 36 columns]"
      ]
     },
     "execution_count": 135,
     "metadata": {},
     "output_type": "execute_result"
    }
   ],
   "source": [
    "cat_cols = [\n",
    "    'cmp_bicarbonate', 'cmp_bun', 'cmp_creatinine', 'cmp_alt', 'cmp_bilirubin'\n",
    "]\n",
    "less_than_list = [\n",
    "    '<5', '<2', '<0.2', '<6', '<0.1'\n",
    "]\n",
    "\n",
    "\n",
    "def replace_cat(val, less, num):\n",
    "    if val == less:\n",
    "        return random.uniform(0, num) if \".\" in less else random.randint(0, num)\n",
    "    else:\n",
    "        return float(val)\n",
    "\n",
    "    \n",
    "trim_df2 = trim_df.copy()\n",
    "for col, less_than in zip(cat_cols, less_than_list):\n",
    "    upper_range = float(less_than[1:])\n",
    "    trim_df2[col] = trim_df2[col].apply(lambda x: replace_cat(x, less_than, upper_range))\n",
    "\n",
    "trim_df2.head(5)"
   ]
  },
  {
   "cell_type": "code",
   "execution_count": 136,
   "metadata": {
    "scrolled": true
   },
   "outputs": [
    {
     "name": "stdout",
     "output_type": "stream",
     "text": [
      "<class 'pandas.core.frame.DataFrame'>\n",
      "RangeIndex: 7380 entries, 0 to 7379\n",
      "Data columns (total 36 columns):\n",
      " #   Column                    Non-Null Count  Dtype  \n",
      "---  ------                    --------------  -----  \n",
      " 0   Admitted                  7380 non-null   int64  \n",
      " 1   COVIDResult               7380 non-null   object \n",
      " 2   Age                       7380 non-null   int64  \n",
      " 3   FirstRace                 7379 non-null   object \n",
      " 4   Ethnicity                 7380 non-null   object \n",
      " 5   Sex                       7380 non-null   object \n",
      " 6   heart_rate                7352 non-null   float64\n",
      " 7   sbp                       7292 non-null   float64\n",
      " 8   dbp                       7292 non-null   float64\n",
      " 9   pulse_ox                  7346 non-null   float64\n",
      " 10  resp_rate                 7312 non-null   float64\n",
      " 11  cbc_wbc                   6256 non-null   float64\n",
      " 12  cbc_hematocrit            6256 non-null   float64\n",
      " 13  cbc_hemoglobin            6257 non-null   float64\n",
      " 14  cbc_platelets             6256 non-null   float64\n",
      " 15  cbc_neutrophil_c          3873 non-null   float64\n",
      " 16  cbc_eosinophil_perc       3872 non-null   float64\n",
      " 17  cbc_lymphocyte_c          3874 non-null   float64\n",
      " 18  cbc_lymphocyte_perc       3874 non-null   float64\n",
      " 19  cbc_eosinophil_c          3872 non-null   float64\n",
      " 20  cbc_eosinophil_perc.1     3872 non-null   float64\n",
      " 21  cbc_monocyte_c            3874 non-null   float64\n",
      " 22  cbc_eosinophil_perc.2     3872 non-null   float64\n",
      " 23  cmp_sodium                6286 non-null   float64\n",
      " 24  cmp_potassium             5570 non-null   float64\n",
      " 25  cmp_chloride              6286 non-null   float64\n",
      " 26  cmp_bicarbonate           6276 non-null   float64\n",
      " 27  cmp_bun                   6286 non-null   float64\n",
      " 28  cmp_creatinine            6286 non-null   float64\n",
      " 29  cmp_glucose               6286 non-null   float64\n",
      " 30  cmp_alt                   5401 non-null   float64\n",
      " 31  cmp_ast                   4767 non-null   float64\n",
      " 32  cmp_alkaline_phosphatase  5399 non-null   float64\n",
      " 33  cmp_total_protein         5175 non-null   float64\n",
      " 34  cmp_albumin               5402 non-null   float64\n",
      " 35  cmp_bilirubin             5401 non-null   float64\n",
      "dtypes: float64(30), int64(2), object(4)\n",
      "memory usage: 2.0+ MB\n"
     ]
    }
   ],
   "source": [
    "trim_df2.info()"
   ]
  },
  {
   "cell_type": "markdown",
   "metadata": {},
   "source": [
    "###### 2.2.2 Encoding <a class=\"anchor\" id=\"encoding\"></a>"
   ]
  },
  {
   "cell_type": "code",
   "execution_count": 137,
   "metadata": {},
   "outputs": [
    {
     "data": {
      "text/html": [
       "<div>\n",
       "<style scoped>\n",
       "    .dataframe tbody tr th:only-of-type {\n",
       "        vertical-align: middle;\n",
       "    }\n",
       "\n",
       "    .dataframe tbody tr th {\n",
       "        vertical-align: top;\n",
       "    }\n",
       "\n",
       "    .dataframe thead th {\n",
       "        text-align: right;\n",
       "    }\n",
       "</style>\n",
       "<table border=\"1\" class=\"dataframe\">\n",
       "  <thead>\n",
       "    <tr style=\"text-align: right;\">\n",
       "      <th></th>\n",
       "      <th>Admitted</th>\n",
       "      <th>COVIDResult</th>\n",
       "      <th>Age</th>\n",
       "      <th>FirstRace</th>\n",
       "      <th>Ethnicity</th>\n",
       "      <th>Sex</th>\n",
       "      <th>heart_rate</th>\n",
       "      <th>sbp</th>\n",
       "      <th>dbp</th>\n",
       "      <th>pulse_ox</th>\n",
       "      <th>...</th>\n",
       "      <th>cmp_alt</th>\n",
       "      <th>cmp_ast</th>\n",
       "      <th>cmp_alkaline_phosphatase</th>\n",
       "      <th>cmp_total_protein</th>\n",
       "      <th>cmp_albumin</th>\n",
       "      <th>cmp_bilirubin</th>\n",
       "      <th>COVIDResult_Encoded</th>\n",
       "      <th>FirstRace_Encoded</th>\n",
       "      <th>Ethnicity_Encoded</th>\n",
       "      <th>Sex_Encoded</th>\n",
       "    </tr>\n",
       "  </thead>\n",
       "  <tbody>\n",
       "    <tr>\n",
       "      <th>0</th>\n",
       "      <td>1</td>\n",
       "      <td>None Detected</td>\n",
       "      <td>78</td>\n",
       "      <td>White or Caucasian</td>\n",
       "      <td>Non-Hispanic</td>\n",
       "      <td>Female</td>\n",
       "      <td>94.0</td>\n",
       "      <td>138.0</td>\n",
       "      <td>82.0</td>\n",
       "      <td>96.0</td>\n",
       "      <td>...</td>\n",
       "      <td>14.0</td>\n",
       "      <td>26.0</td>\n",
       "      <td>80.0</td>\n",
       "      <td>8.5</td>\n",
       "      <td>4.3</td>\n",
       "      <td>0.5</td>\n",
       "      <td>1.0</td>\n",
       "      <td>9.0</td>\n",
       "      <td>2.0</td>\n",
       "      <td>0.0</td>\n",
       "    </tr>\n",
       "    <tr>\n",
       "      <th>1</th>\n",
       "      <td>0</td>\n",
       "      <td>None Detected</td>\n",
       "      <td>23</td>\n",
       "      <td>White or Caucasian</td>\n",
       "      <td>Non-Hispanic</td>\n",
       "      <td>Female</td>\n",
       "      <td>121.0</td>\n",
       "      <td>134.0</td>\n",
       "      <td>88.0</td>\n",
       "      <td>98.0</td>\n",
       "      <td>...</td>\n",
       "      <td>73.0</td>\n",
       "      <td>NaN</td>\n",
       "      <td>100.0</td>\n",
       "      <td>8.1</td>\n",
       "      <td>4.6</td>\n",
       "      <td>0.6</td>\n",
       "      <td>1.0</td>\n",
       "      <td>9.0</td>\n",
       "      <td>2.0</td>\n",
       "      <td>0.0</td>\n",
       "    </tr>\n",
       "    <tr>\n",
       "      <th>2</th>\n",
       "      <td>0</td>\n",
       "      <td>None Detected</td>\n",
       "      <td>55</td>\n",
       "      <td>African American</td>\n",
       "      <td>Non-Hispanic</td>\n",
       "      <td>Male</td>\n",
       "      <td>83.0</td>\n",
       "      <td>152.0</td>\n",
       "      <td>76.0</td>\n",
       "      <td>98.0</td>\n",
       "      <td>...</td>\n",
       "      <td>26.0</td>\n",
       "      <td>29.0</td>\n",
       "      <td>106.0</td>\n",
       "      <td>7.1</td>\n",
       "      <td>4.0</td>\n",
       "      <td>0.7</td>\n",
       "      <td>1.0</td>\n",
       "      <td>0.0</td>\n",
       "      <td>2.0</td>\n",
       "      <td>1.0</td>\n",
       "    </tr>\n",
       "    <tr>\n",
       "      <th>3</th>\n",
       "      <td>1</td>\n",
       "      <td>None Detected</td>\n",
       "      <td>50</td>\n",
       "      <td>White or Caucasian</td>\n",
       "      <td>Non-Hispanic</td>\n",
       "      <td>Male</td>\n",
       "      <td>88.0</td>\n",
       "      <td>138.0</td>\n",
       "      <td>65.0</td>\n",
       "      <td>87.0</td>\n",
       "      <td>...</td>\n",
       "      <td>22.0</td>\n",
       "      <td>NaN</td>\n",
       "      <td>78.0</td>\n",
       "      <td>7.8</td>\n",
       "      <td>3.7</td>\n",
       "      <td>0.5</td>\n",
       "      <td>1.0</td>\n",
       "      <td>9.0</td>\n",
       "      <td>2.0</td>\n",
       "      <td>1.0</td>\n",
       "    </tr>\n",
       "    <tr>\n",
       "      <th>4</th>\n",
       "      <td>0</td>\n",
       "      <td>None Detected</td>\n",
       "      <td>67</td>\n",
       "      <td>African American</td>\n",
       "      <td>Non-Hispanic</td>\n",
       "      <td>Female</td>\n",
       "      <td>90.0</td>\n",
       "      <td>128.0</td>\n",
       "      <td>69.0</td>\n",
       "      <td>98.0</td>\n",
       "      <td>...</td>\n",
       "      <td>12.0</td>\n",
       "      <td>18.0</td>\n",
       "      <td>122.0</td>\n",
       "      <td>7.4</td>\n",
       "      <td>3.5</td>\n",
       "      <td>0.2</td>\n",
       "      <td>1.0</td>\n",
       "      <td>0.0</td>\n",
       "      <td>2.0</td>\n",
       "      <td>0.0</td>\n",
       "    </tr>\n",
       "  </tbody>\n",
       "</table>\n",
       "<p>5 rows × 40 columns</p>\n",
       "</div>"
      ],
      "text/plain": [
       "   Admitted    COVIDResult  Age           FirstRace     Ethnicity     Sex  \\\n",
       "0         1  None Detected   78  White or Caucasian  Non-Hispanic  Female   \n",
       "1         0  None Detected   23  White or Caucasian  Non-Hispanic  Female   \n",
       "2         0  None Detected   55    African American  Non-Hispanic    Male   \n",
       "3         1  None Detected   50  White or Caucasian  Non-Hispanic    Male   \n",
       "4         0  None Detected   67    African American  Non-Hispanic  Female   \n",
       "\n",
       "   heart_rate    sbp   dbp  pulse_ox  ...  cmp_alt  cmp_ast  \\\n",
       "0        94.0  138.0  82.0      96.0  ...     14.0     26.0   \n",
       "1       121.0  134.0  88.0      98.0  ...     73.0      NaN   \n",
       "2        83.0  152.0  76.0      98.0  ...     26.0     29.0   \n",
       "3        88.0  138.0  65.0      87.0  ...     22.0      NaN   \n",
       "4        90.0  128.0  69.0      98.0  ...     12.0     18.0   \n",
       "\n",
       "   cmp_alkaline_phosphatase  cmp_total_protein  cmp_albumin  cmp_bilirubin  \\\n",
       "0                      80.0                8.5          4.3            0.5   \n",
       "1                     100.0                8.1          4.6            0.6   \n",
       "2                     106.0                7.1          4.0            0.7   \n",
       "3                      78.0                7.8          3.7            0.5   \n",
       "4                     122.0                7.4          3.5            0.2   \n",
       "\n",
       "   COVIDResult_Encoded  FirstRace_Encoded  Ethnicity_Encoded  Sex_Encoded  \n",
       "0                  1.0                9.0                2.0          0.0  \n",
       "1                  1.0                9.0                2.0          0.0  \n",
       "2                  1.0                0.0                2.0          1.0  \n",
       "3                  1.0                9.0                2.0          1.0  \n",
       "4                  1.0                0.0                2.0          0.0  \n",
       "\n",
       "[5 rows x 40 columns]"
      ]
     },
     "execution_count": 137,
     "metadata": {},
     "output_type": "execute_result"
    }
   ],
   "source": [
    "cat_cols = [\n",
    "    'COVIDResult', 'FirstRace', 'Ethnicity', 'Sex'\n",
    "]\n",
    "\n",
    "trim_df3 = trim_df2.copy()\n",
    "for col in cat_cols:\n",
    "    trim_df3[col] = trim_df3[col].fillna(\"Unspecified\")\n",
    "    enc = OrdinalEncoder()\n",
    "    trim_df3[col + \"_Encoded\"] = enc.fit_transform(trim_df3[[col]])\n",
    "trim_df3.head(5)"
   ]
  },
  {
   "cell_type": "markdown",
   "metadata": {},
   "source": [
    "###### 2.2.3 Categorical Codes <a class=\"anchor\" id=\"codes\"></a>"
   ]
  },
  {
   "cell_type": "code",
   "execution_count": 138,
   "metadata": {
    "scrolled": false
   },
   "outputs": [
    {
     "data": {
      "text/markdown": [
       "**COVIDResult**"
      ],
      "text/plain": [
       "<IPython.core.display.Markdown object>"
      ]
     },
     "metadata": {},
     "output_type": "display_data"
    },
    {
     "name": "stdout",
     "output_type": "stream",
     "text": [
      "('Detected', 0.0)\n",
      "('None Detected', 1.0)\n",
      "\n"
     ]
    },
    {
     "data": {
      "text/markdown": [
       "**FirstRace**"
      ],
      "text/plain": [
       "<IPython.core.display.Markdown object>"
      ]
     },
     "metadata": {},
     "output_type": "display_data"
    },
    {
     "name": "stdout",
     "output_type": "stream",
     "text": [
      "('African American', 0.0)\n",
      "('American Indian and Alaska Native', 1.0)\n",
      "('Asian', 2.0)\n",
      "('Hispanic', 3.0)\n",
      "('Native Hawaiian and Other Pacific Islander', 4.0)\n",
      "('Other', 5.0)\n",
      "('Patient Refused', 6.0)\n",
      "('Patient Unavailable', 7.0)\n",
      "('Unspecified', 8.0)\n",
      "('White or Caucasian', 9.0)\n",
      "\n"
     ]
    },
    {
     "data": {
      "text/markdown": [
       "**Ethnicity**"
      ],
      "text/plain": [
       "<IPython.core.display.Markdown object>"
      ]
     },
     "metadata": {},
     "output_type": "display_data"
    },
    {
     "name": "stdout",
     "output_type": "stream",
     "text": [
      "('*Unspecified', 0.0)\n",
      "('Hispanic', 1.0)\n",
      "('Non-Hispanic', 2.0)\n",
      "('Patient Refused', 3.0)\n",
      "('Patient Unavailable', 4.0)\n",
      "\n"
     ]
    },
    {
     "data": {
      "text/markdown": [
       "**Sex**"
      ],
      "text/plain": [
       "<IPython.core.display.Markdown object>"
      ]
     },
     "metadata": {},
     "output_type": "display_data"
    },
    {
     "name": "stdout",
     "output_type": "stream",
     "text": [
      "('Female', 0.0)\n",
      "('Male', 1.0)\n",
      "('Unknown', 2.0)\n",
      "\n"
     ]
    }
   ],
   "source": [
    "for col in cat_cols:\n",
    "    display(Markdown(\"**{}**\".format(col)))\n",
    "    for each in trim_df3.groupby([col, col + '_Encoded']).indices:\n",
    "        print(each)\n",
    "    print()"
   ]
  },
  {
   "cell_type": "code",
   "execution_count": 139,
   "metadata": {
    "scrolled": true
   },
   "outputs": [
    {
     "data": {
      "text/html": [
       "<div>\n",
       "<style scoped>\n",
       "    .dataframe tbody tr th:only-of-type {\n",
       "        vertical-align: middle;\n",
       "    }\n",
       "\n",
       "    .dataframe tbody tr th {\n",
       "        vertical-align: top;\n",
       "    }\n",
       "\n",
       "    .dataframe thead th {\n",
       "        text-align: right;\n",
       "    }\n",
       "</style>\n",
       "<table border=\"1\" class=\"dataframe\">\n",
       "  <thead>\n",
       "    <tr style=\"text-align: right;\">\n",
       "      <th></th>\n",
       "      <th>Admitted</th>\n",
       "      <th>Age</th>\n",
       "      <th>heart_rate</th>\n",
       "      <th>sbp</th>\n",
       "      <th>dbp</th>\n",
       "      <th>pulse_ox</th>\n",
       "      <th>resp_rate</th>\n",
       "      <th>cbc_wbc</th>\n",
       "      <th>cbc_hematocrit</th>\n",
       "      <th>cbc_hemoglobin</th>\n",
       "      <th>...</th>\n",
       "      <th>cmp_alt</th>\n",
       "      <th>cmp_ast</th>\n",
       "      <th>cmp_alkaline_phosphatase</th>\n",
       "      <th>cmp_total_protein</th>\n",
       "      <th>cmp_albumin</th>\n",
       "      <th>cmp_bilirubin</th>\n",
       "      <th>COVIDResult_Encoded</th>\n",
       "      <th>FirstRace_Encoded</th>\n",
       "      <th>Ethnicity_Encoded</th>\n",
       "      <th>Sex_Encoded</th>\n",
       "    </tr>\n",
       "  </thead>\n",
       "  <tbody>\n",
       "    <tr>\n",
       "      <th>0</th>\n",
       "      <td>1</td>\n",
       "      <td>78</td>\n",
       "      <td>94.0</td>\n",
       "      <td>138.0</td>\n",
       "      <td>82.0</td>\n",
       "      <td>96.0</td>\n",
       "      <td>29.0</td>\n",
       "      <td>14.01</td>\n",
       "      <td>34.1</td>\n",
       "      <td>11.0</td>\n",
       "      <td>...</td>\n",
       "      <td>14.0</td>\n",
       "      <td>26.0</td>\n",
       "      <td>80.0</td>\n",
       "      <td>8.5</td>\n",
       "      <td>4.3</td>\n",
       "      <td>0.5</td>\n",
       "      <td>1.0</td>\n",
       "      <td>9.0</td>\n",
       "      <td>2.0</td>\n",
       "      <td>0.0</td>\n",
       "    </tr>\n",
       "    <tr>\n",
       "      <th>1</th>\n",
       "      <td>0</td>\n",
       "      <td>23</td>\n",
       "      <td>121.0</td>\n",
       "      <td>134.0</td>\n",
       "      <td>88.0</td>\n",
       "      <td>98.0</td>\n",
       "      <td>18.0</td>\n",
       "      <td>5.04</td>\n",
       "      <td>36.2</td>\n",
       "      <td>11.9</td>\n",
       "      <td>...</td>\n",
       "      <td>73.0</td>\n",
       "      <td>NaN</td>\n",
       "      <td>100.0</td>\n",
       "      <td>8.1</td>\n",
       "      <td>4.6</td>\n",
       "      <td>0.6</td>\n",
       "      <td>1.0</td>\n",
       "      <td>9.0</td>\n",
       "      <td>2.0</td>\n",
       "      <td>0.0</td>\n",
       "    </tr>\n",
       "    <tr>\n",
       "      <th>2</th>\n",
       "      <td>0</td>\n",
       "      <td>55</td>\n",
       "      <td>83.0</td>\n",
       "      <td>152.0</td>\n",
       "      <td>76.0</td>\n",
       "      <td>98.0</td>\n",
       "      <td>21.0</td>\n",
       "      <td>7.13</td>\n",
       "      <td>36.0</td>\n",
       "      <td>12.0</td>\n",
       "      <td>...</td>\n",
       "      <td>26.0</td>\n",
       "      <td>29.0</td>\n",
       "      <td>106.0</td>\n",
       "      <td>7.1</td>\n",
       "      <td>4.0</td>\n",
       "      <td>0.7</td>\n",
       "      <td>1.0</td>\n",
       "      <td>0.0</td>\n",
       "      <td>2.0</td>\n",
       "      <td>1.0</td>\n",
       "    </tr>\n",
       "    <tr>\n",
       "      <th>3</th>\n",
       "      <td>1</td>\n",
       "      <td>50</td>\n",
       "      <td>88.0</td>\n",
       "      <td>138.0</td>\n",
       "      <td>65.0</td>\n",
       "      <td>87.0</td>\n",
       "      <td>18.0</td>\n",
       "      <td>5.74</td>\n",
       "      <td>32.9</td>\n",
       "      <td>11.6</td>\n",
       "      <td>...</td>\n",
       "      <td>22.0</td>\n",
       "      <td>NaN</td>\n",
       "      <td>78.0</td>\n",
       "      <td>7.8</td>\n",
       "      <td>3.7</td>\n",
       "      <td>0.5</td>\n",
       "      <td>1.0</td>\n",
       "      <td>9.0</td>\n",
       "      <td>2.0</td>\n",
       "      <td>1.0</td>\n",
       "    </tr>\n",
       "    <tr>\n",
       "      <th>4</th>\n",
       "      <td>0</td>\n",
       "      <td>67</td>\n",
       "      <td>90.0</td>\n",
       "      <td>128.0</td>\n",
       "      <td>69.0</td>\n",
       "      <td>98.0</td>\n",
       "      <td>18.0</td>\n",
       "      <td>10.56</td>\n",
       "      <td>31.7</td>\n",
       "      <td>9.8</td>\n",
       "      <td>...</td>\n",
       "      <td>12.0</td>\n",
       "      <td>18.0</td>\n",
       "      <td>122.0</td>\n",
       "      <td>7.4</td>\n",
       "      <td>3.5</td>\n",
       "      <td>0.2</td>\n",
       "      <td>1.0</td>\n",
       "      <td>0.0</td>\n",
       "      <td>2.0</td>\n",
       "      <td>0.0</td>\n",
       "    </tr>\n",
       "  </tbody>\n",
       "</table>\n",
       "<p>5 rows × 36 columns</p>\n",
       "</div>"
      ],
      "text/plain": [
       "   Admitted  Age  heart_rate    sbp   dbp  pulse_ox  resp_rate  cbc_wbc  \\\n",
       "0         1   78        94.0  138.0  82.0      96.0       29.0    14.01   \n",
       "1         0   23       121.0  134.0  88.0      98.0       18.0     5.04   \n",
       "2         0   55        83.0  152.0  76.0      98.0       21.0     7.13   \n",
       "3         1   50        88.0  138.0  65.0      87.0       18.0     5.74   \n",
       "4         0   67        90.0  128.0  69.0      98.0       18.0    10.56   \n",
       "\n",
       "   cbc_hematocrit  cbc_hemoglobin  ...  cmp_alt  cmp_ast  \\\n",
       "0            34.1            11.0  ...     14.0     26.0   \n",
       "1            36.2            11.9  ...     73.0      NaN   \n",
       "2            36.0            12.0  ...     26.0     29.0   \n",
       "3            32.9            11.6  ...     22.0      NaN   \n",
       "4            31.7             9.8  ...     12.0     18.0   \n",
       "\n",
       "   cmp_alkaline_phosphatase  cmp_total_protein  cmp_albumin  cmp_bilirubin  \\\n",
       "0                      80.0                8.5          4.3            0.5   \n",
       "1                     100.0                8.1          4.6            0.6   \n",
       "2                     106.0                7.1          4.0            0.7   \n",
       "3                      78.0                7.8          3.7            0.5   \n",
       "4                     122.0                7.4          3.5            0.2   \n",
       "\n",
       "   COVIDResult_Encoded  FirstRace_Encoded  Ethnicity_Encoded  Sex_Encoded  \n",
       "0                  1.0                9.0                2.0          0.0  \n",
       "1                  1.0                9.0                2.0          0.0  \n",
       "2                  1.0                0.0                2.0          1.0  \n",
       "3                  1.0                9.0                2.0          1.0  \n",
       "4                  1.0                0.0                2.0          0.0  \n",
       "\n",
       "[5 rows x 36 columns]"
      ]
     },
     "execution_count": 139,
     "metadata": {},
     "output_type": "execute_result"
    }
   ],
   "source": [
    "trim_df3 = trim_df3.drop(columns=['COVIDResult', 'FirstRace', 'Ethnicity', 'Sex'])\n",
    "trim_df3.head(5)"
   ]
  },
  {
   "cell_type": "code",
   "execution_count": 140,
   "metadata": {},
   "outputs": [
    {
     "data": {
      "text/plain": [
       "(7380, 36)"
      ]
     },
     "execution_count": 140,
     "metadata": {},
     "output_type": "execute_result"
    }
   ],
   "source": [
    "trim_df3.shape"
   ]
  },
  {
   "cell_type": "code",
   "execution_count": 141,
   "metadata": {
    "scrolled": true
   },
   "outputs": [
    {
     "name": "stdout",
     "output_type": "stream",
     "text": [
      "<class 'pandas.core.frame.DataFrame'>\n",
      "RangeIndex: 7380 entries, 0 to 7379\n",
      "Data columns (total 36 columns):\n",
      " #   Column                    Non-Null Count  Dtype  \n",
      "---  ------                    --------------  -----  \n",
      " 0   Admitted                  7380 non-null   int64  \n",
      " 1   Age                       7380 non-null   int64  \n",
      " 2   heart_rate                7352 non-null   float64\n",
      " 3   sbp                       7292 non-null   float64\n",
      " 4   dbp                       7292 non-null   float64\n",
      " 5   pulse_ox                  7346 non-null   float64\n",
      " 6   resp_rate                 7312 non-null   float64\n",
      " 7   cbc_wbc                   6256 non-null   float64\n",
      " 8   cbc_hematocrit            6256 non-null   float64\n",
      " 9   cbc_hemoglobin            6257 non-null   float64\n",
      " 10  cbc_platelets             6256 non-null   float64\n",
      " 11  cbc_neutrophil_c          3873 non-null   float64\n",
      " 12  cbc_eosinophil_perc       3872 non-null   float64\n",
      " 13  cbc_lymphocyte_c          3874 non-null   float64\n",
      " 14  cbc_lymphocyte_perc       3874 non-null   float64\n",
      " 15  cbc_eosinophil_c          3872 non-null   float64\n",
      " 16  cbc_eosinophil_perc.1     3872 non-null   float64\n",
      " 17  cbc_monocyte_c            3874 non-null   float64\n",
      " 18  cbc_eosinophil_perc.2     3872 non-null   float64\n",
      " 19  cmp_sodium                6286 non-null   float64\n",
      " 20  cmp_potassium             5570 non-null   float64\n",
      " 21  cmp_chloride              6286 non-null   float64\n",
      " 22  cmp_bicarbonate           6276 non-null   float64\n",
      " 23  cmp_bun                   6286 non-null   float64\n",
      " 24  cmp_creatinine            6286 non-null   float64\n",
      " 25  cmp_glucose               6286 non-null   float64\n",
      " 26  cmp_alt                   5401 non-null   float64\n",
      " 27  cmp_ast                   4767 non-null   float64\n",
      " 28  cmp_alkaline_phosphatase  5399 non-null   float64\n",
      " 29  cmp_total_protein         5175 non-null   float64\n",
      " 30  cmp_albumin               5402 non-null   float64\n",
      " 31  cmp_bilirubin             5401 non-null   float64\n",
      " 32  COVIDResult_Encoded       7380 non-null   float64\n",
      " 33  FirstRace_Encoded         7380 non-null   float64\n",
      " 34  Ethnicity_Encoded         7380 non-null   float64\n",
      " 35  Sex_Encoded               7380 non-null   float64\n",
      "dtypes: float64(34), int64(2)\n",
      "memory usage: 2.0 MB\n"
     ]
    }
   ],
   "source": [
    "trim_df3.info()"
   ]
  },
  {
   "cell_type": "markdown",
   "metadata": {},
   "source": [
    "#### 2.3 Handle Missing Values <a class=\"anchor\" id=\"handle2\"></a>"
   ]
  },
  {
   "cell_type": "code",
   "execution_count": 142,
   "metadata": {
    "scrolled": true
   },
   "outputs": [
    {
     "data": {
      "text/html": [
       "<div>\n",
       "<style scoped>\n",
       "    .dataframe tbody tr th:only-of-type {\n",
       "        vertical-align: middle;\n",
       "    }\n",
       "\n",
       "    .dataframe tbody tr th {\n",
       "        vertical-align: top;\n",
       "    }\n",
       "\n",
       "    .dataframe thead th {\n",
       "        text-align: right;\n",
       "    }\n",
       "</style>\n",
       "<table border=\"1\" class=\"dataframe\">\n",
       "  <thead>\n",
       "    <tr style=\"text-align: right;\">\n",
       "      <th></th>\n",
       "      <th>Admitted</th>\n",
       "      <th>Age</th>\n",
       "      <th>heart_rate</th>\n",
       "      <th>sbp</th>\n",
       "      <th>dbp</th>\n",
       "      <th>pulse_ox</th>\n",
       "      <th>resp_rate</th>\n",
       "      <th>cbc_wbc</th>\n",
       "      <th>cbc_hematocrit</th>\n",
       "      <th>cbc_hemoglobin</th>\n",
       "      <th>...</th>\n",
       "      <th>cmp_alt</th>\n",
       "      <th>cmp_ast</th>\n",
       "      <th>cmp_alkaline_phosphatase</th>\n",
       "      <th>cmp_total_protein</th>\n",
       "      <th>cmp_albumin</th>\n",
       "      <th>cmp_bilirubin</th>\n",
       "      <th>COVIDResult_Encoded</th>\n",
       "      <th>FirstRace_Encoded</th>\n",
       "      <th>Ethnicity_Encoded</th>\n",
       "      <th>Sex_Encoded</th>\n",
       "    </tr>\n",
       "  </thead>\n",
       "  <tbody>\n",
       "    <tr>\n",
       "      <th>0</th>\n",
       "      <td>1</td>\n",
       "      <td>78</td>\n",
       "      <td>94.0</td>\n",
       "      <td>138.0</td>\n",
       "      <td>82.0</td>\n",
       "      <td>96.0</td>\n",
       "      <td>29.0</td>\n",
       "      <td>14.01</td>\n",
       "      <td>34.1</td>\n",
       "      <td>11.0</td>\n",
       "      <td>...</td>\n",
       "      <td>14.0</td>\n",
       "      <td>26.000000</td>\n",
       "      <td>80.0</td>\n",
       "      <td>8.5</td>\n",
       "      <td>4.3</td>\n",
       "      <td>0.5</td>\n",
       "      <td>1.0</td>\n",
       "      <td>9.0</td>\n",
       "      <td>2.0</td>\n",
       "      <td>0.0</td>\n",
       "    </tr>\n",
       "    <tr>\n",
       "      <th>1</th>\n",
       "      <td>0</td>\n",
       "      <td>23</td>\n",
       "      <td>121.0</td>\n",
       "      <td>134.0</td>\n",
       "      <td>88.0</td>\n",
       "      <td>98.0</td>\n",
       "      <td>18.0</td>\n",
       "      <td>5.04</td>\n",
       "      <td>36.2</td>\n",
       "      <td>11.9</td>\n",
       "      <td>...</td>\n",
       "      <td>73.0</td>\n",
       "      <td>55.627858</td>\n",
       "      <td>100.0</td>\n",
       "      <td>8.1</td>\n",
       "      <td>4.6</td>\n",
       "      <td>0.6</td>\n",
       "      <td>1.0</td>\n",
       "      <td>9.0</td>\n",
       "      <td>2.0</td>\n",
       "      <td>0.0</td>\n",
       "    </tr>\n",
       "    <tr>\n",
       "      <th>2</th>\n",
       "      <td>0</td>\n",
       "      <td>55</td>\n",
       "      <td>83.0</td>\n",
       "      <td>152.0</td>\n",
       "      <td>76.0</td>\n",
       "      <td>98.0</td>\n",
       "      <td>21.0</td>\n",
       "      <td>7.13</td>\n",
       "      <td>36.0</td>\n",
       "      <td>12.0</td>\n",
       "      <td>...</td>\n",
       "      <td>26.0</td>\n",
       "      <td>29.000000</td>\n",
       "      <td>106.0</td>\n",
       "      <td>7.1</td>\n",
       "      <td>4.0</td>\n",
       "      <td>0.7</td>\n",
       "      <td>1.0</td>\n",
       "      <td>0.0</td>\n",
       "      <td>2.0</td>\n",
       "      <td>1.0</td>\n",
       "    </tr>\n",
       "    <tr>\n",
       "      <th>3</th>\n",
       "      <td>1</td>\n",
       "      <td>50</td>\n",
       "      <td>88.0</td>\n",
       "      <td>138.0</td>\n",
       "      <td>65.0</td>\n",
       "      <td>87.0</td>\n",
       "      <td>18.0</td>\n",
       "      <td>5.74</td>\n",
       "      <td>32.9</td>\n",
       "      <td>11.6</td>\n",
       "      <td>...</td>\n",
       "      <td>22.0</td>\n",
       "      <td>55.627858</td>\n",
       "      <td>78.0</td>\n",
       "      <td>7.8</td>\n",
       "      <td>3.7</td>\n",
       "      <td>0.5</td>\n",
       "      <td>1.0</td>\n",
       "      <td>9.0</td>\n",
       "      <td>2.0</td>\n",
       "      <td>1.0</td>\n",
       "    </tr>\n",
       "    <tr>\n",
       "      <th>4</th>\n",
       "      <td>0</td>\n",
       "      <td>67</td>\n",
       "      <td>90.0</td>\n",
       "      <td>128.0</td>\n",
       "      <td>69.0</td>\n",
       "      <td>98.0</td>\n",
       "      <td>18.0</td>\n",
       "      <td>10.56</td>\n",
       "      <td>31.7</td>\n",
       "      <td>9.8</td>\n",
       "      <td>...</td>\n",
       "      <td>12.0</td>\n",
       "      <td>18.000000</td>\n",
       "      <td>122.0</td>\n",
       "      <td>7.4</td>\n",
       "      <td>3.5</td>\n",
       "      <td>0.2</td>\n",
       "      <td>1.0</td>\n",
       "      <td>0.0</td>\n",
       "      <td>2.0</td>\n",
       "      <td>0.0</td>\n",
       "    </tr>\n",
       "  </tbody>\n",
       "</table>\n",
       "<p>5 rows × 36 columns</p>\n",
       "</div>"
      ],
      "text/plain": [
       "   Admitted  Age  heart_rate    sbp   dbp  pulse_ox  resp_rate  cbc_wbc  \\\n",
       "0         1   78        94.0  138.0  82.0      96.0       29.0    14.01   \n",
       "1         0   23       121.0  134.0  88.0      98.0       18.0     5.04   \n",
       "2         0   55        83.0  152.0  76.0      98.0       21.0     7.13   \n",
       "3         1   50        88.0  138.0  65.0      87.0       18.0     5.74   \n",
       "4         0   67        90.0  128.0  69.0      98.0       18.0    10.56   \n",
       "\n",
       "   cbc_hematocrit  cbc_hemoglobin  ...  cmp_alt    cmp_ast  \\\n",
       "0            34.1            11.0  ...     14.0  26.000000   \n",
       "1            36.2            11.9  ...     73.0  55.627858   \n",
       "2            36.0            12.0  ...     26.0  29.000000   \n",
       "3            32.9            11.6  ...     22.0  55.627858   \n",
       "4            31.7             9.8  ...     12.0  18.000000   \n",
       "\n",
       "   cmp_alkaline_phosphatase  cmp_total_protein  cmp_albumin  cmp_bilirubin  \\\n",
       "0                      80.0                8.5          4.3            0.5   \n",
       "1                     100.0                8.1          4.6            0.6   \n",
       "2                     106.0                7.1          4.0            0.7   \n",
       "3                      78.0                7.8          3.7            0.5   \n",
       "4                     122.0                7.4          3.5            0.2   \n",
       "\n",
       "   COVIDResult_Encoded  FirstRace_Encoded  Ethnicity_Encoded  Sex_Encoded  \n",
       "0                  1.0                9.0                2.0          0.0  \n",
       "1                  1.0                9.0                2.0          0.0  \n",
       "2                  1.0                0.0                2.0          1.0  \n",
       "3                  1.0                9.0                2.0          1.0  \n",
       "4                  1.0                0.0                2.0          0.0  \n",
       "\n",
       "[5 rows x 36 columns]"
      ]
     },
     "execution_count": 142,
     "metadata": {},
     "output_type": "execute_result"
    }
   ],
   "source": [
    "num_cols = [\n",
    "    'heart_rate', 'sbp', 'dbp', 'pulse_ox', 'resp_rate', 'cbc_wbc', 'cbc_hematocrit', 'cbc_hemoglobin',\n",
    "    'cbc_platelets', 'cbc_neutrophil_c', 'cbc_eosinophil_perc', 'cbc_lymphocyte_c',\n",
    "    'cbc_lymphocyte_perc', 'cbc_eosinophil_c', 'cbc_eosinophil_perc.1', 'cbc_monocyte_c',\n",
    "    'cbc_eosinophil_perc.2', 'cmp_sodium', 'cmp_potassium', 'cmp_chloride', 'cmp_bicarbonate',\n",
    "    'cmp_bun', 'cmp_creatinine', 'cmp_glucose', 'cmp_alt', 'cmp_ast', 'cmp_alkaline_phosphatase',\n",
    "    'cmp_total_protein', 'cmp_albumin', 'cmp_bilirubin'\n",
    "]\n",
    "\n",
    "trim_df4 = trim_df3.copy()\n",
    "for col in num_cols:\n",
    "    trim_df4[col] = trim_df4[col].replace(np.NaN, trim_df4[col].mean())\n",
    "    \n",
    "trim_df4.head(5)"
   ]
  },
  {
   "cell_type": "code",
   "execution_count": 143,
   "metadata": {},
   "outputs": [
    {
     "data": {
      "text/plain": [
       "53977"
      ]
     },
     "execution_count": 143,
     "metadata": {},
     "output_type": "execute_result"
    }
   ],
   "source": [
    "trim_df3.isnull().sum().sum()"
   ]
  },
  {
   "cell_type": "code",
   "execution_count": 144,
   "metadata": {},
   "outputs": [
    {
     "data": {
      "text/plain": [
       "0"
      ]
     },
     "execution_count": 144,
     "metadata": {},
     "output_type": "execute_result"
    }
   ],
   "source": [
    "trim_df4.isnull().sum().sum()"
   ]
  },
  {
   "cell_type": "markdown",
   "metadata": {},
   "source": [
    "#### 2.4 Feature Scaling <a class=\"anchor\" id=\"scaling\"></a>"
   ]
  },
  {
   "cell_type": "code",
   "execution_count": 145,
   "metadata": {},
   "outputs": [],
   "source": [
    "code_cols = [\n",
    "    'Admitted', 'FirstRace_Encoded', 'Ethnicity_Encoded', 'Sex_Encoded', 'COVIDResult_Encoded'\n",
    "]\n",
    "\n",
    "codes_df = trim_df4[code_cols]\n",
    "trim_df5 = trim_df4.drop(columns=code_cols)\n",
    "\n",
    "scaler = StandardScaler()\n",
    "scaled = scaler.fit_transform(trim_df5)\n",
    "scaled_df = pd.DataFrame(data=scaled, columns=trim_df5.columns)"
   ]
  },
  {
   "cell_type": "code",
   "execution_count": 146,
   "metadata": {
    "scrolled": true
   },
   "outputs": [
    {
     "data": {
      "text/html": [
       "<div>\n",
       "<style scoped>\n",
       "    .dataframe tbody tr th:only-of-type {\n",
       "        vertical-align: middle;\n",
       "    }\n",
       "\n",
       "    .dataframe tbody tr th {\n",
       "        vertical-align: top;\n",
       "    }\n",
       "\n",
       "    .dataframe thead th {\n",
       "        text-align: right;\n",
       "    }\n",
       "</style>\n",
       "<table border=\"1\" class=\"dataframe\">\n",
       "  <thead>\n",
       "    <tr style=\"text-align: right;\">\n",
       "      <th></th>\n",
       "      <th>Age</th>\n",
       "      <th>heart_rate</th>\n",
       "      <th>sbp</th>\n",
       "      <th>dbp</th>\n",
       "      <th>pulse_ox</th>\n",
       "      <th>resp_rate</th>\n",
       "      <th>cbc_wbc</th>\n",
       "      <th>cbc_hematocrit</th>\n",
       "      <th>cbc_hemoglobin</th>\n",
       "      <th>cbc_platelets</th>\n",
       "      <th>...</th>\n",
       "      <th>cmp_ast</th>\n",
       "      <th>cmp_alkaline_phosphatase</th>\n",
       "      <th>cmp_total_protein</th>\n",
       "      <th>cmp_albumin</th>\n",
       "      <th>cmp_bilirubin</th>\n",
       "      <th>Admitted</th>\n",
       "      <th>FirstRace_Encoded</th>\n",
       "      <th>Ethnicity_Encoded</th>\n",
       "      <th>Sex_Encoded</th>\n",
       "      <th>COVIDResult_Encoded</th>\n",
       "    </tr>\n",
       "  </thead>\n",
       "  <tbody>\n",
       "    <tr>\n",
       "      <th>0</th>\n",
       "      <td>1.233730</td>\n",
       "      <td>-0.022731</td>\n",
       "      <td>0.073884</td>\n",
       "      <td>0.392190</td>\n",
       "      <td>-0.278428</td>\n",
       "      <td>1.184224</td>\n",
       "      <td>0.520132</td>\n",
       "      <td>-0.721388</td>\n",
       "      <td>-0.741784</td>\n",
       "      <td>0.616521</td>\n",
       "      <td>...</td>\n",
       "      <td>-0.239182</td>\n",
       "      <td>-0.443815</td>\n",
       "      <td>1.824984</td>\n",
       "      <td>0.917976</td>\n",
       "      <td>-0.234209</td>\n",
       "      <td>1</td>\n",
       "      <td>9.0</td>\n",
       "      <td>2.0</td>\n",
       "      <td>0.0</td>\n",
       "      <td>1.0</td>\n",
       "    </tr>\n",
       "    <tr>\n",
       "      <th>1</th>\n",
       "      <td>-1.104301</td>\n",
       "      <td>1.135743</td>\n",
       "      <td>-0.073763</td>\n",
       "      <td>0.786661</td>\n",
       "      <td>0.244608</td>\n",
       "      <td>-0.450035</td>\n",
       "      <td>-0.702405</td>\n",
       "      <td>-0.383468</td>\n",
       "      <td>-0.337826</td>\n",
       "      <td>0.722131</td>\n",
       "      <td>...</td>\n",
       "      <td>0.000000</td>\n",
       "      <td>-0.183931</td>\n",
       "      <td>1.258890</td>\n",
       "      <td>1.524718</td>\n",
       "      <td>-0.166288</td>\n",
       "      <td>0</td>\n",
       "      <td>9.0</td>\n",
       "      <td>2.0</td>\n",
       "      <td>0.0</td>\n",
       "      <td>1.0</td>\n",
       "    </tr>\n",
       "    <tr>\n",
       "      <th>2</th>\n",
       "      <td>0.256008</td>\n",
       "      <td>-0.494702</td>\n",
       "      <td>0.590651</td>\n",
       "      <td>-0.002281</td>\n",
       "      <td>0.244608</td>\n",
       "      <td>-0.004328</td>\n",
       "      <td>-0.417555</td>\n",
       "      <td>-0.415651</td>\n",
       "      <td>-0.292942</td>\n",
       "      <td>-0.091067</td>\n",
       "      <td>...</td>\n",
       "      <td>-0.214963</td>\n",
       "      <td>-0.105966</td>\n",
       "      <td>-0.156346</td>\n",
       "      <td>0.311233</td>\n",
       "      <td>-0.098368</td>\n",
       "      <td>0</td>\n",
       "      <td>0.0</td>\n",
       "      <td>2.0</td>\n",
       "      <td>1.0</td>\n",
       "      <td>1.0</td>\n",
       "    </tr>\n",
       "    <tr>\n",
       "      <th>3</th>\n",
       "      <td>0.043460</td>\n",
       "      <td>-0.280170</td>\n",
       "      <td>0.073884</td>\n",
       "      <td>-0.725478</td>\n",
       "      <td>-2.632085</td>\n",
       "      <td>-0.450035</td>\n",
       "      <td>-0.607001</td>\n",
       "      <td>-0.914485</td>\n",
       "      <td>-0.472478</td>\n",
       "      <td>-1.316144</td>\n",
       "      <td>...</td>\n",
       "      <td>0.000000</td>\n",
       "      <td>-0.469804</td>\n",
       "      <td>0.834319</td>\n",
       "      <td>-0.295509</td>\n",
       "      <td>-0.234209</td>\n",
       "      <td>1</td>\n",
       "      <td>9.0</td>\n",
       "      <td>2.0</td>\n",
       "      <td>1.0</td>\n",
       "      <td>1.0</td>\n",
       "    </tr>\n",
       "    <tr>\n",
       "      <th>4</th>\n",
       "      <td>0.766124</td>\n",
       "      <td>-0.194357</td>\n",
       "      <td>-0.295234</td>\n",
       "      <td>-0.462497</td>\n",
       "      <td>0.244608</td>\n",
       "      <td>-0.450035</td>\n",
       "      <td>0.049926</td>\n",
       "      <td>-1.107582</td>\n",
       "      <td>-1.280394</td>\n",
       "      <td>0.605960</td>\n",
       "      <td>...</td>\n",
       "      <td>-0.303765</td>\n",
       "      <td>0.101942</td>\n",
       "      <td>0.268225</td>\n",
       "      <td>-0.700004</td>\n",
       "      <td>-0.437970</td>\n",
       "      <td>0</td>\n",
       "      <td>0.0</td>\n",
       "      <td>2.0</td>\n",
       "      <td>0.0</td>\n",
       "      <td>1.0</td>\n",
       "    </tr>\n",
       "  </tbody>\n",
       "</table>\n",
       "<p>5 rows × 36 columns</p>\n",
       "</div>"
      ],
      "text/plain": [
       "        Age  heart_rate       sbp       dbp  pulse_ox  resp_rate   cbc_wbc  \\\n",
       "0  1.233730   -0.022731  0.073884  0.392190 -0.278428   1.184224  0.520132   \n",
       "1 -1.104301    1.135743 -0.073763  0.786661  0.244608  -0.450035 -0.702405   \n",
       "2  0.256008   -0.494702  0.590651 -0.002281  0.244608  -0.004328 -0.417555   \n",
       "3  0.043460   -0.280170  0.073884 -0.725478 -2.632085  -0.450035 -0.607001   \n",
       "4  0.766124   -0.194357 -0.295234 -0.462497  0.244608  -0.450035  0.049926   \n",
       "\n",
       "   cbc_hematocrit  cbc_hemoglobin  cbc_platelets  ...   cmp_ast  \\\n",
       "0       -0.721388       -0.741784       0.616521  ... -0.239182   \n",
       "1       -0.383468       -0.337826       0.722131  ...  0.000000   \n",
       "2       -0.415651       -0.292942      -0.091067  ... -0.214963   \n",
       "3       -0.914485       -0.472478      -1.316144  ...  0.000000   \n",
       "4       -1.107582       -1.280394       0.605960  ... -0.303765   \n",
       "\n",
       "   cmp_alkaline_phosphatase  cmp_total_protein  cmp_albumin  cmp_bilirubin  \\\n",
       "0                 -0.443815           1.824984     0.917976      -0.234209   \n",
       "1                 -0.183931           1.258890     1.524718      -0.166288   \n",
       "2                 -0.105966          -0.156346     0.311233      -0.098368   \n",
       "3                 -0.469804           0.834319    -0.295509      -0.234209   \n",
       "4                  0.101942           0.268225    -0.700004      -0.437970   \n",
       "\n",
       "   Admitted  FirstRace_Encoded  Ethnicity_Encoded  Sex_Encoded  \\\n",
       "0         1                9.0                2.0          0.0   \n",
       "1         0                9.0                2.0          0.0   \n",
       "2         0                0.0                2.0          1.0   \n",
       "3         1                9.0                2.0          1.0   \n",
       "4         0                0.0                2.0          0.0   \n",
       "\n",
       "   COVIDResult_Encoded  \n",
       "0                  1.0  \n",
       "1                  1.0  \n",
       "2                  1.0  \n",
       "3                  1.0  \n",
       "4                  1.0  \n",
       "\n",
       "[5 rows x 36 columns]"
      ]
     },
     "execution_count": 146,
     "metadata": {},
     "output_type": "execute_result"
    }
   ],
   "source": [
    "merged_df = pd.concat([scaled_df, codes_df], axis=1)\n",
    "merged_df.head(5)"
   ]
  },
  {
   "cell_type": "markdown",
   "metadata": {},
   "source": [
    "#### 2.5 Train / Test Split <a class=\"anchor\" id=\"split\"></a>"
   ]
  },
  {
   "cell_type": "code",
   "execution_count": 147,
   "metadata": {},
   "outputs": [],
   "source": [
    "train, test = train_test_split(merged_df, test_size=0.2, random_state=SEED)"
   ]
  },
  {
   "cell_type": "markdown",
   "metadata": {},
   "source": [
    "#### 2.6 Final Prepared Data <a class=\"anchor\" id=\"final_data\"></a>"
   ]
  },
  {
   "cell_type": "code",
   "execution_count": 148,
   "metadata": {},
   "outputs": [],
   "source": [
    "final_data = merged_df.copy()\n",
    "final_train = train.copy()\n",
    "final_test = test.copy()\n",
    "target = 'COVIDResult_Encoded'"
   ]
  },
  {
   "cell_type": "code",
   "execution_count": 149,
   "metadata": {},
   "outputs": [
    {
     "data": {
      "text/plain": [
       "(7380, 36)"
      ]
     },
     "execution_count": 149,
     "metadata": {},
     "output_type": "execute_result"
    }
   ],
   "source": [
    "final_data.shape"
   ]
  },
  {
   "cell_type": "code",
   "execution_count": 150,
   "metadata": {},
   "outputs": [
    {
     "data": {
      "text/plain": [
       "(5904, 36)"
      ]
     },
     "execution_count": 150,
     "metadata": {},
     "output_type": "execute_result"
    }
   ],
   "source": [
    "final_train.shape"
   ]
  },
  {
   "cell_type": "code",
   "execution_count": 151,
   "metadata": {},
   "outputs": [
    {
     "data": {
      "text/plain": [
       "(1476, 36)"
      ]
     },
     "execution_count": 151,
     "metadata": {},
     "output_type": "execute_result"
    }
   ],
   "source": [
    "final_test.shape"
   ]
  },
  {
   "cell_type": "code",
   "execution_count": 43,
   "metadata": {},
   "outputs": [
    {
     "name": "stdout",
     "output_type": "stream",
     "text": [
      "1.0    5543\n",
      "0.0     361\n",
      "Name: COVIDResult_Encoded, dtype: int64\n",
      "1.0    1367\n",
      "0.0     109\n",
      "Name: COVIDResult_Encoded, dtype: int64\n"
     ]
    }
   ],
   "source": [
    "print(final_train[target].value_counts())\n",
    "print(final_test[target].value_counts())"
   ]
  },
  {
   "cell_type": "markdown",
   "metadata": {},
   "source": [
    "## 3. Feature Selection <a class=\"anchor\" id=\"feature\"></a>"
   ]
  },
  {
   "cell_type": "markdown",
   "metadata": {},
   "source": [
    "[Table of Contents](#toc)"
   ]
  },
  {
   "cell_type": "code",
   "execution_count": 44,
   "metadata": {},
   "outputs": [],
   "source": [
    "X = final_data.loc[:, final_data.columns != target]\n",
    "pos_X = trim_df4.loc[:, trim_df4.columns != target]\n",
    "X_norm = MinMaxScaler().fit_transform(pos_X)\n",
    "Y = final_data[target]"
   ]
  },
  {
   "cell_type": "markdown",
   "metadata": {},
   "source": [
    "###### Number of Features"
   ]
  },
  {
   "cell_type": "code",
   "execution_count": 45,
   "metadata": {},
   "outputs": [],
   "source": [
    "top_n_feats = 35"
   ]
  },
  {
   "cell_type": "code",
   "execution_count": 46,
   "metadata": {},
   "outputs": [],
   "source": [
    "def plot_scores(scores, selector):\n",
    "    plt.bar(range(len(scores)), scores, color='b')\n",
    "    plt.show()"
   ]
  },
  {
   "cell_type": "markdown",
   "metadata": {},
   "source": [
    "#### 3.1 Pearson Correlation <a class=\"anchor\" id=\"corr\"></a>"
   ]
  },
  {
   "cell_type": "code",
   "execution_count": 47,
   "metadata": {},
   "outputs": [
    {
     "data": {
      "image/png": "[encoded data removed]",
      "text/plain": [
       "<Figure size 432x288 with 1 Axes>"
      ]
     },
     "metadata": {
      "needs_background": "light"
     },
     "output_type": "display_data"
    },
    {
     "data": {
      "text/plain": [
       "array([ True,  True,  True,  True,  True,  True,  True,  True,  True,\n",
       "        True,  True,  True,  True,  True,  True,  True,  True,  True,\n",
       "        True,  True,  True,  True,  True,  True,  True,  True,  True,\n",
       "        True,  True,  True,  True,  True,  True,  True,  True])"
      ]
     },
     "execution_count": 47,
     "metadata": {},
     "output_type": "execute_result"
    }
   ],
   "source": [
    "def correlation_selector(x, y):\n",
    "    correl_dict = {\n",
    "        col: np.corrcoef(x[col], y)[0, 1] for col in x.columns.tolist()\n",
    "    }\n",
    "    correl_dict = {\n",
    "        col: 0 if np.isnan(cor) else np.abs(cor) for col, cor in correl_dict.items()\n",
    "    }\n",
    "    plot_scores(list(correl_dict.values()), 'correlation')\n",
    "    \n",
    "    correl_dict = dict(sorted(correl_dict.items(), key=lambda item: item[1], reverse=True)[:top_n_feats])\n",
    "    top_n = np.array([\n",
    "        True if col in list(correl_dict.keys()) else False for col in x.columns.tolist()\n",
    "    ])\n",
    "    return top_n\n",
    "\n",
    "\n",
    "corr_top_n = correlation_selector(X, Y)\n",
    "corr_top_n"
   ]
  },
  {
   "cell_type": "markdown",
   "metadata": {},
   "source": [
    "#### 3.2 Chi-Squared <a class=\"anchor\" id=\"chi_sq\"></a>"
   ]
  },
  {
   "cell_type": "code",
   "execution_count": 48,
   "metadata": {},
   "outputs": [
    {
     "data": {
      "image/png": "[encoded data removed]",
      "text/plain": [
       "<Figure size 432x288 with 1 Axes>"
      ]
     },
     "metadata": {
      "needs_background": "light"
     },
     "output_type": "display_data"
    },
    {
     "data": {
      "text/plain": [
       "array([ True,  True,  True,  True,  True,  True,  True,  True,  True,\n",
       "        True,  True,  True,  True,  True,  True,  True,  True,  True,\n",
       "        True,  True,  True,  True,  True,  True,  True,  True,  True,\n",
       "        True,  True,  True,  True,  True,  True,  True,  True])"
      ]
     },
     "execution_count": 48,
     "metadata": {},
     "output_type": "execute_result"
    }
   ],
   "source": [
    "def chi_selector(y):\n",
    "    chi_sq = SelectKBest(chi2, k=top_n_feats)\n",
    "    chi_sq.fit(X_norm, y)\n",
    "    top_n = chi_sq.get_support()\n",
    "    plot_scores(chi_sq.scores_, 'chi-squared')\n",
    "    return top_n\n",
    "\n",
    "\n",
    "chi_top_n = chi_selector(Y)\n",
    "chi_top_n"
   ]
  },
  {
   "cell_type": "markdown",
   "metadata": {},
   "source": [
    "#### 3.3 Recursive Feature Elimination <a class=\"anchor\" id=\"rfe\"></a>"
   ]
  },
  {
   "cell_type": "code",
   "execution_count": 49,
   "metadata": {},
   "outputs": [
    {
     "name": "stderr",
     "output_type": "stream",
     "text": [
      "/Library/Frameworks/Python.framework/Versions/3.6/lib/python3.6/site-packages/sklearn/linear_model/logistic.py:432: FutureWarning: Default solver will be changed to 'lbfgs' in 0.22. Specify a solver to silence this warning.\n",
      "  FutureWarning)\n"
     ]
    },
    {
     "data": {
      "text/plain": [
       "array([ True,  True,  True,  True,  True,  True,  True,  True,  True,\n",
       "        True,  True,  True,  True,  True,  True,  True,  True,  True,\n",
       "        True,  True,  True,  True,  True,  True,  True,  True,  True,\n",
       "        True,  True,  True,  True,  True,  True,  True,  True])"
      ]
     },
     "execution_count": 49,
     "metadata": {},
     "output_type": "execute_result"
    }
   ],
   "source": [
    "def rfe_selector(y):\n",
    "    rfe = RFE(estimator=LogisticRegression(), n_features_to_select=top_n_feats, step=10, verbose=0)\n",
    "    rfe.fit(X_norm, y)\n",
    "    top_n = rfe.get_support()\n",
    "    return top_n\n",
    "\n",
    "\n",
    "rfe_top_n = rfe_selector(Y)\n",
    "rfe_top_n"
   ]
  },
  {
   "cell_type": "markdown",
   "metadata": {},
   "source": [
    "#### 3.4 Lasso: SelectFromModel <a class=\"anchor\" id=\"lasso\"></a>"
   ]
  },
  {
   "cell_type": "code",
   "execution_count": 50,
   "metadata": {},
   "outputs": [
    {
     "name": "stderr",
     "output_type": "stream",
     "text": [
      "/Library/Frameworks/Python.framework/Versions/3.6/lib/python3.6/site-packages/sklearn/linear_model/logistic.py:432: FutureWarning: Default solver will be changed to 'lbfgs' in 0.22. Specify a solver to silence this warning.\n",
      "  FutureWarning)\n"
     ]
    },
    {
     "data": {
      "text/plain": [
       "array([False, False, False, False, False,  True, False,  True, False,\n",
       "       False,  True,  True,  True,  True, False, False,  True,  True,\n",
       "        True, False, False, False, False, False, False, False, False,\n",
       "       False,  True,  True,  True,  True, False,  True, False])"
      ]
     },
     "execution_count": 50,
     "metadata": {},
     "output_type": "execute_result"
    }
   ],
   "source": [
    "def lasso_selector(y):\n",
    "    lasso = SelectFromModel(LogisticRegression(penalty=\"l2\"), max_features=top_n_feats)\n",
    "    lasso.fit(X_norm, y)\n",
    "    top_n = lasso.get_support()\n",
    "    return top_n\n",
    "\n",
    "\n",
    "lasso_top_n = lasso_selector(Y)\n",
    "lasso_top_n"
   ]
  },
  {
   "cell_type": "markdown",
   "metadata": {},
   "source": [
    "#### 3.5 RandomForestClassifier: SelectFromModel <a class=\"anchor\" id=\"rfc\"></a>"
   ]
  },
  {
   "cell_type": "code",
   "execution_count": 51,
   "metadata": {},
   "outputs": [
    {
     "data": {
      "text/plain": [
       "array([ True,  True,  True,  True,  True,  True,  True, False, False,\n",
       "       False, False, False, False, False, False, False, False, False,\n",
       "       False, False, False, False, False, False, False, False, False,\n",
       "       False, False, False, False, False, False,  True, False])"
      ]
     },
     "execution_count": 51,
     "metadata": {},
     "output_type": "execute_result"
    }
   ],
   "source": [
    "def rfc_selector(x, y):\n",
    "    rfc = SelectFromModel(RandomForestClassifier(n_estimators=100), max_features=top_n_feats)\n",
    "    rfc.fit(x, y)\n",
    "    top_n = rfc.get_support()\n",
    "    return top_n\n",
    "\n",
    "\n",
    "rfc_top_n = rfc_selector(X, Y)\n",
    "rfc_top_n"
   ]
  },
  {
   "cell_type": "markdown",
   "metadata": {},
   "source": [
    "#### 3.6 Cumulative Feature Selection <a class=\"anchor\" id=\"cum\"></a>"
   ]
  },
  {
   "cell_type": "code",
   "execution_count": 52,
   "metadata": {
    "scrolled": true
   },
   "outputs": [
    {
     "data": {
      "text/html": [
       "<div>\n",
       "<style scoped>\n",
       "    .dataframe tbody tr th:only-of-type {\n",
       "        vertical-align: middle;\n",
       "    }\n",
       "\n",
       "    .dataframe tbody tr th {\n",
       "        vertical-align: top;\n",
       "    }\n",
       "\n",
       "    .dataframe thead th {\n",
       "        text-align: right;\n",
       "    }\n",
       "</style>\n",
       "<table border=\"1\" class=\"dataframe\">\n",
       "  <thead>\n",
       "    <tr style=\"text-align: right;\">\n",
       "      <th></th>\n",
       "      <th>feature</th>\n",
       "      <th>correlation</th>\n",
       "      <th>chi-sq</th>\n",
       "      <th>rfe</th>\n",
       "      <th>lasso</th>\n",
       "      <th>rfc</th>\n",
       "      <th>total</th>\n",
       "    </tr>\n",
       "  </thead>\n",
       "  <tbody>\n",
       "    <tr>\n",
       "      <th>1</th>\n",
       "      <td>resp_rate</td>\n",
       "      <td>True</td>\n",
       "      <td>True</td>\n",
       "      <td>True</td>\n",
       "      <td>True</td>\n",
       "      <td>True</td>\n",
       "      <td>5</td>\n",
       "    </tr>\n",
       "    <tr>\n",
       "      <th>2</th>\n",
       "      <td>Ethnicity_Encoded</td>\n",
       "      <td>True</td>\n",
       "      <td>True</td>\n",
       "      <td>True</td>\n",
       "      <td>True</td>\n",
       "      <td>True</td>\n",
       "      <td>5</td>\n",
       "    </tr>\n",
       "    <tr>\n",
       "      <th>3</th>\n",
       "      <td>sbp</td>\n",
       "      <td>True</td>\n",
       "      <td>True</td>\n",
       "      <td>True</td>\n",
       "      <td>False</td>\n",
       "      <td>True</td>\n",
       "      <td>4</td>\n",
       "    </tr>\n",
       "    <tr>\n",
       "      <th>4</th>\n",
       "      <td>pulse_ox</td>\n",
       "      <td>True</td>\n",
       "      <td>True</td>\n",
       "      <td>True</td>\n",
       "      <td>False</td>\n",
       "      <td>True</td>\n",
       "      <td>4</td>\n",
       "    </tr>\n",
       "    <tr>\n",
       "      <th>5</th>\n",
       "      <td>heart_rate</td>\n",
       "      <td>True</td>\n",
       "      <td>True</td>\n",
       "      <td>True</td>\n",
       "      <td>False</td>\n",
       "      <td>True</td>\n",
       "      <td>4</td>\n",
       "    </tr>\n",
       "    <tr>\n",
       "      <th>6</th>\n",
       "      <td>dbp</td>\n",
       "      <td>True</td>\n",
       "      <td>True</td>\n",
       "      <td>True</td>\n",
       "      <td>False</td>\n",
       "      <td>True</td>\n",
       "      <td>4</td>\n",
       "    </tr>\n",
       "    <tr>\n",
       "      <th>7</th>\n",
       "      <td>cmp_total_protein</td>\n",
       "      <td>True</td>\n",
       "      <td>True</td>\n",
       "      <td>True</td>\n",
       "      <td>True</td>\n",
       "      <td>False</td>\n",
       "      <td>4</td>\n",
       "    </tr>\n",
       "    <tr>\n",
       "      <th>8</th>\n",
       "      <td>cmp_sodium</td>\n",
       "      <td>True</td>\n",
       "      <td>True</td>\n",
       "      <td>True</td>\n",
       "      <td>True</td>\n",
       "      <td>False</td>\n",
       "      <td>4</td>\n",
       "    </tr>\n",
       "    <tr>\n",
       "      <th>9</th>\n",
       "      <td>cmp_bilirubin</td>\n",
       "      <td>True</td>\n",
       "      <td>True</td>\n",
       "      <td>True</td>\n",
       "      <td>True</td>\n",
       "      <td>False</td>\n",
       "      <td>4</td>\n",
       "    </tr>\n",
       "    <tr>\n",
       "      <th>10</th>\n",
       "      <td>cmp_albumin</td>\n",
       "      <td>True</td>\n",
       "      <td>True</td>\n",
       "      <td>True</td>\n",
       "      <td>True</td>\n",
       "      <td>False</td>\n",
       "      <td>4</td>\n",
       "    </tr>\n",
       "    <tr>\n",
       "      <th>11</th>\n",
       "      <td>cbc_wbc</td>\n",
       "      <td>True</td>\n",
       "      <td>True</td>\n",
       "      <td>True</td>\n",
       "      <td>False</td>\n",
       "      <td>True</td>\n",
       "      <td>4</td>\n",
       "    </tr>\n",
       "    <tr>\n",
       "      <th>12</th>\n",
       "      <td>cbc_neutrophil_c</td>\n",
       "      <td>True</td>\n",
       "      <td>True</td>\n",
       "      <td>True</td>\n",
       "      <td>True</td>\n",
       "      <td>False</td>\n",
       "      <td>4</td>\n",
       "    </tr>\n",
       "    <tr>\n",
       "      <th>13</th>\n",
       "      <td>cbc_monocyte_c</td>\n",
       "      <td>True</td>\n",
       "      <td>True</td>\n",
       "      <td>True</td>\n",
       "      <td>True</td>\n",
       "      <td>False</td>\n",
       "      <td>4</td>\n",
       "    </tr>\n",
       "    <tr>\n",
       "      <th>14</th>\n",
       "      <td>cbc_lymphocyte_perc</td>\n",
       "      <td>True</td>\n",
       "      <td>True</td>\n",
       "      <td>True</td>\n",
       "      <td>True</td>\n",
       "      <td>False</td>\n",
       "      <td>4</td>\n",
       "    </tr>\n",
       "    <tr>\n",
       "      <th>15</th>\n",
       "      <td>cbc_lymphocyte_c</td>\n",
       "      <td>True</td>\n",
       "      <td>True</td>\n",
       "      <td>True</td>\n",
       "      <td>True</td>\n",
       "      <td>False</td>\n",
       "      <td>4</td>\n",
       "    </tr>\n",
       "    <tr>\n",
       "      <th>16</th>\n",
       "      <td>cbc_hematocrit</td>\n",
       "      <td>True</td>\n",
       "      <td>True</td>\n",
       "      <td>True</td>\n",
       "      <td>True</td>\n",
       "      <td>False</td>\n",
       "      <td>4</td>\n",
       "    </tr>\n",
       "    <tr>\n",
       "      <th>17</th>\n",
       "      <td>cbc_eosinophil_perc.2</td>\n",
       "      <td>True</td>\n",
       "      <td>True</td>\n",
       "      <td>True</td>\n",
       "      <td>True</td>\n",
       "      <td>False</td>\n",
       "      <td>4</td>\n",
       "    </tr>\n",
       "    <tr>\n",
       "      <th>18</th>\n",
       "      <td>cbc_eosinophil_perc</td>\n",
       "      <td>True</td>\n",
       "      <td>True</td>\n",
       "      <td>True</td>\n",
       "      <td>True</td>\n",
       "      <td>False</td>\n",
       "      <td>4</td>\n",
       "    </tr>\n",
       "    <tr>\n",
       "      <th>19</th>\n",
       "      <td>Age</td>\n",
       "      <td>True</td>\n",
       "      <td>True</td>\n",
       "      <td>True</td>\n",
       "      <td>False</td>\n",
       "      <td>True</td>\n",
       "      <td>4</td>\n",
       "    </tr>\n",
       "    <tr>\n",
       "      <th>20</th>\n",
       "      <td>Admitted</td>\n",
       "      <td>True</td>\n",
       "      <td>True</td>\n",
       "      <td>True</td>\n",
       "      <td>True</td>\n",
       "      <td>False</td>\n",
       "      <td>4</td>\n",
       "    </tr>\n",
       "    <tr>\n",
       "      <th>21</th>\n",
       "      <td>cmp_potassium</td>\n",
       "      <td>True</td>\n",
       "      <td>True</td>\n",
       "      <td>True</td>\n",
       "      <td>False</td>\n",
       "      <td>False</td>\n",
       "      <td>3</td>\n",
       "    </tr>\n",
       "    <tr>\n",
       "      <th>22</th>\n",
       "      <td>cmp_glucose</td>\n",
       "      <td>True</td>\n",
       "      <td>True</td>\n",
       "      <td>True</td>\n",
       "      <td>False</td>\n",
       "      <td>False</td>\n",
       "      <td>3</td>\n",
       "    </tr>\n",
       "    <tr>\n",
       "      <th>23</th>\n",
       "      <td>cmp_creatinine</td>\n",
       "      <td>True</td>\n",
       "      <td>True</td>\n",
       "      <td>True</td>\n",
       "      <td>False</td>\n",
       "      <td>False</td>\n",
       "      <td>3</td>\n",
       "    </tr>\n",
       "    <tr>\n",
       "      <th>24</th>\n",
       "      <td>cmp_chloride</td>\n",
       "      <td>True</td>\n",
       "      <td>True</td>\n",
       "      <td>True</td>\n",
       "      <td>False</td>\n",
       "      <td>False</td>\n",
       "      <td>3</td>\n",
       "    </tr>\n",
       "    <tr>\n",
       "      <th>25</th>\n",
       "      <td>cmp_bun</td>\n",
       "      <td>True</td>\n",
       "      <td>True</td>\n",
       "      <td>True</td>\n",
       "      <td>False</td>\n",
       "      <td>False</td>\n",
       "      <td>3</td>\n",
       "    </tr>\n",
       "    <tr>\n",
       "      <th>26</th>\n",
       "      <td>cmp_bicarbonate</td>\n",
       "      <td>True</td>\n",
       "      <td>True</td>\n",
       "      <td>True</td>\n",
       "      <td>False</td>\n",
       "      <td>False</td>\n",
       "      <td>3</td>\n",
       "    </tr>\n",
       "    <tr>\n",
       "      <th>27</th>\n",
       "      <td>cmp_ast</td>\n",
       "      <td>True</td>\n",
       "      <td>True</td>\n",
       "      <td>True</td>\n",
       "      <td>False</td>\n",
       "      <td>False</td>\n",
       "      <td>3</td>\n",
       "    </tr>\n",
       "    <tr>\n",
       "      <th>28</th>\n",
       "      <td>cmp_alt</td>\n",
       "      <td>True</td>\n",
       "      <td>True</td>\n",
       "      <td>True</td>\n",
       "      <td>False</td>\n",
       "      <td>False</td>\n",
       "      <td>3</td>\n",
       "    </tr>\n",
       "    <tr>\n",
       "      <th>29</th>\n",
       "      <td>cmp_alkaline_phosphatase</td>\n",
       "      <td>True</td>\n",
       "      <td>True</td>\n",
       "      <td>True</td>\n",
       "      <td>False</td>\n",
       "      <td>False</td>\n",
       "      <td>3</td>\n",
       "    </tr>\n",
       "    <tr>\n",
       "      <th>30</th>\n",
       "      <td>cbc_platelets</td>\n",
       "      <td>True</td>\n",
       "      <td>True</td>\n",
       "      <td>True</td>\n",
       "      <td>False</td>\n",
       "      <td>False</td>\n",
       "      <td>3</td>\n",
       "    </tr>\n",
       "    <tr>\n",
       "      <th>31</th>\n",
       "      <td>cbc_hemoglobin</td>\n",
       "      <td>True</td>\n",
       "      <td>True</td>\n",
       "      <td>True</td>\n",
       "      <td>False</td>\n",
       "      <td>False</td>\n",
       "      <td>3</td>\n",
       "    </tr>\n",
       "    <tr>\n",
       "      <th>32</th>\n",
       "      <td>cbc_eosinophil_perc.1</td>\n",
       "      <td>True</td>\n",
       "      <td>True</td>\n",
       "      <td>True</td>\n",
       "      <td>False</td>\n",
       "      <td>False</td>\n",
       "      <td>3</td>\n",
       "    </tr>\n",
       "    <tr>\n",
       "      <th>33</th>\n",
       "      <td>cbc_eosinophil_c</td>\n",
       "      <td>True</td>\n",
       "      <td>True</td>\n",
       "      <td>True</td>\n",
       "      <td>False</td>\n",
       "      <td>False</td>\n",
       "      <td>3</td>\n",
       "    </tr>\n",
       "    <tr>\n",
       "      <th>34</th>\n",
       "      <td>Sex_Encoded</td>\n",
       "      <td>True</td>\n",
       "      <td>True</td>\n",
       "      <td>True</td>\n",
       "      <td>False</td>\n",
       "      <td>False</td>\n",
       "      <td>3</td>\n",
       "    </tr>\n",
       "    <tr>\n",
       "      <th>35</th>\n",
       "      <td>FirstRace_Encoded</td>\n",
       "      <td>True</td>\n",
       "      <td>True</td>\n",
       "      <td>True</td>\n",
       "      <td>False</td>\n",
       "      <td>False</td>\n",
       "      <td>3</td>\n",
       "    </tr>\n",
       "  </tbody>\n",
       "</table>\n",
       "</div>"
      ],
      "text/plain": [
       "                     feature  correlation  chi-sq   rfe  lasso    rfc  total\n",
       "1                  resp_rate         True    True  True   True   True      5\n",
       "2          Ethnicity_Encoded         True    True  True   True   True      5\n",
       "3                        sbp         True    True  True  False   True      4\n",
       "4                   pulse_ox         True    True  True  False   True      4\n",
       "5                 heart_rate         True    True  True  False   True      4\n",
       "6                        dbp         True    True  True  False   True      4\n",
       "7          cmp_total_protein         True    True  True   True  False      4\n",
       "8                 cmp_sodium         True    True  True   True  False      4\n",
       "9              cmp_bilirubin         True    True  True   True  False      4\n",
       "10               cmp_albumin         True    True  True   True  False      4\n",
       "11                   cbc_wbc         True    True  True  False   True      4\n",
       "12          cbc_neutrophil_c         True    True  True   True  False      4\n",
       "13            cbc_monocyte_c         True    True  True   True  False      4\n",
       "14       cbc_lymphocyte_perc         True    True  True   True  False      4\n",
       "15          cbc_lymphocyte_c         True    True  True   True  False      4\n",
       "16            cbc_hematocrit         True    True  True   True  False      4\n",
       "17     cbc_eosinophil_perc.2         True    True  True   True  False      4\n",
       "18       cbc_eosinophil_perc         True    True  True   True  False      4\n",
       "19                       Age         True    True  True  False   True      4\n",
       "20                  Admitted         True    True  True   True  False      4\n",
       "21             cmp_potassium         True    True  True  False  False      3\n",
       "22               cmp_glucose         True    True  True  False  False      3\n",
       "23            cmp_creatinine         True    True  True  False  False      3\n",
       "24              cmp_chloride         True    True  True  False  False      3\n",
       "25                   cmp_bun         True    True  True  False  False      3\n",
       "26           cmp_bicarbonate         True    True  True  False  False      3\n",
       "27                   cmp_ast         True    True  True  False  False      3\n",
       "28                   cmp_alt         True    True  True  False  False      3\n",
       "29  cmp_alkaline_phosphatase         True    True  True  False  False      3\n",
       "30             cbc_platelets         True    True  True  False  False      3\n",
       "31            cbc_hemoglobin         True    True  True  False  False      3\n",
       "32     cbc_eosinophil_perc.1         True    True  True  False  False      3\n",
       "33          cbc_eosinophil_c         True    True  True  False  False      3\n",
       "34               Sex_Encoded         True    True  True  False  False      3\n",
       "35         FirstRace_Encoded         True    True  True  False  False      3"
      ]
     },
     "execution_count": 52,
     "metadata": {},
     "output_type": "execute_result"
    }
   ],
   "source": [
    "cumm_df = pd.DataFrame({\n",
    "    'feature': X.columns.tolist(),\n",
    "    'correlation': corr_top_n,\n",
    "    'chi-sq': chi_top_n,\n",
    "    'rfe': rfe_top_n,\n",
    "    'lasso': lasso_top_n,\n",
    "    'rfc': rfc_top_n\n",
    "})\n",
    "cumm_df['total'] = np.sum(cumm_df, axis=1)\n",
    "cumm_df = cumm_df.sort_values(['total', 'feature'], ascending=False)\n",
    "cumm_df.index = range(1, len(cumm_df) + 1)\n",
    "cumm_df"
   ]
  },
  {
   "cell_type": "code",
   "execution_count": 53,
   "metadata": {},
   "outputs": [
    {
     "data": {
      "text/plain": [
       "['resp_rate',\n",
       " 'Ethnicity_Encoded',\n",
       " 'sbp',\n",
       " 'pulse_ox',\n",
       " 'heart_rate',\n",
       " 'dbp',\n",
       " 'cmp_total_protein',\n",
       " 'cmp_sodium',\n",
       " 'cmp_bilirubin',\n",
       " 'cmp_albumin',\n",
       " 'cbc_wbc',\n",
       " 'cbc_neutrophil_c',\n",
       " 'cbc_monocyte_c',\n",
       " 'cbc_lymphocyte_perc',\n",
       " 'cbc_lymphocyte_c',\n",
       " 'cbc_hematocrit',\n",
       " 'cbc_eosinophil_perc.2',\n",
       " 'cbc_eosinophil_perc',\n",
       " 'Age',\n",
       " 'Admitted',\n",
       " 'cmp_potassium',\n",
       " 'cmp_glucose',\n",
       " 'cmp_creatinine',\n",
       " 'cmp_chloride',\n",
       " 'cmp_bun',\n",
       " 'cmp_bicarbonate',\n",
       " 'cmp_ast',\n",
       " 'cmp_alt',\n",
       " 'cmp_alkaline_phosphatase',\n",
       " 'cbc_platelets',\n",
       " 'cbc_hemoglobin',\n",
       " 'cbc_eosinophil_perc.1',\n",
       " 'cbc_eosinophil_c',\n",
       " 'Sex_Encoded',\n",
       " 'FirstRace_Encoded']"
      ]
     },
     "execution_count": 53,
     "metadata": {},
     "output_type": "execute_result"
    }
   ],
   "source": [
    "top_n_features = list(cumm_df.iloc[:top_n_feats]['feature'])\n",
    "top_n_features"
   ]
  },
  {
   "cell_type": "markdown",
   "metadata": {},
   "source": [
    "## 4. Model Selection <a class=\"anchor\" id=\"model\"></a>"
   ]
  },
  {
   "cell_type": "markdown",
   "metadata": {},
   "source": [
    "[Table of Contents](#toc)"
   ]
  },
  {
   "cell_type": "markdown",
   "metadata": {},
   "source": [
    "#### 4.1 Train / Test Data <a class=\"anchor\" id=\"tt\"></a>"
   ]
  },
  {
   "cell_type": "code",
   "execution_count": 54,
   "metadata": {},
   "outputs": [],
   "source": [
    "X_train = final_train[top_n_features]\n",
    "y_train = final_train[target]\n",
    "X_test = final_test[top_n_features]\n",
    "y_test = final_test[target]"
   ]
  },
  {
   "cell_type": "code",
   "execution_count": 55,
   "metadata": {},
   "outputs": [
    {
     "name": "stdout",
     "output_type": "stream",
     "text": [
      "X_train (5904, 35)\n",
      "y_train (5904,)\n",
      "\n",
      "X_test (1476, 35)\n",
      "y_test (1476,)\n"
     ]
    }
   ],
   "source": [
    "print('X_train', X_train.shape)\n",
    "print('y_train', y_train.shape)\n",
    "print()\n",
    "print('X_test', X_test.shape)\n",
    "print('y_test', y_test.shape)"
   ]
  },
  {
   "cell_type": "markdown",
   "metadata": {},
   "source": [
    "#### 4.2 Model Construction <a class=\"anchor\" id=\"models\"></a>"
   ]
  },
  {
   "cell_type": "markdown",
   "metadata": {},
   "source": [
    "[Keras Layers/Activation Documentation](https://keras.io/api/layers/)"
   ]
  },
  {
   "cell_type": "markdown",
   "metadata": {},
   "source": [
    "Loss Functions\n",
    "* 'binary_crossentropy'\n",
    "* 'sparse_categorical_crossentropy'\n",
    "\n",
    "Optimizers\n",
    "* 'adam'\n",
    "* 'sgd'"
   ]
  },
  {
   "cell_type": "code",
   "execution_count": 56,
   "metadata": {},
   "outputs": [],
   "source": [
    "tf.keras.backend.set_floatx('float64')\n",
    "tf.random.set_seed(SEED)\n",
    "np.random.seed(SEED)"
   ]
  },
  {
   "cell_type": "code",
   "execution_count": 57,
   "metadata": {},
   "outputs": [],
   "source": [
    "seq1 = Sequential([\n",
    "    BatchNormalization(),\n",
    "    Dense(300, use_bias=False),\n",
    "    BatchNormalization(),\n",
    "    Activation('relu'),\n",
    "    Dense(100, use_bias=False),\n",
    "    Activation('relu'),\n",
    "    BatchNormalization(),\n",
    "    Dense(2, activation='softmax')\n",
    "])"
   ]
  },
  {
   "cell_type": "code",
   "execution_count": 58,
   "metadata": {},
   "outputs": [],
   "source": [
    "seq2 = Sequential([\n",
    "    Dense(top_n_feats, activation='relu'),\n",
    "    Dense(6, activation='relu'),\n",
    "    Dense(2, activation='softmax')\n",
    "])"
   ]
  },
  {
   "cell_type": "code",
   "execution_count": 59,
   "metadata": {},
   "outputs": [],
   "source": [
    "seq3 = Sequential([\n",
    "    Dense(top_n_feats, kernel_initializer='he_normal'),\n",
    "    PReLU(),\n",
    "    Dense(6, kernel_initializer='he_normal'),\n",
    "    PReLU(),\n",
    "    Dense(2, activation='softmax')\n",
    "])"
   ]
  },
  {
   "cell_type": "code",
   "execution_count": 60,
   "metadata": {},
   "outputs": [],
   "source": [
    "# keras.utils.plot_model(model, \"seq_model1.png\", show_shapes=True)"
   ]
  },
  {
   "cell_type": "markdown",
   "metadata": {},
   "source": [
    "#### 4.3 Model Evaluation Functions <a class=\"anchor\" id=\"funcs\"></a>"
   ]
  },
  {
   "cell_type": "code",
   "execution_count": 61,
   "metadata": {},
   "outputs": [],
   "source": [
    "def plot_metric(hist, metric):\n",
    "    train_metrics = hist.history[metric]\n",
    "    val_metrics = hist.history['val_'+metric]\n",
    "    epochs = range(1, len(train_metrics) + 1)\n",
    "    plt.plot(epochs, train_metrics, 'bo--')\n",
    "    plt.plot(epochs, val_metrics, 'ro-')\n",
    "    plt.title('Training and Validation '+ metric)\n",
    "    plt.xlabel(\"Epochs\")\n",
    "    plt.ylabel(metric)\n",
    "    plt.legend([\"train_\"+metric, 'val_'+metric])\n",
    "    plt.show()"
   ]
  },
  {
   "cell_type": "code",
   "execution_count": 62,
   "metadata": {
    "scrolled": true
   },
   "outputs": [],
   "source": [
    "def plot_history(hist):\n",
    "    display(Markdown('**Training/Validation Loss and Accuracy**'))\n",
    "    pd.DataFrame(hist.history).plot(figsize=(8,5))\n",
    "    plt.grid(True)\n",
    "    plt.gca().set_ylim(0, 1)\n",
    "    plt.show()"
   ]
  },
  {
   "cell_type": "code",
   "execution_count": 63,
   "metadata": {},
   "outputs": [],
   "source": [
    "def metric_evaluation(y_test, y_pred):\n",
    "    display(Markdown('**Metric Scores**'))\n",
    "    print(\"Accuracy: {:.2f}%\".format(accuracy_score(y_test, y_pred) * 100))\n",
    "    print(\"Precision: {:.2f}%\".format(precision_score(y_test, y_pred) * 100))\n",
    "    print(\"Recall: {:.2f}%\".format(recall_score(y_test, y_pred) * 100))\n",
    "    print(\"F1: {:.2f}%\".format(f1_score(y_test, y_pred) * 100))\n",
    "    print(\"\\nConfusion Matrix:\")\n",
    "    print(confusion_matrix(y_test, y_pred))"
   ]
  },
  {
   "cell_type": "code",
   "execution_count": 64,
   "metadata": {},
   "outputs": [],
   "source": [
    "def plot_confusion_matrix(y_test, y_pred):\n",
    "    display(Markdown('**Confusion Matrix**'))\n",
    "    cm_df = pd.DataFrame(\n",
    "        confusion_matrix(y_test, y_pred), columns=['Detected', 'None Detected'], index=['Detected', 'None Detected']\n",
    "    )\n",
    "    ax = sns.heatmap(\n",
    "        data=cm_df, cmap=cm.Blues, annot=True, fmt='d'\n",
    "    )\n",
    "    ax.set(xlabel='Predicted', ylabel='Actual')\n",
    "    plt.show()"
   ]
  },
  {
   "cell_type": "markdown",
   "metadata": {},
   "source": [
    "#### 4.4 Simultaneous Model Evaluation <a class=\"anchor\" id=\"eval\"></a>"
   ]
  },
  {
   "cell_type": "code",
   "execution_count": 65,
   "metadata": {},
   "outputs": [],
   "source": [
    "model_lst = [\n",
    "    {'name': 'Sequential: Dense + Batch Normalization Layers, ReLU Activations',\n",
    "     'model': seq1, 'loss': 'sparse_categorical_crossentropy', 'optimizer': Adam(learning_rate=1e-4)},\n",
    "    {'name': 'Sequential: Dense Layers, ReLU Activation',\n",
    "     'model': seq2, 'loss': 'sparse_categorical_crossentropy', 'optimizer': Adam(learning_rate=1e-4)},\n",
    "    {'name': 'Sequential: Dense Layers, PReLU Activation',\n",
    "     'model': seq3, 'loss': 'sparse_categorical_crossentropy', 'optimizer': Adam(learning_rate=1e-4)}\n",
    "]"
   ]
  },
  {
   "cell_type": "code",
   "execution_count": 99,
   "metadata": {},
   "outputs": [],
   "source": [
    "EPOCHS = 30\n",
    "BATCH_SIZE = 200\n",
    "VAL_SPLIT = 0.2"
   ]
  },
  {
   "cell_type": "code",
   "execution_count": 67,
   "metadata": {},
   "outputs": [],
   "source": [
    "def test_models(models, xy, isolate=None):\n",
    "    X_train, y_train, X_test, y_test = xy\n",
    "    for i, m in enumerate(models):\n",
    "        name, model, loss, optimizer = m.values()\n",
    "        if isolate is not None and i + 1 != isolate:\n",
    "            print('Skipping Model {}...'.format(i + 1))\n",
    "            continue\n",
    "        \n",
    "        display(Markdown('### Model {} – {}'.format(i + 1, name)))\n",
    "        \n",
    "        # 1. Compile\n",
    "        model.compile(\n",
    "            loss=loss, optimizer=optimizer, metrics=['accuracy']\n",
    "        )\n",
    "        \n",
    "        # 2. Fit\n",
    "        history = model.fit(\n",
    "            X_train, y_train,\n",
    "            batch_size=BATCH_SIZE, epochs=EPOCHS, validation_split=VAL_SPLIT, shuffle=True, verbose=0\n",
    "        )\n",
    "        \n",
    "        # 3. Visualize Model\n",
    "        display(Markdown(\"**Summary**\"))\n",
    "        model.summary()\n",
    "        plot_history(history)\n",
    "        \n",
    "        # 4. Evaluate\n",
    "        display(Markdown(\"**Evaluation and Prediction**\"))\n",
    "        loss, accuracy = model.evaluate(x=X_test, y=y_test)\n",
    "        print(\"\\nLoss: {:.2f}%\".format(loss * 100))\n",
    "        print(\"Accuracy: {:.2f}%\".format(accuracy * 100))\n",
    "        \n",
    "        # 5. Predict\n",
    "        y_prediction_array = model.predict(X_test)\n",
    "        y_prediction = np.argmax(y_prediction_array, axis=1)\n",
    "        \n",
    "        # 6. Visualize Predictions\n",
    "        metric_evaluation(y_test, y_prediction)\n",
    "        plot_confusion_matrix(y_test, y_prediction)\n",
    "        \n",
    "        print()"
   ]
  },
  {
   "cell_type": "code",
   "execution_count": 68,
   "metadata": {
    "scrolled": true
   },
   "outputs": [
    {
     "data": {
      "text/markdown": [
       "### Model 1 – Sequential: Dense + Batch Normalization Layers, ReLU Activations"
      ],
      "text/plain": [
       "<IPython.core.display.Markdown object>"
      ]
     },
     "metadata": {},
     "output_type": "display_data"
    },
    {
     "data": {
      "text/markdown": [
       "**Summary**"
      ],
      "text/plain": [
       "<IPython.core.display.Markdown object>"
      ]
     },
     "metadata": {},
     "output_type": "display_data"
    },
    {
     "name": "stdout",
     "output_type": "stream",
     "text": [
      "Model: \"sequential\"\n",
      "_________________________________________________________________\n",
      "Layer (type)                 Output Shape              Param #   \n",
      "=================================================================\n",
      "batch_normalization (BatchNo (None, 35)                140       \n",
      "_________________________________________________________________\n",
      "dense (Dense)                (None, 300)               10500     \n",
      "_________________________________________________________________\n",
      "batch_normalization_1 (Batch (None, 300)               1200      \n",
      "_________________________________________________________________\n",
      "activation (Activation)      (None, 300)               0         \n",
      "_________________________________________________________________\n",
      "dense_1 (Dense)              (None, 100)               30000     \n",
      "_________________________________________________________________\n",
      "activation_1 (Activation)    (None, 100)               0         \n",
      "_________________________________________________________________\n",
      "batch_normalization_2 (Batch (None, 100)               400       \n",
      "_________________________________________________________________\n",
      "dense_2 (Dense)              (None, 2)                 202       \n",
      "=================================================================\n",
      "Total params: 42,442\n",
      "Trainable params: 41,572\n",
      "Non-trainable params: 870\n",
      "_________________________________________________________________\n"
     ]
    },
    {
     "data": {
      "text/markdown": [
       "**Training/Validation Loss and Accuracy**"
      ],
      "text/plain": [
       "<IPython.core.display.Markdown object>"
      ]
     },
     "metadata": {},
     "output_type": "display_data"
    },
    {
     "data": {
      "image/png": "[encoded data removed]",
      "text/plain": [
       "<Figure size 576x360 with 1 Axes>"
      ]
     },
     "metadata": {
      "needs_background": "light"
     },
     "output_type": "display_data"
    },
    {
     "data": {
      "text/markdown": [
       "**Evaluation and Prediction**"
      ],
      "text/plain": [
       "<IPython.core.display.Markdown object>"
      ]
     },
     "metadata": {},
     "output_type": "display_data"
    },
    {
     "name": "stdout",
     "output_type": "stream",
     "text": [
      "47/47 [==============================] - 0s 2ms/step - loss: 0.3152 - accuracy: 0.9187\n",
      "\n",
      "Loss: 31.52%\n",
      "Accuracy: 91.87%\n"
     ]
    },
    {
     "data": {
      "text/markdown": [
       "**Metric Scores**"
      ],
      "text/plain": [
       "<IPython.core.display.Markdown object>"
      ]
     },
     "metadata": {},
     "output_type": "display_data"
    },
    {
     "name": "stdout",
     "output_type": "stream",
     "text": [
      "Accuracy: 91.87%\n",
      "Precision: 94.44%\n",
      "Recall: 96.93%\n",
      "F1: 95.67%\n",
      "\n",
      "Confusion Matrix:\n",
      "[[  31   78]\n",
      " [  42 1325]]\n"
     ]
    },
    {
     "data": {
      "text/markdown": [
       "**Confusion Matrix**"
      ],
      "text/plain": [
       "<IPython.core.display.Markdown object>"
      ]
     },
     "metadata": {},
     "output_type": "display_data"
    },
    {
     "data": {
      "image/png": "[encoded data removed]",
      "text/plain": [
       "<Figure size 432x288 with 2 Axes>"
      ]
     },
     "metadata": {
      "needs_background": "light"
     },
     "output_type": "display_data"
    },
    {
     "name": "stdout",
     "output_type": "stream",
     "text": [
      "\n"
     ]
    },
    {
     "data": {
      "text/markdown": [
       "### Model 2 – Sequential: Dense Layers, ReLU Activation"
      ],
      "text/plain": [
       "<IPython.core.display.Markdown object>"
      ]
     },
     "metadata": {},
     "output_type": "display_data"
    },
    {
     "data": {
      "text/markdown": [
       "**Summary**"
      ],
      "text/plain": [
       "<IPython.core.display.Markdown object>"
      ]
     },
     "metadata": {},
     "output_type": "display_data"
    },
    {
     "name": "stdout",
     "output_type": "stream",
     "text": [
      "Model: \"sequential_1\"\n",
      "_________________________________________________________________\n",
      "Layer (type)                 Output Shape              Param #   \n",
      "=================================================================\n",
      "dense_3 (Dense)              (None, 35)                1260      \n",
      "_________________________________________________________________\n",
      "dense_4 (Dense)              (None, 6)                 216       \n",
      "_________________________________________________________________\n",
      "dense_5 (Dense)              (None, 2)                 14        \n",
      "=================================================================\n",
      "Total params: 1,490\n",
      "Trainable params: 1,490\n",
      "Non-trainable params: 0\n",
      "_________________________________________________________________\n"
     ]
    },
    {
     "data": {
      "text/markdown": [
       "**Training/Validation Loss and Accuracy**"
      ],
      "text/plain": [
       "<IPython.core.display.Markdown object>"
      ]
     },
     "metadata": {},
     "output_type": "display_data"
    },
    {
     "data": {
      "image/png": "[encoded data removed]",
      "text/plain": [
       "<Figure size 576x360 with 1 Axes>"
      ]
     },
     "metadata": {
      "needs_background": "light"
     },
     "output_type": "display_data"
    },
    {
     "data": {
      "text/markdown": [
       "**Evaluation and Prediction**"
      ],
      "text/plain": [
       "<IPython.core.display.Markdown object>"
      ]
     },
     "metadata": {},
     "output_type": "display_data"
    },
    {
     "name": "stdout",
     "output_type": "stream",
     "text": [
      "47/47 [==============================] - 0s 908us/step - loss: 0.2681 - accuracy: 0.9214\n",
      "\n",
      "Loss: 26.81%\n",
      "Accuracy: 92.14%\n"
     ]
    },
    {
     "data": {
      "text/markdown": [
       "**Metric Scores**"
      ],
      "text/plain": [
       "<IPython.core.display.Markdown object>"
      ]
     },
     "metadata": {},
     "output_type": "display_data"
    },
    {
     "name": "stdout",
     "output_type": "stream",
     "text": [
      "Accuracy: 92.14%\n",
      "Precision: 92.58%\n",
      "Recall: 99.49%\n",
      "F1: 95.91%\n",
      "\n",
      "Confusion Matrix:\n",
      "[[   0  109]\n",
      " [   7 1360]]\n"
     ]
    },
    {
     "data": {
      "text/markdown": [
       "**Confusion Matrix**"
      ],
      "text/plain": [
       "<IPython.core.display.Markdown object>"
      ]
     },
     "metadata": {},
     "output_type": "display_data"
    },
    {
     "data": {
      "image/png": "[encoded data removed]",
      "text/plain": [
       "<Figure size 432x288 with 2 Axes>"
      ]
     },
     "metadata": {
      "needs_background": "light"
     },
     "output_type": "display_data"
    },
    {
     "name": "stdout",
     "output_type": "stream",
     "text": [
      "\n"
     ]
    },
    {
     "data": {
      "text/markdown": [
       "### Model 3 – Sequential: Dense Layers, PReLU Activation"
      ],
      "text/plain": [
       "<IPython.core.display.Markdown object>"
      ]
     },
     "metadata": {},
     "output_type": "display_data"
    },
    {
     "data": {
      "text/markdown": [
       "**Summary**"
      ],
      "text/plain": [
       "<IPython.core.display.Markdown object>"
      ]
     },
     "metadata": {},
     "output_type": "display_data"
    },
    {
     "name": "stdout",
     "output_type": "stream",
     "text": [
      "Model: \"sequential_2\"\n",
      "_________________________________________________________________\n",
      "Layer (type)                 Output Shape              Param #   \n",
      "=================================================================\n",
      "dense_6 (Dense)              (None, 35)                1260      \n",
      "_________________________________________________________________\n",
      "p_re_lu (PReLU)              (None, 35)                35        \n",
      "_________________________________________________________________\n",
      "dense_7 (Dense)              (None, 6)                 216       \n",
      "_________________________________________________________________\n",
      "p_re_lu_1 (PReLU)            (None, 6)                 6         \n",
      "_________________________________________________________________\n",
      "dense_8 (Dense)              (None, 2)                 14        \n",
      "=================================================================\n",
      "Total params: 1,531\n",
      "Trainable params: 1,531\n",
      "Non-trainable params: 0\n",
      "_________________________________________________________________\n"
     ]
    },
    {
     "data": {
      "text/markdown": [
       "**Training/Validation Loss and Accuracy**"
      ],
      "text/plain": [
       "<IPython.core.display.Markdown object>"
      ]
     },
     "metadata": {},
     "output_type": "display_data"
    },
    {
     "data": {
      "image/png": "[encoded data removed]",
      "text/plain": [
       "<Figure size 576x360 with 1 Axes>"
      ]
     },
     "metadata": {
      "needs_background": "light"
     },
     "output_type": "display_data"
    },
    {
     "data": {
      "text/markdown": [
       "**Evaluation and Prediction**"
      ],
      "text/plain": [
       "<IPython.core.display.Markdown object>"
      ]
     },
     "metadata": {},
     "output_type": "display_data"
    },
    {
     "name": "stdout",
     "output_type": "stream",
     "text": [
      "47/47 [==============================] - 0s 1ms/step - loss: 0.6389 - accuracy: 0.7852\n",
      "\n",
      "Loss: 63.89%\n",
      "Accuracy: 78.52%\n"
     ]
    },
    {
     "data": {
      "text/markdown": [
       "**Metric Scores**"
      ],
      "text/plain": [
       "<IPython.core.display.Markdown object>"
      ]
     },
     "metadata": {},
     "output_type": "display_data"
    },
    {
     "name": "stdout",
     "output_type": "stream",
     "text": [
      "Accuracy: 78.52%\n",
      "Precision: 92.54%\n",
      "Recall: 83.54%\n",
      "F1: 87.81%\n",
      "\n",
      "Confusion Matrix:\n",
      "[[  17   92]\n",
      " [ 225 1142]]\n"
     ]
    },
    {
     "data": {
      "text/markdown": [
       "**Confusion Matrix**"
      ],
      "text/plain": [
       "<IPython.core.display.Markdown object>"
      ]
     },
     "metadata": {},
     "output_type": "display_data"
    },
    {
     "data": {
      "image/png": "[encoded data removed]",
      "text/plain": [
       "<Figure size 432x288 with 2 Axes>"
      ]
     },
     "metadata": {
      "needs_background": "light"
     },
     "output_type": "display_data"
    },
    {
     "name": "stdout",
     "output_type": "stream",
     "text": [
      "\n"
     ]
    }
   ],
   "source": [
    "test_models(model_lst, (X_train, y_train, X_test, y_test))"
   ]
  },
  {
   "cell_type": "markdown",
   "metadata": {},
   "source": [
    "#### 4.5 Randomized Search <a class=\"anchor\" id=\"search\"></a>"
   ]
  },
  {
   "cell_type": "code",
   "execution_count": 127,
   "metadata": {},
   "outputs": [],
   "source": [
    "def build_model(n_hidden=1, n_neurons=30, learning_rate=3e-3, input_shape=[top_n_feats]):\n",
    "    model = Sequential([\n",
    "        InputLayer(input_shape=input_shape)\n",
    "    ])\n",
    "    for layer in range(n_hidden):\n",
    "        model.add(Dense(n_neurons, activation=\"relu\"))\n",
    "    model.add(Dense(1))\n",
    "    optimizer = SGD(lr=learning_rate)\n",
    "    model.compile(loss=\"mse\", optimizer=optimizer)\n",
    "    return model"
   ]
  },
  {
   "cell_type": "code",
   "execution_count": 128,
   "metadata": {},
   "outputs": [],
   "source": [
    "keras_reg = KerasRegressor(build_model)"
   ]
  },
  {
   "cell_type": "code",
   "execution_count": 129,
   "metadata": {},
   "outputs": [],
   "source": [
    "hyperparameters = {\n",
    "    'n_hidden': [0, 1, 2, 3],\n",
    "    'n_neurons': np.arange(1, 100),\n",
    "    'learning_rate': reciprocal(3e-4, 3e-2)\n",
    "}"
   ]
  },
  {
   "cell_type": "code",
   "execution_count": 130,
   "metadata": {},
   "outputs": [],
   "source": [
    "cv = RepeatedStratifiedKFold(n_splits=10, n_repeats=3, random_state=SEED)"
   ]
  },
  {
   "cell_type": "code",
   "execution_count": 131,
   "metadata": {},
   "outputs": [],
   "source": [
    "rnd_search_cv = RandomizedSearchCV(keras_reg, hyperparameters, n_iter=10, cv=cv)"
   ]
  },
  {
   "cell_type": "code",
   "execution_count": 132,
   "metadata": {
    "scrolled": true
   },
   "outputs": [
    {
     "name": "stdout",
     "output_type": "stream",
     "text": [
      "19/19 [==============================] - 0s 1ms/step - loss: 0.0743\n",
      "19/19 [==============================] - 0s 1ms/step - loss: 0.0727\n",
      "19/19 [==============================] - 0s 950us/step - loss: 0.0789\n",
      "19/19 [==============================] - 0s 902us/step - loss: 0.0729\n",
      "19/19 [==============================] - 0s 950us/step - loss: 0.0851\n",
      "19/19 [==============================] - 0s 1ms/step - loss: 0.0886\n",
      "19/19 [==============================] - 0s 1ms/step - loss: 0.0689\n",
      "19/19 [==============================] - 0s 1ms/step - loss: 0.0793\n",
      "19/19 [==============================] - 0s 979us/step - loss: 0.0742\n",
      "19/19 [==============================] - 0s 901us/step - loss: 0.0762\n",
      "19/19 [==============================] - 0s 997us/step - loss: 0.0742\n",
      "19/19 [==============================] - 0s 975us/step - loss: 0.0743\n",
      "19/19 [==============================] - 0s 1ms/step - loss: 0.0761\n",
      "19/19 [==============================] - 0s 1ms/step - loss: 0.0767\n",
      "19/19 [==============================] - 0s 995us/step - loss: 0.0937\n",
      "19/19 [==============================] - 0s 1ms/step - loss: 0.0729\n",
      "19/19 [==============================] - 0s 1ms/step - loss: 0.0742\n",
      "19/19 [==============================] - 0s 911us/step - loss: 0.0678\n",
      "19/19 [==============================] - 0s 1ms/step - loss: 0.0740\n",
      "19/19 [==============================] - 0s 976us/step - loss: 0.1110\n",
      "19/19 [==============================] - 0s 1ms/step - loss: 0.0692\n",
      "19/19 [==============================] - 0s 1ms/step - loss: 0.0833\n",
      "19/19 [==============================] - 0s 1ms/step - loss: 0.0941\n",
      "19/19 [==============================] - 0s 2ms/step - loss: 0.0737\n",
      "19/19 [==============================] - 0s 902us/step - loss: 0.0702\n",
      "19/19 [==============================] - 0s 896us/step - loss: 0.0696\n",
      "19/19 [==============================] - 0s 1ms/step - loss: 0.0737\n",
      "19/19 [==============================] - 0s 967us/step - loss: 0.0671\n",
      "19/19 [==============================] - 0s 898us/step - loss: 0.0724\n",
      "19/19 [==============================] - 0s 1ms/step - loss: 0.0928\n",
      "19/19 [==============================] - 0s 879us/step - loss: 0.0772\n",
      "19/19 [==============================] - 0s 900us/step - loss: 0.0909\n",
      "19/19 [==============================] - 0s 874us/step - loss: 0.0798\n",
      "19/19 [==============================] - 0s 820us/step - loss: 0.0886\n",
      "19/19 [==============================] - 0s 831us/step - loss: 0.0918\n",
      "19/19 [==============================] - 0s 960us/step - loss: 0.0934\n",
      "19/19 [==============================] - 0s 849us/step - loss: 0.0771\n",
      "19/19 [==============================] - 0s 871us/step - loss: 0.0808\n",
      "19/19 [==============================] - 0s 852us/step - loss: 0.0825\n",
      "19/19 [==============================] - 0s 821us/step - loss: 0.0771\n",
      "19/19 [==============================] - 0s 900us/step - loss: 0.0939\n",
      "19/19 [==============================] - 0s 854us/step - loss: 0.0826\n",
      "19/19 [==============================] - 0s 968us/step - loss: 0.0834\n",
      "19/19 [==============================] - 0s 804us/step - loss: 0.0857\n",
      "19/19 [==============================] - 0s 814us/step - loss: 0.1058\n",
      "19/19 [==============================] - 0s 883us/step - loss: 0.0870\n",
      "19/19 [==============================] - 0s 759us/step - loss: 0.0883\n",
      "19/19 [==============================] - 0s 809us/step - loss: 0.0850\n",
      "19/19 [==============================] - 0s 910us/step - loss: 0.0859\n",
      "19/19 [==============================] - 0s 855us/step - loss: 0.1063\n",
      "19/19 [==============================] - 0s 1ms/step - loss: 0.0835\n",
      "19/19 [==============================] - 0s 1ms/step - loss: 0.0775\n",
      "19/19 [==============================] - 0s 1ms/step - loss: 0.0938\n",
      "19/19 [==============================] - 0s 782us/step - loss: 0.0814\n",
      "19/19 [==============================] - 0s 966us/step - loss: 0.0835\n",
      "19/19 [==============================] - 0s 912us/step - loss: 0.0747\n",
      "19/19 [==============================] - 0s 827us/step - loss: 0.0772\n",
      "19/19 [==============================] - 0s 809us/step - loss: 0.0770\n",
      "19/19 [==============================] - 0s 897us/step - loss: 0.0771\n",
      "19/19 [==============================] - 0s 806us/step - loss: 0.0824\n",
      "19/19 [==============================] - 0s 1ms/step - loss: 0.0566\n",
      "19/19 [==============================] - 0s 827us/step - loss: 0.0559\n",
      "19/19 [==============================] - 0s 1ms/step - loss: 0.0542\n",
      "19/19 [==============================] - 0s 1ms/step - loss: 0.0554\n",
      "19/19 [==============================] - 0s 942us/step - loss: 0.0580\n",
      "19/19 [==============================] - 0s 908us/step - loss: 0.0581\n",
      "19/19 [==============================] - 0s 1ms/step - loss: 0.0580\n",
      "19/19 [==============================] - 0s 882us/step - loss: 0.0570\n",
      "19/19 [==============================] - 0s 1ms/step - loss: 0.0578\n",
      "19/19 [==============================] - 0s 1ms/step - loss: 0.0557\n",
      "19/19 [==============================] - 0s 914us/step - loss: 0.0576\n",
      "19/19 [==============================] - 0s 932us/step - loss: 0.0583\n",
      "19/19 [==============================] - 0s 979us/step - loss: 0.0570\n",
      "19/19 [==============================] - 0s 999us/step - loss: 0.0563\n",
      "19/19 [==============================] - 0s 1ms/step - loss: 0.0594\n",
      "19/19 [==============================] - 0s 1ms/step - loss: 0.0568\n",
      "19/19 [==============================] - 0s 929us/step - loss: 0.0574\n",
      "19/19 [==============================] - 0s 917us/step - loss: 0.0585\n",
      "19/19 [==============================] - 0s 922us/step - loss: 0.0514\n",
      "19/19 [==============================] - 0s 936us/step - loss: 0.0730\n",
      "19/19 [==============================] - 0s 1ms/step - loss: 0.0544\n",
      "19/19 [==============================] - 0s 928us/step - loss: 0.0606\n",
      "19/19 [==============================] - 0s 918us/step - loss: 0.0715\n",
      "19/19 [==============================] - 0s 1ms/step - loss: 0.0627\n",
      "19/19 [==============================] - 0s 1ms/step - loss: 0.0548\n",
      "19/19 [==============================] - 0s 948us/step - loss: 0.0590\n",
      "19/19 [==============================] - 0s 953us/step - loss: 0.0543\n",
      "19/19 [==============================] - 0s 918us/step - loss: 0.0545\n",
      "19/19 [==============================] - 0s 936us/step - loss: 0.0547\n",
      "19/19 [==============================] - 0s 844us/step - loss: 0.0643\n",
      "19/19 [==============================] - 0s 795us/step - loss: nan\n",
      "19/19 [==============================] - 0s 935us/step - loss: nan\n",
      "19/19 [==============================] - 0s 857us/step - loss: nan\n",
      "19/19 [==============================] - 0s 864us/step - loss: nan\n",
      "19/19 [==============================] - 0s 883us/step - loss: nan\n",
      "19/19 [==============================] - 0s 814us/step - loss: nan\n",
      "19/19 [==============================] - 0s 846us/step - loss: nan\n",
      "19/19 [==============================] - 0s 798us/step - loss: nan\n",
      "19/19 [==============================] - 0s 821us/step - loss: nan\n",
      "19/19 [==============================] - 0s 1ms/step - loss: nan\n",
      "19/19 [==============================] - 0s 797us/step - loss: nan\n",
      "19/19 [==============================] - 0s 808us/step - loss: nan\n",
      "19/19 [==============================] - 0s 778us/step - loss: nan\n",
      "19/19 [==============================] - 0s 822us/step - loss: nan\n",
      "19/19 [==============================] - 0s 832us/step - loss: nan\n",
      "19/19 [==============================] - 0s 806us/step - loss: nan\n",
      "19/19 [==============================] - 0s 815us/step - loss: nan\n",
      "19/19 [==============================] - 0s 830us/step - loss: nan\n",
      "19/19 [==============================] - 0s 798us/step - loss: nan\n",
      "19/19 [==============================] - 0s 774us/step - loss: nan\n",
      "19/19 [==============================] - 0s 791us/step - loss: nan\n",
      "19/19 [==============================] - 0s 821us/step - loss: nan\n",
      "19/19 [==============================] - 0s 901us/step - loss: nan\n",
      "19/19 [==============================] - 0s 829us/step - loss: nan\n",
      "19/19 [==============================] - 0s 829us/step - loss: nan\n",
      "19/19 [==============================] - 0s 950us/step - loss: nan\n",
      "19/19 [==============================] - 0s 857us/step - loss: nan\n",
      "19/19 [==============================] - 0s 780us/step - loss: nan\n",
      "19/19 [==============================] - 0s 818us/step - loss: nan\n",
      "19/19 [==============================] - 0s 840us/step - loss: nan\n",
      "19/19 [==============================] - 0s 838us/step - loss: 0.0550\n",
      "19/19 [==============================] - 0s 1ms/step - loss: 0.0552\n",
      "19/19 [==============================] - 0s 2ms/step - loss: 0.0520\n",
      "19/19 [==============================] - 0s 886us/step - loss: 0.0572\n",
      "19/19 [==============================] - 0s 864us/step - loss: 0.0743\n",
      "19/19 [==============================] - 0s 836us/step - loss: 0.0613\n",
      "19/19 [==============================] - 0s 820us/step - loss: 0.0553\n",
      "19/19 [==============================] - 0s 988us/step - loss: 0.0565\n",
      "19/19 [==============================] - 0s 922us/step - loss: 0.0564\n",
      "19/19 [==============================] - 0s 845us/step - loss: 0.0556\n",
      "19/19 [==============================] - 0s 2ms/step - loss: 0.0592\n",
      "19/19 [==============================] - 0s 784us/step - loss: 0.0589\n",
      "19/19 [==============================] - 0s 889us/step - loss: 0.0572\n",
      "19/19 [==============================] - 0s 926us/step - loss: 0.0561\n",
      "19/19 [==============================] - 0s 880us/step - loss: 0.0591\n",
      "19/19 [==============================] - 0s 832us/step - loss: 0.0565\n",
      "19/19 [==============================] - 0s 926us/step - loss: 0.0565\n",
      "19/19 [==============================] - 0s 1ms/step - loss: 0.0566\n",
      "19/19 [==============================] - 0s 908us/step - loss: 0.0530\n",
      "19/19 [==============================] - 0s 2ms/step - loss: 0.0671\n",
      "19/19 [==============================] - 0s 855us/step - loss: 0.0548\n",
      "19/19 [==============================] - 0s 797us/step - loss: 0.0575\n",
      "19/19 [==============================] - 0s 852us/step - loss: 0.0593\n",
      "19/19 [==============================] - 0s 902us/step - loss: 0.0584\n",
      "19/19 [==============================] - 0s 834us/step - loss: 0.0597\n",
      "19/19 [==============================] - 0s 855us/step - loss: 0.0562\n",
      "19/19 [==============================] - 0s 847us/step - loss: 0.0555\n",
      "19/19 [==============================] - 0s 922us/step - loss: 0.0534\n",
      "19/19 [==============================] - 0s 1ms/step - loss: 0.0526\n",
      "19/19 [==============================] - 0s 842us/step - loss: 0.0593\n",
      "19/19 [==============================] - 0s 880us/step - loss: 0.0573\n",
      "19/19 [==============================] - 0s 904us/step - loss: 0.0569\n",
      "19/19 [==============================] - 0s 939us/step - loss: 0.0647\n",
      "19/19 [==============================] - 0s 809us/step - loss: 0.0609\n",
      "19/19 [==============================] - 0s 942us/step - loss: 0.0635\n",
      "19/19 [==============================] - 0s 886us/step - loss: 0.0917\n",
      "19/19 [==============================] - 0s 829us/step - loss: 0.0667\n",
      "19/19 [==============================] - 0s 861us/step - loss: 0.0586\n",
      "19/19 [==============================] - 0s 983us/step - loss: 0.0654\n",
      "19/19 [==============================] - 0s 801us/step - loss: 0.0568\n",
      "19/19 [==============================] - 0s 1ms/step - loss: 0.0641\n",
      "19/19 [==============================] - 0s 978us/step - loss: 0.0619\n",
      "19/19 [==============================] - 0s 926us/step - loss: 0.0661\n",
      "19/19 [==============================] - 0s 880us/step - loss: 0.0597\n",
      "19/19 [==============================] - 0s 977us/step - loss: 0.0602\n",
      "19/19 [==============================] - 0s 840us/step - loss: 0.0596\n",
      "19/19 [==============================] - 0s 798us/step - loss: 0.0620\n",
      "19/19 [==============================] - 0s 1ms/step - loss: 0.0603\n",
      "19/19 [==============================] - 0s 818us/step - loss: 0.0597\n",
      "19/19 [==============================] - 0s 2ms/step - loss: 0.0794\n",
      "19/19 [==============================] - 0s 995us/step - loss: 0.0586\n",
      "19/19 [==============================] - 0s 812us/step - loss: 0.0667\n",
      "19/19 [==============================] - 0s 954us/step - loss: 0.0693\n",
      "19/19 [==============================] - 0s 752us/step - loss: 0.0583\n",
      "19/19 [==============================] - 0s 874us/step - loss: 0.0624\n",
      "19/19 [==============================] - 0s 851us/step - loss: 0.0582\n",
      "19/19 [==============================] - 0s 872us/step - loss: 0.0615\n",
      "19/19 [==============================] - 0s 810us/step - loss: 0.0590\n",
      "19/19 [==============================] - 0s 962us/step - loss: 0.0567\n",
      "19/19 [==============================] - 0s 930us/step - loss: 0.0619\n",
      "19/19 [==============================] - 0s 932us/step - loss: 0.0564\n",
      "19/19 [==============================] - 0s 761us/step - loss: 0.0558\n",
      "19/19 [==============================] - 0s 820us/step - loss: 0.0563\n",
      "19/19 [==============================] - 0s 763us/step - loss: 0.0581\n",
      "19/19 [==============================] - 0s 835us/step - loss: 0.0576\n",
      "19/19 [==============================] - 0s 839us/step - loss: 0.0585\n",
      "19/19 [==============================] - 0s 3ms/step - loss: 0.0569\n",
      "19/19 [==============================] - 0s 3ms/step - loss: 0.0560\n",
      "19/19 [==============================] - 0s 832us/step - loss: 0.0558\n",
      "19/19 [==============================] - 0s 756us/step - loss: 0.0581\n",
      "19/19 [==============================] - 0s 764us/step - loss: 0.0575\n",
      "19/19 [==============================] - 0s 929us/step - loss: 0.0578\n",
      "19/19 [==============================] - 0s 967us/step - loss: 0.0543\n",
      "19/19 [==============================] - 0s 977us/step - loss: 0.0566\n",
      "19/19 [==============================] - 0s 1ms/step - loss: 0.0623\n",
      "19/19 [==============================] - 0s 792us/step - loss: 0.0552\n",
      "19/19 [==============================] - 0s 919us/step - loss: 0.0581\n",
      "19/19 [==============================] - 0s 792us/step - loss: 0.0573\n",
      "19/19 [==============================] - 0s 892us/step - loss: 0.0540\n",
      "19/19 [==============================] - 0s 968us/step - loss: 0.0570\n",
      "19/19 [==============================] - 0s 949us/step - loss: 0.0542\n",
      "19/19 [==============================] - 0s 1ms/step - loss: 0.0562\n",
      "19/19 [==============================] - 0s 824us/step - loss: 0.0604\n",
      "19/19 [==============================] - 0s 828us/step - loss: 0.0588\n",
      "19/19 [==============================] - 0s 922us/step - loss: 0.0573\n",
      "19/19 [==============================] - 0s 894us/step - loss: 0.0558\n",
      "19/19 [==============================] - 0s 880us/step - loss: 0.0571\n",
      "19/19 [==============================] - 0s 844us/step - loss: 0.0547\n",
      "19/19 [==============================] - 0s 872us/step - loss: 0.0567\n",
      "19/19 [==============================] - 0s 1ms/step - loss: 0.0584\n",
      "19/19 [==============================] - 0s 883us/step - loss: 0.0938\n",
      "19/19 [==============================] - 0s 902us/step - loss: 0.1095\n",
      "19/19 [==============================] - 0s 771us/step - loss: 0.0982\n",
      "19/19 [==============================] - 0s 811us/step - loss: 0.0945\n",
      "19/19 [==============================] - 0s 810us/step - loss: 0.1580\n",
      "19/19 [==============================] - 0s 1ms/step - loss: 0.0961\n",
      "19/19 [==============================] - 0s 796us/step - loss: 0.0941\n",
      "19/19 [==============================] - 0s 822us/step - loss: 0.1022\n",
      "19/19 [==============================] - 0s 955us/step - loss: 0.0977\n",
      "19/19 [==============================] - 0s 898us/step - loss: 0.0826\n",
      "19/19 [==============================] - 0s 876us/step - loss: 0.1193\n",
      "19/19 [==============================] - 0s 1ms/step - loss: 0.0945\n",
      "19/19 [==============================] - 0s 889us/step - loss: 0.1225\n",
      "19/19 [==============================] - 0s 815us/step - loss: 0.0972\n",
      "19/19 [==============================] - 0s 897us/step - loss: 0.1141\n",
      "19/19 [==============================] - 0s 793us/step - loss: 0.1051\n",
      "19/19 [==============================] - 0s 811us/step - loss: 0.1049\n",
      "19/19 [==============================] - 0s 855us/step - loss: 0.0977\n",
      "19/19 [==============================] - 0s 1ms/step - loss: 0.0788\n",
      "19/19 [==============================] - 0s 790us/step - loss: 0.2429\n",
      "19/19 [==============================] - 0s 883us/step - loss: 0.1019\n",
      "19/19 [==============================] - 0s 904us/step - loss: 0.1016\n",
      "19/19 [==============================] - 0s 844us/step - loss: 0.1077\n",
      "19/19 [==============================] - 0s 830us/step - loss: 0.0874\n",
      "19/19 [==============================] - 0s 963us/step - loss: 0.0833\n",
      "19/19 [==============================] - 0s 865us/step - loss: 0.0967\n"
     ]
    },
    {
     "name": "stdout",
     "output_type": "stream",
     "text": [
      "19/19 [==============================] - 0s 811us/step - loss: 0.0831\n",
      "19/19 [==============================] - 0s 845us/step - loss: 0.0866\n",
      "19/19 [==============================] - 0s 835us/step - loss: 0.0873\n",
      "19/19 [==============================] - 0s 814us/step - loss: 0.1426\n",
      "19/19 [==============================] - 0s 1ms/step - loss: 0.0664\n",
      "19/19 [==============================] - 0s 882us/step - loss: 0.0657\n",
      "19/19 [==============================] - 0s 902us/step - loss: 0.0683\n",
      "19/19 [==============================] - 0s 1ms/step - loss: 0.0660\n",
      "19/19 [==============================] - 0s 1ms/step - loss: 0.0715\n",
      "19/19 [==============================] - 0s 1ms/step - loss: 0.0911\n",
      "19/19 [==============================] - 0s 1ms/step - loss: 0.0621\n",
      "19/19 [==============================] - 0s 920us/step - loss: 0.0672\n",
      "19/19 [==============================] - 0s 2ms/step - loss: 0.0667\n",
      "19/19 [==============================] - 0s 1ms/step - loss: 0.0660\n",
      "19/19 [==============================] - 0s 1ms/step - loss: 0.0688\n",
      "19/19 [==============================] - 0s 939us/step - loss: 0.0632\n",
      "19/19 [==============================] - 0s 1ms/step - loss: 0.0696\n",
      "19/19 [==============================] - 0s 1ms/step - loss: 0.0669\n",
      "19/19 [==============================] - 0s 1ms/step - loss: 0.0688\n",
      "19/19 [==============================] - 0s 1ms/step - loss: 0.0658\n",
      "19/19 [==============================] - 0s 912us/step - loss: 0.0654\n",
      "19/19 [==============================] - 0s 907us/step - loss: 0.0675\n",
      "19/19 [==============================] - 0s 981us/step - loss: 0.0590\n",
      "19/19 [==============================] - 0s 1ms/step - loss: 0.0674\n",
      "19/19 [==============================] - 0s 1ms/step - loss: 0.0643\n",
      "19/19 [==============================] - 0s 950us/step - loss: 0.0698\n",
      "19/19 [==============================] - 0s 853us/step - loss: 0.0693\n",
      "19/19 [==============================] - 0s 1ms/step - loss: 0.0641\n",
      "19/19 [==============================] - 0s 1ms/step - loss: 0.0700\n",
      "19/19 [==============================] - 0s 924us/step - loss: 0.0618\n",
      "19/19 [==============================] - 0s 1ms/step - loss: 0.0600\n",
      "19/19 [==============================] - 0s 935us/step - loss: 0.0691\n",
      "19/19 [==============================] - 0s 1ms/step - loss: 0.0595\n",
      "19/19 [==============================] - 0s 991us/step - loss: 0.0646\n",
      "19/19 [==============================] - 0s 947us/step - loss: 0.0576\n",
      "19/19 [==============================] - 0s 931us/step - loss: 0.0598\n",
      "19/19 [==============================] - 0s 876us/step - loss: 0.0591\n",
      "19/19 [==============================] - 0s 925us/step - loss: 0.0579\n",
      "19/19 [==============================] - 0s 878us/step - loss: 0.0597\n",
      "19/19 [==============================] - 0s 849us/step - loss: 0.0605\n",
      "19/19 [==============================] - 0s 901us/step - loss: 0.0593\n",
      "19/19 [==============================] - 0s 918us/step - loss: 0.0555\n",
      "19/19 [==============================] - 0s 872us/step - loss: 0.0577\n",
      "19/19 [==============================] - 0s 1ms/step - loss: 0.0564\n",
      "19/19 [==============================] - 0s 1ms/step - loss: 0.0561\n",
      "19/19 [==============================] - 0s 1ms/step - loss: 0.0589\n",
      "19/19 [==============================] - 0s 1ms/step - loss: 0.0551\n",
      "19/19 [==============================] - 0s 909us/step - loss: 0.0573\n",
      "19/19 [==============================] - 0s 908us/step - loss: 0.0619\n",
      "19/19 [==============================] - 0s 1ms/step - loss: 0.0568\n",
      "19/19 [==============================] - 0s 910us/step - loss: 0.0540\n",
      "19/19 [==============================] - 0s 992us/step - loss: 0.0620\n",
      "19/19 [==============================] - 0s 1ms/step - loss: 0.0535\n",
      "19/19 [==============================] - 0s 972us/step - loss: 0.0639\n",
      "19/19 [==============================] - 0s 911us/step - loss: 0.0563\n",
      "19/19 [==============================] - 0s 897us/step - loss: 0.0581\n",
      "19/19 [==============================] - 0s 925us/step - loss: 0.0707\n",
      "19/19 [==============================] - 0s 882us/step - loss: 0.0571\n",
      "19/19 [==============================] - 0s 945us/step - loss: 0.0572\n",
      "19/19 [==============================] - 0s 1ms/step - loss: 0.0564\n",
      "19/19 [==============================] - 0s 985us/step - loss: 0.0571\n",
      "19/19 [==============================] - 0s 1ms/step - loss: 0.0574\n",
      "19/19 [==============================] - 0s 941us/step - loss: 0.0532\n",
      "19/19 [==============================] - 0s 830us/step - loss: 0.0606\n"
     ]
    },
    {
     "name": "stderr",
     "output_type": "stream",
     "text": [
      "/Library/Frameworks/Python.framework/Versions/3.6/lib/python3.6/site-packages/sklearn/model_selection/_search.py:813: DeprecationWarning: The default of the `iid` parameter will change from True to False in version 0.22 and will be removed in 0.24. This will change numeric results when test-set sizes are unequal.\n",
      "  DeprecationWarning)\n"
     ]
    },
    {
     "name": "stdout",
     "output_type": "stream",
     "text": [
      "CPU times: user 27min 32s, sys: 3min 43s, total: 31min 16s\n",
      "Wall time: 20min 29s\n"
     ]
    },
    {
     "data": {
      "text/plain": [
       "RandomizedSearchCV(cv=<sklearn.model_selection._split.RepeatedStratifiedKFold object at 0x14e33d3c8>,\n",
       "                   error_score='raise-deprecating',\n",
       "                   estimator=<tensorflow.python.keras.wrappers.scikit_learn.KerasRegressor object at 0x1504cc518>,\n",
       "                   iid='warn', n_iter=10, n_jobs=None,\n",
       "                   param_distributions={'learning_rate': <scipy.stats._distn_infrastructure.rv_frozen object at 0x1550...\n",
       "       18, 19, 20, 21, 22, 23, 24, 25, 26, 27, 28, 29, 30, 31, 32, 33, 34,\n",
       "       35, 36, 37, 38, 39, 40, 41, 42, 43, 44, 45, 46, 47, 48, 49, 50, 51,\n",
       "       52, 53, 54, 55, 56, 57, 58, 59, 60, 61, 62, 63, 64, 65, 66, 67, 68,\n",
       "       69, 70, 71, 72, 73, 74, 75, 76, 77, 78, 79, 80, 81, 82, 83, 84, 85,\n",
       "       86, 87, 88, 89, 90, 91, 92, 93, 94, 95, 96, 97, 98, 99])},\n",
       "                   pre_dispatch='2*n_jobs', random_state=None, refit=True,\n",
       "                   return_train_score=False, scoring=None, verbose=0)"
      ]
     },
     "execution_count": 132,
     "metadata": {},
     "output_type": "execute_result"
    }
   ],
   "source": [
    "%%time\n",
    "rnd_search_cv.fit(\n",
    "    X_train, y_train, epochs=EPOCHS, validation_split=VAL_SPLIT, callbacks=[EarlyStopping(patience=10)], verbose=0\n",
    ")"
   ]
  },
  {
   "cell_type": "code",
   "execution_count": 133,
   "metadata": {},
   "outputs": [
    {
     "data": {
      "text/plain": [
       "{'learning_rate': 0.02298924804076755, 'n_hidden': 1, 'n_neurons': 9}"
      ]
     },
     "execution_count": 133,
     "metadata": {},
     "output_type": "execute_result"
    }
   ],
   "source": [
    "best_params = rnd_search_cv.best_params_\n",
    "best_params"
   ]
  },
  {
   "cell_type": "code",
   "execution_count": 134,
   "metadata": {},
   "outputs": [
    {
     "data": {
      "text/plain": [
       "-0.05697540660862684"
      ]
     },
     "execution_count": 134,
     "metadata": {},
     "output_type": "execute_result"
    }
   ],
   "source": [
    "rnd_search_cv.best_score_"
   ]
  },
  {
   "cell_type": "code",
   "execution_count": 135,
   "metadata": {},
   "outputs": [
    {
     "data": {
      "text/html": [
       "<div>\n",
       "<style scoped>\n",
       "    .dataframe tbody tr th:only-of-type {\n",
       "        vertical-align: middle;\n",
       "    }\n",
       "\n",
       "    .dataframe tbody tr th {\n",
       "        vertical-align: top;\n",
       "    }\n",
       "\n",
       "    .dataframe thead th {\n",
       "        text-align: right;\n",
       "    }\n",
       "</style>\n",
       "<table border=\"1\" class=\"dataframe\">\n",
       "  <thead>\n",
       "    <tr style=\"text-align: right;\">\n",
       "      <th></th>\n",
       "      <th>mean_fit_time</th>\n",
       "      <th>std_fit_time</th>\n",
       "      <th>mean_score_time</th>\n",
       "      <th>std_score_time</th>\n",
       "      <th>param_learning_rate</th>\n",
       "      <th>param_n_hidden</th>\n",
       "      <th>param_n_neurons</th>\n",
       "      <th>params</th>\n",
       "      <th>split0_test_score</th>\n",
       "      <th>split1_test_score</th>\n",
       "      <th>...</th>\n",
       "      <th>split23_test_score</th>\n",
       "      <th>split24_test_score</th>\n",
       "      <th>split25_test_score</th>\n",
       "      <th>split26_test_score</th>\n",
       "      <th>split27_test_score</th>\n",
       "      <th>split28_test_score</th>\n",
       "      <th>split29_test_score</th>\n",
       "      <th>mean_test_score</th>\n",
       "      <th>std_test_score</th>\n",
       "      <th>rank_test_score</th>\n",
       "    </tr>\n",
       "  </thead>\n",
       "  <tbody>\n",
       "    <tr>\n",
       "      <th>0</th>\n",
       "      <td>5.258703</td>\n",
       "      <td>0.336717</td>\n",
       "      <td>0.077058</td>\n",
       "      <td>0.007565</td>\n",
       "      <td>0.000371923</td>\n",
       "      <td>3</td>\n",
       "      <td>80</td>\n",
       "      <td>{'learning_rate': 0.00037192261022352417, 'n_h...</td>\n",
       "      <td>-0.074291</td>\n",
       "      <td>-0.072709</td>\n",
       "      <td>...</td>\n",
       "      <td>-0.073655</td>\n",
       "      <td>-0.070190</td>\n",
       "      <td>-0.069607</td>\n",
       "      <td>-0.073730</td>\n",
       "      <td>-0.067097</td>\n",
       "      <td>-0.072376</td>\n",
       "      <td>-0.092841</td>\n",
       "      <td>-0.077742</td>\n",
       "      <td>0.009601</td>\n",
       "      <td>7</td>\n",
       "    </tr>\n",
       "    <tr>\n",
       "      <th>1</th>\n",
       "      <td>3.852280</td>\n",
       "      <td>0.108896</td>\n",
       "      <td>0.072829</td>\n",
       "      <td>0.002893</td>\n",
       "      <td>0.000876322</td>\n",
       "      <td>1</td>\n",
       "      <td>47</td>\n",
       "      <td>{'learning_rate': 0.0008763224455697141, 'n_hi...</td>\n",
       "      <td>-0.077177</td>\n",
       "      <td>-0.090914</td>\n",
       "      <td>...</td>\n",
       "      <td>-0.081447</td>\n",
       "      <td>-0.083505</td>\n",
       "      <td>-0.074744</td>\n",
       "      <td>-0.077163</td>\n",
       "      <td>-0.076992</td>\n",
       "      <td>-0.077082</td>\n",
       "      <td>-0.082367</td>\n",
       "      <td>-0.085049</td>\n",
       "      <td>0.007835</td>\n",
       "      <td>8</td>\n",
       "    </tr>\n",
       "    <tr>\n",
       "      <th>2</th>\n",
       "      <td>4.578925</td>\n",
       "      <td>0.112232</td>\n",
       "      <td>0.088715</td>\n",
       "      <td>0.073961</td>\n",
       "      <td>0.0051748</td>\n",
       "      <td>3</td>\n",
       "      <td>55</td>\n",
       "      <td>{'learning_rate': 0.0051747964719537, 'n_hidde...</td>\n",
       "      <td>-0.056566</td>\n",
       "      <td>-0.055925</td>\n",
       "      <td>...</td>\n",
       "      <td>-0.062680</td>\n",
       "      <td>-0.054774</td>\n",
       "      <td>-0.059033</td>\n",
       "      <td>-0.054272</td>\n",
       "      <td>-0.054456</td>\n",
       "      <td>-0.054698</td>\n",
       "      <td>-0.064320</td>\n",
       "      <td>-0.058105</td>\n",
       "      <td>0.004558</td>\n",
       "      <td>3</td>\n",
       "    </tr>\n",
       "    <tr>\n",
       "      <th>3</th>\n",
       "      <td>1.398059</td>\n",
       "      <td>0.015037</td>\n",
       "      <td>0.086876</td>\n",
       "      <td>0.076467</td>\n",
       "      <td>0.0277705</td>\n",
       "      <td>0</td>\n",
       "      <td>3</td>\n",
       "      <td>{'learning_rate': 0.027770456976200626, 'n_hid...</td>\n",
       "      <td>NaN</td>\n",
       "      <td>NaN</td>\n",
       "      <td>...</td>\n",
       "      <td>NaN</td>\n",
       "      <td>NaN</td>\n",
       "      <td>NaN</td>\n",
       "      <td>NaN</td>\n",
       "      <td>NaN</td>\n",
       "      <td>NaN</td>\n",
       "      <td>NaN</td>\n",
       "      <td>NaN</td>\n",
       "      <td>NaN</td>\n",
       "      <td>10</td>\n",
       "    </tr>\n",
       "    <tr>\n",
       "      <th>4</th>\n",
       "      <td>3.969833</td>\n",
       "      <td>0.120470</td>\n",
       "      <td>0.075540</td>\n",
       "      <td>0.009133</td>\n",
       "      <td>0.0157399</td>\n",
       "      <td>2</td>\n",
       "      <td>21</td>\n",
       "      <td>{'learning_rate': 0.01573990360087585, 'n_hidd...</td>\n",
       "      <td>-0.054962</td>\n",
       "      <td>-0.055206</td>\n",
       "      <td>...</td>\n",
       "      <td>-0.058380</td>\n",
       "      <td>-0.059654</td>\n",
       "      <td>-0.056241</td>\n",
       "      <td>-0.055545</td>\n",
       "      <td>-0.053425</td>\n",
       "      <td>-0.052626</td>\n",
       "      <td>-0.059286</td>\n",
       "      <td>-0.057533</td>\n",
       "      <td>0.004244</td>\n",
       "      <td>2</td>\n",
       "    </tr>\n",
       "  </tbody>\n",
       "</table>\n",
       "<p>5 rows × 41 columns</p>\n",
       "</div>"
      ],
      "text/plain": [
       "   mean_fit_time  std_fit_time  mean_score_time  std_score_time  \\\n",
       "0       5.258703      0.336717         0.077058        0.007565   \n",
       "1       3.852280      0.108896         0.072829        0.002893   \n",
       "2       4.578925      0.112232         0.088715        0.073961   \n",
       "3       1.398059      0.015037         0.086876        0.076467   \n",
       "4       3.969833      0.120470         0.075540        0.009133   \n",
       "\n",
       "  param_learning_rate param_n_hidden param_n_neurons  \\\n",
       "0         0.000371923              3              80   \n",
       "1         0.000876322              1              47   \n",
       "2           0.0051748              3              55   \n",
       "3           0.0277705              0               3   \n",
       "4           0.0157399              2              21   \n",
       "\n",
       "                                              params  split0_test_score  \\\n",
       "0  {'learning_rate': 0.00037192261022352417, 'n_h...          -0.074291   \n",
       "1  {'learning_rate': 0.0008763224455697141, 'n_hi...          -0.077177   \n",
       "2  {'learning_rate': 0.0051747964719537, 'n_hidde...          -0.056566   \n",
       "3  {'learning_rate': 0.027770456976200626, 'n_hid...                NaN   \n",
       "4  {'learning_rate': 0.01573990360087585, 'n_hidd...          -0.054962   \n",
       "\n",
       "   split1_test_score  ...  split23_test_score  split24_test_score  \\\n",
       "0          -0.072709  ...           -0.073655           -0.070190   \n",
       "1          -0.090914  ...           -0.081447           -0.083505   \n",
       "2          -0.055925  ...           -0.062680           -0.054774   \n",
       "3                NaN  ...                 NaN                 NaN   \n",
       "4          -0.055206  ...           -0.058380           -0.059654   \n",
       "\n",
       "   split25_test_score  split26_test_score  split27_test_score  \\\n",
       "0           -0.069607           -0.073730           -0.067097   \n",
       "1           -0.074744           -0.077163           -0.076992   \n",
       "2           -0.059033           -0.054272           -0.054456   \n",
       "3                 NaN                 NaN                 NaN   \n",
       "4           -0.056241           -0.055545           -0.053425   \n",
       "\n",
       "   split28_test_score  split29_test_score  mean_test_score  std_test_score  \\\n",
       "0           -0.072376           -0.092841        -0.077742        0.009601   \n",
       "1           -0.077082           -0.082367        -0.085049        0.007835   \n",
       "2           -0.054698           -0.064320        -0.058105        0.004558   \n",
       "3                 NaN                 NaN              NaN             NaN   \n",
       "4           -0.052626           -0.059286        -0.057533        0.004244   \n",
       "\n",
       "   rank_test_score  \n",
       "0                7  \n",
       "1                8  \n",
       "2                3  \n",
       "3               10  \n",
       "4                2  \n",
       "\n",
       "[5 rows x 41 columns]"
      ]
     },
     "execution_count": 135,
     "metadata": {},
     "output_type": "execute_result"
    }
   ],
   "source": [
    "cv_results = pd.DataFrame(rnd_search_cv.cv_results_)\n",
    "cv_results.head(5)"
   ]
  },
  {
   "cell_type": "code",
   "execution_count": 136,
   "metadata": {
    "scrolled": true
   },
   "outputs": [
    {
     "data": {
      "text/plain": [
       "mean_fit_time                                                    3.86284\n",
       "std_fit_time                                                    0.391776\n",
       "mean_score_time                                                0.0774776\n",
       "std_score_time                                                 0.0176452\n",
       "param_learning_rate                                            0.0229892\n",
       "param_n_hidden                                                         1\n",
       "param_n_neurons                                                        9\n",
       "params                 {'learning_rate': 0.02298924804076755, 'n_hidd...\n",
       "split0_test_score                                             -0.0563913\n",
       "split1_test_score                                             -0.0557954\n",
       "split2_test_score                                             -0.0562857\n",
       "split3_test_score                                              -0.058103\n",
       "split4_test_score                                             -0.0575592\n",
       "split5_test_score                                             -0.0585009\n",
       "split6_test_score                                              -0.056935\n",
       "split7_test_score                                              -0.056037\n",
       "split8_test_score                                             -0.0558148\n",
       "split9_test_score                                             -0.0581182\n",
       "split10_test_score                                            -0.0575455\n",
       "split11_test_score                                            -0.0578255\n",
       "split12_test_score                                            -0.0543305\n",
       "split13_test_score                                            -0.0566465\n",
       "split14_test_score                                            -0.0623065\n",
       "split15_test_score                                            -0.0552006\n",
       "split16_test_score                                             -0.058132\n",
       "split17_test_score                                            -0.0572658\n",
       "split18_test_score                                            -0.0539621\n",
       "split19_test_score                                            -0.0569913\n",
       "split20_test_score                                             -0.054176\n",
       "split21_test_score                                            -0.0561735\n",
       "split22_test_score                                            -0.0603994\n",
       "split23_test_score                                            -0.0587741\n",
       "split24_test_score                                            -0.0573449\n",
       "split25_test_score                                            -0.0557696\n",
       "split26_test_score                                             -0.057085\n",
       "split27_test_score                                            -0.0547196\n",
       "split28_test_score                                            -0.0566548\n",
       "split29_test_score                                            -0.0584296\n",
       "mean_test_score                                               -0.0569754\n",
       "std_test_score                                                0.00175365\n",
       "rank_test_score                                                        1\n",
       "Name: 6, dtype: object"
      ]
     },
     "execution_count": 136,
     "metadata": {},
     "output_type": "execute_result"
    }
   ],
   "source": [
    "cv_results.iloc[rnd_search_cv.best_index_]"
   ]
  },
  {
   "cell_type": "code",
   "execution_count": 137,
   "metadata": {},
   "outputs": [],
   "source": [
    "top_x = 3"
   ]
  },
  {
   "cell_type": "code",
   "execution_count": 138,
   "metadata": {},
   "outputs": [
    {
     "data": {
      "text/html": [
       "<div>\n",
       "<style scoped>\n",
       "    .dataframe tbody tr th:only-of-type {\n",
       "        vertical-align: middle;\n",
       "    }\n",
       "\n",
       "    .dataframe tbody tr th {\n",
       "        vertical-align: top;\n",
       "    }\n",
       "\n",
       "    .dataframe thead th {\n",
       "        text-align: right;\n",
       "    }\n",
       "</style>\n",
       "<table border=\"1\" class=\"dataframe\">\n",
       "  <thead>\n",
       "    <tr style=\"text-align: right;\">\n",
       "      <th></th>\n",
       "      <th>index</th>\n",
       "      <th>mean_fit_time</th>\n",
       "      <th>std_fit_time</th>\n",
       "      <th>mean_score_time</th>\n",
       "      <th>std_score_time</th>\n",
       "      <th>param_learning_rate</th>\n",
       "      <th>param_n_hidden</th>\n",
       "      <th>param_n_neurons</th>\n",
       "      <th>params</th>\n",
       "      <th>split0_test_score</th>\n",
       "      <th>...</th>\n",
       "      <th>split23_test_score</th>\n",
       "      <th>split24_test_score</th>\n",
       "      <th>split25_test_score</th>\n",
       "      <th>split26_test_score</th>\n",
       "      <th>split27_test_score</th>\n",
       "      <th>split28_test_score</th>\n",
       "      <th>split29_test_score</th>\n",
       "      <th>mean_test_score</th>\n",
       "      <th>std_test_score</th>\n",
       "      <th>rank_test_score</th>\n",
       "    </tr>\n",
       "  </thead>\n",
       "  <tbody>\n",
       "    <tr>\n",
       "      <th>0</th>\n",
       "      <td>6</td>\n",
       "      <td>3.862837</td>\n",
       "      <td>0.391776</td>\n",
       "      <td>0.077478</td>\n",
       "      <td>0.017645</td>\n",
       "      <td>0.0229892</td>\n",
       "      <td>1</td>\n",
       "      <td>9</td>\n",
       "      <td>{'learning_rate': 0.02298924804076755, 'n_hidd...</td>\n",
       "      <td>-0.056391</td>\n",
       "      <td>...</td>\n",
       "      <td>-0.058774</td>\n",
       "      <td>-0.057345</td>\n",
       "      <td>-0.055770</td>\n",
       "      <td>-0.057085</td>\n",
       "      <td>-0.054720</td>\n",
       "      <td>-0.056655</td>\n",
       "      <td>-0.058430</td>\n",
       "      <td>-0.056975</td>\n",
       "      <td>0.001754</td>\n",
       "      <td>1</td>\n",
       "    </tr>\n",
       "    <tr>\n",
       "      <th>1</th>\n",
       "      <td>4</td>\n",
       "      <td>3.969833</td>\n",
       "      <td>0.120470</td>\n",
       "      <td>0.075540</td>\n",
       "      <td>0.009133</td>\n",
       "      <td>0.0157399</td>\n",
       "      <td>2</td>\n",
       "      <td>21</td>\n",
       "      <td>{'learning_rate': 0.01573990360087585, 'n_hidd...</td>\n",
       "      <td>-0.054962</td>\n",
       "      <td>...</td>\n",
       "      <td>-0.058380</td>\n",
       "      <td>-0.059654</td>\n",
       "      <td>-0.056241</td>\n",
       "      <td>-0.055545</td>\n",
       "      <td>-0.053425</td>\n",
       "      <td>-0.052626</td>\n",
       "      <td>-0.059286</td>\n",
       "      <td>-0.057533</td>\n",
       "      <td>0.004244</td>\n",
       "      <td>2</td>\n",
       "    </tr>\n",
       "    <tr>\n",
       "      <th>2</th>\n",
       "      <td>2</td>\n",
       "      <td>4.578925</td>\n",
       "      <td>0.112232</td>\n",
       "      <td>0.088715</td>\n",
       "      <td>0.073961</td>\n",
       "      <td>0.0051748</td>\n",
       "      <td>3</td>\n",
       "      <td>55</td>\n",
       "      <td>{'learning_rate': 0.0051747964719537, 'n_hidde...</td>\n",
       "      <td>-0.056566</td>\n",
       "      <td>...</td>\n",
       "      <td>-0.062680</td>\n",
       "      <td>-0.054774</td>\n",
       "      <td>-0.059033</td>\n",
       "      <td>-0.054272</td>\n",
       "      <td>-0.054456</td>\n",
       "      <td>-0.054698</td>\n",
       "      <td>-0.064320</td>\n",
       "      <td>-0.058105</td>\n",
       "      <td>0.004558</td>\n",
       "      <td>3</td>\n",
       "    </tr>\n",
       "  </tbody>\n",
       "</table>\n",
       "<p>3 rows × 42 columns</p>\n",
       "</div>"
      ],
      "text/plain": [
       "   index  mean_fit_time  std_fit_time  mean_score_time  std_score_time  \\\n",
       "0      6       3.862837      0.391776         0.077478        0.017645   \n",
       "1      4       3.969833      0.120470         0.075540        0.009133   \n",
       "2      2       4.578925      0.112232         0.088715        0.073961   \n",
       "\n",
       "  param_learning_rate param_n_hidden param_n_neurons  \\\n",
       "0           0.0229892              1               9   \n",
       "1           0.0157399              2              21   \n",
       "2           0.0051748              3              55   \n",
       "\n",
       "                                              params  split0_test_score  ...  \\\n",
       "0  {'learning_rate': 0.02298924804076755, 'n_hidd...          -0.056391  ...   \n",
       "1  {'learning_rate': 0.01573990360087585, 'n_hidd...          -0.054962  ...   \n",
       "2  {'learning_rate': 0.0051747964719537, 'n_hidde...          -0.056566  ...   \n",
       "\n",
       "   split23_test_score  split24_test_score  split25_test_score  \\\n",
       "0           -0.058774           -0.057345           -0.055770   \n",
       "1           -0.058380           -0.059654           -0.056241   \n",
       "2           -0.062680           -0.054774           -0.059033   \n",
       "\n",
       "   split26_test_score  split27_test_score  split28_test_score  \\\n",
       "0           -0.057085           -0.054720           -0.056655   \n",
       "1           -0.055545           -0.053425           -0.052626   \n",
       "2           -0.054272           -0.054456           -0.054698   \n",
       "\n",
       "   split29_test_score  mean_test_score  std_test_score  rank_test_score  \n",
       "0           -0.058430        -0.056975        0.001754                1  \n",
       "1           -0.059286        -0.057533        0.004244                2  \n",
       "2           -0.064320        -0.058105        0.004558                3  \n",
       "\n",
       "[3 rows x 42 columns]"
      ]
     },
     "execution_count": 138,
     "metadata": {},
     "output_type": "execute_result"
    }
   ],
   "source": [
    "top_x_models = cv_results.loc[cv_results['rank_test_score'].isin(range(1, top_x+1))].sort_values(by=['rank_test_score'])\n",
    "final_top_x_models = top_x_models.reset_index()\n",
    "final_top_x_models"
   ]
  },
  {
   "cell_type": "code",
   "execution_count": 139,
   "metadata": {},
   "outputs": [],
   "source": [
    "def build_model2(n_hidden, n_neurons):\n",
    "    model = Sequential([\n",
    "        InputLayer(input_shape=[top_n_feats])\n",
    "    ])\n",
    "    for layer in range(n_hidden):\n",
    "        model.add(Dense(n_neurons, activation=\"relu\"))\n",
    "    model.add(Dense(1))\n",
    "    return model"
   ]
  },
  {
   "cell_type": "code",
   "execution_count": 140,
   "metadata": {},
   "outputs": [],
   "source": [
    "best_models_list = [{\n",
    "    'name': 'Randomized Search: #{} Model'.format(idx + 1),\n",
    "    'model': build_model2(n_hidden=model['param_n_hidden'], n_neurons=model['param_n_neurons']),\n",
    "    'loss': 'sparse_categorical_crossentropy',\n",
    "    'optimizer': SGD(learning_rate=model['param_learning_rate'])\n",
    "} for idx, model in final_top_x_models.iterrows()]"
   ]
  },
  {
   "cell_type": "code",
   "execution_count": 141,
   "metadata": {},
   "outputs": [
    {
     "data": {
      "text/plain": [
       "[{'name': 'Randomized Search: #1 Model',\n",
       "  'model': <tensorflow.python.keras.engine.sequential.Sequential at 0x15b2ee6a0>,\n",
       "  'loss': 'sparse_categorical_crossentropy',\n",
       "  'optimizer': <tensorflow.python.keras.optimizer_v2.gradient_descent.SGD at 0x15876fe80>},\n",
       " {'name': 'Randomized Search: #2 Model',\n",
       "  'model': <tensorflow.python.keras.engine.sequential.Sequential at 0x15875e668>,\n",
       "  'loss': 'sparse_categorical_crossentropy',\n",
       "  'optimizer': <tensorflow.python.keras.optimizer_v2.gradient_descent.SGD at 0x15876c1d0>},\n",
       " {'name': 'Randomized Search: #3 Model',\n",
       "  'model': <tensorflow.python.keras.engine.sequential.Sequential at 0x15876cdd8>,\n",
       "  'loss': 'sparse_categorical_crossentropy',\n",
       "  'optimizer': <tensorflow.python.keras.optimizer_v2.gradient_descent.SGD at 0x15f9244e0>}]"
      ]
     },
     "execution_count": 141,
     "metadata": {},
     "output_type": "execute_result"
    }
   ],
   "source": [
    "best_models_list"
   ]
  },
  {
   "cell_type": "code",
   "execution_count": 143,
   "metadata": {},
   "outputs": [],
   "source": [
    "# test_models(best_models_list, (X_train, y_train, X_test, y_test))"
   ]
  },
  {
   "cell_type": "markdown",
   "metadata": {},
   "source": [
    "## 5. Random Data Generation <a class=\"anchor\" id=\"data_gen\"></a>"
   ]
  },
  {
   "cell_type": "markdown",
   "metadata": {},
   "source": [
    "[Table of Contents](#toc)"
   ]
  },
  {
   "cell_type": "code",
   "execution_count": null,
   "metadata": {},
   "outputs": [],
   "source": [
    "new_data_points = 7500"
   ]
  },
  {
   "cell_type": "code",
   "execution_count": null,
   "metadata": {},
   "outputs": [],
   "source": [
    "new_data = pd.DataFrame()"
   ]
  },
  {
   "cell_type": "code",
   "execution_count": null,
   "metadata": {},
   "outputs": [],
   "source": [
    "%%time\n",
    "\n",
    "total = len(trim_df4)\n",
    "for col in trim_df4.columns.tolist():\n",
    "    if col in code_cols:\n",
    "        counts = trim_df4[col].value_counts()\n",
    "        choices = list(counts.index)\n",
    "        weights = [count/total for count in counts.values]\n",
    "        new_data[col] = np.random.choice(\n",
    "            a=choices, p=weights, size=(new_data_points,)\n",
    "        )\n",
    "    else:\n",
    "        new_data[col] = np.random.normal(\n",
    "            loc=trim_df4[col].mean(), scale=trim_df4[col].std(), size=new_data_points\n",
    "        )"
   ]
  },
  {
   "cell_type": "code",
   "execution_count": null,
   "metadata": {},
   "outputs": [],
   "source": [
    "new_data.head(5)"
   ]
  },
  {
   "cell_type": "code",
   "execution_count": null,
   "metadata": {},
   "outputs": [],
   "source": [
    "new_data.shape"
   ]
  },
  {
   "cell_type": "code",
   "execution_count": null,
   "metadata": {
    "scrolled": true
   },
   "outputs": [],
   "source": [
    "real = trim_df4.describe()\n",
    "fake = new_data.describe()\n",
    "fake"
   ]
  },
  {
   "cell_type": "code",
   "execution_count": null,
   "metadata": {},
   "outputs": [],
   "source": [
    "mean_real = real.iloc[1]\n",
    "mean_fake = fake.iloc[1]\n",
    "std_real = real.iloc[2]\n",
    "std_fake = fake.iloc[2]"
   ]
  },
  {
   "cell_type": "code",
   "execution_count": null,
   "metadata": {},
   "outputs": [],
   "source": [
    "(mean_real - mean_fake).mean()"
   ]
  },
  {
   "cell_type": "code",
   "execution_count": null,
   "metadata": {},
   "outputs": [],
   "source": [
    "(std_real - std_fake).mean()"
   ]
  },
  {
   "cell_type": "code",
   "execution_count": null,
   "metadata": {},
   "outputs": [],
   "source": [
    "new_df = pd.concat([trim_df4, new_data], axis=0).reset_index().drop(columns=['index'])"
   ]
  },
  {
   "cell_type": "code",
   "execution_count": null,
   "metadata": {},
   "outputs": [],
   "source": [
    "new_df.head(5)"
   ]
  },
  {
   "cell_type": "code",
   "execution_count": null,
   "metadata": {},
   "outputs": [],
   "source": [
    "new_df.shape"
   ]
  },
  {
   "cell_type": "code",
   "execution_count": null,
   "metadata": {},
   "outputs": [],
   "source": [
    "codes_df2 = new_df[code_cols]\n",
    "trim_df6 = new_df.drop(columns=code_cols)\n",
    "scaler2 = StandardScaler()\n",
    "scaled_df2 = pd.DataFrame(data=scaler2.fit_transform(trim_df6), columns=trim_df6.columns.tolist())\n",
    "merged_df2 = pd.concat([scaled_df2, codes_df2], axis=1)\n",
    "merged_df2.head()"
   ]
  },
  {
   "cell_type": "code",
   "execution_count": null,
   "metadata": {},
   "outputs": [],
   "source": [
    "train2, test2 = train_test_split(merged_df2, test_size=0.2, random_state=SEED)"
   ]
  },
  {
   "cell_type": "code",
   "execution_count": null,
   "metadata": {},
   "outputs": [],
   "source": [
    "final_data2 = merged_df2.copy()\n",
    "final_train2 = train2.copy()\n",
    "final_test2 = test2.copy()\n",
    "target = 'COVIDResult_Encoded'"
   ]
  },
  {
   "cell_type": "code",
   "execution_count": null,
   "metadata": {},
   "outputs": [],
   "source": [
    "print(final_train2[target].value_counts())\n",
    "print(final_test2[target].value_counts())"
   ]
  },
  {
   "cell_type": "code",
   "execution_count": null,
   "metadata": {},
   "outputs": [],
   "source": [
    "X_train2 = final_train2.loc[:, final_train2.columns != target]\n",
    "y_train2 = final_train2[target]\n",
    "\n",
    "X_test2 = final_test2.loc[:, final_test2.columns != target]\n",
    "y_test2 = final_test2[target]"
   ]
  },
  {
   "cell_type": "code",
   "execution_count": null,
   "metadata": {
    "scrolled": true
   },
   "outputs": [],
   "source": [
    "test_models(model_lst, (X_train2, y_train2, X_test2, y_test2))"
   ]
  },
  {
   "cell_type": "markdown",
   "metadata": {},
   "source": [
    "## 6. Generative Adverserial Networks (GAN) <a class=\"anchor\" id=\"gan\"></a>"
   ]
  },
  {
   "cell_type": "markdown",
   "metadata": {},
   "source": [
    "[Table of Contents](#toc)"
   ]
  },
  {
   "cell_type": "markdown",
   "metadata": {},
   "source": [
    "#### 6.1 Network Setup <a class=\"anchor\" id=\"setup2\"></a>"
   ]
  },
  {
   "cell_type": "code",
   "execution_count": 152,
   "metadata": {},
   "outputs": [],
   "source": [
    "DIM = 32\n",
    "NB_STEPS = 500 + 1\n",
    "BASE_N_COUNT = 128\n",
    "BATCH_SIZE = 128\n",
    "NUM_UPDATES_D = 1         # number of critic network updates per adversarial training step\n",
    "NUM_UPDATES_G = 1         # number of generator network updates per adversarial training step\n",
    "NUM_PRE_TRAIN_STEPS = 100 # number of steps to pre-train the critic before starting adversarial training\n",
    "LOG_INTERVAL = 100        # interval (in steps) at which to log loss summaries and save plots of image samples to disc\n",
    "LEARNING_RATE = 5e-4 \n",
    "DIRECTORY = 'GAN/outputs/'\n",
    "SHOW = True\n",
    "generator_model_path, discriminator_model_path, loss_pickle_path = None, None, None\n",
    "\n",
    "arguments = [\n",
    "    DIM, NB_STEPS, BATCH_SIZE, NUM_UPDATES_D, NUM_UPDATES_G, NUM_PRE_TRAIN_STEPS, LOG_INTERVAL,\n",
    "    LEARNING_RATE, BASE_N_COUNT, DIRECTORY, generator_model_path, discriminator_model_path, loss_pickle_path, SHOW\n",
    "]"
   ]
  },
  {
   "cell_type": "code",
   "execution_count": 153,
   "metadata": {},
   "outputs": [],
   "source": [
    "target = 'COVIDResult_Encoded'\n",
    "all_detected = final_data.loc[final_data[target] == 0]\n",
    "train = all_detected.copy().reset_index()"
   ]
  },
  {
   "cell_type": "code",
   "execution_count": 154,
   "metadata": {},
   "outputs": [],
   "source": [
    "inputs = train.columns.tolist()\n",
    "inputs.remove(target)\n",
    "data_cols = inputs\n",
    "label_cols = [target]\n",
    "train_no_label = train[data_cols] / 10"
   ]
  },
  {
   "cell_type": "markdown",
   "metadata": {},
   "source": [
    "#### 6.2 Train GAN Models <a class=\"anchor\" id=\"train\"></a>"
   ]
  },
  {
   "cell_type": "markdown",
   "metadata": {},
   "source": [
    "###### 6.2.1 GAN <a class=\"anchor\" id=\"gan2\"></a>"
   ]
  },
  {
   "cell_type": "code",
   "execution_count": 155,
   "metadata": {
    "scrolled": true
   },
   "outputs": [
    {
     "name": "stdout",
     "output_type": "stream",
     "text": [
      "data_dim:  36\n",
      "data_cols:  ['index', 'Age', 'heart_rate', 'sbp', 'dbp', 'pulse_ox', 'resp_rate', 'cbc_wbc', 'cbc_hematocrit', 'cbc_hemoglobin', 'cbc_platelets', 'cbc_neutrophil_c', 'cbc_eosinophil_perc', 'cbc_lymphocyte_c', 'cbc_lymphocyte_perc', 'cbc_eosinophil_c', 'cbc_eosinophil_perc.1', 'cbc_monocyte_c', 'cbc_eosinophil_perc.2', 'cmp_sodium', 'cmp_potassium', 'cmp_chloride', 'cmp_bicarbonate', 'cmp_bun', 'cmp_creatinine', 'cmp_glucose', 'cmp_alt', 'cmp_ast', 'cmp_alkaline_phosphatase', 'cmp_total_protein', 'cmp_albumin', 'cmp_bilirubin', 'Admitted', 'FirstRace_Encoded', 'Ethnicity_Encoded', 'Sex_Encoded']\n",
      "Model: \"generator\"\n",
      "_________________________________________________________________\n",
      "Layer (type)                 Output Shape              Param #   \n",
      "=================================================================\n",
      "input_13 (InputLayer)        [(None, 32)]              0         \n",
      "_________________________________________________________________\n",
      "dense_48 (Dense)             (None, 128)               4224      \n",
      "_________________________________________________________________\n",
      "dense_49 (Dense)             (None, 256)               33024     \n",
      "_________________________________________________________________\n",
      "dense_50 (Dense)             (None, 512)               131584    \n",
      "_________________________________________________________________\n",
      "dense_51 (Dense)             (None, 36)                18468     \n",
      "=================================================================\n",
      "Total params: 187,300\n",
      "Trainable params: 187,300\n",
      "Non-trainable params: 0\n",
      "_________________________________________________________________\n",
      "None\n",
      "Model: \"discriminator\"\n",
      "_________________________________________________________________\n",
      "Layer (type)                 Output Shape              Param #   \n",
      "=================================================================\n",
      "input_14 (InputLayer)        [(None, 36)]              0         \n",
      "_________________________________________________________________\n",
      "dense_52 (Dense)             (None, 512)               18944     \n",
      "_________________________________________________________________\n",
      "dense_53 (Dense)             (None, 256)               131328    \n",
      "_________________________________________________________________\n",
      "dense_54 (Dense)             (None, 128)               32896     \n",
      "_________________________________________________________________\n",
      "dense_55 (Dense)             (None, 1)                 129       \n",
      "=================================================================\n",
      "Total params: 183,297\n",
      "Trainable params: 0\n",
      "Non-trainable params: 183,297\n",
      "_________________________________________________________________\n",
      "None\n",
      "Model: \"combined\"\n",
      "_________________________________________________________________\n",
      "Layer (type)                 Output Shape              Param #   \n",
      "=================================================================\n",
      "input_13 (InputLayer)        [(None, 32)]              0         \n",
      "_________________________________________________________________\n",
      "generator (Functional)       (None, 36)                187300    \n",
      "_________________________________________________________________\n",
      "discriminator (Functional)   (None, 1)                 183297    \n",
      "=================================================================\n",
      "Total params: 370,597\n",
      "Trainable params: 187,300\n",
      "Non-trainable params: 183,297\n",
      "_________________________________________________________________\n",
      "None\n",
      "Step: 0 of 501.\n",
      "Losses: G, D Gen, D Real, Xgb: 0.7236, 0.6867, 0.1337, 0.9980\n",
      "D Real - D Gen: -0.5531\n"
     ]
    },
    {
     "data": {
      "image/png": "[encoded data removed]",
      "text/plain": [
       "<Figure size 432x144 with 2 Axes>"
      ]
     },
     "metadata": {},
     "output_type": "display_data"
    },
    {
     "name": "stdout",
     "output_type": "stream",
     "text": [
      "Step: 100 of 501.\n",
      "Losses: G, D Gen, D Real, Xgb: 1.7184, 0.4841, 0.1392, 1.0000\n",
      "D Real - D Gen: -0.3449\n"
     ]
    },
    {
     "data": {
      "image/png": "[encoded data removed]",
      "text/plain": [
       "<Figure size 432x144 with 2 Axes>"
      ]
     },
     "metadata": {},
     "output_type": "display_data"
    },
    {
     "ename": "ValueError",
     "evalue": "cannot reshape array of size 17640 into shape (492,newaxis)",
     "traceback": [
      "\u001b[0;31m---------------------------------------------------------------------------\u001b[0m",
      "\u001b[0;31mValueError\u001b[0m                                Traceback (most recent call last)",
      "\u001b[0;32m<timed eval>\u001b[0m in \u001b[0;36m<module>\u001b[0;34m\u001b[0m\n",
      "\u001b[0;32m~/PycharmProjects/Desktop/ml_covidData/GAN/GAN.py\u001b[0m in \u001b[0;36madversarial_training_GAN\u001b[0;34m(arguments, train, data_cols, label_cols, seed, starting_step)\u001b[0m\n\u001b[1;32m    626\u001b[0m                         combined_loss, disc_loss_generated, disc_loss_real, xgb_losses ]\n\u001b[1;32m    627\u001b[0m \u001b[0;34m\u001b[0m\u001b[0m\n\u001b[0;32m--> 628\u001b[0;31m     \u001b[0;34m[\u001b[0m\u001b[0mcombined_loss\u001b[0m\u001b[0;34m,\u001b[0m \u001b[0mdisc_loss_generated\u001b[0m\u001b[0;34m,\u001b[0m \u001b[0mdisc_loss_real\u001b[0m\u001b[0;34m,\u001b[0m \u001b[0mxgb_losses\u001b[0m\u001b[0;34m]\u001b[0m \u001b[0;34m=\u001b[0m \u001b[0mtraining_steps_GAN\u001b[0m\u001b[0;34m(\u001b[0m\u001b[0mmodel_components\u001b[0m\u001b[0;34m)\u001b[0m\u001b[0;34m\u001b[0m\u001b[0m\n\u001b[0m\u001b[1;32m    629\u001b[0m \u001b[0;34m\u001b[0m\u001b[0m\n\u001b[1;32m    630\u001b[0m \u001b[0;34m\u001b[0m\u001b[0m\n",
      "\u001b[0;32m~/PycharmProjects/Desktop/ml_covidData/GAN/GAN.py\u001b[0m in \u001b[0;36mtraining_steps_GAN\u001b[0;34m(model_components)\u001b[0m\n\u001b[1;32m    524\u001b[0m             \u001b[0mK\u001b[0m\u001b[0;34m.\u001b[0m\u001b[0mset_learning_phase\u001b[0m\u001b[0;34m(\u001b[0m\u001b[0;36m0\u001b[0m\u001b[0;34m)\u001b[0m \u001b[0;31m# 0 = test\u001b[0m\u001b[0;34m\u001b[0m\u001b[0m\n\u001b[1;32m    525\u001b[0m             \u001b[0mtest_size\u001b[0m \u001b[0;34m=\u001b[0m \u001b[0;36m470\u001b[0m \u001b[0;31m# test using all of the actual fraud data\u001b[0m\u001b[0;34m\u001b[0m\u001b[0m\n\u001b[0;32m--> 526\u001b[0;31m             \u001b[0mx\u001b[0m \u001b[0;34m=\u001b[0m \u001b[0mget_data_batch\u001b[0m\u001b[0;34m(\u001b[0m\u001b[0mtrain\u001b[0m\u001b[0;34m,\u001b[0m \u001b[0mtest_size\u001b[0m\u001b[0;34m,\u001b[0m \u001b[0mseed\u001b[0m\u001b[0;34m=\u001b[0m\u001b[0mi\u001b[0m\u001b[0;34m)\u001b[0m\u001b[0;34m\u001b[0m\u001b[0m\n\u001b[0m\u001b[1;32m    527\u001b[0m             \u001b[0mz\u001b[0m \u001b[0;34m=\u001b[0m \u001b[0mnp\u001b[0m\u001b[0;34m.\u001b[0m\u001b[0mrandom\u001b[0m\u001b[0;34m.\u001b[0m\u001b[0mnormal\u001b[0m\u001b[0;34m(\u001b[0m\u001b[0msize\u001b[0m\u001b[0;34m=\u001b[0m\u001b[0;34m(\u001b[0m\u001b[0mtest_size\u001b[0m\u001b[0;34m,\u001b[0m \u001b[0mrand_dim\u001b[0m\u001b[0;34m)\u001b[0m\u001b[0;34m)\u001b[0m\u001b[0;34m\u001b[0m\u001b[0m\n\u001b[1;32m    528\u001b[0m             \u001b[0;32mif\u001b[0m \u001b[0mwith_class\u001b[0m\u001b[0;34m:\u001b[0m\u001b[0;34m\u001b[0m\u001b[0m\n",
      "\u001b[0;32m~/PycharmProjects/Desktop/ml_covidData/GAN/GAN.py\u001b[0m in \u001b[0;36mget_data_batch\u001b[0;34m(train, batch_size, seed)\u001b[0m\n\u001b[1;32m     59\u001b[0m     \u001b[0mx\u001b[0m \u001b[0;34m=\u001b[0m \u001b[0mtrain\u001b[0m\u001b[0;34m.\u001b[0m\u001b[0mloc\u001b[0m\u001b[0;34m[\u001b[0m \u001b[0mtrain_ix\u001b[0m\u001b[0;34m[\u001b[0m \u001b[0mstart_i\u001b[0m\u001b[0;34m:\u001b[0m \u001b[0mstop_i\u001b[0m \u001b[0;34m]\u001b[0m \u001b[0;34m]\u001b[0m\u001b[0;34m.\u001b[0m\u001b[0mvalues\u001b[0m\u001b[0;34m\u001b[0m\u001b[0m\n\u001b[1;32m     60\u001b[0m \u001b[0;34m\u001b[0m\u001b[0m\n\u001b[0;32m---> 61\u001b[0;31m     \u001b[0;32mreturn\u001b[0m \u001b[0mnp\u001b[0m\u001b[0;34m.\u001b[0m\u001b[0mreshape\u001b[0m\u001b[0;34m(\u001b[0m\u001b[0mx\u001b[0m\u001b[0;34m,\u001b[0m \u001b[0;34m(\u001b[0m\u001b[0mbatch_size\u001b[0m\u001b[0;34m,\u001b[0m \u001b[0;34m-\u001b[0m\u001b[0;36m1\u001b[0m\u001b[0;34m)\u001b[0m \u001b[0;34m)\u001b[0m\u001b[0;34m\u001b[0m\u001b[0m\n\u001b[0m\u001b[1;32m     62\u001b[0m \u001b[0;34m\u001b[0m\u001b[0m\n\u001b[1;32m     63\u001b[0m \u001b[0;34m\u001b[0m\u001b[0m\n",
      "\u001b[0;32m<__array_function__ internals>\u001b[0m in \u001b[0;36mreshape\u001b[0;34m(*args, **kwargs)\u001b[0m\n",
      "\u001b[0;32m/Library/Frameworks/Python.framework/Versions/3.6/lib/python3.6/site-packages/numpy/core/fromnumeric.py\u001b[0m in \u001b[0;36mreshape\u001b[0;34m(a, newshape, order)\u001b[0m\n\u001b[1;32m    299\u001b[0m            [5, 6]])\n\u001b[1;32m    300\u001b[0m     \"\"\"\n\u001b[0;32m--> 301\u001b[0;31m     \u001b[0;32mreturn\u001b[0m \u001b[0m_wrapfunc\u001b[0m\u001b[0;34m(\u001b[0m\u001b[0ma\u001b[0m\u001b[0;34m,\u001b[0m \u001b[0;34m'reshape'\u001b[0m\u001b[0;34m,\u001b[0m \u001b[0mnewshape\u001b[0m\u001b[0;34m,\u001b[0m \u001b[0morder\u001b[0m\u001b[0;34m=\u001b[0m\u001b[0morder\u001b[0m\u001b[0;34m)\u001b[0m\u001b[0;34m\u001b[0m\u001b[0m\n\u001b[0m\u001b[1;32m    302\u001b[0m \u001b[0;34m\u001b[0m\u001b[0m\n\u001b[1;32m    303\u001b[0m \u001b[0;34m\u001b[0m\u001b[0m\n",
      "\u001b[0;32m/Library/Frameworks/Python.framework/Versions/3.6/lib/python3.6/site-packages/numpy/core/fromnumeric.py\u001b[0m in \u001b[0;36m_wrapfunc\u001b[0;34m(obj, method, *args, **kwds)\u001b[0m\n\u001b[1;32m     59\u001b[0m \u001b[0;34m\u001b[0m\u001b[0m\n\u001b[1;32m     60\u001b[0m     \u001b[0;32mtry\u001b[0m\u001b[0;34m:\u001b[0m\u001b[0;34m\u001b[0m\u001b[0m\n\u001b[0;32m---> 61\u001b[0;31m         \u001b[0;32mreturn\u001b[0m \u001b[0mbound\u001b[0m\u001b[0;34m(\u001b[0m\u001b[0;34m*\u001b[0m\u001b[0margs\u001b[0m\u001b[0;34m,\u001b[0m \u001b[0;34m**\u001b[0m\u001b[0mkwds\u001b[0m\u001b[0;34m)\u001b[0m\u001b[0;34m\u001b[0m\u001b[0m\n\u001b[0m\u001b[1;32m     62\u001b[0m     \u001b[0;32mexcept\u001b[0m \u001b[0mTypeError\u001b[0m\u001b[0;34m:\u001b[0m\u001b[0;34m\u001b[0m\u001b[0m\n\u001b[1;32m     63\u001b[0m         \u001b[0;31m# A TypeError occurs if the object does have such a method in its\u001b[0m\u001b[0;34m\u001b[0m\u001b[0;34m\u001b[0m\u001b[0m\n",
      "\u001b[0;31mValueError\u001b[0m: cannot reshape array of size 17640 into shape (492,newaxis)"
     ],
     "output_type": "error"
    }
   ],
   "source": [
    "%%time\n",
    "# GAN\n",
    "GAN.adversarial_training_GAN(\n",
    "    arguments=arguments, train=train_no_label, data_cols=data_cols, seed=SEED\n",
    ")"
   ]
  },
  {
   "cell_type": "markdown",
   "metadata": {},
   "source": [
    "###### 6.2.2 CGAN <a class=\"anchor\" id=\"cgan\"></a>"
   ]
  },
  {
   "cell_type": "code",
   "execution_count": 157,
   "metadata": {},
   "outputs": [
    {
     "name": "stdout",
     "output_type": "stream",
     "text": [
      "data_dim:  36\n",
      "data_cols:  ['index', 'Age', 'heart_rate', 'sbp', 'dbp', 'pulse_ox', 'resp_rate', 'cbc_wbc', 'cbc_hematocrit', 'cbc_hemoglobin', 'cbc_platelets', 'cbc_neutrophil_c', 'cbc_eosinophil_perc', 'cbc_lymphocyte_c', 'cbc_lymphocyte_perc', 'cbc_eosinophil_c', 'cbc_eosinophil_perc.1', 'cbc_monocyte_c', 'cbc_eosinophil_perc.2', 'cmp_sodium', 'cmp_potassium', 'cmp_chloride', 'cmp_bicarbonate', 'cmp_bun', 'cmp_creatinine', 'cmp_glucose', 'cmp_alt', 'cmp_ast', 'cmp_alkaline_phosphatase', 'cmp_total_protein', 'cmp_albumin', 'cmp_bilirubin', 'Admitted', 'FirstRace_Encoded', 'Ethnicity_Encoded', 'Sex_Encoded']\n",
      "label_dim:  1\n",
      "label_cols:  ['COVIDResult_Encoded']\n",
      "Model: \"generator\"\n",
      "__________________________________________________________________________________________________\n",
      "Layer (type)                    Output Shape         Param #     Connected to                     \n",
      "==================================================================================================\n",
      "input_15 (InputLayer)           [(None, 32)]         0                                            \n",
      "__________________________________________________________________________________________________\n",
      "input_16 (InputLayer)           [(None, 1)]          0                                            \n",
      "__________________________________________________________________________________________________\n",
      "concatenate (Concatenate)       (None, 33)           0           input_15[0][0]                   \n",
      "                                                                 input_16[0][0]                   \n",
      "__________________________________________________________________________________________________\n",
      "dense_56 (Dense)                (None, 128)          4352        concatenate[0][0]                \n",
      "__________________________________________________________________________________________________\n",
      "dense_57 (Dense)                (None, 256)          33024       dense_56[0][0]                   \n",
      "__________________________________________________________________________________________________\n",
      "dense_58 (Dense)                (None, 512)          131584      dense_57[0][0]                   \n",
      "__________________________________________________________________________________________________\n",
      "dense_59 (Dense)                (None, 36)           18468       dense_58[0][0]                   \n",
      "__________________________________________________________________________________________________\n",
      "concatenate_1 (Concatenate)     (None, 37)           0           dense_59[0][0]                   \n",
      "                                                                 input_16[0][0]                   \n",
      "==================================================================================================\n",
      "Total params: 187,428\n",
      "Trainable params: 187,428\n",
      "Non-trainable params: 0\n",
      "__________________________________________________________________________________________________\n",
      "None\n",
      "Model: \"discriminator\"\n",
      "_________________________________________________________________\n",
      "Layer (type)                 Output Shape              Param #   \n",
      "=================================================================\n",
      "input_17 (InputLayer)        [(None, 37)]              0         \n",
      "_________________________________________________________________\n",
      "dense_60 (Dense)             (None, 512)               19456     \n",
      "_________________________________________________________________\n",
      "dense_61 (Dense)             (None, 256)               131328    \n",
      "_________________________________________________________________\n",
      "dense_62 (Dense)             (None, 128)               32896     \n",
      "_________________________________________________________________\n",
      "dense_63 (Dense)             (None, 1)                 129       \n",
      "=================================================================\n",
      "Total params: 183,809\n",
      "Trainable params: 0\n",
      "Non-trainable params: 183,809\n",
      "_________________________________________________________________\n",
      "None\n",
      "Model: \"combined\"\n",
      "__________________________________________________________________________________________________\n",
      "Layer (type)                    Output Shape         Param #     Connected to                     \n",
      "==================================================================================================\n",
      "input_15 (InputLayer)           [(None, 32)]         0                                            \n",
      "__________________________________________________________________________________________________\n",
      "input_16 (InputLayer)           [(None, 1)]          0                                            \n",
      "__________________________________________________________________________________________________\n",
      "generator (Functional)          (None, 37)           187428      input_15[0][0]                   \n",
      "                                                                 input_16[0][0]                   \n",
      "__________________________________________________________________________________________________\n",
      "discriminator (Functional)      (None, 1)            183809      generator[0][0]                  \n",
      "==================================================================================================\n",
      "Total params: 371,237\n",
      "Trainable params: 187,428\n",
      "Non-trainable params: 183,809\n",
      "__________________________________________________________________________________________________\n",
      "None\n",
      "Step: 0 of 501.\n",
      "Losses: G, D Gen, D Real, Xgb: 0.7220, 0.6807, 195.4920, 0.9980\n",
      "D Real - D Gen: 194.8113\n"
     ]
    },
    {
     "data": {
      "image/png": "[encoded data removed]",
      "text/plain": [
       "<Figure size 432x144 with 2 Axes>"
      ]
     },
     "metadata": {},
     "output_type": "display_data"
    },
    {
     "name": "stdout",
     "output_type": "stream",
     "text": [
      "Step: 100 of 501.\n",
      "Losses: G, D Gen, D Real, Xgb: 0.6628, 3.0829, 0.2277, 1.0000\n",
      "D Real - D Gen: -2.8551\n"
     ]
    },
    {
     "data": {
      "image/png": "[encoded data removed]",
      "text/plain": [
       "<Figure size 432x144 with 2 Axes>"
      ]
     },
     "metadata": {},
     "output_type": "display_data"
    },
    {
     "ename": "ValueError",
     "evalue": "cannot reshape array of size 18130 into shape (492,newaxis)",
     "traceback": [
      "\u001b[0;31m---------------------------------------------------------------------------\u001b[0m",
      "\u001b[0;31mValueError\u001b[0m                                Traceback (most recent call last)",
      "\u001b[0;32m<timed eval>\u001b[0m in \u001b[0;36m<module>\u001b[0;34m\u001b[0m\n",
      "\u001b[0;32m~/PycharmProjects/Desktop/ml_covidData/GAN/GAN.py\u001b[0m in \u001b[0;36madversarial_training_GAN\u001b[0;34m(arguments, train, data_cols, label_cols, seed, starting_step)\u001b[0m\n\u001b[1;32m    626\u001b[0m                         combined_loss, disc_loss_generated, disc_loss_real, xgb_losses ]\n\u001b[1;32m    627\u001b[0m \u001b[0;34m\u001b[0m\u001b[0m\n\u001b[0;32m--> 628\u001b[0;31m     \u001b[0;34m[\u001b[0m\u001b[0mcombined_loss\u001b[0m\u001b[0;34m,\u001b[0m \u001b[0mdisc_loss_generated\u001b[0m\u001b[0;34m,\u001b[0m \u001b[0mdisc_loss_real\u001b[0m\u001b[0;34m,\u001b[0m \u001b[0mxgb_losses\u001b[0m\u001b[0;34m]\u001b[0m \u001b[0;34m=\u001b[0m \u001b[0mtraining_steps_GAN\u001b[0m\u001b[0;34m(\u001b[0m\u001b[0mmodel_components\u001b[0m\u001b[0;34m)\u001b[0m\u001b[0;34m\u001b[0m\u001b[0m\n\u001b[0m\u001b[1;32m    629\u001b[0m \u001b[0;34m\u001b[0m\u001b[0m\n\u001b[1;32m    630\u001b[0m \u001b[0;34m\u001b[0m\u001b[0m\n",
      "\u001b[0;32m~/PycharmProjects/Desktop/ml_covidData/GAN/GAN.py\u001b[0m in \u001b[0;36mtraining_steps_GAN\u001b[0;34m(model_components)\u001b[0m\n\u001b[1;32m    524\u001b[0m             \u001b[0mK\u001b[0m\u001b[0;34m.\u001b[0m\u001b[0mset_learning_phase\u001b[0m\u001b[0;34m(\u001b[0m\u001b[0;36m0\u001b[0m\u001b[0;34m)\u001b[0m \u001b[0;31m# 0 = test\u001b[0m\u001b[0;34m\u001b[0m\u001b[0m\n\u001b[1;32m    525\u001b[0m             \u001b[0mtest_size\u001b[0m \u001b[0;34m=\u001b[0m \u001b[0;36m470\u001b[0m \u001b[0;31m# test using all of the actual fraud data\u001b[0m\u001b[0;34m\u001b[0m\u001b[0m\n\u001b[0;32m--> 526\u001b[0;31m             \u001b[0mx\u001b[0m \u001b[0;34m=\u001b[0m \u001b[0mget_data_batch\u001b[0m\u001b[0;34m(\u001b[0m\u001b[0mtrain\u001b[0m\u001b[0;34m,\u001b[0m \u001b[0mtest_size\u001b[0m\u001b[0;34m,\u001b[0m \u001b[0mseed\u001b[0m\u001b[0;34m=\u001b[0m\u001b[0mi\u001b[0m\u001b[0;34m)\u001b[0m\u001b[0;34m\u001b[0m\u001b[0m\n\u001b[0m\u001b[1;32m    527\u001b[0m             \u001b[0mz\u001b[0m \u001b[0;34m=\u001b[0m \u001b[0mnp\u001b[0m\u001b[0;34m.\u001b[0m\u001b[0mrandom\u001b[0m\u001b[0;34m.\u001b[0m\u001b[0mnormal\u001b[0m\u001b[0;34m(\u001b[0m\u001b[0msize\u001b[0m\u001b[0;34m=\u001b[0m\u001b[0;34m(\u001b[0m\u001b[0mtest_size\u001b[0m\u001b[0;34m,\u001b[0m \u001b[0mrand_dim\u001b[0m\u001b[0;34m)\u001b[0m\u001b[0;34m)\u001b[0m\u001b[0;34m\u001b[0m\u001b[0m\n\u001b[1;32m    528\u001b[0m             \u001b[0;32mif\u001b[0m \u001b[0mwith_class\u001b[0m\u001b[0;34m:\u001b[0m\u001b[0;34m\u001b[0m\u001b[0m\n",
      "\u001b[0;32m~/PycharmProjects/Desktop/ml_covidData/GAN/GAN.py\u001b[0m in \u001b[0;36mget_data_batch\u001b[0;34m(train, batch_size, seed)\u001b[0m\n\u001b[1;32m     59\u001b[0m     \u001b[0mx\u001b[0m \u001b[0;34m=\u001b[0m \u001b[0mtrain\u001b[0m\u001b[0;34m.\u001b[0m\u001b[0mloc\u001b[0m\u001b[0;34m[\u001b[0m \u001b[0mtrain_ix\u001b[0m\u001b[0;34m[\u001b[0m \u001b[0mstart_i\u001b[0m\u001b[0;34m:\u001b[0m \u001b[0mstop_i\u001b[0m \u001b[0;34m]\u001b[0m \u001b[0;34m]\u001b[0m\u001b[0;34m.\u001b[0m\u001b[0mvalues\u001b[0m\u001b[0;34m\u001b[0m\u001b[0m\n\u001b[1;32m     60\u001b[0m \u001b[0;34m\u001b[0m\u001b[0m\n\u001b[0;32m---> 61\u001b[0;31m     \u001b[0;32mreturn\u001b[0m \u001b[0mnp\u001b[0m\u001b[0;34m.\u001b[0m\u001b[0mreshape\u001b[0m\u001b[0;34m(\u001b[0m\u001b[0mx\u001b[0m\u001b[0;34m,\u001b[0m \u001b[0;34m(\u001b[0m\u001b[0mbatch_size\u001b[0m\u001b[0;34m,\u001b[0m \u001b[0;34m-\u001b[0m\u001b[0;36m1\u001b[0m\u001b[0;34m)\u001b[0m \u001b[0;34m)\u001b[0m\u001b[0;34m\u001b[0m\u001b[0m\n\u001b[0m\u001b[1;32m     62\u001b[0m \u001b[0;34m\u001b[0m\u001b[0m\n\u001b[1;32m     63\u001b[0m \u001b[0;34m\u001b[0m\u001b[0m\n",
      "\u001b[0;32m<__array_function__ internals>\u001b[0m in \u001b[0;36mreshape\u001b[0;34m(*args, **kwargs)\u001b[0m\n",
      "\u001b[0;32m/Library/Frameworks/Python.framework/Versions/3.6/lib/python3.6/site-packages/numpy/core/fromnumeric.py\u001b[0m in \u001b[0;36mreshape\u001b[0;34m(a, newshape, order)\u001b[0m\n\u001b[1;32m    299\u001b[0m            [5, 6]])\n\u001b[1;32m    300\u001b[0m     \"\"\"\n\u001b[0;32m--> 301\u001b[0;31m     \u001b[0;32mreturn\u001b[0m \u001b[0m_wrapfunc\u001b[0m\u001b[0;34m(\u001b[0m\u001b[0ma\u001b[0m\u001b[0;34m,\u001b[0m \u001b[0;34m'reshape'\u001b[0m\u001b[0;34m,\u001b[0m \u001b[0mnewshape\u001b[0m\u001b[0;34m,\u001b[0m \u001b[0morder\u001b[0m\u001b[0;34m=\u001b[0m\u001b[0morder\u001b[0m\u001b[0;34m)\u001b[0m\u001b[0;34m\u001b[0m\u001b[0m\n\u001b[0m\u001b[1;32m    302\u001b[0m \u001b[0;34m\u001b[0m\u001b[0m\n\u001b[1;32m    303\u001b[0m \u001b[0;34m\u001b[0m\u001b[0m\n",
      "\u001b[0;32m/Library/Frameworks/Python.framework/Versions/3.6/lib/python3.6/site-packages/numpy/core/fromnumeric.py\u001b[0m in \u001b[0;36m_wrapfunc\u001b[0;34m(obj, method, *args, **kwds)\u001b[0m\n\u001b[1;32m     59\u001b[0m \u001b[0;34m\u001b[0m\u001b[0m\n\u001b[1;32m     60\u001b[0m     \u001b[0;32mtry\u001b[0m\u001b[0;34m:\u001b[0m\u001b[0;34m\u001b[0m\u001b[0m\n\u001b[0;32m---> 61\u001b[0;31m         \u001b[0;32mreturn\u001b[0m \u001b[0mbound\u001b[0m\u001b[0;34m(\u001b[0m\u001b[0;34m*\u001b[0m\u001b[0margs\u001b[0m\u001b[0;34m,\u001b[0m \u001b[0;34m**\u001b[0m\u001b[0mkwds\u001b[0m\u001b[0;34m)\u001b[0m\u001b[0;34m\u001b[0m\u001b[0m\n\u001b[0m\u001b[1;32m     62\u001b[0m     \u001b[0;32mexcept\u001b[0m \u001b[0mTypeError\u001b[0m\u001b[0;34m:\u001b[0m\u001b[0;34m\u001b[0m\u001b[0m\n\u001b[1;32m     63\u001b[0m         \u001b[0;31m# A TypeError occurs if the object does have such a method in its\u001b[0m\u001b[0;34m\u001b[0m\u001b[0;34m\u001b[0m\u001b[0m\n",
      "\u001b[0;31mValueError\u001b[0m: cannot reshape array of size 18130 into shape (492,newaxis)"
     ],
     "output_type": "error"
    }
   ],
   "source": [
    "%%time\n",
    "# CGAN\n",
    "GAN.adversarial_training_GAN(\n",
    "    arguments=arguments, train=train, data_cols=data_cols, label_cols=label_cols, seed=SEED\n",
    ")"
   ]
  },
  {
   "cell_type": "markdown",
   "metadata": {},
   "source": [
    "###### 6.2.3 WGAN <a class=\"anchor\" id=\"wgan\"></a>"
   ]
  },
  {
   "cell_type": "code",
   "execution_count": 160,
   "metadata": {},
   "outputs": [
    {
     "name": "stdout",
     "output_type": "stream",
     "text": [
      "WARNING:tensorflow:From /Library/Frameworks/Python.framework/Versions/3.6/lib/python3.6/site-packages/tensorflow/python/compat/v2_compat.py:96: disable_resource_variables (from tensorflow.python.ops.variable_scope) is deprecated and will be removed in a future version.\n",
      "Instructions for updating:\n",
      "non-resource variables are not supported in the long term\n"
     ]
    }
   ],
   "source": [
    "import tensorflow.compat.v1 as tf\n",
    "tf.disable_v2_behavior()"
   ]
  },
  {
   "cell_type": "code",
   "execution_count": 161,
   "metadata": {},
   "outputs": [
    {
     "name": "stdout",
     "output_type": "stream",
     "text": [
      "data_dim:  36\n",
      "data_cols:  ['index', 'Age', 'heart_rate', 'sbp', 'dbp', 'pulse_ox', 'resp_rate', 'cbc_wbc', 'cbc_hematocrit', 'cbc_hemoglobin', 'cbc_platelets', 'cbc_neutrophil_c', 'cbc_eosinophil_perc', 'cbc_lymphocyte_c', 'cbc_lymphocyte_perc', 'cbc_eosinophil_c', 'cbc_eosinophil_perc.1', 'cbc_monocyte_c', 'cbc_eosinophil_perc.2', 'cmp_sodium', 'cmp_potassium', 'cmp_chloride', 'cmp_bicarbonate', 'cmp_bun', 'cmp_creatinine', 'cmp_glucose', 'cmp_alt', 'cmp_ast', 'cmp_alkaline_phosphatase', 'cmp_total_protein', 'cmp_albumin', 'cmp_bilirubin', 'Admitted', 'FirstRace_Encoded', 'Ethnicity_Encoded', 'Sex_Encoded']\n"
     ]
    },
    {
     "ename": "AttributeError",
     "evalue": "module 'tensorflow' has no attribute 'placeholder'",
     "traceback": [
      "\u001b[0;31m---------------------------------------------------------------------------\u001b[0m",
      "\u001b[0;31mAttributeError\u001b[0m                            Traceback (most recent call last)",
      "\u001b[0;32m<timed eval>\u001b[0m in \u001b[0;36m<module>\u001b[0;34m\u001b[0m\n",
      "\u001b[0;32m~/PycharmProjects/Desktop/ml_covidData/GAN/GAN.py\u001b[0m in \u001b[0;36madversarial_training_WGAN\u001b[0;34m(arguments, train, data_cols, label_cols, seed, starting_step)\u001b[0m\n\u001b[1;32m    378\u001b[0m     \u001b[0;31m# construct computation graph for calculating the gradient penalty (improved WGAN) and training the discriminator\u001b[0m\u001b[0;34m\u001b[0m\u001b[0;34m\u001b[0m\u001b[0m\n\u001b[1;32m    379\u001b[0m \u001b[0;34m\u001b[0m\u001b[0m\n\u001b[0;32m--> 380\u001b[0;31m     \u001b[0m_z\u001b[0m \u001b[0;34m=\u001b[0m \u001b[0mtf\u001b[0m\u001b[0;34m.\u001b[0m\u001b[0mplaceholder\u001b[0m\u001b[0;34m(\u001b[0m\u001b[0mtf\u001b[0m\u001b[0;34m.\u001b[0m\u001b[0mfloat32\u001b[0m\u001b[0;34m,\u001b[0m \u001b[0mshape\u001b[0m\u001b[0;34m=\u001b[0m\u001b[0;34m(\u001b[0m\u001b[0mbatch_size\u001b[0m\u001b[0;34m,\u001b[0m \u001b[0mrand_dim\u001b[0m\u001b[0;34m)\u001b[0m\u001b[0;34m)\u001b[0m\u001b[0;34m\u001b[0m\u001b[0m\n\u001b[0m\u001b[1;32m    381\u001b[0m \u001b[0;34m\u001b[0m\u001b[0m\n\u001b[1;32m    382\u001b[0m     \u001b[0m_labels\u001b[0m \u001b[0;34m=\u001b[0m \u001b[0;32mNone\u001b[0m\u001b[0;34m\u001b[0m\u001b[0m\n",
      "\u001b[0;31mAttributeError\u001b[0m: module 'tensorflow' has no attribute 'placeholder'"
     ],
     "output_type": "error"
    }
   ],
   "source": [
    "%%time\n",
    "# WGAN\n",
    "GAN.adversarial_training_WGAN(\n",
    "    arguments=arguments, train=train_no_label, data_cols=data_cols, seed=SEED\n",
    ")"
   ]
  },
  {
   "cell_type": "markdown",
   "metadata": {},
   "source": [
    "###### 6.2.4 WCGAN <a class=\"anchor\" id=\"wcgan\"></a>"
   ]
  },
  {
   "cell_type": "code",
   "execution_count": 159,
   "metadata": {},
   "outputs": [
    {
     "name": "stdout",
     "output_type": "stream",
     "text": [
      "data_dim:  36\n",
      "data_cols:  ['index', 'Age', 'heart_rate', 'sbp', 'dbp', 'pulse_ox', 'resp_rate', 'cbc_wbc', 'cbc_hematocrit', 'cbc_hemoglobin', 'cbc_platelets', 'cbc_neutrophil_c', 'cbc_eosinophil_perc', 'cbc_lymphocyte_c', 'cbc_lymphocyte_perc', 'cbc_eosinophil_c', 'cbc_eosinophil_perc.1', 'cbc_monocyte_c', 'cbc_eosinophil_perc.2', 'cmp_sodium', 'cmp_potassium', 'cmp_chloride', 'cmp_bicarbonate', 'cmp_bun', 'cmp_creatinine', 'cmp_glucose', 'cmp_alt', 'cmp_ast', 'cmp_alkaline_phosphatase', 'cmp_total_protein', 'cmp_albumin', 'cmp_bilirubin', 'Admitted', 'FirstRace_Encoded', 'Ethnicity_Encoded', 'Sex_Encoded']\n",
      "label_dim:  1\n",
      "label_cols:  ['COVIDResult_Encoded']\n"
     ]
    },
    {
     "ename": "AttributeError",
     "evalue": "module 'tensorflow' has no attribute 'placeholder'",
     "traceback": [
      "\u001b[0;31m---------------------------------------------------------------------------\u001b[0m",
      "\u001b[0;31mAttributeError\u001b[0m                            Traceback (most recent call last)",
      "\u001b[0;32m<timed eval>\u001b[0m in \u001b[0;36m<module>\u001b[0;34m\u001b[0m\n",
      "\u001b[0;32m~/PycharmProjects/Desktop/ml_covidData/GAN/GAN.py\u001b[0m in \u001b[0;36madversarial_training_WGAN\u001b[0;34m(arguments, train, data_cols, label_cols, seed, starting_step)\u001b[0m\n\u001b[1;32m    378\u001b[0m     \u001b[0;31m# construct computation graph for calculating the gradient penalty (improved WGAN) and training the discriminator\u001b[0m\u001b[0;34m\u001b[0m\u001b[0;34m\u001b[0m\u001b[0m\n\u001b[1;32m    379\u001b[0m \u001b[0;34m\u001b[0m\u001b[0m\n\u001b[0;32m--> 380\u001b[0;31m     \u001b[0m_z\u001b[0m \u001b[0;34m=\u001b[0m \u001b[0mtf\u001b[0m\u001b[0;34m.\u001b[0m\u001b[0mplaceholder\u001b[0m\u001b[0;34m(\u001b[0m\u001b[0mtf\u001b[0m\u001b[0;34m.\u001b[0m\u001b[0mfloat32\u001b[0m\u001b[0;34m,\u001b[0m \u001b[0mshape\u001b[0m\u001b[0;34m=\u001b[0m\u001b[0;34m(\u001b[0m\u001b[0mbatch_size\u001b[0m\u001b[0;34m,\u001b[0m \u001b[0mrand_dim\u001b[0m\u001b[0;34m)\u001b[0m\u001b[0;34m)\u001b[0m\u001b[0;34m\u001b[0m\u001b[0m\n\u001b[0m\u001b[1;32m    381\u001b[0m \u001b[0;34m\u001b[0m\u001b[0m\n\u001b[1;32m    382\u001b[0m     \u001b[0m_labels\u001b[0m \u001b[0;34m=\u001b[0m \u001b[0;32mNone\u001b[0m\u001b[0;34m\u001b[0m\u001b[0m\n",
      "\u001b[0;31mAttributeError\u001b[0m: module 'tensorflow' has no attribute 'placeholder'"
     ],
     "output_type": "error"
    }
   ],
   "source": [
    "%%time\n",
    "# WCGAN\n",
    "GAN.adversarial_training_WGAN(\n",
    "    arguments=arguments, train=train, data_cols=data_cols, label_cols=label_cols, seed=SEED\n",
    ")"
   ]
  }
 ],
 "metadata": {
  "kernelspec": {
   "display_name": "Python 3",
   "language": "python",
   "name": "python3"
  },
  "language_info": {
   "codemirror_mode": {
    "name": "ipython",
    "version": 3
   },
   "file_extension": ".py",
   "mimetype": "text/x-python",
   "name": "python",
   "nbconvert_exporter": "python",
   "pygments_lexer": "ipython3",
   "version": "3.6.4"
  }
 },
 "nbformat": 4,
 "nbformat_minor": 1
}
