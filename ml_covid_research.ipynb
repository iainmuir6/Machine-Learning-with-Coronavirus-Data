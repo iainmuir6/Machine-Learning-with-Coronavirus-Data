{
 "cells": [
  {
   "cell_type": "markdown",
   "metadata": {},
   "source": [
    "# CS 4993 Independent Study – Machine Learning with COVID Data"
   ]
  },
  {
   "cell_type": "markdown",
   "metadata": {},
   "source": [
    "***Professor: [Haiyang Shen](https://engineering.virginia.edu/faculty/haiying-shen)***  \n",
    "***Researcher: [Iain Muir](https://www.linkedin.com/in/iain-muir-b37718164/) | iam9ez***"
   ]
  },
  {
   "cell_type": "markdown",
   "metadata": {},
   "source": [
    "*Github Project:* https://github.com/iainmuir6/machineLearning_covidData\n",
    "\n",
    "*Last Updated: June 4th, 2021*"
   ]
  },
  {
   "cell_type": "markdown",
   "metadata": {},
   "source": [
    "References\n",
    "* [CS 4774 ML Material – Professor Rich Nguyen](https://www.cs.virginia.edu/~nn4pj/teaching)\n",
    "* [Steps to Building Machine Learning Model](https://analyticsindiamag.com/the-7-key-steps-to-build-your-machine-learning-model/)\n",
    "* [Steps to Data Preprocessing](https://hackernoon.com/what-steps-should-one-take-while-doing-data-preprocessing-502c993e1caa)\n",
    "* [Handling Missing Values](https://towardsdatascience.com/7-ways-to-handle-missing-values-in-machine-learning-1a6326adf79e)\n",
    "* [Feature Selection I](https://towardsdatascience.com/the-5-feature-selection-algorithms-every-data-scientist-need-to-know-3a6b566efd2)\n",
    "* [Feature Selection II](https://machinelearningmastery.com/feature-selection-machine-learning-python/)\n",
    "* [Keras Neural Network I](https://towardsdatascience.com/3-ways-to-create-a-machine-learning-model-with-keras-and-tensorflow-2-0-de09323af4d3)"
   ]
  },
  {
   "cell_type": "markdown",
   "metadata": {},
   "source": [
    "#### TODO List\n",
    "* Run Models with Generated Data\n",
    "    * Look more into GAN\n",
    "* Convolution, Pooling, Recurrent, etc. Layers?\n",
    "* Variety of Deep Learning Models\n",
    "    * Organize Models by Performance\n",
    "    \n",
    "Consider...\n",
    "* Alternative method for handling missing values"
   ]
  },
  {
   "cell_type": "markdown",
   "metadata": {
    "collapsed": true
   },
   "source": [
    "## 0. Import Packages"
   ]
  },
  {
   "cell_type": "markdown",
   "metadata": {},
   "source": [
    "#### 0.1 General Imports"
   ]
  },
  {
   "cell_type": "code",
   "execution_count": 186,
   "metadata": {},
   "outputs": [],
   "source": [
    "from IPython.display import Markdown, display\n",
    "import matplotlib.pyplot as plt\n",
    "from matplotlib import cm\n",
    "import missingno as msno\n",
    "import seaborn as sns\n",
    "import pandas as pd\n",
    "import numpy as np\n",
    "import random"
   ]
  },
  {
   "cell_type": "markdown",
   "metadata": {},
   "source": [
    "#### 0.2 ML Imports"
   ]
  },
  {
   "cell_type": "code",
   "execution_count": 187,
   "metadata": {},
   "outputs": [],
   "source": [
    "from sklearn.metrics import confusion_matrix, accuracy_score, precision_score, recall_score, f1_score\n",
    "from sklearn.preprocessing import OrdinalEncoder, StandardScaler, MinMaxScaler\n",
    "from sklearn.feature_selection import SelectKBest, chi2, RFE, SelectFromModel\n",
    "from sklearn.model_selection import train_test_split\n",
    "from sklearn.linear_model import LogisticRegression\n",
    "from sklearn.ensemble import RandomForestClassifier\n",
    "\n",
    "from keras.layers import Dense, LeakyReLU, PReLU, BatchNormalization, Activation\n",
    "from keras.optimizers import Adam, SGD\n",
    "from keras.models import Sequential\n",
    "from tensorflow import keras\n",
    "import tensorflow as tf"
   ]
  },
  {
   "cell_type": "code",
   "execution_count": 188,
   "metadata": {},
   "outputs": [
    {
     "data": {
      "text/plain": [
       "'2.3.0'"
      ]
     },
     "execution_count": 188,
     "metadata": {},
     "output_type": "execute_result"
    }
   ],
   "source": [
    "tf.__version__"
   ]
  },
  {
   "cell_type": "code",
   "execution_count": 189,
   "metadata": {},
   "outputs": [
    {
     "data": {
      "text/plain": [
       "'2.4.0'"
      ]
     },
     "execution_count": 189,
     "metadata": {},
     "output_type": "execute_result"
    }
   ],
   "source": [
    "keras.__version__"
   ]
  },
  {
   "cell_type": "code",
   "execution_count": 190,
   "metadata": {},
   "outputs": [],
   "source": [
    "seed = 42"
   ]
  },
  {
   "cell_type": "markdown",
   "metadata": {},
   "source": [
    "## 1. Read Excel File"
   ]
  },
  {
   "cell_type": "markdown",
   "metadata": {},
   "source": [
    "#### 1.1 Data Overview"
   ]
  },
  {
   "cell_type": "code",
   "execution_count": 191,
   "metadata": {
    "scrolled": true
   },
   "outputs": [
    {
     "data": {
      "text/html": [
       "<div>\n",
       "<style scoped>\n",
       "    .dataframe tbody tr th:only-of-type {\n",
       "        vertical-align: middle;\n",
       "    }\n",
       "\n",
       "    .dataframe tbody tr th {\n",
       "        vertical-align: top;\n",
       "    }\n",
       "\n",
       "    .dataframe thead th {\n",
       "        text-align: right;\n",
       "    }\n",
       "</style>\n",
       "<table border=\"1\" class=\"dataframe\">\n",
       "  <thead>\n",
       "    <tr style=\"text-align: right;\">\n",
       "      <th></th>\n",
       "      <th>index</th>\n",
       "      <th>patno</th>\n",
       "      <th>Admitted</th>\n",
       "      <th>AdmittingDepartment</th>\n",
       "      <th>COVIDResult</th>\n",
       "      <th>Age</th>\n",
       "      <th>FirstRace</th>\n",
       "      <th>Ethnicity</th>\n",
       "      <th>Sex</th>\n",
       "      <th>heart_rate</th>\n",
       "      <th>...</th>\n",
       "      <th>cmp_bicarbonate</th>\n",
       "      <th>cmp_bun</th>\n",
       "      <th>cmp_creatinine</th>\n",
       "      <th>cmp_glucose</th>\n",
       "      <th>cmp_alt</th>\n",
       "      <th>cmp_ast</th>\n",
       "      <th>cmp_alkaline_phosphatase</th>\n",
       "      <th>cmp_total_protein</th>\n",
       "      <th>cmp_albumin</th>\n",
       "      <th>cmp_bilirubin</th>\n",
       "    </tr>\n",
       "  </thead>\n",
       "  <tbody>\n",
       "    <tr>\n",
       "      <th>0</th>\n",
       "      <td>0</td>\n",
       "      <td>1</td>\n",
       "      <td>1</td>\n",
       "      <td>UVHE MICU</td>\n",
       "      <td>None Detected</td>\n",
       "      <td>78</td>\n",
       "      <td>White or Caucasian</td>\n",
       "      <td>Non-Hispanic</td>\n",
       "      <td>Female</td>\n",
       "      <td>94.0</td>\n",
       "      <td>...</td>\n",
       "      <td>26</td>\n",
       "      <td>31</td>\n",
       "      <td>2.5</td>\n",
       "      <td>82.0</td>\n",
       "      <td>14</td>\n",
       "      <td>26.0</td>\n",
       "      <td>80.0</td>\n",
       "      <td>8.5</td>\n",
       "      <td>4.3</td>\n",
       "      <td>0.5</td>\n",
       "    </tr>\n",
       "    <tr>\n",
       "      <th>1</th>\n",
       "      <td>1</td>\n",
       "      <td>2</td>\n",
       "      <td>0</td>\n",
       "      <td>NaN</td>\n",
       "      <td>None Detected</td>\n",
       "      <td>23</td>\n",
       "      <td>White or Caucasian</td>\n",
       "      <td>Non-Hispanic</td>\n",
       "      <td>Female</td>\n",
       "      <td>121.0</td>\n",
       "      <td>...</td>\n",
       "      <td>19</td>\n",
       "      <td>11</td>\n",
       "      <td>0.9</td>\n",
       "      <td>83.0</td>\n",
       "      <td>73</td>\n",
       "      <td>NaN</td>\n",
       "      <td>100.0</td>\n",
       "      <td>8.1</td>\n",
       "      <td>4.6</td>\n",
       "      <td>0.6</td>\n",
       "    </tr>\n",
       "    <tr>\n",
       "      <th>2</th>\n",
       "      <td>2</td>\n",
       "      <td>3</td>\n",
       "      <td>0</td>\n",
       "      <td>NaN</td>\n",
       "      <td>None Detected</td>\n",
       "      <td>55</td>\n",
       "      <td>African American</td>\n",
       "      <td>Non-Hispanic</td>\n",
       "      <td>Male</td>\n",
       "      <td>83.0</td>\n",
       "      <td>...</td>\n",
       "      <td>23</td>\n",
       "      <td>9</td>\n",
       "      <td>1.2</td>\n",
       "      <td>123.0</td>\n",
       "      <td>26</td>\n",
       "      <td>29.0</td>\n",
       "      <td>106.0</td>\n",
       "      <td>7.1</td>\n",
       "      <td>4.0</td>\n",
       "      <td>0.7</td>\n",
       "    </tr>\n",
       "    <tr>\n",
       "      <th>3</th>\n",
       "      <td>3</td>\n",
       "      <td>4</td>\n",
       "      <td>1</td>\n",
       "      <td>UVHE MICU</td>\n",
       "      <td>None Detected</td>\n",
       "      <td>50</td>\n",
       "      <td>White or Caucasian</td>\n",
       "      <td>Non-Hispanic</td>\n",
       "      <td>Male</td>\n",
       "      <td>88.0</td>\n",
       "      <td>...</td>\n",
       "      <td>30</td>\n",
       "      <td>45</td>\n",
       "      <td>1.6</td>\n",
       "      <td>297.0</td>\n",
       "      <td>22</td>\n",
       "      <td>NaN</td>\n",
       "      <td>78.0</td>\n",
       "      <td>7.8</td>\n",
       "      <td>3.7</td>\n",
       "      <td>0.5</td>\n",
       "    </tr>\n",
       "    <tr>\n",
       "      <th>4</th>\n",
       "      <td>4</td>\n",
       "      <td>5</td>\n",
       "      <td>0</td>\n",
       "      <td>NaN</td>\n",
       "      <td>None Detected</td>\n",
       "      <td>67</td>\n",
       "      <td>African American</td>\n",
       "      <td>Non-Hispanic</td>\n",
       "      <td>Female</td>\n",
       "      <td>90.0</td>\n",
       "      <td>...</td>\n",
       "      <td>27</td>\n",
       "      <td>25</td>\n",
       "      <td>1.0</td>\n",
       "      <td>96.0</td>\n",
       "      <td>12</td>\n",
       "      <td>18.0</td>\n",
       "      <td>122.0</td>\n",
       "      <td>7.4</td>\n",
       "      <td>3.5</td>\n",
       "      <td>0.2</td>\n",
       "    </tr>\n",
       "  </tbody>\n",
       "</table>\n",
       "<p>5 rows × 41 columns</p>\n",
       "</div>"
      ],
      "text/plain": [
       "   index  patno  Admitted AdmittingDepartment    COVIDResult  Age  \\\n",
       "0      0      1         1           UVHE MICU  None Detected   78   \n",
       "1      1      2         0                 NaN  None Detected   23   \n",
       "2      2      3         0                 NaN  None Detected   55   \n",
       "3      3      4         1           UVHE MICU  None Detected   50   \n",
       "4      4      5         0                 NaN  None Detected   67   \n",
       "\n",
       "            FirstRace     Ethnicity     Sex  heart_rate  ...  cmp_bicarbonate  \\\n",
       "0  White or Caucasian  Non-Hispanic  Female        94.0  ...               26   \n",
       "1  White or Caucasian  Non-Hispanic  Female       121.0  ...               19   \n",
       "2    African American  Non-Hispanic    Male        83.0  ...               23   \n",
       "3  White or Caucasian  Non-Hispanic    Male        88.0  ...               30   \n",
       "4    African American  Non-Hispanic  Female        90.0  ...               27   \n",
       "\n",
       "   cmp_bun  cmp_creatinine  cmp_glucose  cmp_alt  cmp_ast  \\\n",
       "0       31             2.5         82.0       14     26.0   \n",
       "1       11             0.9         83.0       73      NaN   \n",
       "2        9             1.2        123.0       26     29.0   \n",
       "3       45             1.6        297.0       22      NaN   \n",
       "4       25             1.0         96.0       12     18.0   \n",
       "\n",
       "   cmp_alkaline_phosphatase  cmp_total_protein  cmp_albumin  cmp_bilirubin  \n",
       "0                      80.0                8.5          4.3            0.5  \n",
       "1                     100.0                8.1          4.6            0.6  \n",
       "2                     106.0                7.1          4.0            0.7  \n",
       "3                      78.0                7.8          3.7            0.5  \n",
       "4                     122.0                7.4          3.5            0.2  \n",
       "\n",
       "[5 rows x 41 columns]"
      ]
     },
     "execution_count": 191,
     "metadata": {},
     "output_type": "execute_result"
    }
   ],
   "source": [
    "df = pd.read_excel('ed_pred.xlsx')\n",
    "df = df.reset_index()\n",
    "df.head(5)"
   ]
  },
  {
   "cell_type": "code",
   "execution_count": 192,
   "metadata": {},
   "outputs": [
    {
     "data": {
      "text/plain": [
       "(7380, 41)"
      ]
     },
     "execution_count": 192,
     "metadata": {},
     "output_type": "execute_result"
    }
   ],
   "source": [
    "df.shape"
   ]
  },
  {
   "cell_type": "code",
   "execution_count": 193,
   "metadata": {},
   "outputs": [
    {
     "data": {
      "text/plain": [
       "Index(['index', 'patno', 'Admitted', 'AdmittingDepartment', 'COVIDResult',\n",
       "       'Age', 'FirstRace', 'Ethnicity', 'Sex', 'heart_rate', 'sbp', 'dbp',\n",
       "       'pulse_ox', 'resp_rate', 'height', 'wght', 'cbc_wbc', 'cbc_hematocrit',\n",
       "       'cbc_hemoglobin', 'cbc_platelets', 'cbc_neutrophil_c',\n",
       "       'cbc_eosinophil_perc', 'cbc_lymphocyte_c', 'cbc_lymphocyte_perc',\n",
       "       'cbc_eosinophil_c', 'cbc_eosinophil_perc.1', 'cbc_monocyte_c',\n",
       "       'cbc_eosinophil_perc.2', 'cmp_sodium', 'cmp_potassium', 'cmp_chloride',\n",
       "       'cmp_bicarbonate', 'cmp_bun', 'cmp_creatinine', 'cmp_glucose',\n",
       "       'cmp_alt', 'cmp_ast', 'cmp_alkaline_phosphatase', 'cmp_total_protein',\n",
       "       'cmp_albumin', 'cmp_bilirubin'],\n",
       "      dtype='object')"
      ]
     },
     "execution_count": 193,
     "metadata": {},
     "output_type": "execute_result"
    }
   ],
   "source": [
    "target = 'COVIDResult'\n",
    "df.columns"
   ]
  },
  {
   "cell_type": "markdown",
   "metadata": {},
   "source": [
    "###### Column Description\n",
    "Note (src - [Walk-In-Lab](https://www.walkinlab.com/products/view/complete-blood-count-cbc-comprehensive-metabolic-panel-cmp-14-blood-test-panel#:~:text=A%20CBC%20also%20helps%20your,anemia%2C%20and%20several%20other%20disorders.&text=Comprehensive%20Metabolic%20Panel%20(CMP%2D14)%20with%20eGFR%20is%20a,electrolyte%20and%20acid%2Fbase%20balance.)): \n",
    "\n",
    "CBC == [Complete Blood Count](https://www.mayoclinic.org/tests-procedures/complete-blood-count/about/pac-20384919)\n",
    "* Complete Blood Count (CBC) gives important information about the numbers and kinds of cells in the blood, especially red blood cells, white blood cells, and platelets. A CBC helps your health professional check any symptoms, such as fatigue, weakness, or bruising, that you may have. A CBC also helps your health professional diagnose conditions, such as infection, anemia, and several other disorders.\n",
    "\n",
    "CMP == [Comprehensive Metabolic Panel](https://www.mayocliniclabs.com/test-catalog/Clinical+and+Interpretive/113631)\n",
    "* Comprehensive Metabolic Panel (CMP-14) with eGFR is a group of 14 laboratory tests ordered to give information about the current status of your liver, kidneys, and electrolyte and acid/base balance.  The test gives the current status of your blood sugar and blood proteins also."
   ]
  },
  {
   "cell_type": "markdown",
   "metadata": {},
   "source": [
    "#### 1.2 Descriptive Statistics"
   ]
  },
  {
   "cell_type": "code",
   "execution_count": 194,
   "metadata": {
    "scrolled": true
   },
   "outputs": [
    {
     "name": "stdout",
     "output_type": "stream",
     "text": [
      "<class 'pandas.core.frame.DataFrame'>\n",
      "RangeIndex: 7380 entries, 0 to 7379\n",
      "Data columns (total 41 columns):\n",
      " #   Column                    Non-Null Count  Dtype  \n",
      "---  ------                    --------------  -----  \n",
      " 0   index                     7380 non-null   int64  \n",
      " 1   patno                     7380 non-null   int64  \n",
      " 2   Admitted                  7380 non-null   int64  \n",
      " 3   AdmittingDepartment       3003 non-null   object \n",
      " 4   COVIDResult               7380 non-null   object \n",
      " 5   Age                       7380 non-null   int64  \n",
      " 6   FirstRace                 7379 non-null   object \n",
      " 7   Ethnicity                 7380 non-null   object \n",
      " 8   Sex                       7380 non-null   object \n",
      " 9   heart_rate                7352 non-null   float64\n",
      " 10  sbp                       7292 non-null   float64\n",
      " 11  dbp                       7292 non-null   float64\n",
      " 12  pulse_ox                  7346 non-null   float64\n",
      " 13  resp_rate                 7312 non-null   float64\n",
      " 14  height                    456 non-null    float64\n",
      " 15  wght                      3248 non-null   float64\n",
      " 16  cbc_wbc                   6256 non-null   float64\n",
      " 17  cbc_hematocrit            6256 non-null   float64\n",
      " 18  cbc_hemoglobin            6257 non-null   float64\n",
      " 19  cbc_platelets             6256 non-null   float64\n",
      " 20  cbc_neutrophil_c          3873 non-null   float64\n",
      " 21  cbc_eosinophil_perc       3872 non-null   float64\n",
      " 22  cbc_lymphocyte_c          3874 non-null   float64\n",
      " 23  cbc_lymphocyte_perc       3874 non-null   float64\n",
      " 24  cbc_eosinophil_c          3872 non-null   float64\n",
      " 25  cbc_eosinophil_perc.1     3872 non-null   float64\n",
      " 26  cbc_monocyte_c            3874 non-null   float64\n",
      " 27  cbc_eosinophil_perc.2     3872 non-null   float64\n",
      " 28  cmp_sodium                6286 non-null   float64\n",
      " 29  cmp_potassium             5570 non-null   float64\n",
      " 30  cmp_chloride              6286 non-null   float64\n",
      " 31  cmp_bicarbonate           6276 non-null   object \n",
      " 32  cmp_bun                   6286 non-null   object \n",
      " 33  cmp_creatinine            6286 non-null   object \n",
      " 34  cmp_glucose               6286 non-null   float64\n",
      " 35  cmp_alt                   5401 non-null   object \n",
      " 36  cmp_ast                   4767 non-null   float64\n",
      " 37  cmp_alkaline_phosphatase  5399 non-null   float64\n",
      " 38  cmp_total_protein         5175 non-null   float64\n",
      " 39  cmp_albumin               5402 non-null   float64\n",
      " 40  cmp_bilirubin             5401 non-null   object \n",
      "dtypes: float64(27), int64(4), object(10)\n",
      "memory usage: 2.3+ MB\n"
     ]
    }
   ],
   "source": [
    "df.info()\n",
    "target = 'COVIDResult'"
   ]
  },
  {
   "cell_type": "code",
   "execution_count": 195,
   "metadata": {
    "scrolled": true
   },
   "outputs": [
    {
     "data": {
      "text/html": [
       "<div>\n",
       "<style scoped>\n",
       "    .dataframe tbody tr th:only-of-type {\n",
       "        vertical-align: middle;\n",
       "    }\n",
       "\n",
       "    .dataframe tbody tr th {\n",
       "        vertical-align: top;\n",
       "    }\n",
       "\n",
       "    .dataframe thead th {\n",
       "        text-align: right;\n",
       "    }\n",
       "</style>\n",
       "<table border=\"1\" class=\"dataframe\">\n",
       "  <thead>\n",
       "    <tr style=\"text-align: right;\">\n",
       "      <th></th>\n",
       "      <th>index</th>\n",
       "      <th>patno</th>\n",
       "      <th>Admitted</th>\n",
       "      <th>Age</th>\n",
       "      <th>heart_rate</th>\n",
       "      <th>sbp</th>\n",
       "      <th>dbp</th>\n",
       "      <th>pulse_ox</th>\n",
       "      <th>resp_rate</th>\n",
       "      <th>height</th>\n",
       "      <th>...</th>\n",
       "      <th>cbc_monocyte_c</th>\n",
       "      <th>cbc_eosinophil_perc.2</th>\n",
       "      <th>cmp_sodium</th>\n",
       "      <th>cmp_potassium</th>\n",
       "      <th>cmp_chloride</th>\n",
       "      <th>cmp_glucose</th>\n",
       "      <th>cmp_ast</th>\n",
       "      <th>cmp_alkaline_phosphatase</th>\n",
       "      <th>cmp_total_protein</th>\n",
       "      <th>cmp_albumin</th>\n",
       "    </tr>\n",
       "  </thead>\n",
       "  <tbody>\n",
       "    <tr>\n",
       "      <th>count</th>\n",
       "      <td>7380.000000</td>\n",
       "      <td>7380.000000</td>\n",
       "      <td>7380.000000</td>\n",
       "      <td>7380.000000</td>\n",
       "      <td>7352.000000</td>\n",
       "      <td>7292.000000</td>\n",
       "      <td>7292.000000</td>\n",
       "      <td>7346.000000</td>\n",
       "      <td>7312.000000</td>\n",
       "      <td>456.000000</td>\n",
       "      <td>...</td>\n",
       "      <td>3874.000000</td>\n",
       "      <td>3872.000000</td>\n",
       "      <td>6286.000000</td>\n",
       "      <td>5570.000000</td>\n",
       "      <td>6286.000000</td>\n",
       "      <td>6286.000000</td>\n",
       "      <td>4767.000000</td>\n",
       "      <td>5399.000000</td>\n",
       "      <td>5175.000000</td>\n",
       "      <td>5402.000000</td>\n",
       "    </tr>\n",
       "    <tr>\n",
       "      <th>mean</th>\n",
       "      <td>3689.500000</td>\n",
       "      <td>3690.500000</td>\n",
       "      <td>0.406911</td>\n",
       "      <td>48.977642</td>\n",
       "      <td>94.529788</td>\n",
       "      <td>135.998354</td>\n",
       "      <td>76.034696</td>\n",
       "      <td>97.064661</td>\n",
       "      <td>21.029130</td>\n",
       "      <td>65.971491</td>\n",
       "      <td>...</td>\n",
       "      <td>0.740428</td>\n",
       "      <td>1.492485</td>\n",
       "      <td>137.104677</td>\n",
       "      <td>4.043447</td>\n",
       "      <td>102.562997</td>\n",
       "      <td>137.406141</td>\n",
       "      <td>55.627858</td>\n",
       "      <td>114.154843</td>\n",
       "      <td>7.210473</td>\n",
       "      <td>3.846113</td>\n",
       "    </tr>\n",
       "    <tr>\n",
       "      <th>std</th>\n",
       "      <td>2130.566826</td>\n",
       "      <td>2130.566826</td>\n",
       "      <td>0.491291</td>\n",
       "      <td>23.525661</td>\n",
       "      <td>23.352438</td>\n",
       "      <td>27.256409</td>\n",
       "      <td>15.302797</td>\n",
       "      <td>3.832935</td>\n",
       "      <td>6.762566</td>\n",
       "      <td>7.635750</td>\n",
       "      <td>...</td>\n",
       "      <td>0.545253</td>\n",
       "      <td>2.276703</td>\n",
       "      <td>4.366669</td>\n",
       "      <td>0.603037</td>\n",
       "      <td>5.600923</td>\n",
       "      <td>92.857337</td>\n",
       "      <td>154.142598</td>\n",
       "      <td>89.983238</td>\n",
       "      <td>0.843891</td>\n",
       "      <td>0.577974</td>\n",
       "    </tr>\n",
       "    <tr>\n",
       "      <th>min</th>\n",
       "      <td>0.000000</td>\n",
       "      <td>1.000000</td>\n",
       "      <td>0.000000</td>\n",
       "      <td>0.000000</td>\n",
       "      <td>0.000000</td>\n",
       "      <td>46.000000</td>\n",
       "      <td>0.000000</td>\n",
       "      <td>25.000000</td>\n",
       "      <td>0.000000</td>\n",
       "      <td>2.000000</td>\n",
       "      <td>...</td>\n",
       "      <td>0.000000</td>\n",
       "      <td>0.000000</td>\n",
       "      <td>107.000000</td>\n",
       "      <td>2.000000</td>\n",
       "      <td>60.000000</td>\n",
       "      <td>22.000000</td>\n",
       "      <td>7.000000</td>\n",
       "      <td>21.000000</td>\n",
       "      <td>2.400000</td>\n",
       "      <td>1.000000</td>\n",
       "    </tr>\n",
       "    <tr>\n",
       "      <th>25%</th>\n",
       "      <td>1844.750000</td>\n",
       "      <td>1845.750000</td>\n",
       "      <td>0.000000</td>\n",
       "      <td>31.000000</td>\n",
       "      <td>78.000000</td>\n",
       "      <td>118.000000</td>\n",
       "      <td>65.000000</td>\n",
       "      <td>96.000000</td>\n",
       "      <td>18.000000</td>\n",
       "      <td>63.000000</td>\n",
       "      <td>...</td>\n",
       "      <td>0.460000</td>\n",
       "      <td>0.100000</td>\n",
       "      <td>135.000000</td>\n",
       "      <td>3.700000</td>\n",
       "      <td>100.000000</td>\n",
       "      <td>94.000000</td>\n",
       "      <td>23.000000</td>\n",
       "      <td>71.000000</td>\n",
       "      <td>6.700000</td>\n",
       "      <td>3.500000</td>\n",
       "    </tr>\n",
       "    <tr>\n",
       "      <th>50%</th>\n",
       "      <td>3689.500000</td>\n",
       "      <td>3690.500000</td>\n",
       "      <td>0.000000</td>\n",
       "      <td>52.000000</td>\n",
       "      <td>92.000000</td>\n",
       "      <td>133.000000</td>\n",
       "      <td>75.000000</td>\n",
       "      <td>98.000000</td>\n",
       "      <td>20.000000</td>\n",
       "      <td>67.000000</td>\n",
       "      <td>...</td>\n",
       "      <td>0.670000</td>\n",
       "      <td>0.800000</td>\n",
       "      <td>138.000000</td>\n",
       "      <td>4.000000</td>\n",
       "      <td>103.000000</td>\n",
       "      <td>109.000000</td>\n",
       "      <td>31.000000</td>\n",
       "      <td>90.000000</td>\n",
       "      <td>7.200000</td>\n",
       "      <td>3.900000</td>\n",
       "    </tr>\n",
       "    <tr>\n",
       "      <th>75%</th>\n",
       "      <td>5534.250000</td>\n",
       "      <td>5535.250000</td>\n",
       "      <td>1.000000</td>\n",
       "      <td>67.000000</td>\n",
       "      <td>107.000000</td>\n",
       "      <td>151.000000</td>\n",
       "      <td>86.000000</td>\n",
       "      <td>99.000000</td>\n",
       "      <td>22.000000</td>\n",
       "      <td>70.000000</td>\n",
       "      <td>...</td>\n",
       "      <td>0.940000</td>\n",
       "      <td>2.000000</td>\n",
       "      <td>140.000000</td>\n",
       "      <td>4.300000</td>\n",
       "      <td>106.000000</td>\n",
       "      <td>140.000000</td>\n",
       "      <td>46.000000</td>\n",
       "      <td>123.000000</td>\n",
       "      <td>7.700000</td>\n",
       "      <td>4.200000</td>\n",
       "    </tr>\n",
       "    <tr>\n",
       "      <th>max</th>\n",
       "      <td>7379.000000</td>\n",
       "      <td>7380.000000</td>\n",
       "      <td>1.000000</td>\n",
       "      <td>119.000000</td>\n",
       "      <td>235.000000</td>\n",
       "      <td>258.000000</td>\n",
       "      <td>147.000000</td>\n",
       "      <td>100.000000</td>\n",
       "      <td>111.000000</td>\n",
       "      <td>77.000000</td>\n",
       "      <td>...</td>\n",
       "      <td>17.790000</td>\n",
       "      <td>41.100000</td>\n",
       "      <td>182.000000</td>\n",
       "      <td>8.900000</td>\n",
       "      <td>143.000000</td>\n",
       "      <td>1576.000000</td>\n",
       "      <td>6479.000000</td>\n",
       "      <td>1126.000000</td>\n",
       "      <td>11.300000</td>\n",
       "      <td>6.300000</td>\n",
       "    </tr>\n",
       "  </tbody>\n",
       "</table>\n",
       "<p>8 rows × 31 columns</p>\n",
       "</div>"
      ],
      "text/plain": [
       "             index        patno     Admitted          Age   heart_rate  \\\n",
       "count  7380.000000  7380.000000  7380.000000  7380.000000  7352.000000   \n",
       "mean   3689.500000  3690.500000     0.406911    48.977642    94.529788   \n",
       "std    2130.566826  2130.566826     0.491291    23.525661    23.352438   \n",
       "min       0.000000     1.000000     0.000000     0.000000     0.000000   \n",
       "25%    1844.750000  1845.750000     0.000000    31.000000    78.000000   \n",
       "50%    3689.500000  3690.500000     0.000000    52.000000    92.000000   \n",
       "75%    5534.250000  5535.250000     1.000000    67.000000   107.000000   \n",
       "max    7379.000000  7380.000000     1.000000   119.000000   235.000000   \n",
       "\n",
       "               sbp          dbp     pulse_ox    resp_rate      height  ...  \\\n",
       "count  7292.000000  7292.000000  7346.000000  7312.000000  456.000000  ...   \n",
       "mean    135.998354    76.034696    97.064661    21.029130   65.971491  ...   \n",
       "std      27.256409    15.302797     3.832935     6.762566    7.635750  ...   \n",
       "min      46.000000     0.000000    25.000000     0.000000    2.000000  ...   \n",
       "25%     118.000000    65.000000    96.000000    18.000000   63.000000  ...   \n",
       "50%     133.000000    75.000000    98.000000    20.000000   67.000000  ...   \n",
       "75%     151.000000    86.000000    99.000000    22.000000   70.000000  ...   \n",
       "max     258.000000   147.000000   100.000000   111.000000   77.000000  ...   \n",
       "\n",
       "       cbc_monocyte_c  cbc_eosinophil_perc.2   cmp_sodium  cmp_potassium  \\\n",
       "count     3874.000000            3872.000000  6286.000000    5570.000000   \n",
       "mean         0.740428               1.492485   137.104677       4.043447   \n",
       "std          0.545253               2.276703     4.366669       0.603037   \n",
       "min          0.000000               0.000000   107.000000       2.000000   \n",
       "25%          0.460000               0.100000   135.000000       3.700000   \n",
       "50%          0.670000               0.800000   138.000000       4.000000   \n",
       "75%          0.940000               2.000000   140.000000       4.300000   \n",
       "max         17.790000              41.100000   182.000000       8.900000   \n",
       "\n",
       "       cmp_chloride  cmp_glucose      cmp_ast  cmp_alkaline_phosphatase  \\\n",
       "count   6286.000000  6286.000000  4767.000000               5399.000000   \n",
       "mean     102.562997   137.406141    55.627858                114.154843   \n",
       "std        5.600923    92.857337   154.142598                 89.983238   \n",
       "min       60.000000    22.000000     7.000000                 21.000000   \n",
       "25%      100.000000    94.000000    23.000000                 71.000000   \n",
       "50%      103.000000   109.000000    31.000000                 90.000000   \n",
       "75%      106.000000   140.000000    46.000000                123.000000   \n",
       "max      143.000000  1576.000000  6479.000000               1126.000000   \n",
       "\n",
       "       cmp_total_protein  cmp_albumin  \n",
       "count        5175.000000  5402.000000  \n",
       "mean            7.210473     3.846113  \n",
       "std             0.843891     0.577974  \n",
       "min             2.400000     1.000000  \n",
       "25%             6.700000     3.500000  \n",
       "50%             7.200000     3.900000  \n",
       "75%             7.700000     4.200000  \n",
       "max            11.300000     6.300000  \n",
       "\n",
       "[8 rows x 31 columns]"
      ]
     },
     "execution_count": 195,
     "metadata": {},
     "output_type": "execute_result"
    }
   ],
   "source": [
    "df.describe()"
   ]
  },
  {
   "cell_type": "code",
   "execution_count": 196,
   "metadata": {
    "scrolled": true
   },
   "outputs": [
    {
     "data": {
      "text/html": [
       "<div>\n",
       "<style scoped>\n",
       "    .dataframe tbody tr th:only-of-type {\n",
       "        vertical-align: middle;\n",
       "    }\n",
       "\n",
       "    .dataframe tbody tr th {\n",
       "        vertical-align: top;\n",
       "    }\n",
       "\n",
       "    .dataframe thead th {\n",
       "        text-align: right;\n",
       "    }\n",
       "</style>\n",
       "<table border=\"1\" class=\"dataframe\">\n",
       "  <thead>\n",
       "    <tr style=\"text-align: right;\">\n",
       "      <th></th>\n",
       "      <th>index</th>\n",
       "      <th>patno</th>\n",
       "      <th>Admitted</th>\n",
       "      <th>Age</th>\n",
       "      <th>heart_rate</th>\n",
       "      <th>sbp</th>\n",
       "      <th>dbp</th>\n",
       "      <th>pulse_ox</th>\n",
       "      <th>resp_rate</th>\n",
       "      <th>height</th>\n",
       "      <th>...</th>\n",
       "      <th>cbc_monocyte_c</th>\n",
       "      <th>cbc_eosinophil_perc.2</th>\n",
       "      <th>cmp_sodium</th>\n",
       "      <th>cmp_potassium</th>\n",
       "      <th>cmp_chloride</th>\n",
       "      <th>cmp_glucose</th>\n",
       "      <th>cmp_ast</th>\n",
       "      <th>cmp_alkaline_phosphatase</th>\n",
       "      <th>cmp_total_protein</th>\n",
       "      <th>cmp_albumin</th>\n",
       "    </tr>\n",
       "  </thead>\n",
       "  <tbody>\n",
       "    <tr>\n",
       "      <th>index</th>\n",
       "      <td>1.000000</td>\n",
       "      <td>1.000000</td>\n",
       "      <td>-0.030377</td>\n",
       "      <td>-0.071132</td>\n",
       "      <td>-0.014543</td>\n",
       "      <td>-0.013479</td>\n",
       "      <td>-0.002088</td>\n",
       "      <td>0.066634</td>\n",
       "      <td>-0.031710</td>\n",
       "      <td>-0.017314</td>\n",
       "      <td>...</td>\n",
       "      <td>0.006011</td>\n",
       "      <td>0.000322</td>\n",
       "      <td>0.039232</td>\n",
       "      <td>-0.005859</td>\n",
       "      <td>0.026758</td>\n",
       "      <td>-0.010492</td>\n",
       "      <td>-0.036648</td>\n",
       "      <td>-0.011070</td>\n",
       "      <td>0.016393</td>\n",
       "      <td>0.045855</td>\n",
       "    </tr>\n",
       "    <tr>\n",
       "      <th>patno</th>\n",
       "      <td>1.000000</td>\n",
       "      <td>1.000000</td>\n",
       "      <td>-0.030377</td>\n",
       "      <td>-0.071132</td>\n",
       "      <td>-0.014543</td>\n",
       "      <td>-0.013479</td>\n",
       "      <td>-0.002088</td>\n",
       "      <td>0.066634</td>\n",
       "      <td>-0.031710</td>\n",
       "      <td>-0.017314</td>\n",
       "      <td>...</td>\n",
       "      <td>0.006011</td>\n",
       "      <td>0.000322</td>\n",
       "      <td>0.039232</td>\n",
       "      <td>-0.005859</td>\n",
       "      <td>0.026758</td>\n",
       "      <td>-0.010492</td>\n",
       "      <td>-0.036648</td>\n",
       "      <td>-0.011070</td>\n",
       "      <td>0.016393</td>\n",
       "      <td>0.045855</td>\n",
       "    </tr>\n",
       "    <tr>\n",
       "      <th>Admitted</th>\n",
       "      <td>-0.030377</td>\n",
       "      <td>-0.030377</td>\n",
       "      <td>1.000000</td>\n",
       "      <td>0.259000</td>\n",
       "      <td>0.071533</td>\n",
       "      <td>-0.034520</td>\n",
       "      <td>-0.083964</td>\n",
       "      <td>-0.187805</td>\n",
       "      <td>0.141345</td>\n",
       "      <td>0.006556</td>\n",
       "      <td>...</td>\n",
       "      <td>0.090950</td>\n",
       "      <td>-0.122416</td>\n",
       "      <td>-0.139857</td>\n",
       "      <td>0.123330</td>\n",
       "      <td>-0.145144</td>\n",
       "      <td>0.125331</td>\n",
       "      <td>0.098732</td>\n",
       "      <td>0.117501</td>\n",
       "      <td>-0.169298</td>\n",
       "      <td>-0.301735</td>\n",
       "    </tr>\n",
       "    <tr>\n",
       "      <th>Age</th>\n",
       "      <td>-0.071132</td>\n",
       "      <td>-0.071132</td>\n",
       "      <td>0.259000</td>\n",
       "      <td>1.000000</td>\n",
       "      <td>-0.343054</td>\n",
       "      <td>0.255632</td>\n",
       "      <td>0.021500</td>\n",
       "      <td>-0.233759</td>\n",
       "      <td>-0.128765</td>\n",
       "      <td>0.237857</td>\n",
       "      <td>...</td>\n",
       "      <td>-0.068070</td>\n",
       "      <td>-0.003148</td>\n",
       "      <td>-0.077553</td>\n",
       "      <td>0.129890</td>\n",
       "      <td>-0.137116</td>\n",
       "      <td>0.097948</td>\n",
       "      <td>-0.014016</td>\n",
       "      <td>-0.091849</td>\n",
       "      <td>-0.147716</td>\n",
       "      <td>-0.312481</td>\n",
       "    </tr>\n",
       "    <tr>\n",
       "      <th>heart_rate</th>\n",
       "      <td>-0.014543</td>\n",
       "      <td>-0.014543</td>\n",
       "      <td>0.071533</td>\n",
       "      <td>-0.343054</td>\n",
       "      <td>1.000000</td>\n",
       "      <td>-0.128325</td>\n",
       "      <td>0.032385</td>\n",
       "      <td>-0.018398</td>\n",
       "      <td>0.397967</td>\n",
       "      <td>-0.277916</td>\n",
       "      <td>...</td>\n",
       "      <td>0.100502</td>\n",
       "      <td>-0.102094</td>\n",
       "      <td>-0.062122</td>\n",
       "      <td>-0.048065</td>\n",
       "      <td>-0.073826</td>\n",
       "      <td>0.074114</td>\n",
       "      <td>0.025044</td>\n",
       "      <td>0.123586</td>\n",
       "      <td>0.046071</td>\n",
       "      <td>0.021046</td>\n",
       "    </tr>\n",
       "    <tr>\n",
       "      <th>sbp</th>\n",
       "      <td>-0.013479</td>\n",
       "      <td>-0.013479</td>\n",
       "      <td>-0.034520</td>\n",
       "      <td>0.255632</td>\n",
       "      <td>-0.128325</td>\n",
       "      <td>1.000000</td>\n",
       "      <td>0.700990</td>\n",
       "      <td>0.012399</td>\n",
       "      <td>-0.054224</td>\n",
       "      <td>0.129512</td>\n",
       "      <td>...</td>\n",
       "      <td>-0.037211</td>\n",
       "      <td>0.056011</td>\n",
       "      <td>0.089829</td>\n",
       "      <td>-0.016583</td>\n",
       "      <td>0.003022</td>\n",
       "      <td>0.052785</td>\n",
       "      <td>-0.058817</td>\n",
       "      <td>-0.102502</td>\n",
       "      <td>0.195652</td>\n",
       "      <td>0.193473</td>\n",
       "    </tr>\n",
       "    <tr>\n",
       "      <th>dbp</th>\n",
       "      <td>-0.002088</td>\n",
       "      <td>-0.002088</td>\n",
       "      <td>-0.083964</td>\n",
       "      <td>0.021500</td>\n",
       "      <td>0.032385</td>\n",
       "      <td>0.700990</td>\n",
       "      <td>1.000000</td>\n",
       "      <td>0.044760</td>\n",
       "      <td>-0.038692</td>\n",
       "      <td>0.178501</td>\n",
       "      <td>...</td>\n",
       "      <td>-0.019228</td>\n",
       "      <td>0.026571</td>\n",
       "      <td>0.119920</td>\n",
       "      <td>-0.055991</td>\n",
       "      <td>0.036059</td>\n",
       "      <td>0.017755</td>\n",
       "      <td>-0.010922</td>\n",
       "      <td>-0.091883</td>\n",
       "      <td>0.268447</td>\n",
       "      <td>0.288271</td>\n",
       "    </tr>\n",
       "    <tr>\n",
       "      <th>pulse_ox</th>\n",
       "      <td>0.066634</td>\n",
       "      <td>0.066634</td>\n",
       "      <td>-0.187805</td>\n",
       "      <td>-0.233759</td>\n",
       "      <td>-0.018398</td>\n",
       "      <td>0.012399</td>\n",
       "      <td>0.044760</td>\n",
       "      <td>1.000000</td>\n",
       "      <td>-0.203094</td>\n",
       "      <td>0.003070</td>\n",
       "      <td>...</td>\n",
       "      <td>-0.002565</td>\n",
       "      <td>0.017027</td>\n",
       "      <td>0.012110</td>\n",
       "      <td>-0.118440</td>\n",
       "      <td>0.099202</td>\n",
       "      <td>-0.105208</td>\n",
       "      <td>-0.052456</td>\n",
       "      <td>-0.005379</td>\n",
       "      <td>0.037321</td>\n",
       "      <td>0.123265</td>\n",
       "    </tr>\n",
       "    <tr>\n",
       "      <th>resp_rate</th>\n",
       "      <td>-0.031710</td>\n",
       "      <td>-0.031710</td>\n",
       "      <td>0.141345</td>\n",
       "      <td>-0.128765</td>\n",
       "      <td>0.397967</td>\n",
       "      <td>-0.054224</td>\n",
       "      <td>-0.038692</td>\n",
       "      <td>-0.203094</td>\n",
       "      <td>1.000000</td>\n",
       "      <td>-0.339655</td>\n",
       "      <td>...</td>\n",
       "      <td>0.078115</td>\n",
       "      <td>-0.037053</td>\n",
       "      <td>-0.013692</td>\n",
       "      <td>0.118477</td>\n",
       "      <td>-0.008239</td>\n",
       "      <td>0.076232</td>\n",
       "      <td>0.037055</td>\n",
       "      <td>0.099776</td>\n",
       "      <td>-0.078270</td>\n",
       "      <td>-0.083926</td>\n",
       "    </tr>\n",
       "    <tr>\n",
       "      <th>height</th>\n",
       "      <td>-0.017314</td>\n",
       "      <td>-0.017314</td>\n",
       "      <td>0.006556</td>\n",
       "      <td>0.237857</td>\n",
       "      <td>-0.277916</td>\n",
       "      <td>0.129512</td>\n",
       "      <td>0.178501</td>\n",
       "      <td>0.003070</td>\n",
       "      <td>-0.339655</td>\n",
       "      <td>1.000000</td>\n",
       "      <td>...</td>\n",
       "      <td>-0.033168</td>\n",
       "      <td>-0.156211</td>\n",
       "      <td>0.055314</td>\n",
       "      <td>-0.173582</td>\n",
       "      <td>0.030194</td>\n",
       "      <td>0.057657</td>\n",
       "      <td>0.005574</td>\n",
       "      <td>-0.187236</td>\n",
       "      <td>0.127008</td>\n",
       "      <td>0.030490</td>\n",
       "    </tr>\n",
       "    <tr>\n",
       "      <th>wght</th>\n",
       "      <td>-0.057584</td>\n",
       "      <td>-0.057584</td>\n",
       "      <td>0.138873</td>\n",
       "      <td>0.432725</td>\n",
       "      <td>-0.375283</td>\n",
       "      <td>0.256390</td>\n",
       "      <td>0.191655</td>\n",
       "      <td>-0.130171</td>\n",
       "      <td>-0.299886</td>\n",
       "      <td>0.506950</td>\n",
       "      <td>...</td>\n",
       "      <td>-0.046526</td>\n",
       "      <td>0.035913</td>\n",
       "      <td>0.031168</td>\n",
       "      <td>-0.001168</td>\n",
       "      <td>-0.009780</td>\n",
       "      <td>0.117112</td>\n",
       "      <td>0.013699</td>\n",
       "      <td>-0.201825</td>\n",
       "      <td>0.089641</td>\n",
       "      <td>-0.087129</td>\n",
       "    </tr>\n",
       "    <tr>\n",
       "      <th>cbc_wbc</th>\n",
       "      <td>-0.005411</td>\n",
       "      <td>-0.005411</td>\n",
       "      <td>0.140818</td>\n",
       "      <td>-0.035561</td>\n",
       "      <td>0.127127</td>\n",
       "      <td>-0.044712</td>\n",
       "      <td>-0.035427</td>\n",
       "      <td>-0.053765</td>\n",
       "      <td>0.107466</td>\n",
       "      <td>-0.006946</td>\n",
       "      <td>...</td>\n",
       "      <td>0.509534</td>\n",
       "      <td>-0.116462</td>\n",
       "      <td>-0.031298</td>\n",
       "      <td>0.052575</td>\n",
       "      <td>-0.036382</td>\n",
       "      <td>0.079747</td>\n",
       "      <td>0.038337</td>\n",
       "      <td>0.038098</td>\n",
       "      <td>0.011260</td>\n",
       "      <td>-0.020093</td>\n",
       "    </tr>\n",
       "    <tr>\n",
       "      <th>cbc_hematocrit</th>\n",
       "      <td>0.022097</td>\n",
       "      <td>0.022097</td>\n",
       "      <td>-0.201153</td>\n",
       "      <td>-0.134952</td>\n",
       "      <td>0.003627</td>\n",
       "      <td>0.123147</td>\n",
       "      <td>0.271443</td>\n",
       "      <td>-0.049715</td>\n",
       "      <td>-0.037861</td>\n",
       "      <td>0.100637</td>\n",
       "      <td>...</td>\n",
       "      <td>0.021607</td>\n",
       "      <td>-0.009774</td>\n",
       "      <td>0.208495</td>\n",
       "      <td>-0.039061</td>\n",
       "      <td>0.058504</td>\n",
       "      <td>0.008516</td>\n",
       "      <td>0.018966</td>\n",
       "      <td>-0.155929</td>\n",
       "      <td>0.403966</td>\n",
       "      <td>0.522731</td>\n",
       "    </tr>\n",
       "    <tr>\n",
       "      <th>cbc_hemoglobin</th>\n",
       "      <td>0.026712</td>\n",
       "      <td>0.026712</td>\n",
       "      <td>-0.218690</td>\n",
       "      <td>-0.179703</td>\n",
       "      <td>0.011397</td>\n",
       "      <td>0.118943</td>\n",
       "      <td>0.280105</td>\n",
       "      <td>-0.006979</td>\n",
       "      <td>-0.052274</td>\n",
       "      <td>0.092058</td>\n",
       "      <td>...</td>\n",
       "      <td>0.024400</td>\n",
       "      <td>-0.023797</td>\n",
       "      <td>0.152671</td>\n",
       "      <td>-0.086993</td>\n",
       "      <td>0.032291</td>\n",
       "      <td>-0.009205</td>\n",
       "      <td>0.014291</td>\n",
       "      <td>-0.158250</td>\n",
       "      <td>0.389195</td>\n",
       "      <td>0.545362</td>\n",
       "    </tr>\n",
       "    <tr>\n",
       "      <th>cbc_platelets</th>\n",
       "      <td>0.034431</td>\n",
       "      <td>0.034431</td>\n",
       "      <td>-0.048104</td>\n",
       "      <td>-0.186491</td>\n",
       "      <td>0.156655</td>\n",
       "      <td>-0.004040</td>\n",
       "      <td>0.034225</td>\n",
       "      <td>0.040013</td>\n",
       "      <td>0.078875</td>\n",
       "      <td>-0.241994</td>\n",
       "      <td>...</td>\n",
       "      <td>0.189150</td>\n",
       "      <td>0.015036</td>\n",
       "      <td>0.000126</td>\n",
       "      <td>0.012827</td>\n",
       "      <td>-0.035093</td>\n",
       "      <td>0.032876</td>\n",
       "      <td>-0.072822</td>\n",
       "      <td>0.036632</td>\n",
       "      <td>0.224736</td>\n",
       "      <td>0.124224</td>\n",
       "    </tr>\n",
       "    <tr>\n",
       "      <th>cbc_neutrophil_c</th>\n",
       "      <td>0.015320</td>\n",
       "      <td>0.015320</td>\n",
       "      <td>0.207518</td>\n",
       "      <td>0.000455</td>\n",
       "      <td>0.144446</td>\n",
       "      <td>-0.054473</td>\n",
       "      <td>-0.051273</td>\n",
       "      <td>-0.068710</td>\n",
       "      <td>0.101723</td>\n",
       "      <td>0.073823</td>\n",
       "      <td>...</td>\n",
       "      <td>0.442835</td>\n",
       "      <td>-0.231476</td>\n",
       "      <td>-0.055907</td>\n",
       "      <td>0.059657</td>\n",
       "      <td>-0.061286</td>\n",
       "      <td>0.117837</td>\n",
       "      <td>0.030051</td>\n",
       "      <td>0.028203</td>\n",
       "      <td>0.008387</td>\n",
       "      <td>-0.044713</td>\n",
       "    </tr>\n",
       "    <tr>\n",
       "      <th>cbc_eosinophil_perc</th>\n",
       "      <td>0.000322</td>\n",
       "      <td>0.000322</td>\n",
       "      <td>-0.122416</td>\n",
       "      <td>-0.003148</td>\n",
       "      <td>-0.102094</td>\n",
       "      <td>0.056011</td>\n",
       "      <td>0.026571</td>\n",
       "      <td>0.017027</td>\n",
       "      <td>-0.037053</td>\n",
       "      <td>-0.156211</td>\n",
       "      <td>...</td>\n",
       "      <td>-0.059593</td>\n",
       "      <td>1.000000</td>\n",
       "      <td>0.083970</td>\n",
       "      <td>0.014421</td>\n",
       "      <td>0.067240</td>\n",
       "      <td>-0.064207</td>\n",
       "      <td>-0.044503</td>\n",
       "      <td>0.030661</td>\n",
       "      <td>0.009270</td>\n",
       "      <td>-0.021485</td>\n",
       "    </tr>\n",
       "    <tr>\n",
       "      <th>cbc_lymphocyte_c</th>\n",
       "      <td>-0.019357</td>\n",
       "      <td>-0.019357</td>\n",
       "      <td>-0.094380</td>\n",
       "      <td>-0.141078</td>\n",
       "      <td>0.050274</td>\n",
       "      <td>0.009810</td>\n",
       "      <td>0.048564</td>\n",
       "      <td>0.007033</td>\n",
       "      <td>0.099687</td>\n",
       "      <td>-0.328064</td>\n",
       "      <td>...</td>\n",
       "      <td>0.155681</td>\n",
       "      <td>0.082187</td>\n",
       "      <td>0.106285</td>\n",
       "      <td>0.018151</td>\n",
       "      <td>0.097709</td>\n",
       "      <td>-0.035040</td>\n",
       "      <td>-0.017489</td>\n",
       "      <td>0.002187</td>\n",
       "      <td>0.028924</td>\n",
       "      <td>0.132946</td>\n",
       "    </tr>\n",
       "    <tr>\n",
       "      <th>cbc_lymphocyte_perc</th>\n",
       "      <td>-0.009835</td>\n",
       "      <td>-0.009835</td>\n",
       "      <td>-0.234463</td>\n",
       "      <td>-0.197247</td>\n",
       "      <td>-0.030777</td>\n",
       "      <td>-0.001484</td>\n",
       "      <td>0.058332</td>\n",
       "      <td>0.094088</td>\n",
       "      <td>0.013950</td>\n",
       "      <td>-0.297477</td>\n",
       "      <td>...</td>\n",
       "      <td>-0.163475</td>\n",
       "      <td>0.236394</td>\n",
       "      <td>0.146085</td>\n",
       "      <td>-0.073324</td>\n",
       "      <td>0.170409</td>\n",
       "      <td>-0.129518</td>\n",
       "      <td>-0.021960</td>\n",
       "      <td>-0.004045</td>\n",
       "      <td>0.024257</td>\n",
       "      <td>0.147584</td>\n",
       "    </tr>\n",
       "    <tr>\n",
       "      <th>cbc_eosinophil_c</th>\n",
       "      <td>-0.010186</td>\n",
       "      <td>-0.010186</td>\n",
       "      <td>-0.056693</td>\n",
       "      <td>-0.028611</td>\n",
       "      <td>-0.031720</td>\n",
       "      <td>0.032620</td>\n",
       "      <td>0.020709</td>\n",
       "      <td>-0.011299</td>\n",
       "      <td>0.016372</td>\n",
       "      <td>-0.172728</td>\n",
       "      <td>...</td>\n",
       "      <td>0.186129</td>\n",
       "      <td>0.702266</td>\n",
       "      <td>0.057141</td>\n",
       "      <td>0.025359</td>\n",
       "      <td>0.051368</td>\n",
       "      <td>-0.030097</td>\n",
       "      <td>-0.037181</td>\n",
       "      <td>0.023790</td>\n",
       "      <td>0.024046</td>\n",
       "      <td>0.002132</td>\n",
       "    </tr>\n",
       "    <tr>\n",
       "      <th>cbc_eosinophil_perc.1</th>\n",
       "      <td>0.000322</td>\n",
       "      <td>0.000322</td>\n",
       "      <td>-0.122416</td>\n",
       "      <td>-0.003148</td>\n",
       "      <td>-0.102094</td>\n",
       "      <td>0.056011</td>\n",
       "      <td>0.026571</td>\n",
       "      <td>0.017027</td>\n",
       "      <td>-0.037053</td>\n",
       "      <td>-0.156211</td>\n",
       "      <td>...</td>\n",
       "      <td>-0.059593</td>\n",
       "      <td>1.000000</td>\n",
       "      <td>0.083970</td>\n",
       "      <td>0.014421</td>\n",
       "      <td>0.067240</td>\n",
       "      <td>-0.064207</td>\n",
       "      <td>-0.044503</td>\n",
       "      <td>0.030661</td>\n",
       "      <td>0.009270</td>\n",
       "      <td>-0.021485</td>\n",
       "    </tr>\n",
       "    <tr>\n",
       "      <th>cbc_monocyte_c</th>\n",
       "      <td>0.006011</td>\n",
       "      <td>0.006011</td>\n",
       "      <td>0.090950</td>\n",
       "      <td>-0.068070</td>\n",
       "      <td>0.100502</td>\n",
       "      <td>-0.037211</td>\n",
       "      <td>-0.019228</td>\n",
       "      <td>-0.002565</td>\n",
       "      <td>0.078115</td>\n",
       "      <td>-0.033168</td>\n",
       "      <td>...</td>\n",
       "      <td>1.000000</td>\n",
       "      <td>-0.059593</td>\n",
       "      <td>-0.022803</td>\n",
       "      <td>0.006029</td>\n",
       "      <td>-0.042564</td>\n",
       "      <td>-0.007272</td>\n",
       "      <td>0.011405</td>\n",
       "      <td>0.009640</td>\n",
       "      <td>0.045531</td>\n",
       "      <td>-0.001810</td>\n",
       "    </tr>\n",
       "    <tr>\n",
       "      <th>cbc_eosinophil_perc.2</th>\n",
       "      <td>0.000322</td>\n",
       "      <td>0.000322</td>\n",
       "      <td>-0.122416</td>\n",
       "      <td>-0.003148</td>\n",
       "      <td>-0.102094</td>\n",
       "      <td>0.056011</td>\n",
       "      <td>0.026571</td>\n",
       "      <td>0.017027</td>\n",
       "      <td>-0.037053</td>\n",
       "      <td>-0.156211</td>\n",
       "      <td>...</td>\n",
       "      <td>-0.059593</td>\n",
       "      <td>1.000000</td>\n",
       "      <td>0.083970</td>\n",
       "      <td>0.014421</td>\n",
       "      <td>0.067240</td>\n",
       "      <td>-0.064207</td>\n",
       "      <td>-0.044503</td>\n",
       "      <td>0.030661</td>\n",
       "      <td>0.009270</td>\n",
       "      <td>-0.021485</td>\n",
       "    </tr>\n",
       "    <tr>\n",
       "      <th>cmp_sodium</th>\n",
       "      <td>0.039232</td>\n",
       "      <td>0.039232</td>\n",
       "      <td>-0.139857</td>\n",
       "      <td>-0.077553</td>\n",
       "      <td>-0.062122</td>\n",
       "      <td>0.089829</td>\n",
       "      <td>0.119920</td>\n",
       "      <td>0.012110</td>\n",
       "      <td>-0.013692</td>\n",
       "      <td>0.055314</td>\n",
       "      <td>...</td>\n",
       "      <td>-0.022803</td>\n",
       "      <td>0.083970</td>\n",
       "      <td>1.000000</td>\n",
       "      <td>-0.134295</td>\n",
       "      <td>0.721939</td>\n",
       "      <td>-0.235284</td>\n",
       "      <td>-0.002077</td>\n",
       "      <td>-0.139260</td>\n",
       "      <td>0.040876</td>\n",
       "      <td>0.207628</td>\n",
       "    </tr>\n",
       "    <tr>\n",
       "      <th>cmp_potassium</th>\n",
       "      <td>-0.005859</td>\n",
       "      <td>-0.005859</td>\n",
       "      <td>0.123330</td>\n",
       "      <td>0.129890</td>\n",
       "      <td>-0.048065</td>\n",
       "      <td>-0.016583</td>\n",
       "      <td>-0.055991</td>\n",
       "      <td>-0.118440</td>\n",
       "      <td>0.118477</td>\n",
       "      <td>-0.173582</td>\n",
       "      <td>...</td>\n",
       "      <td>0.006029</td>\n",
       "      <td>0.014421</td>\n",
       "      <td>-0.134295</td>\n",
       "      <td>1.000000</td>\n",
       "      <td>-0.034364</td>\n",
       "      <td>0.189133</td>\n",
       "      <td>0.052079</td>\n",
       "      <td>0.104493</td>\n",
       "      <td>0.000182</td>\n",
       "      <td>-0.057138</td>\n",
       "    </tr>\n",
       "    <tr>\n",
       "      <th>cmp_chloride</th>\n",
       "      <td>0.026758</td>\n",
       "      <td>0.026758</td>\n",
       "      <td>-0.145144</td>\n",
       "      <td>-0.137116</td>\n",
       "      <td>-0.073826</td>\n",
       "      <td>0.003022</td>\n",
       "      <td>0.036059</td>\n",
       "      <td>0.099202</td>\n",
       "      <td>-0.008239</td>\n",
       "      <td>0.030194</td>\n",
       "      <td>...</td>\n",
       "      <td>-0.042564</td>\n",
       "      <td>0.067240</td>\n",
       "      <td>0.721939</td>\n",
       "      <td>-0.034364</td>\n",
       "      <td>1.000000</td>\n",
       "      <td>-0.258474</td>\n",
       "      <td>-0.014191</td>\n",
       "      <td>-0.127214</td>\n",
       "      <td>-0.148060</td>\n",
       "      <td>0.066461</td>\n",
       "    </tr>\n",
       "    <tr>\n",
       "      <th>cmp_glucose</th>\n",
       "      <td>-0.010492</td>\n",
       "      <td>-0.010492</td>\n",
       "      <td>0.125331</td>\n",
       "      <td>0.097948</td>\n",
       "      <td>0.074114</td>\n",
       "      <td>0.052785</td>\n",
       "      <td>0.017755</td>\n",
       "      <td>-0.105208</td>\n",
       "      <td>0.076232</td>\n",
       "      <td>0.057657</td>\n",
       "      <td>...</td>\n",
       "      <td>-0.007272</td>\n",
       "      <td>-0.064207</td>\n",
       "      <td>-0.235284</td>\n",
       "      <td>0.189133</td>\n",
       "      <td>-0.258474</td>\n",
       "      <td>1.000000</td>\n",
       "      <td>-0.002650</td>\n",
       "      <td>0.051861</td>\n",
       "      <td>0.043708</td>\n",
       "      <td>-0.066460</td>\n",
       "    </tr>\n",
       "    <tr>\n",
       "      <th>cmp_ast</th>\n",
       "      <td>-0.036648</td>\n",
       "      <td>-0.036648</td>\n",
       "      <td>0.098732</td>\n",
       "      <td>-0.014016</td>\n",
       "      <td>0.025044</td>\n",
       "      <td>-0.058817</td>\n",
       "      <td>-0.010922</td>\n",
       "      <td>-0.052456</td>\n",
       "      <td>0.037055</td>\n",
       "      <td>0.005574</td>\n",
       "      <td>...</td>\n",
       "      <td>0.011405</td>\n",
       "      <td>-0.044503</td>\n",
       "      <td>-0.002077</td>\n",
       "      <td>0.052079</td>\n",
       "      <td>-0.014191</td>\n",
       "      <td>-0.002650</td>\n",
       "      <td>1.000000</td>\n",
       "      <td>0.168172</td>\n",
       "      <td>-0.057133</td>\n",
       "      <td>-0.072939</td>\n",
       "    </tr>\n",
       "    <tr>\n",
       "      <th>cmp_alkaline_phosphatase</th>\n",
       "      <td>-0.011070</td>\n",
       "      <td>-0.011070</td>\n",
       "      <td>0.117501</td>\n",
       "      <td>-0.091849</td>\n",
       "      <td>0.123586</td>\n",
       "      <td>-0.102502</td>\n",
       "      <td>-0.091883</td>\n",
       "      <td>-0.005379</td>\n",
       "      <td>0.099776</td>\n",
       "      <td>-0.187236</td>\n",
       "      <td>...</td>\n",
       "      <td>0.009640</td>\n",
       "      <td>0.030661</td>\n",
       "      <td>-0.139260</td>\n",
       "      <td>0.104493</td>\n",
       "      <td>-0.127214</td>\n",
       "      <td>0.051861</td>\n",
       "      <td>0.168172</td>\n",
       "      <td>1.000000</td>\n",
       "      <td>-0.050349</td>\n",
       "      <td>-0.235270</td>\n",
       "    </tr>\n",
       "    <tr>\n",
       "      <th>cmp_total_protein</th>\n",
       "      <td>0.016393</td>\n",
       "      <td>0.016393</td>\n",
       "      <td>-0.169298</td>\n",
       "      <td>-0.147716</td>\n",
       "      <td>0.046071</td>\n",
       "      <td>0.195652</td>\n",
       "      <td>0.268447</td>\n",
       "      <td>0.037321</td>\n",
       "      <td>-0.078270</td>\n",
       "      <td>0.127008</td>\n",
       "      <td>...</td>\n",
       "      <td>0.045531</td>\n",
       "      <td>0.009270</td>\n",
       "      <td>0.040876</td>\n",
       "      <td>0.000182</td>\n",
       "      <td>-0.148060</td>\n",
       "      <td>0.043708</td>\n",
       "      <td>-0.057133</td>\n",
       "      <td>-0.050349</td>\n",
       "      <td>1.000000</td>\n",
       "      <td>0.614664</td>\n",
       "    </tr>\n",
       "    <tr>\n",
       "      <th>cmp_albumin</th>\n",
       "      <td>0.045855</td>\n",
       "      <td>0.045855</td>\n",
       "      <td>-0.301735</td>\n",
       "      <td>-0.312481</td>\n",
       "      <td>0.021046</td>\n",
       "      <td>0.193473</td>\n",
       "      <td>0.288271</td>\n",
       "      <td>0.123265</td>\n",
       "      <td>-0.083926</td>\n",
       "      <td>0.030490</td>\n",
       "      <td>...</td>\n",
       "      <td>-0.001810</td>\n",
       "      <td>-0.021485</td>\n",
       "      <td>0.207628</td>\n",
       "      <td>-0.057138</td>\n",
       "      <td>0.066461</td>\n",
       "      <td>-0.066460</td>\n",
       "      <td>-0.072939</td>\n",
       "      <td>-0.235270</td>\n",
       "      <td>0.614664</td>\n",
       "      <td>1.000000</td>\n",
       "    </tr>\n",
       "  </tbody>\n",
       "</table>\n",
       "<p>31 rows × 31 columns</p>\n",
       "</div>"
      ],
      "text/plain": [
       "                             index     patno  Admitted       Age  heart_rate  \\\n",
       "index                     1.000000  1.000000 -0.030377 -0.071132   -0.014543   \n",
       "patno                     1.000000  1.000000 -0.030377 -0.071132   -0.014543   \n",
       "Admitted                 -0.030377 -0.030377  1.000000  0.259000    0.071533   \n",
       "Age                      -0.071132 -0.071132  0.259000  1.000000   -0.343054   \n",
       "heart_rate               -0.014543 -0.014543  0.071533 -0.343054    1.000000   \n",
       "sbp                      -0.013479 -0.013479 -0.034520  0.255632   -0.128325   \n",
       "dbp                      -0.002088 -0.002088 -0.083964  0.021500    0.032385   \n",
       "pulse_ox                  0.066634  0.066634 -0.187805 -0.233759   -0.018398   \n",
       "resp_rate                -0.031710 -0.031710  0.141345 -0.128765    0.397967   \n",
       "height                   -0.017314 -0.017314  0.006556  0.237857   -0.277916   \n",
       "wght                     -0.057584 -0.057584  0.138873  0.432725   -0.375283   \n",
       "cbc_wbc                  -0.005411 -0.005411  0.140818 -0.035561    0.127127   \n",
       "cbc_hematocrit            0.022097  0.022097 -0.201153 -0.134952    0.003627   \n",
       "cbc_hemoglobin            0.026712  0.026712 -0.218690 -0.179703    0.011397   \n",
       "cbc_platelets             0.034431  0.034431 -0.048104 -0.186491    0.156655   \n",
       "cbc_neutrophil_c          0.015320  0.015320  0.207518  0.000455    0.144446   \n",
       "cbc_eosinophil_perc       0.000322  0.000322 -0.122416 -0.003148   -0.102094   \n",
       "cbc_lymphocyte_c         -0.019357 -0.019357 -0.094380 -0.141078    0.050274   \n",
       "cbc_lymphocyte_perc      -0.009835 -0.009835 -0.234463 -0.197247   -0.030777   \n",
       "cbc_eosinophil_c         -0.010186 -0.010186 -0.056693 -0.028611   -0.031720   \n",
       "cbc_eosinophil_perc.1     0.000322  0.000322 -0.122416 -0.003148   -0.102094   \n",
       "cbc_monocyte_c            0.006011  0.006011  0.090950 -0.068070    0.100502   \n",
       "cbc_eosinophil_perc.2     0.000322  0.000322 -0.122416 -0.003148   -0.102094   \n",
       "cmp_sodium                0.039232  0.039232 -0.139857 -0.077553   -0.062122   \n",
       "cmp_potassium            -0.005859 -0.005859  0.123330  0.129890   -0.048065   \n",
       "cmp_chloride              0.026758  0.026758 -0.145144 -0.137116   -0.073826   \n",
       "cmp_glucose              -0.010492 -0.010492  0.125331  0.097948    0.074114   \n",
       "cmp_ast                  -0.036648 -0.036648  0.098732 -0.014016    0.025044   \n",
       "cmp_alkaline_phosphatase -0.011070 -0.011070  0.117501 -0.091849    0.123586   \n",
       "cmp_total_protein         0.016393  0.016393 -0.169298 -0.147716    0.046071   \n",
       "cmp_albumin               0.045855  0.045855 -0.301735 -0.312481    0.021046   \n",
       "\n",
       "                               sbp       dbp  pulse_ox  resp_rate    height  \\\n",
       "index                    -0.013479 -0.002088  0.066634  -0.031710 -0.017314   \n",
       "patno                    -0.013479 -0.002088  0.066634  -0.031710 -0.017314   \n",
       "Admitted                 -0.034520 -0.083964 -0.187805   0.141345  0.006556   \n",
       "Age                       0.255632  0.021500 -0.233759  -0.128765  0.237857   \n",
       "heart_rate               -0.128325  0.032385 -0.018398   0.397967 -0.277916   \n",
       "sbp                       1.000000  0.700990  0.012399  -0.054224  0.129512   \n",
       "dbp                       0.700990  1.000000  0.044760  -0.038692  0.178501   \n",
       "pulse_ox                  0.012399  0.044760  1.000000  -0.203094  0.003070   \n",
       "resp_rate                -0.054224 -0.038692 -0.203094   1.000000 -0.339655   \n",
       "height                    0.129512  0.178501  0.003070  -0.339655  1.000000   \n",
       "wght                      0.256390  0.191655 -0.130171  -0.299886  0.506950   \n",
       "cbc_wbc                  -0.044712 -0.035427 -0.053765   0.107466 -0.006946   \n",
       "cbc_hematocrit            0.123147  0.271443 -0.049715  -0.037861  0.100637   \n",
       "cbc_hemoglobin            0.118943  0.280105 -0.006979  -0.052274  0.092058   \n",
       "cbc_platelets            -0.004040  0.034225  0.040013   0.078875 -0.241994   \n",
       "cbc_neutrophil_c         -0.054473 -0.051273 -0.068710   0.101723  0.073823   \n",
       "cbc_eosinophil_perc       0.056011  0.026571  0.017027  -0.037053 -0.156211   \n",
       "cbc_lymphocyte_c          0.009810  0.048564  0.007033   0.099687 -0.328064   \n",
       "cbc_lymphocyte_perc      -0.001484  0.058332  0.094088   0.013950 -0.297477   \n",
       "cbc_eosinophil_c          0.032620  0.020709 -0.011299   0.016372 -0.172728   \n",
       "cbc_eosinophil_perc.1     0.056011  0.026571  0.017027  -0.037053 -0.156211   \n",
       "cbc_monocyte_c           -0.037211 -0.019228 -0.002565   0.078115 -0.033168   \n",
       "cbc_eosinophil_perc.2     0.056011  0.026571  0.017027  -0.037053 -0.156211   \n",
       "cmp_sodium                0.089829  0.119920  0.012110  -0.013692  0.055314   \n",
       "cmp_potassium            -0.016583 -0.055991 -0.118440   0.118477 -0.173582   \n",
       "cmp_chloride              0.003022  0.036059  0.099202  -0.008239  0.030194   \n",
       "cmp_glucose               0.052785  0.017755 -0.105208   0.076232  0.057657   \n",
       "cmp_ast                  -0.058817 -0.010922 -0.052456   0.037055  0.005574   \n",
       "cmp_alkaline_phosphatase -0.102502 -0.091883 -0.005379   0.099776 -0.187236   \n",
       "cmp_total_protein         0.195652  0.268447  0.037321  -0.078270  0.127008   \n",
       "cmp_albumin               0.193473  0.288271  0.123265  -0.083926  0.030490   \n",
       "\n",
       "                          ...  cbc_monocyte_c  cbc_eosinophil_perc.2  \\\n",
       "index                     ...        0.006011               0.000322   \n",
       "patno                     ...        0.006011               0.000322   \n",
       "Admitted                  ...        0.090950              -0.122416   \n",
       "Age                       ...       -0.068070              -0.003148   \n",
       "heart_rate                ...        0.100502              -0.102094   \n",
       "sbp                       ...       -0.037211               0.056011   \n",
       "dbp                       ...       -0.019228               0.026571   \n",
       "pulse_ox                  ...       -0.002565               0.017027   \n",
       "resp_rate                 ...        0.078115              -0.037053   \n",
       "height                    ...       -0.033168              -0.156211   \n",
       "wght                      ...       -0.046526               0.035913   \n",
       "cbc_wbc                   ...        0.509534              -0.116462   \n",
       "cbc_hematocrit            ...        0.021607              -0.009774   \n",
       "cbc_hemoglobin            ...        0.024400              -0.023797   \n",
       "cbc_platelets             ...        0.189150               0.015036   \n",
       "cbc_neutrophil_c          ...        0.442835              -0.231476   \n",
       "cbc_eosinophil_perc       ...       -0.059593               1.000000   \n",
       "cbc_lymphocyte_c          ...        0.155681               0.082187   \n",
       "cbc_lymphocyte_perc       ...       -0.163475               0.236394   \n",
       "cbc_eosinophil_c          ...        0.186129               0.702266   \n",
       "cbc_eosinophil_perc.1     ...       -0.059593               1.000000   \n",
       "cbc_monocyte_c            ...        1.000000              -0.059593   \n",
       "cbc_eosinophil_perc.2     ...       -0.059593               1.000000   \n",
       "cmp_sodium                ...       -0.022803               0.083970   \n",
       "cmp_potassium             ...        0.006029               0.014421   \n",
       "cmp_chloride              ...       -0.042564               0.067240   \n",
       "cmp_glucose               ...       -0.007272              -0.064207   \n",
       "cmp_ast                   ...        0.011405              -0.044503   \n",
       "cmp_alkaline_phosphatase  ...        0.009640               0.030661   \n",
       "cmp_total_protein         ...        0.045531               0.009270   \n",
       "cmp_albumin               ...       -0.001810              -0.021485   \n",
       "\n",
       "                          cmp_sodium  cmp_potassium  cmp_chloride  \\\n",
       "index                       0.039232      -0.005859      0.026758   \n",
       "patno                       0.039232      -0.005859      0.026758   \n",
       "Admitted                   -0.139857       0.123330     -0.145144   \n",
       "Age                        -0.077553       0.129890     -0.137116   \n",
       "heart_rate                 -0.062122      -0.048065     -0.073826   \n",
       "sbp                         0.089829      -0.016583      0.003022   \n",
       "dbp                         0.119920      -0.055991      0.036059   \n",
       "pulse_ox                    0.012110      -0.118440      0.099202   \n",
       "resp_rate                  -0.013692       0.118477     -0.008239   \n",
       "height                      0.055314      -0.173582      0.030194   \n",
       "wght                        0.031168      -0.001168     -0.009780   \n",
       "cbc_wbc                    -0.031298       0.052575     -0.036382   \n",
       "cbc_hematocrit              0.208495      -0.039061      0.058504   \n",
       "cbc_hemoglobin              0.152671      -0.086993      0.032291   \n",
       "cbc_platelets               0.000126       0.012827     -0.035093   \n",
       "cbc_neutrophil_c           -0.055907       0.059657     -0.061286   \n",
       "cbc_eosinophil_perc         0.083970       0.014421      0.067240   \n",
       "cbc_lymphocyte_c            0.106285       0.018151      0.097709   \n",
       "cbc_lymphocyte_perc         0.146085      -0.073324      0.170409   \n",
       "cbc_eosinophil_c            0.057141       0.025359      0.051368   \n",
       "cbc_eosinophil_perc.1       0.083970       0.014421      0.067240   \n",
       "cbc_monocyte_c             -0.022803       0.006029     -0.042564   \n",
       "cbc_eosinophil_perc.2       0.083970       0.014421      0.067240   \n",
       "cmp_sodium                  1.000000      -0.134295      0.721939   \n",
       "cmp_potassium              -0.134295       1.000000     -0.034364   \n",
       "cmp_chloride                0.721939      -0.034364      1.000000   \n",
       "cmp_glucose                -0.235284       0.189133     -0.258474   \n",
       "cmp_ast                    -0.002077       0.052079     -0.014191   \n",
       "cmp_alkaline_phosphatase   -0.139260       0.104493     -0.127214   \n",
       "cmp_total_protein           0.040876       0.000182     -0.148060   \n",
       "cmp_albumin                 0.207628      -0.057138      0.066461   \n",
       "\n",
       "                          cmp_glucose   cmp_ast  cmp_alkaline_phosphatase  \\\n",
       "index                       -0.010492 -0.036648                 -0.011070   \n",
       "patno                       -0.010492 -0.036648                 -0.011070   \n",
       "Admitted                     0.125331  0.098732                  0.117501   \n",
       "Age                          0.097948 -0.014016                 -0.091849   \n",
       "heart_rate                   0.074114  0.025044                  0.123586   \n",
       "sbp                          0.052785 -0.058817                 -0.102502   \n",
       "dbp                          0.017755 -0.010922                 -0.091883   \n",
       "pulse_ox                    -0.105208 -0.052456                 -0.005379   \n",
       "resp_rate                    0.076232  0.037055                  0.099776   \n",
       "height                       0.057657  0.005574                 -0.187236   \n",
       "wght                         0.117112  0.013699                 -0.201825   \n",
       "cbc_wbc                      0.079747  0.038337                  0.038098   \n",
       "cbc_hematocrit               0.008516  0.018966                 -0.155929   \n",
       "cbc_hemoglobin              -0.009205  0.014291                 -0.158250   \n",
       "cbc_platelets                0.032876 -0.072822                  0.036632   \n",
       "cbc_neutrophil_c             0.117837  0.030051                  0.028203   \n",
       "cbc_eosinophil_perc         -0.064207 -0.044503                  0.030661   \n",
       "cbc_lymphocyte_c            -0.035040 -0.017489                  0.002187   \n",
       "cbc_lymphocyte_perc         -0.129518 -0.021960                 -0.004045   \n",
       "cbc_eosinophil_c            -0.030097 -0.037181                  0.023790   \n",
       "cbc_eosinophil_perc.1       -0.064207 -0.044503                  0.030661   \n",
       "cbc_monocyte_c              -0.007272  0.011405                  0.009640   \n",
       "cbc_eosinophil_perc.2       -0.064207 -0.044503                  0.030661   \n",
       "cmp_sodium                  -0.235284 -0.002077                 -0.139260   \n",
       "cmp_potassium                0.189133  0.052079                  0.104493   \n",
       "cmp_chloride                -0.258474 -0.014191                 -0.127214   \n",
       "cmp_glucose                  1.000000 -0.002650                  0.051861   \n",
       "cmp_ast                     -0.002650  1.000000                  0.168172   \n",
       "cmp_alkaline_phosphatase     0.051861  0.168172                  1.000000   \n",
       "cmp_total_protein            0.043708 -0.057133                 -0.050349   \n",
       "cmp_albumin                 -0.066460 -0.072939                 -0.235270   \n",
       "\n",
       "                          cmp_total_protein  cmp_albumin  \n",
       "index                              0.016393     0.045855  \n",
       "patno                              0.016393     0.045855  \n",
       "Admitted                          -0.169298    -0.301735  \n",
       "Age                               -0.147716    -0.312481  \n",
       "heart_rate                         0.046071     0.021046  \n",
       "sbp                                0.195652     0.193473  \n",
       "dbp                                0.268447     0.288271  \n",
       "pulse_ox                           0.037321     0.123265  \n",
       "resp_rate                         -0.078270    -0.083926  \n",
       "height                             0.127008     0.030490  \n",
       "wght                               0.089641    -0.087129  \n",
       "cbc_wbc                            0.011260    -0.020093  \n",
       "cbc_hematocrit                     0.403966     0.522731  \n",
       "cbc_hemoglobin                     0.389195     0.545362  \n",
       "cbc_platelets                      0.224736     0.124224  \n",
       "cbc_neutrophil_c                   0.008387    -0.044713  \n",
       "cbc_eosinophil_perc                0.009270    -0.021485  \n",
       "cbc_lymphocyte_c                   0.028924     0.132946  \n",
       "cbc_lymphocyte_perc                0.024257     0.147584  \n",
       "cbc_eosinophil_c                   0.024046     0.002132  \n",
       "cbc_eosinophil_perc.1              0.009270    -0.021485  \n",
       "cbc_monocyte_c                     0.045531    -0.001810  \n",
       "cbc_eosinophil_perc.2              0.009270    -0.021485  \n",
       "cmp_sodium                         0.040876     0.207628  \n",
       "cmp_potassium                      0.000182    -0.057138  \n",
       "cmp_chloride                      -0.148060     0.066461  \n",
       "cmp_glucose                        0.043708    -0.066460  \n",
       "cmp_ast                           -0.057133    -0.072939  \n",
       "cmp_alkaline_phosphatase          -0.050349    -0.235270  \n",
       "cmp_total_protein                  1.000000     0.614664  \n",
       "cmp_albumin                        0.614664     1.000000  \n",
       "\n",
       "[31 rows x 31 columns]"
      ]
     },
     "execution_count": 196,
     "metadata": {},
     "output_type": "execute_result"
    }
   ],
   "source": [
    "df.corr()"
   ]
  },
  {
   "cell_type": "code",
   "execution_count": 197,
   "metadata": {
    "scrolled": true
   },
   "outputs": [
    {
     "name": "stdout",
     "output_type": "stream",
     "text": [
      "None Detected    6910\n",
      "Detected          470\n",
      "Name: COVIDResult, dtype: int64\n"
     ]
    }
   ],
   "source": [
    "print(df[target].value_counts())"
   ]
  },
  {
   "cell_type": "markdown",
   "metadata": {},
   "source": [
    "#### 1.3 Inspect Null Data"
   ]
  },
  {
   "cell_type": "code",
   "execution_count": 198,
   "metadata": {
    "scrolled": true
   },
   "outputs": [
    {
     "name": "stdout",
     "output_type": "stream",
     "text": [
      "Total Number of NULL Data Points: 69411\n"
     ]
    },
    {
     "data": {
      "text/plain": [
       "index                          0\n",
       "patno                          0\n",
       "Admitted                       0\n",
       "AdmittingDepartment         4377\n",
       "COVIDResult                    0\n",
       "Age                            0\n",
       "FirstRace                      1\n",
       "Ethnicity                      0\n",
       "Sex                            0\n",
       "heart_rate                    28\n",
       "sbp                           88\n",
       "dbp                           88\n",
       "pulse_ox                      34\n",
       "resp_rate                     68\n",
       "height                      6924\n",
       "wght                        4132\n",
       "cbc_wbc                     1124\n",
       "cbc_hematocrit              1124\n",
       "cbc_hemoglobin              1123\n",
       "cbc_platelets               1124\n",
       "cbc_neutrophil_c            3507\n",
       "cbc_eosinophil_perc         3508\n",
       "cbc_lymphocyte_c            3506\n",
       "cbc_lymphocyte_perc         3506\n",
       "cbc_eosinophil_c            3508\n",
       "cbc_eosinophil_perc.1       3508\n",
       "cbc_monocyte_c              3506\n",
       "cbc_eosinophil_perc.2       3508\n",
       "cmp_sodium                  1094\n",
       "cmp_potassium               1810\n",
       "cmp_chloride                1094\n",
       "cmp_bicarbonate             1104\n",
       "cmp_bun                     1094\n",
       "cmp_creatinine              1094\n",
       "cmp_glucose                 1094\n",
       "cmp_alt                     1979\n",
       "cmp_ast                     2613\n",
       "cmp_alkaline_phosphatase    1981\n",
       "cmp_total_protein           2205\n",
       "cmp_albumin                 1978\n",
       "cmp_bilirubin               1979\n",
       "dtype: int64"
      ]
     },
     "execution_count": 198,
     "metadata": {},
     "output_type": "execute_result"
    }
   ],
   "source": [
    "print('Total Number of NULL Data Points:', df.isnull().sum().sum())\n",
    "df.isnull().sum()"
   ]
  },
  {
   "cell_type": "code",
   "execution_count": 199,
   "metadata": {
    "scrolled": true
   },
   "outputs": [],
   "source": [
    "d = {\n",
    "    col: round(df[col].isnull().sum() * 100 / len(df[col]), 4)\n",
    "    for col in df\n",
    "}\n",
    "d = dict(sorted(d.items(), key=lambda item: item[1], reverse=True))\n",
    "majority_null = [k for k, v in d.items() if v > 50.0]\n",
    "\n",
    "# print(\"Null Data Points by variable\")\n",
    "# d"
   ]
  },
  {
   "cell_type": "code",
   "execution_count": 200,
   "metadata": {},
   "outputs": [
    {
     "data": {
      "text/plain": [
       "<AxesSubplot:>"
      ]
     },
     "execution_count": 200,
     "metadata": {},
     "output_type": "execute_result"
    },
    {
     "data": {
      "image/png": "[encoded data removed]",
      "text/plain": [
       "<Figure size 1800x720 with 2 Axes>"
      ]
     },
     "metadata": {
      "needs_background": "light"
     },
     "output_type": "display_data"
    }
   ],
   "source": [
    "msno.matrix(df)\n",
    "# msno.heatmap(df)"
   ]
  },
  {
   "cell_type": "markdown",
   "metadata": {},
   "source": [
    "## 2. Data Preparation"
   ]
  },
  {
   "cell_type": "markdown",
   "metadata": {},
   "source": [
    "#### 2.1 Drop Columns"
   ]
  },
  {
   "cell_type": "code",
   "execution_count": 201,
   "metadata": {},
   "outputs": [
    {
     "data": {
      "text/html": [
       "<div>\n",
       "<style scoped>\n",
       "    .dataframe tbody tr th:only-of-type {\n",
       "        vertical-align: middle;\n",
       "    }\n",
       "\n",
       "    .dataframe tbody tr th {\n",
       "        vertical-align: top;\n",
       "    }\n",
       "\n",
       "    .dataframe thead th {\n",
       "        text-align: right;\n",
       "    }\n",
       "</style>\n",
       "<table border=\"1\" class=\"dataframe\">\n",
       "  <thead>\n",
       "    <tr style=\"text-align: right;\">\n",
       "      <th></th>\n",
       "      <th>Admitted</th>\n",
       "      <th>COVIDResult</th>\n",
       "      <th>Age</th>\n",
       "      <th>FirstRace</th>\n",
       "      <th>Ethnicity</th>\n",
       "      <th>Sex</th>\n",
       "      <th>heart_rate</th>\n",
       "      <th>sbp</th>\n",
       "      <th>dbp</th>\n",
       "      <th>pulse_ox</th>\n",
       "      <th>...</th>\n",
       "      <th>cmp_bicarbonate</th>\n",
       "      <th>cmp_bun</th>\n",
       "      <th>cmp_creatinine</th>\n",
       "      <th>cmp_glucose</th>\n",
       "      <th>cmp_alt</th>\n",
       "      <th>cmp_ast</th>\n",
       "      <th>cmp_alkaline_phosphatase</th>\n",
       "      <th>cmp_total_protein</th>\n",
       "      <th>cmp_albumin</th>\n",
       "      <th>cmp_bilirubin</th>\n",
       "    </tr>\n",
       "  </thead>\n",
       "  <tbody>\n",
       "    <tr>\n",
       "      <th>0</th>\n",
       "      <td>1</td>\n",
       "      <td>None Detected</td>\n",
       "      <td>78</td>\n",
       "      <td>White or Caucasian</td>\n",
       "      <td>Non-Hispanic</td>\n",
       "      <td>Female</td>\n",
       "      <td>94.0</td>\n",
       "      <td>138.0</td>\n",
       "      <td>82.0</td>\n",
       "      <td>96.0</td>\n",
       "      <td>...</td>\n",
       "      <td>26</td>\n",
       "      <td>31</td>\n",
       "      <td>2.5</td>\n",
       "      <td>82.0</td>\n",
       "      <td>14</td>\n",
       "      <td>26.0</td>\n",
       "      <td>80.0</td>\n",
       "      <td>8.5</td>\n",
       "      <td>4.3</td>\n",
       "      <td>0.5</td>\n",
       "    </tr>\n",
       "    <tr>\n",
       "      <th>1</th>\n",
       "      <td>0</td>\n",
       "      <td>None Detected</td>\n",
       "      <td>23</td>\n",
       "      <td>White or Caucasian</td>\n",
       "      <td>Non-Hispanic</td>\n",
       "      <td>Female</td>\n",
       "      <td>121.0</td>\n",
       "      <td>134.0</td>\n",
       "      <td>88.0</td>\n",
       "      <td>98.0</td>\n",
       "      <td>...</td>\n",
       "      <td>19</td>\n",
       "      <td>11</td>\n",
       "      <td>0.9</td>\n",
       "      <td>83.0</td>\n",
       "      <td>73</td>\n",
       "      <td>NaN</td>\n",
       "      <td>100.0</td>\n",
       "      <td>8.1</td>\n",
       "      <td>4.6</td>\n",
       "      <td>0.6</td>\n",
       "    </tr>\n",
       "    <tr>\n",
       "      <th>2</th>\n",
       "      <td>0</td>\n",
       "      <td>None Detected</td>\n",
       "      <td>55</td>\n",
       "      <td>African American</td>\n",
       "      <td>Non-Hispanic</td>\n",
       "      <td>Male</td>\n",
       "      <td>83.0</td>\n",
       "      <td>152.0</td>\n",
       "      <td>76.0</td>\n",
       "      <td>98.0</td>\n",
       "      <td>...</td>\n",
       "      <td>23</td>\n",
       "      <td>9</td>\n",
       "      <td>1.2</td>\n",
       "      <td>123.0</td>\n",
       "      <td>26</td>\n",
       "      <td>29.0</td>\n",
       "      <td>106.0</td>\n",
       "      <td>7.1</td>\n",
       "      <td>4.0</td>\n",
       "      <td>0.7</td>\n",
       "    </tr>\n",
       "    <tr>\n",
       "      <th>3</th>\n",
       "      <td>1</td>\n",
       "      <td>None Detected</td>\n",
       "      <td>50</td>\n",
       "      <td>White or Caucasian</td>\n",
       "      <td>Non-Hispanic</td>\n",
       "      <td>Male</td>\n",
       "      <td>88.0</td>\n",
       "      <td>138.0</td>\n",
       "      <td>65.0</td>\n",
       "      <td>87.0</td>\n",
       "      <td>...</td>\n",
       "      <td>30</td>\n",
       "      <td>45</td>\n",
       "      <td>1.6</td>\n",
       "      <td>297.0</td>\n",
       "      <td>22</td>\n",
       "      <td>NaN</td>\n",
       "      <td>78.0</td>\n",
       "      <td>7.8</td>\n",
       "      <td>3.7</td>\n",
       "      <td>0.5</td>\n",
       "    </tr>\n",
       "    <tr>\n",
       "      <th>4</th>\n",
       "      <td>0</td>\n",
       "      <td>None Detected</td>\n",
       "      <td>67</td>\n",
       "      <td>African American</td>\n",
       "      <td>Non-Hispanic</td>\n",
       "      <td>Female</td>\n",
       "      <td>90.0</td>\n",
       "      <td>128.0</td>\n",
       "      <td>69.0</td>\n",
       "      <td>98.0</td>\n",
       "      <td>...</td>\n",
       "      <td>27</td>\n",
       "      <td>25</td>\n",
       "      <td>1.0</td>\n",
       "      <td>96.0</td>\n",
       "      <td>12</td>\n",
       "      <td>18.0</td>\n",
       "      <td>122.0</td>\n",
       "      <td>7.4</td>\n",
       "      <td>3.5</td>\n",
       "      <td>0.2</td>\n",
       "    </tr>\n",
       "  </tbody>\n",
       "</table>\n",
       "<p>5 rows × 36 columns</p>\n",
       "</div>"
      ],
      "text/plain": [
       "   Admitted    COVIDResult  Age           FirstRace     Ethnicity     Sex  \\\n",
       "0         1  None Detected   78  White or Caucasian  Non-Hispanic  Female   \n",
       "1         0  None Detected   23  White or Caucasian  Non-Hispanic  Female   \n",
       "2         0  None Detected   55    African American  Non-Hispanic    Male   \n",
       "3         1  None Detected   50  White or Caucasian  Non-Hispanic    Male   \n",
       "4         0  None Detected   67    African American  Non-Hispanic  Female   \n",
       "\n",
       "   heart_rate    sbp   dbp  pulse_ox  ...  cmp_bicarbonate  cmp_bun  \\\n",
       "0        94.0  138.0  82.0      96.0  ...               26       31   \n",
       "1       121.0  134.0  88.0      98.0  ...               19       11   \n",
       "2        83.0  152.0  76.0      98.0  ...               23        9   \n",
       "3        88.0  138.0  65.0      87.0  ...               30       45   \n",
       "4        90.0  128.0  69.0      98.0  ...               27       25   \n",
       "\n",
       "   cmp_creatinine  cmp_glucose  cmp_alt  cmp_ast  cmp_alkaline_phosphatase  \\\n",
       "0             2.5         82.0       14     26.0                      80.0   \n",
       "1             0.9         83.0       73      NaN                     100.0   \n",
       "2             1.2        123.0       26     29.0                     106.0   \n",
       "3             1.6        297.0       22      NaN                      78.0   \n",
       "4             1.0         96.0       12     18.0                     122.0   \n",
       "\n",
       "   cmp_total_protein  cmp_albumin  cmp_bilirubin  \n",
       "0                8.5          4.3            0.5  \n",
       "1                8.1          4.6            0.6  \n",
       "2                7.1          4.0            0.7  \n",
       "3                7.8          3.7            0.5  \n",
       "4                7.4          3.5            0.2  \n",
       "\n",
       "[5 rows x 36 columns]"
      ]
     },
     "execution_count": 201,
     "metadata": {},
     "output_type": "execute_result"
    }
   ],
   "source": [
    "trim_df = df.drop(columns=majority_null)\n",
    "trim_df = trim_df.drop(columns=['index', 'patno'])\n",
    "trim_df.head(5)"
   ]
  },
  {
   "cell_type": "code",
   "execution_count": 202,
   "metadata": {},
   "outputs": [
    {
     "data": {
      "text/plain": [
       "53978"
      ]
     },
     "execution_count": 202,
     "metadata": {},
     "output_type": "execute_result"
    }
   ],
   "source": [
    "trim_df.isnull().sum().sum()"
   ]
  },
  {
   "cell_type": "markdown",
   "metadata": {},
   "source": [
    "#### 2.2 Handle Categorical Variables"
   ]
  },
  {
   "cell_type": "code",
   "execution_count": 203,
   "metadata": {},
   "outputs": [
    {
     "data": {
      "text/plain": [
       "Index(['COVIDResult', 'FirstRace', 'Ethnicity', 'Sex', 'cmp_bicarbonate',\n",
       "       'cmp_bun', 'cmp_creatinine', 'cmp_alt', 'cmp_bilirubin'],\n",
       "      dtype='object')"
      ]
     },
     "execution_count": 203,
     "metadata": {},
     "output_type": "execute_result"
    }
   ],
   "source": [
    "trim_df.select_dtypes(include=['object']).columns"
   ]
  },
  {
   "cell_type": "markdown",
   "metadata": {},
   "source": [
    "###### 2.2.1 Manual Conversion"
   ]
  },
  {
   "cell_type": "code",
   "execution_count": 204,
   "metadata": {
    "scrolled": true
   },
   "outputs": [
    {
     "data": {
      "text/html": [
       "<div>\n",
       "<style scoped>\n",
       "    .dataframe tbody tr th:only-of-type {\n",
       "        vertical-align: middle;\n",
       "    }\n",
       "\n",
       "    .dataframe tbody tr th {\n",
       "        vertical-align: top;\n",
       "    }\n",
       "\n",
       "    .dataframe thead th {\n",
       "        text-align: right;\n",
       "    }\n",
       "</style>\n",
       "<table border=\"1\" class=\"dataframe\">\n",
       "  <thead>\n",
       "    <tr style=\"text-align: right;\">\n",
       "      <th></th>\n",
       "      <th>Admitted</th>\n",
       "      <th>COVIDResult</th>\n",
       "      <th>Age</th>\n",
       "      <th>FirstRace</th>\n",
       "      <th>Ethnicity</th>\n",
       "      <th>Sex</th>\n",
       "      <th>heart_rate</th>\n",
       "      <th>sbp</th>\n",
       "      <th>dbp</th>\n",
       "      <th>pulse_ox</th>\n",
       "      <th>...</th>\n",
       "      <th>cmp_bicarbonate</th>\n",
       "      <th>cmp_bun</th>\n",
       "      <th>cmp_creatinine</th>\n",
       "      <th>cmp_glucose</th>\n",
       "      <th>cmp_alt</th>\n",
       "      <th>cmp_ast</th>\n",
       "      <th>cmp_alkaline_phosphatase</th>\n",
       "      <th>cmp_total_protein</th>\n",
       "      <th>cmp_albumin</th>\n",
       "      <th>cmp_bilirubin</th>\n",
       "    </tr>\n",
       "  </thead>\n",
       "  <tbody>\n",
       "    <tr>\n",
       "      <th>0</th>\n",
       "      <td>1</td>\n",
       "      <td>None Detected</td>\n",
       "      <td>78</td>\n",
       "      <td>White or Caucasian</td>\n",
       "      <td>Non-Hispanic</td>\n",
       "      <td>Female</td>\n",
       "      <td>94.0</td>\n",
       "      <td>138.0</td>\n",
       "      <td>82.0</td>\n",
       "      <td>96.0</td>\n",
       "      <td>...</td>\n",
       "      <td>26.0</td>\n",
       "      <td>31.0</td>\n",
       "      <td>2.5</td>\n",
       "      <td>82.0</td>\n",
       "      <td>14.0</td>\n",
       "      <td>26.0</td>\n",
       "      <td>80.0</td>\n",
       "      <td>8.5</td>\n",
       "      <td>4.3</td>\n",
       "      <td>0.5</td>\n",
       "    </tr>\n",
       "    <tr>\n",
       "      <th>1</th>\n",
       "      <td>0</td>\n",
       "      <td>None Detected</td>\n",
       "      <td>23</td>\n",
       "      <td>White or Caucasian</td>\n",
       "      <td>Non-Hispanic</td>\n",
       "      <td>Female</td>\n",
       "      <td>121.0</td>\n",
       "      <td>134.0</td>\n",
       "      <td>88.0</td>\n",
       "      <td>98.0</td>\n",
       "      <td>...</td>\n",
       "      <td>19.0</td>\n",
       "      <td>11.0</td>\n",
       "      <td>0.9</td>\n",
       "      <td>83.0</td>\n",
       "      <td>73.0</td>\n",
       "      <td>NaN</td>\n",
       "      <td>100.0</td>\n",
       "      <td>8.1</td>\n",
       "      <td>4.6</td>\n",
       "      <td>0.6</td>\n",
       "    </tr>\n",
       "    <tr>\n",
       "      <th>2</th>\n",
       "      <td>0</td>\n",
       "      <td>None Detected</td>\n",
       "      <td>55</td>\n",
       "      <td>African American</td>\n",
       "      <td>Non-Hispanic</td>\n",
       "      <td>Male</td>\n",
       "      <td>83.0</td>\n",
       "      <td>152.0</td>\n",
       "      <td>76.0</td>\n",
       "      <td>98.0</td>\n",
       "      <td>...</td>\n",
       "      <td>23.0</td>\n",
       "      <td>9.0</td>\n",
       "      <td>1.2</td>\n",
       "      <td>123.0</td>\n",
       "      <td>26.0</td>\n",
       "      <td>29.0</td>\n",
       "      <td>106.0</td>\n",
       "      <td>7.1</td>\n",
       "      <td>4.0</td>\n",
       "      <td>0.7</td>\n",
       "    </tr>\n",
       "    <tr>\n",
       "      <th>3</th>\n",
       "      <td>1</td>\n",
       "      <td>None Detected</td>\n",
       "      <td>50</td>\n",
       "      <td>White or Caucasian</td>\n",
       "      <td>Non-Hispanic</td>\n",
       "      <td>Male</td>\n",
       "      <td>88.0</td>\n",
       "      <td>138.0</td>\n",
       "      <td>65.0</td>\n",
       "      <td>87.0</td>\n",
       "      <td>...</td>\n",
       "      <td>30.0</td>\n",
       "      <td>45.0</td>\n",
       "      <td>1.6</td>\n",
       "      <td>297.0</td>\n",
       "      <td>22.0</td>\n",
       "      <td>NaN</td>\n",
       "      <td>78.0</td>\n",
       "      <td>7.8</td>\n",
       "      <td>3.7</td>\n",
       "      <td>0.5</td>\n",
       "    </tr>\n",
       "    <tr>\n",
       "      <th>4</th>\n",
       "      <td>0</td>\n",
       "      <td>None Detected</td>\n",
       "      <td>67</td>\n",
       "      <td>African American</td>\n",
       "      <td>Non-Hispanic</td>\n",
       "      <td>Female</td>\n",
       "      <td>90.0</td>\n",
       "      <td>128.0</td>\n",
       "      <td>69.0</td>\n",
       "      <td>98.0</td>\n",
       "      <td>...</td>\n",
       "      <td>27.0</td>\n",
       "      <td>25.0</td>\n",
       "      <td>1.0</td>\n",
       "      <td>96.0</td>\n",
       "      <td>12.0</td>\n",
       "      <td>18.0</td>\n",
       "      <td>122.0</td>\n",
       "      <td>7.4</td>\n",
       "      <td>3.5</td>\n",
       "      <td>0.2</td>\n",
       "    </tr>\n",
       "  </tbody>\n",
       "</table>\n",
       "<p>5 rows × 36 columns</p>\n",
       "</div>"
      ],
      "text/plain": [
       "   Admitted    COVIDResult  Age           FirstRace     Ethnicity     Sex  \\\n",
       "0         1  None Detected   78  White or Caucasian  Non-Hispanic  Female   \n",
       "1         0  None Detected   23  White or Caucasian  Non-Hispanic  Female   \n",
       "2         0  None Detected   55    African American  Non-Hispanic    Male   \n",
       "3         1  None Detected   50  White or Caucasian  Non-Hispanic    Male   \n",
       "4         0  None Detected   67    African American  Non-Hispanic  Female   \n",
       "\n",
       "   heart_rate    sbp   dbp  pulse_ox  ...  cmp_bicarbonate  cmp_bun  \\\n",
       "0        94.0  138.0  82.0      96.0  ...             26.0     31.0   \n",
       "1       121.0  134.0  88.0      98.0  ...             19.0     11.0   \n",
       "2        83.0  152.0  76.0      98.0  ...             23.0      9.0   \n",
       "3        88.0  138.0  65.0      87.0  ...             30.0     45.0   \n",
       "4        90.0  128.0  69.0      98.0  ...             27.0     25.0   \n",
       "\n",
       "   cmp_creatinine  cmp_glucose  cmp_alt  cmp_ast  cmp_alkaline_phosphatase  \\\n",
       "0             2.5         82.0     14.0     26.0                      80.0   \n",
       "1             0.9         83.0     73.0      NaN                     100.0   \n",
       "2             1.2        123.0     26.0     29.0                     106.0   \n",
       "3             1.6        297.0     22.0      NaN                      78.0   \n",
       "4             1.0         96.0     12.0     18.0                     122.0   \n",
       "\n",
       "   cmp_total_protein  cmp_albumin  cmp_bilirubin  \n",
       "0                8.5          4.3            0.5  \n",
       "1                8.1          4.6            0.6  \n",
       "2                7.1          4.0            0.7  \n",
       "3                7.8          3.7            0.5  \n",
       "4                7.4          3.5            0.2  \n",
       "\n",
       "[5 rows x 36 columns]"
      ]
     },
     "execution_count": 204,
     "metadata": {},
     "output_type": "execute_result"
    }
   ],
   "source": [
    "cat_cols = [\n",
    "    'cmp_bicarbonate', 'cmp_bun', 'cmp_creatinine', 'cmp_alt', 'cmp_bilirubin'\n",
    "]\n",
    "less_than_list = [\n",
    "    '<5', '<2', '<0.2', '<6', '<0.1'\n",
    "]\n",
    "\n",
    "\n",
    "def replace_cat(val, less, num):\n",
    "    if val == less:\n",
    "        return random.uniform(0, num) if \".\" in less else random.randint(0, num)\n",
    "    else:\n",
    "        return float(val)\n",
    "\n",
    "    \n",
    "trim_df2 = trim_df.copy()\n",
    "for col, less_than in zip(cat_cols, less_than_list):\n",
    "    upper_range = float(less_than[1:])\n",
    "    trim_df2[col] = trim_df2[col].apply(lambda x: replace_cat(x, less_than, upper_range))\n",
    "\n",
    "trim_df2.head(5)"
   ]
  },
  {
   "cell_type": "code",
   "execution_count": 205,
   "metadata": {
    "scrolled": true
   },
   "outputs": [
    {
     "name": "stdout",
     "output_type": "stream",
     "text": [
      "<class 'pandas.core.frame.DataFrame'>\n",
      "RangeIndex: 7380 entries, 0 to 7379\n",
      "Data columns (total 36 columns):\n",
      " #   Column                    Non-Null Count  Dtype  \n",
      "---  ------                    --------------  -----  \n",
      " 0   Admitted                  7380 non-null   int64  \n",
      " 1   COVIDResult               7380 non-null   object \n",
      " 2   Age                       7380 non-null   int64  \n",
      " 3   FirstRace                 7379 non-null   object \n",
      " 4   Ethnicity                 7380 non-null   object \n",
      " 5   Sex                       7380 non-null   object \n",
      " 6   heart_rate                7352 non-null   float64\n",
      " 7   sbp                       7292 non-null   float64\n",
      " 8   dbp                       7292 non-null   float64\n",
      " 9   pulse_ox                  7346 non-null   float64\n",
      " 10  resp_rate                 7312 non-null   float64\n",
      " 11  cbc_wbc                   6256 non-null   float64\n",
      " 12  cbc_hematocrit            6256 non-null   float64\n",
      " 13  cbc_hemoglobin            6257 non-null   float64\n",
      " 14  cbc_platelets             6256 non-null   float64\n",
      " 15  cbc_neutrophil_c          3873 non-null   float64\n",
      " 16  cbc_eosinophil_perc       3872 non-null   float64\n",
      " 17  cbc_lymphocyte_c          3874 non-null   float64\n",
      " 18  cbc_lymphocyte_perc       3874 non-null   float64\n",
      " 19  cbc_eosinophil_c          3872 non-null   float64\n",
      " 20  cbc_eosinophil_perc.1     3872 non-null   float64\n",
      " 21  cbc_monocyte_c            3874 non-null   float64\n",
      " 22  cbc_eosinophil_perc.2     3872 non-null   float64\n",
      " 23  cmp_sodium                6286 non-null   float64\n",
      " 24  cmp_potassium             5570 non-null   float64\n",
      " 25  cmp_chloride              6286 non-null   float64\n",
      " 26  cmp_bicarbonate           6276 non-null   float64\n",
      " 27  cmp_bun                   6286 non-null   float64\n",
      " 28  cmp_creatinine            6286 non-null   float64\n",
      " 29  cmp_glucose               6286 non-null   float64\n",
      " 30  cmp_alt                   5401 non-null   float64\n",
      " 31  cmp_ast                   4767 non-null   float64\n",
      " 32  cmp_alkaline_phosphatase  5399 non-null   float64\n",
      " 33  cmp_total_protein         5175 non-null   float64\n",
      " 34  cmp_albumin               5402 non-null   float64\n",
      " 35  cmp_bilirubin             5401 non-null   float64\n",
      "dtypes: float64(30), int64(2), object(4)\n",
      "memory usage: 2.0+ MB\n"
     ]
    }
   ],
   "source": [
    "trim_df2.info()"
   ]
  },
  {
   "cell_type": "markdown",
   "metadata": {},
   "source": [
    "###### 2.2.2 Encoding"
   ]
  },
  {
   "cell_type": "code",
   "execution_count": 206,
   "metadata": {},
   "outputs": [
    {
     "data": {
      "text/html": [
       "<div>\n",
       "<style scoped>\n",
       "    .dataframe tbody tr th:only-of-type {\n",
       "        vertical-align: middle;\n",
       "    }\n",
       "\n",
       "    .dataframe tbody tr th {\n",
       "        vertical-align: top;\n",
       "    }\n",
       "\n",
       "    .dataframe thead th {\n",
       "        text-align: right;\n",
       "    }\n",
       "</style>\n",
       "<table border=\"1\" class=\"dataframe\">\n",
       "  <thead>\n",
       "    <tr style=\"text-align: right;\">\n",
       "      <th></th>\n",
       "      <th>Admitted</th>\n",
       "      <th>COVIDResult</th>\n",
       "      <th>Age</th>\n",
       "      <th>FirstRace</th>\n",
       "      <th>Ethnicity</th>\n",
       "      <th>Sex</th>\n",
       "      <th>heart_rate</th>\n",
       "      <th>sbp</th>\n",
       "      <th>dbp</th>\n",
       "      <th>pulse_ox</th>\n",
       "      <th>...</th>\n",
       "      <th>cmp_alt</th>\n",
       "      <th>cmp_ast</th>\n",
       "      <th>cmp_alkaline_phosphatase</th>\n",
       "      <th>cmp_total_protein</th>\n",
       "      <th>cmp_albumin</th>\n",
       "      <th>cmp_bilirubin</th>\n",
       "      <th>COVIDResult_Encoded</th>\n",
       "      <th>FirstRace_Encoded</th>\n",
       "      <th>Ethnicity_Encoded</th>\n",
       "      <th>Sex_Encoded</th>\n",
       "    </tr>\n",
       "  </thead>\n",
       "  <tbody>\n",
       "    <tr>\n",
       "      <th>0</th>\n",
       "      <td>1</td>\n",
       "      <td>None Detected</td>\n",
       "      <td>78</td>\n",
       "      <td>White or Caucasian</td>\n",
       "      <td>Non-Hispanic</td>\n",
       "      <td>Female</td>\n",
       "      <td>94.0</td>\n",
       "      <td>138.0</td>\n",
       "      <td>82.0</td>\n",
       "      <td>96.0</td>\n",
       "      <td>...</td>\n",
       "      <td>14.0</td>\n",
       "      <td>26.0</td>\n",
       "      <td>80.0</td>\n",
       "      <td>8.5</td>\n",
       "      <td>4.3</td>\n",
       "      <td>0.5</td>\n",
       "      <td>1.0</td>\n",
       "      <td>9.0</td>\n",
       "      <td>2.0</td>\n",
       "      <td>0.0</td>\n",
       "    </tr>\n",
       "    <tr>\n",
       "      <th>1</th>\n",
       "      <td>0</td>\n",
       "      <td>None Detected</td>\n",
       "      <td>23</td>\n",
       "      <td>White or Caucasian</td>\n",
       "      <td>Non-Hispanic</td>\n",
       "      <td>Female</td>\n",
       "      <td>121.0</td>\n",
       "      <td>134.0</td>\n",
       "      <td>88.0</td>\n",
       "      <td>98.0</td>\n",
       "      <td>...</td>\n",
       "      <td>73.0</td>\n",
       "      <td>NaN</td>\n",
       "      <td>100.0</td>\n",
       "      <td>8.1</td>\n",
       "      <td>4.6</td>\n",
       "      <td>0.6</td>\n",
       "      <td>1.0</td>\n",
       "      <td>9.0</td>\n",
       "      <td>2.0</td>\n",
       "      <td>0.0</td>\n",
       "    </tr>\n",
       "    <tr>\n",
       "      <th>2</th>\n",
       "      <td>0</td>\n",
       "      <td>None Detected</td>\n",
       "      <td>55</td>\n",
       "      <td>African American</td>\n",
       "      <td>Non-Hispanic</td>\n",
       "      <td>Male</td>\n",
       "      <td>83.0</td>\n",
       "      <td>152.0</td>\n",
       "      <td>76.0</td>\n",
       "      <td>98.0</td>\n",
       "      <td>...</td>\n",
       "      <td>26.0</td>\n",
       "      <td>29.0</td>\n",
       "      <td>106.0</td>\n",
       "      <td>7.1</td>\n",
       "      <td>4.0</td>\n",
       "      <td>0.7</td>\n",
       "      <td>1.0</td>\n",
       "      <td>0.0</td>\n",
       "      <td>2.0</td>\n",
       "      <td>1.0</td>\n",
       "    </tr>\n",
       "    <tr>\n",
       "      <th>3</th>\n",
       "      <td>1</td>\n",
       "      <td>None Detected</td>\n",
       "      <td>50</td>\n",
       "      <td>White or Caucasian</td>\n",
       "      <td>Non-Hispanic</td>\n",
       "      <td>Male</td>\n",
       "      <td>88.0</td>\n",
       "      <td>138.0</td>\n",
       "      <td>65.0</td>\n",
       "      <td>87.0</td>\n",
       "      <td>...</td>\n",
       "      <td>22.0</td>\n",
       "      <td>NaN</td>\n",
       "      <td>78.0</td>\n",
       "      <td>7.8</td>\n",
       "      <td>3.7</td>\n",
       "      <td>0.5</td>\n",
       "      <td>1.0</td>\n",
       "      <td>9.0</td>\n",
       "      <td>2.0</td>\n",
       "      <td>1.0</td>\n",
       "    </tr>\n",
       "    <tr>\n",
       "      <th>4</th>\n",
       "      <td>0</td>\n",
       "      <td>None Detected</td>\n",
       "      <td>67</td>\n",
       "      <td>African American</td>\n",
       "      <td>Non-Hispanic</td>\n",
       "      <td>Female</td>\n",
       "      <td>90.0</td>\n",
       "      <td>128.0</td>\n",
       "      <td>69.0</td>\n",
       "      <td>98.0</td>\n",
       "      <td>...</td>\n",
       "      <td>12.0</td>\n",
       "      <td>18.0</td>\n",
       "      <td>122.0</td>\n",
       "      <td>7.4</td>\n",
       "      <td>3.5</td>\n",
       "      <td>0.2</td>\n",
       "      <td>1.0</td>\n",
       "      <td>0.0</td>\n",
       "      <td>2.0</td>\n",
       "      <td>0.0</td>\n",
       "    </tr>\n",
       "  </tbody>\n",
       "</table>\n",
       "<p>5 rows × 40 columns</p>\n",
       "</div>"
      ],
      "text/plain": [
       "   Admitted    COVIDResult  Age           FirstRace     Ethnicity     Sex  \\\n",
       "0         1  None Detected   78  White or Caucasian  Non-Hispanic  Female   \n",
       "1         0  None Detected   23  White or Caucasian  Non-Hispanic  Female   \n",
       "2         0  None Detected   55    African American  Non-Hispanic    Male   \n",
       "3         1  None Detected   50  White or Caucasian  Non-Hispanic    Male   \n",
       "4         0  None Detected   67    African American  Non-Hispanic  Female   \n",
       "\n",
       "   heart_rate    sbp   dbp  pulse_ox  ...  cmp_alt  cmp_ast  \\\n",
       "0        94.0  138.0  82.0      96.0  ...     14.0     26.0   \n",
       "1       121.0  134.0  88.0      98.0  ...     73.0      NaN   \n",
       "2        83.0  152.0  76.0      98.0  ...     26.0     29.0   \n",
       "3        88.0  138.0  65.0      87.0  ...     22.0      NaN   \n",
       "4        90.0  128.0  69.0      98.0  ...     12.0     18.0   \n",
       "\n",
       "   cmp_alkaline_phosphatase  cmp_total_protein  cmp_albumin  cmp_bilirubin  \\\n",
       "0                      80.0                8.5          4.3            0.5   \n",
       "1                     100.0                8.1          4.6            0.6   \n",
       "2                     106.0                7.1          4.0            0.7   \n",
       "3                      78.0                7.8          3.7            0.5   \n",
       "4                     122.0                7.4          3.5            0.2   \n",
       "\n",
       "   COVIDResult_Encoded  FirstRace_Encoded  Ethnicity_Encoded  Sex_Encoded  \n",
       "0                  1.0                9.0                2.0          0.0  \n",
       "1                  1.0                9.0                2.0          0.0  \n",
       "2                  1.0                0.0                2.0          1.0  \n",
       "3                  1.0                9.0                2.0          1.0  \n",
       "4                  1.0                0.0                2.0          0.0  \n",
       "\n",
       "[5 rows x 40 columns]"
      ]
     },
     "execution_count": 206,
     "metadata": {},
     "output_type": "execute_result"
    }
   ],
   "source": [
    "cat_cols = [\n",
    "    'COVIDResult', 'FirstRace', 'Ethnicity', 'Sex'\n",
    "]\n",
    "\n",
    "trim_df3 = trim_df2.copy()\n",
    "for col in cat_cols:\n",
    "    trim_df3[col] = trim_df3[col].fillna(\"Unspecified\")\n",
    "    enc = OrdinalEncoder()\n",
    "    trim_df3[col + \"_Encoded\"] = enc.fit_transform(trim_df3[[col]])\n",
    "trim_df3.head(5)"
   ]
  },
  {
   "cell_type": "markdown",
   "metadata": {},
   "source": [
    "###### 2.2.3 Categorical Codes"
   ]
  },
  {
   "cell_type": "code",
   "execution_count": 207,
   "metadata": {
    "scrolled": true
   },
   "outputs": [
    {
     "name": "stdout",
     "output_type": "stream",
     "text": [
      "COVIDResult\n",
      "('Detected', 0.0)\n",
      "('None Detected', 1.0)\n",
      "\n",
      "FirstRace\n",
      "('African American', 0.0)\n",
      "('American Indian and Alaska Native', 1.0)\n",
      "('Asian', 2.0)\n",
      "('Hispanic', 3.0)\n",
      "('Native Hawaiian and Other Pacific Islander', 4.0)\n",
      "('Other', 5.0)\n",
      "('Patient Refused', 6.0)\n",
      "('Patient Unavailable', 7.0)\n",
      "('Unspecified', 8.0)\n",
      "('White or Caucasian', 9.0)\n",
      "\n",
      "Ethnicity\n",
      "('*Unspecified', 0.0)\n",
      "('Hispanic', 1.0)\n",
      "('Non-Hispanic', 2.0)\n",
      "('Patient Refused', 3.0)\n",
      "('Patient Unavailable', 4.0)\n",
      "\n",
      "Sex\n",
      "('Female', 0.0)\n",
      "('Male', 1.0)\n",
      "('Unknown', 2.0)\n",
      "\n"
     ]
    }
   ],
   "source": [
    "for col in cat_cols:\n",
    "    print(col)\n",
    "    for each in trim_df3.groupby([col, col + '_Encoded']).indices:\n",
    "        print(each)\n",
    "    print()"
   ]
  },
  {
   "cell_type": "code",
   "execution_count": 208,
   "metadata": {
    "scrolled": true
   },
   "outputs": [
    {
     "data": {
      "text/html": [
       "<div>\n",
       "<style scoped>\n",
       "    .dataframe tbody tr th:only-of-type {\n",
       "        vertical-align: middle;\n",
       "    }\n",
       "\n",
       "    .dataframe tbody tr th {\n",
       "        vertical-align: top;\n",
       "    }\n",
       "\n",
       "    .dataframe thead th {\n",
       "        text-align: right;\n",
       "    }\n",
       "</style>\n",
       "<table border=\"1\" class=\"dataframe\">\n",
       "  <thead>\n",
       "    <tr style=\"text-align: right;\">\n",
       "      <th></th>\n",
       "      <th>Admitted</th>\n",
       "      <th>Age</th>\n",
       "      <th>heart_rate</th>\n",
       "      <th>sbp</th>\n",
       "      <th>dbp</th>\n",
       "      <th>pulse_ox</th>\n",
       "      <th>resp_rate</th>\n",
       "      <th>cbc_wbc</th>\n",
       "      <th>cbc_hematocrit</th>\n",
       "      <th>cbc_hemoglobin</th>\n",
       "      <th>...</th>\n",
       "      <th>cmp_alt</th>\n",
       "      <th>cmp_ast</th>\n",
       "      <th>cmp_alkaline_phosphatase</th>\n",
       "      <th>cmp_total_protein</th>\n",
       "      <th>cmp_albumin</th>\n",
       "      <th>cmp_bilirubin</th>\n",
       "      <th>COVIDResult_Encoded</th>\n",
       "      <th>FirstRace_Encoded</th>\n",
       "      <th>Ethnicity_Encoded</th>\n",
       "      <th>Sex_Encoded</th>\n",
       "    </tr>\n",
       "  </thead>\n",
       "  <tbody>\n",
       "    <tr>\n",
       "      <th>0</th>\n",
       "      <td>1</td>\n",
       "      <td>78</td>\n",
       "      <td>94.0</td>\n",
       "      <td>138.0</td>\n",
       "      <td>82.0</td>\n",
       "      <td>96.0</td>\n",
       "      <td>29.0</td>\n",
       "      <td>14.01</td>\n",
       "      <td>34.1</td>\n",
       "      <td>11.0</td>\n",
       "      <td>...</td>\n",
       "      <td>14.0</td>\n",
       "      <td>26.0</td>\n",
       "      <td>80.0</td>\n",
       "      <td>8.5</td>\n",
       "      <td>4.3</td>\n",
       "      <td>0.5</td>\n",
       "      <td>1.0</td>\n",
       "      <td>9.0</td>\n",
       "      <td>2.0</td>\n",
       "      <td>0.0</td>\n",
       "    </tr>\n",
       "    <tr>\n",
       "      <th>1</th>\n",
       "      <td>0</td>\n",
       "      <td>23</td>\n",
       "      <td>121.0</td>\n",
       "      <td>134.0</td>\n",
       "      <td>88.0</td>\n",
       "      <td>98.0</td>\n",
       "      <td>18.0</td>\n",
       "      <td>5.04</td>\n",
       "      <td>36.2</td>\n",
       "      <td>11.9</td>\n",
       "      <td>...</td>\n",
       "      <td>73.0</td>\n",
       "      <td>NaN</td>\n",
       "      <td>100.0</td>\n",
       "      <td>8.1</td>\n",
       "      <td>4.6</td>\n",
       "      <td>0.6</td>\n",
       "      <td>1.0</td>\n",
       "      <td>9.0</td>\n",
       "      <td>2.0</td>\n",
       "      <td>0.0</td>\n",
       "    </tr>\n",
       "    <tr>\n",
       "      <th>2</th>\n",
       "      <td>0</td>\n",
       "      <td>55</td>\n",
       "      <td>83.0</td>\n",
       "      <td>152.0</td>\n",
       "      <td>76.0</td>\n",
       "      <td>98.0</td>\n",
       "      <td>21.0</td>\n",
       "      <td>7.13</td>\n",
       "      <td>36.0</td>\n",
       "      <td>12.0</td>\n",
       "      <td>...</td>\n",
       "      <td>26.0</td>\n",
       "      <td>29.0</td>\n",
       "      <td>106.0</td>\n",
       "      <td>7.1</td>\n",
       "      <td>4.0</td>\n",
       "      <td>0.7</td>\n",
       "      <td>1.0</td>\n",
       "      <td>0.0</td>\n",
       "      <td>2.0</td>\n",
       "      <td>1.0</td>\n",
       "    </tr>\n",
       "    <tr>\n",
       "      <th>3</th>\n",
       "      <td>1</td>\n",
       "      <td>50</td>\n",
       "      <td>88.0</td>\n",
       "      <td>138.0</td>\n",
       "      <td>65.0</td>\n",
       "      <td>87.0</td>\n",
       "      <td>18.0</td>\n",
       "      <td>5.74</td>\n",
       "      <td>32.9</td>\n",
       "      <td>11.6</td>\n",
       "      <td>...</td>\n",
       "      <td>22.0</td>\n",
       "      <td>NaN</td>\n",
       "      <td>78.0</td>\n",
       "      <td>7.8</td>\n",
       "      <td>3.7</td>\n",
       "      <td>0.5</td>\n",
       "      <td>1.0</td>\n",
       "      <td>9.0</td>\n",
       "      <td>2.0</td>\n",
       "      <td>1.0</td>\n",
       "    </tr>\n",
       "    <tr>\n",
       "      <th>4</th>\n",
       "      <td>0</td>\n",
       "      <td>67</td>\n",
       "      <td>90.0</td>\n",
       "      <td>128.0</td>\n",
       "      <td>69.0</td>\n",
       "      <td>98.0</td>\n",
       "      <td>18.0</td>\n",
       "      <td>10.56</td>\n",
       "      <td>31.7</td>\n",
       "      <td>9.8</td>\n",
       "      <td>...</td>\n",
       "      <td>12.0</td>\n",
       "      <td>18.0</td>\n",
       "      <td>122.0</td>\n",
       "      <td>7.4</td>\n",
       "      <td>3.5</td>\n",
       "      <td>0.2</td>\n",
       "      <td>1.0</td>\n",
       "      <td>0.0</td>\n",
       "      <td>2.0</td>\n",
       "      <td>0.0</td>\n",
       "    </tr>\n",
       "  </tbody>\n",
       "</table>\n",
       "<p>5 rows × 36 columns</p>\n",
       "</div>"
      ],
      "text/plain": [
       "   Admitted  Age  heart_rate    sbp   dbp  pulse_ox  resp_rate  cbc_wbc  \\\n",
       "0         1   78        94.0  138.0  82.0      96.0       29.0    14.01   \n",
       "1         0   23       121.0  134.0  88.0      98.0       18.0     5.04   \n",
       "2         0   55        83.0  152.0  76.0      98.0       21.0     7.13   \n",
       "3         1   50        88.0  138.0  65.0      87.0       18.0     5.74   \n",
       "4         0   67        90.0  128.0  69.0      98.0       18.0    10.56   \n",
       "\n",
       "   cbc_hematocrit  cbc_hemoglobin  ...  cmp_alt  cmp_ast  \\\n",
       "0            34.1            11.0  ...     14.0     26.0   \n",
       "1            36.2            11.9  ...     73.0      NaN   \n",
       "2            36.0            12.0  ...     26.0     29.0   \n",
       "3            32.9            11.6  ...     22.0      NaN   \n",
       "4            31.7             9.8  ...     12.0     18.0   \n",
       "\n",
       "   cmp_alkaline_phosphatase  cmp_total_protein  cmp_albumin  cmp_bilirubin  \\\n",
       "0                      80.0                8.5          4.3            0.5   \n",
       "1                     100.0                8.1          4.6            0.6   \n",
       "2                     106.0                7.1          4.0            0.7   \n",
       "3                      78.0                7.8          3.7            0.5   \n",
       "4                     122.0                7.4          3.5            0.2   \n",
       "\n",
       "   COVIDResult_Encoded  FirstRace_Encoded  Ethnicity_Encoded  Sex_Encoded  \n",
       "0                  1.0                9.0                2.0          0.0  \n",
       "1                  1.0                9.0                2.0          0.0  \n",
       "2                  1.0                0.0                2.0          1.0  \n",
       "3                  1.0                9.0                2.0          1.0  \n",
       "4                  1.0                0.0                2.0          0.0  \n",
       "\n",
       "[5 rows x 36 columns]"
      ]
     },
     "execution_count": 208,
     "metadata": {},
     "output_type": "execute_result"
    }
   ],
   "source": [
    "trim_df3 = trim_df3.drop(columns=['COVIDResult', 'FirstRace', 'Ethnicity', 'Sex'])\n",
    "trim_df3.head(5)"
   ]
  },
  {
   "cell_type": "code",
   "execution_count": 209,
   "metadata": {},
   "outputs": [
    {
     "data": {
      "text/plain": [
       "(7380, 36)"
      ]
     },
     "execution_count": 209,
     "metadata": {},
     "output_type": "execute_result"
    }
   ],
   "source": [
    "trim_df3.shape"
   ]
  },
  {
   "cell_type": "code",
   "execution_count": 210,
   "metadata": {
    "scrolled": true
   },
   "outputs": [
    {
     "name": "stdout",
     "output_type": "stream",
     "text": [
      "<class 'pandas.core.frame.DataFrame'>\n",
      "RangeIndex: 7380 entries, 0 to 7379\n",
      "Data columns (total 36 columns):\n",
      " #   Column                    Non-Null Count  Dtype  \n",
      "---  ------                    --------------  -----  \n",
      " 0   Admitted                  7380 non-null   int64  \n",
      " 1   Age                       7380 non-null   int64  \n",
      " 2   heart_rate                7352 non-null   float64\n",
      " 3   sbp                       7292 non-null   float64\n",
      " 4   dbp                       7292 non-null   float64\n",
      " 5   pulse_ox                  7346 non-null   float64\n",
      " 6   resp_rate                 7312 non-null   float64\n",
      " 7   cbc_wbc                   6256 non-null   float64\n",
      " 8   cbc_hematocrit            6256 non-null   float64\n",
      " 9   cbc_hemoglobin            6257 non-null   float64\n",
      " 10  cbc_platelets             6256 non-null   float64\n",
      " 11  cbc_neutrophil_c          3873 non-null   float64\n",
      " 12  cbc_eosinophil_perc       3872 non-null   float64\n",
      " 13  cbc_lymphocyte_c          3874 non-null   float64\n",
      " 14  cbc_lymphocyte_perc       3874 non-null   float64\n",
      " 15  cbc_eosinophil_c          3872 non-null   float64\n",
      " 16  cbc_eosinophil_perc.1     3872 non-null   float64\n",
      " 17  cbc_monocyte_c            3874 non-null   float64\n",
      " 18  cbc_eosinophil_perc.2     3872 non-null   float64\n",
      " 19  cmp_sodium                6286 non-null   float64\n",
      " 20  cmp_potassium             5570 non-null   float64\n",
      " 21  cmp_chloride              6286 non-null   float64\n",
      " 22  cmp_bicarbonate           6276 non-null   float64\n",
      " 23  cmp_bun                   6286 non-null   float64\n",
      " 24  cmp_creatinine            6286 non-null   float64\n",
      " 25  cmp_glucose               6286 non-null   float64\n",
      " 26  cmp_alt                   5401 non-null   float64\n",
      " 27  cmp_ast                   4767 non-null   float64\n",
      " 28  cmp_alkaline_phosphatase  5399 non-null   float64\n",
      " 29  cmp_total_protein         5175 non-null   float64\n",
      " 30  cmp_albumin               5402 non-null   float64\n",
      " 31  cmp_bilirubin             5401 non-null   float64\n",
      " 32  COVIDResult_Encoded       7380 non-null   float64\n",
      " 33  FirstRace_Encoded         7380 non-null   float64\n",
      " 34  Ethnicity_Encoded         7380 non-null   float64\n",
      " 35  Sex_Encoded               7380 non-null   float64\n",
      "dtypes: float64(34), int64(2)\n",
      "memory usage: 2.0 MB\n"
     ]
    }
   ],
   "source": [
    "trim_df3.info()"
   ]
  },
  {
   "cell_type": "markdown",
   "metadata": {},
   "source": [
    "#### 2.3 Handle Missing Values"
   ]
  },
  {
   "cell_type": "code",
   "execution_count": 211,
   "metadata": {
    "scrolled": true
   },
   "outputs": [
    {
     "data": {
      "text/html": [
       "<div>\n",
       "<style scoped>\n",
       "    .dataframe tbody tr th:only-of-type {\n",
       "        vertical-align: middle;\n",
       "    }\n",
       "\n",
       "    .dataframe tbody tr th {\n",
       "        vertical-align: top;\n",
       "    }\n",
       "\n",
       "    .dataframe thead th {\n",
       "        text-align: right;\n",
       "    }\n",
       "</style>\n",
       "<table border=\"1\" class=\"dataframe\">\n",
       "  <thead>\n",
       "    <tr style=\"text-align: right;\">\n",
       "      <th></th>\n",
       "      <th>Admitted</th>\n",
       "      <th>Age</th>\n",
       "      <th>heart_rate</th>\n",
       "      <th>sbp</th>\n",
       "      <th>dbp</th>\n",
       "      <th>pulse_ox</th>\n",
       "      <th>resp_rate</th>\n",
       "      <th>cbc_wbc</th>\n",
       "      <th>cbc_hematocrit</th>\n",
       "      <th>cbc_hemoglobin</th>\n",
       "      <th>...</th>\n",
       "      <th>cmp_alt</th>\n",
       "      <th>cmp_ast</th>\n",
       "      <th>cmp_alkaline_phosphatase</th>\n",
       "      <th>cmp_total_protein</th>\n",
       "      <th>cmp_albumin</th>\n",
       "      <th>cmp_bilirubin</th>\n",
       "      <th>COVIDResult_Encoded</th>\n",
       "      <th>FirstRace_Encoded</th>\n",
       "      <th>Ethnicity_Encoded</th>\n",
       "      <th>Sex_Encoded</th>\n",
       "    </tr>\n",
       "  </thead>\n",
       "  <tbody>\n",
       "    <tr>\n",
       "      <th>0</th>\n",
       "      <td>1</td>\n",
       "      <td>78</td>\n",
       "      <td>94.0</td>\n",
       "      <td>138.0</td>\n",
       "      <td>82.0</td>\n",
       "      <td>96.0</td>\n",
       "      <td>29.0</td>\n",
       "      <td>14.01</td>\n",
       "      <td>34.1</td>\n",
       "      <td>11.0</td>\n",
       "      <td>...</td>\n",
       "      <td>14.0</td>\n",
       "      <td>26.000000</td>\n",
       "      <td>80.0</td>\n",
       "      <td>8.5</td>\n",
       "      <td>4.3</td>\n",
       "      <td>0.5</td>\n",
       "      <td>1.0</td>\n",
       "      <td>9.0</td>\n",
       "      <td>2.0</td>\n",
       "      <td>0.0</td>\n",
       "    </tr>\n",
       "    <tr>\n",
       "      <th>1</th>\n",
       "      <td>0</td>\n",
       "      <td>23</td>\n",
       "      <td>121.0</td>\n",
       "      <td>134.0</td>\n",
       "      <td>88.0</td>\n",
       "      <td>98.0</td>\n",
       "      <td>18.0</td>\n",
       "      <td>5.04</td>\n",
       "      <td>36.2</td>\n",
       "      <td>11.9</td>\n",
       "      <td>...</td>\n",
       "      <td>73.0</td>\n",
       "      <td>55.627858</td>\n",
       "      <td>100.0</td>\n",
       "      <td>8.1</td>\n",
       "      <td>4.6</td>\n",
       "      <td>0.6</td>\n",
       "      <td>1.0</td>\n",
       "      <td>9.0</td>\n",
       "      <td>2.0</td>\n",
       "      <td>0.0</td>\n",
       "    </tr>\n",
       "    <tr>\n",
       "      <th>2</th>\n",
       "      <td>0</td>\n",
       "      <td>55</td>\n",
       "      <td>83.0</td>\n",
       "      <td>152.0</td>\n",
       "      <td>76.0</td>\n",
       "      <td>98.0</td>\n",
       "      <td>21.0</td>\n",
       "      <td>7.13</td>\n",
       "      <td>36.0</td>\n",
       "      <td>12.0</td>\n",
       "      <td>...</td>\n",
       "      <td>26.0</td>\n",
       "      <td>29.000000</td>\n",
       "      <td>106.0</td>\n",
       "      <td>7.1</td>\n",
       "      <td>4.0</td>\n",
       "      <td>0.7</td>\n",
       "      <td>1.0</td>\n",
       "      <td>0.0</td>\n",
       "      <td>2.0</td>\n",
       "      <td>1.0</td>\n",
       "    </tr>\n",
       "    <tr>\n",
       "      <th>3</th>\n",
       "      <td>1</td>\n",
       "      <td>50</td>\n",
       "      <td>88.0</td>\n",
       "      <td>138.0</td>\n",
       "      <td>65.0</td>\n",
       "      <td>87.0</td>\n",
       "      <td>18.0</td>\n",
       "      <td>5.74</td>\n",
       "      <td>32.9</td>\n",
       "      <td>11.6</td>\n",
       "      <td>...</td>\n",
       "      <td>22.0</td>\n",
       "      <td>55.627858</td>\n",
       "      <td>78.0</td>\n",
       "      <td>7.8</td>\n",
       "      <td>3.7</td>\n",
       "      <td>0.5</td>\n",
       "      <td>1.0</td>\n",
       "      <td>9.0</td>\n",
       "      <td>2.0</td>\n",
       "      <td>1.0</td>\n",
       "    </tr>\n",
       "    <tr>\n",
       "      <th>4</th>\n",
       "      <td>0</td>\n",
       "      <td>67</td>\n",
       "      <td>90.0</td>\n",
       "      <td>128.0</td>\n",
       "      <td>69.0</td>\n",
       "      <td>98.0</td>\n",
       "      <td>18.0</td>\n",
       "      <td>10.56</td>\n",
       "      <td>31.7</td>\n",
       "      <td>9.8</td>\n",
       "      <td>...</td>\n",
       "      <td>12.0</td>\n",
       "      <td>18.000000</td>\n",
       "      <td>122.0</td>\n",
       "      <td>7.4</td>\n",
       "      <td>3.5</td>\n",
       "      <td>0.2</td>\n",
       "      <td>1.0</td>\n",
       "      <td>0.0</td>\n",
       "      <td>2.0</td>\n",
       "      <td>0.0</td>\n",
       "    </tr>\n",
       "  </tbody>\n",
       "</table>\n",
       "<p>5 rows × 36 columns</p>\n",
       "</div>"
      ],
      "text/plain": [
       "   Admitted  Age  heart_rate    sbp   dbp  pulse_ox  resp_rate  cbc_wbc  \\\n",
       "0         1   78        94.0  138.0  82.0      96.0       29.0    14.01   \n",
       "1         0   23       121.0  134.0  88.0      98.0       18.0     5.04   \n",
       "2         0   55        83.0  152.0  76.0      98.0       21.0     7.13   \n",
       "3         1   50        88.0  138.0  65.0      87.0       18.0     5.74   \n",
       "4         0   67        90.0  128.0  69.0      98.0       18.0    10.56   \n",
       "\n",
       "   cbc_hematocrit  cbc_hemoglobin  ...  cmp_alt    cmp_ast  \\\n",
       "0            34.1            11.0  ...     14.0  26.000000   \n",
       "1            36.2            11.9  ...     73.0  55.627858   \n",
       "2            36.0            12.0  ...     26.0  29.000000   \n",
       "3            32.9            11.6  ...     22.0  55.627858   \n",
       "4            31.7             9.8  ...     12.0  18.000000   \n",
       "\n",
       "   cmp_alkaline_phosphatase  cmp_total_protein  cmp_albumin  cmp_bilirubin  \\\n",
       "0                      80.0                8.5          4.3            0.5   \n",
       "1                     100.0                8.1          4.6            0.6   \n",
       "2                     106.0                7.1          4.0            0.7   \n",
       "3                      78.0                7.8          3.7            0.5   \n",
       "4                     122.0                7.4          3.5            0.2   \n",
       "\n",
       "   COVIDResult_Encoded  FirstRace_Encoded  Ethnicity_Encoded  Sex_Encoded  \n",
       "0                  1.0                9.0                2.0          0.0  \n",
       "1                  1.0                9.0                2.0          0.0  \n",
       "2                  1.0                0.0                2.0          1.0  \n",
       "3                  1.0                9.0                2.0          1.0  \n",
       "4                  1.0                0.0                2.0          0.0  \n",
       "\n",
       "[5 rows x 36 columns]"
      ]
     },
     "execution_count": 211,
     "metadata": {},
     "output_type": "execute_result"
    }
   ],
   "source": [
    "num_cols = [\n",
    "    'heart_rate', 'sbp', 'dbp', 'pulse_ox', 'resp_rate', 'cbc_wbc', 'cbc_hematocrit', 'cbc_hemoglobin',\n",
    "    'cbc_platelets', 'cbc_neutrophil_c', 'cbc_eosinophil_perc', 'cbc_lymphocyte_c',\n",
    "    'cbc_lymphocyte_perc', 'cbc_eosinophil_c', 'cbc_eosinophil_perc.1', 'cbc_monocyte_c',\n",
    "    'cbc_eosinophil_perc.2', 'cmp_sodium', 'cmp_potassium', 'cmp_chloride', 'cmp_bicarbonate',\n",
    "    'cmp_bun', 'cmp_creatinine', 'cmp_glucose', 'cmp_alt', 'cmp_ast', 'cmp_alkaline_phosphatase',\n",
    "    'cmp_total_protein', 'cmp_albumin', 'cmp_bilirubin'\n",
    "]\n",
    "\n",
    "trim_df4 = trim_df3.copy()\n",
    "for col in num_cols:\n",
    "    trim_df4[col] = trim_df4[col].replace(np.NaN, trim_df4[col].mean())\n",
    "    \n",
    "trim_df4.head(5)"
   ]
  },
  {
   "cell_type": "code",
   "execution_count": 212,
   "metadata": {},
   "outputs": [
    {
     "data": {
      "text/plain": [
       "0"
      ]
     },
     "execution_count": 212,
     "metadata": {},
     "output_type": "execute_result"
    }
   ],
   "source": [
    "trim_df4.isnull().sum().sum()"
   ]
  },
  {
   "cell_type": "markdown",
   "metadata": {},
   "source": [
    "#### 2.4 Feature Scaling"
   ]
  },
  {
   "cell_type": "code",
   "execution_count": 213,
   "metadata": {},
   "outputs": [],
   "source": [
    "code_cols = [\n",
    "    'Admitted', 'FirstRace_Encoded', 'Ethnicity_Encoded', 'Sex_Encoded', 'COVIDResult_Encoded'\n",
    "]\n",
    "\n",
    "codes_df = trim_df4[code_cols]\n",
    "trim_df5 = trim_df4.drop(columns=code_cols)\n",
    "\n",
    "scaler = StandardScaler()\n",
    "scaled = scaler.fit_transform(trim_df5)\n",
    "scaled_df = pd.DataFrame(data=scaled, columns=trim_df5.columns)"
   ]
  },
  {
   "cell_type": "code",
   "execution_count": 214,
   "metadata": {
    "scrolled": true
   },
   "outputs": [
    {
     "data": {
      "text/html": [
       "<div>\n",
       "<style scoped>\n",
       "    .dataframe tbody tr th:only-of-type {\n",
       "        vertical-align: middle;\n",
       "    }\n",
       "\n",
       "    .dataframe tbody tr th {\n",
       "        vertical-align: top;\n",
       "    }\n",
       "\n",
       "    .dataframe thead th {\n",
       "        text-align: right;\n",
       "    }\n",
       "</style>\n",
       "<table border=\"1\" class=\"dataframe\">\n",
       "  <thead>\n",
       "    <tr style=\"text-align: right;\">\n",
       "      <th></th>\n",
       "      <th>Age</th>\n",
       "      <th>heart_rate</th>\n",
       "      <th>sbp</th>\n",
       "      <th>dbp</th>\n",
       "      <th>pulse_ox</th>\n",
       "      <th>resp_rate</th>\n",
       "      <th>cbc_wbc</th>\n",
       "      <th>cbc_hematocrit</th>\n",
       "      <th>cbc_hemoglobin</th>\n",
       "      <th>cbc_platelets</th>\n",
       "      <th>...</th>\n",
       "      <th>cmp_ast</th>\n",
       "      <th>cmp_alkaline_phosphatase</th>\n",
       "      <th>cmp_total_protein</th>\n",
       "      <th>cmp_albumin</th>\n",
       "      <th>cmp_bilirubin</th>\n",
       "      <th>Admitted</th>\n",
       "      <th>FirstRace_Encoded</th>\n",
       "      <th>Ethnicity_Encoded</th>\n",
       "      <th>Sex_Encoded</th>\n",
       "      <th>COVIDResult_Encoded</th>\n",
       "    </tr>\n",
       "  </thead>\n",
       "  <tbody>\n",
       "    <tr>\n",
       "      <th>0</th>\n",
       "      <td>1.233730</td>\n",
       "      <td>-0.022731</td>\n",
       "      <td>0.073884</td>\n",
       "      <td>0.392190</td>\n",
       "      <td>-0.278428</td>\n",
       "      <td>1.184224</td>\n",
       "      <td>0.520132</td>\n",
       "      <td>-0.721388</td>\n",
       "      <td>-0.741784</td>\n",
       "      <td>0.616521</td>\n",
       "      <td>...</td>\n",
       "      <td>-0.239182</td>\n",
       "      <td>-0.443815</td>\n",
       "      <td>1.824984</td>\n",
       "      <td>0.917976</td>\n",
       "      <td>-0.234203</td>\n",
       "      <td>1</td>\n",
       "      <td>9.0</td>\n",
       "      <td>2.0</td>\n",
       "      <td>0.0</td>\n",
       "      <td>1.0</td>\n",
       "    </tr>\n",
       "    <tr>\n",
       "      <th>1</th>\n",
       "      <td>-1.104301</td>\n",
       "      <td>1.135743</td>\n",
       "      <td>-0.073763</td>\n",
       "      <td>0.786661</td>\n",
       "      <td>0.244608</td>\n",
       "      <td>-0.450035</td>\n",
       "      <td>-0.702405</td>\n",
       "      <td>-0.383468</td>\n",
       "      <td>-0.337826</td>\n",
       "      <td>0.722131</td>\n",
       "      <td>...</td>\n",
       "      <td>0.000000</td>\n",
       "      <td>-0.183931</td>\n",
       "      <td>1.258890</td>\n",
       "      <td>1.524718</td>\n",
       "      <td>-0.166283</td>\n",
       "      <td>0</td>\n",
       "      <td>9.0</td>\n",
       "      <td>2.0</td>\n",
       "      <td>0.0</td>\n",
       "      <td>1.0</td>\n",
       "    </tr>\n",
       "    <tr>\n",
       "      <th>2</th>\n",
       "      <td>0.256008</td>\n",
       "      <td>-0.494702</td>\n",
       "      <td>0.590651</td>\n",
       "      <td>-0.002281</td>\n",
       "      <td>0.244608</td>\n",
       "      <td>-0.004328</td>\n",
       "      <td>-0.417555</td>\n",
       "      <td>-0.415651</td>\n",
       "      <td>-0.292942</td>\n",
       "      <td>-0.091067</td>\n",
       "      <td>...</td>\n",
       "      <td>-0.214963</td>\n",
       "      <td>-0.105966</td>\n",
       "      <td>-0.156346</td>\n",
       "      <td>0.311233</td>\n",
       "      <td>-0.098363</td>\n",
       "      <td>0</td>\n",
       "      <td>0.0</td>\n",
       "      <td>2.0</td>\n",
       "      <td>1.0</td>\n",
       "      <td>1.0</td>\n",
       "    </tr>\n",
       "    <tr>\n",
       "      <th>3</th>\n",
       "      <td>0.043460</td>\n",
       "      <td>-0.280170</td>\n",
       "      <td>0.073884</td>\n",
       "      <td>-0.725478</td>\n",
       "      <td>-2.632085</td>\n",
       "      <td>-0.450035</td>\n",
       "      <td>-0.607001</td>\n",
       "      <td>-0.914485</td>\n",
       "      <td>-0.472478</td>\n",
       "      <td>-1.316144</td>\n",
       "      <td>...</td>\n",
       "      <td>0.000000</td>\n",
       "      <td>-0.469804</td>\n",
       "      <td>0.834319</td>\n",
       "      <td>-0.295509</td>\n",
       "      <td>-0.234203</td>\n",
       "      <td>1</td>\n",
       "      <td>9.0</td>\n",
       "      <td>2.0</td>\n",
       "      <td>1.0</td>\n",
       "      <td>1.0</td>\n",
       "    </tr>\n",
       "    <tr>\n",
       "      <th>4</th>\n",
       "      <td>0.766124</td>\n",
       "      <td>-0.194357</td>\n",
       "      <td>-0.295234</td>\n",
       "      <td>-0.462497</td>\n",
       "      <td>0.244608</td>\n",
       "      <td>-0.450035</td>\n",
       "      <td>0.049926</td>\n",
       "      <td>-1.107582</td>\n",
       "      <td>-1.280394</td>\n",
       "      <td>0.605960</td>\n",
       "      <td>...</td>\n",
       "      <td>-0.303765</td>\n",
       "      <td>0.101942</td>\n",
       "      <td>0.268225</td>\n",
       "      <td>-0.700004</td>\n",
       "      <td>-0.437964</td>\n",
       "      <td>0</td>\n",
       "      <td>0.0</td>\n",
       "      <td>2.0</td>\n",
       "      <td>0.0</td>\n",
       "      <td>1.0</td>\n",
       "    </tr>\n",
       "  </tbody>\n",
       "</table>\n",
       "<p>5 rows × 36 columns</p>\n",
       "</div>"
      ],
      "text/plain": [
       "        Age  heart_rate       sbp       dbp  pulse_ox  resp_rate   cbc_wbc  \\\n",
       "0  1.233730   -0.022731  0.073884  0.392190 -0.278428   1.184224  0.520132   \n",
       "1 -1.104301    1.135743 -0.073763  0.786661  0.244608  -0.450035 -0.702405   \n",
       "2  0.256008   -0.494702  0.590651 -0.002281  0.244608  -0.004328 -0.417555   \n",
       "3  0.043460   -0.280170  0.073884 -0.725478 -2.632085  -0.450035 -0.607001   \n",
       "4  0.766124   -0.194357 -0.295234 -0.462497  0.244608  -0.450035  0.049926   \n",
       "\n",
       "   cbc_hematocrit  cbc_hemoglobin  cbc_platelets  ...   cmp_ast  \\\n",
       "0       -0.721388       -0.741784       0.616521  ... -0.239182   \n",
       "1       -0.383468       -0.337826       0.722131  ...  0.000000   \n",
       "2       -0.415651       -0.292942      -0.091067  ... -0.214963   \n",
       "3       -0.914485       -0.472478      -1.316144  ...  0.000000   \n",
       "4       -1.107582       -1.280394       0.605960  ... -0.303765   \n",
       "\n",
       "   cmp_alkaline_phosphatase  cmp_total_protein  cmp_albumin  cmp_bilirubin  \\\n",
       "0                 -0.443815           1.824984     0.917976      -0.234203   \n",
       "1                 -0.183931           1.258890     1.524718      -0.166283   \n",
       "2                 -0.105966          -0.156346     0.311233      -0.098363   \n",
       "3                 -0.469804           0.834319    -0.295509      -0.234203   \n",
       "4                  0.101942           0.268225    -0.700004      -0.437964   \n",
       "\n",
       "   Admitted  FirstRace_Encoded  Ethnicity_Encoded  Sex_Encoded  \\\n",
       "0         1                9.0                2.0          0.0   \n",
       "1         0                9.0                2.0          0.0   \n",
       "2         0                0.0                2.0          1.0   \n",
       "3         1                9.0                2.0          1.0   \n",
       "4         0                0.0                2.0          0.0   \n",
       "\n",
       "   COVIDResult_Encoded  \n",
       "0                  1.0  \n",
       "1                  1.0  \n",
       "2                  1.0  \n",
       "3                  1.0  \n",
       "4                  1.0  \n",
       "\n",
       "[5 rows x 36 columns]"
      ]
     },
     "execution_count": 214,
     "metadata": {},
     "output_type": "execute_result"
    }
   ],
   "source": [
    "merged_df = pd.concat([scaled_df, codes_df], axis=1)\n",
    "merged_df.head(5)"
   ]
  },
  {
   "cell_type": "markdown",
   "metadata": {},
   "source": [
    "#### 2.5 Train / Test Split"
   ]
  },
  {
   "cell_type": "code",
   "execution_count": 215,
   "metadata": {},
   "outputs": [],
   "source": [
    "train, test = train_test_split(merged_df, test_size=0.2, random_state=seed)"
   ]
  },
  {
   "cell_type": "markdown",
   "metadata": {},
   "source": [
    "#### 2.6 Final Prepared Data"
   ]
  },
  {
   "cell_type": "code",
   "execution_count": 296,
   "metadata": {},
   "outputs": [],
   "source": [
    "final_data = merged_df.copy()\n",
    "final_train = train.copy()\n",
    "final_test = test.copy()\n",
    "target = 'COVIDResult_Encoded'"
   ]
  },
  {
   "cell_type": "code",
   "execution_count": 297,
   "metadata": {},
   "outputs": [
    {
     "data": {
      "text/plain": [
       "(7380, 36)"
      ]
     },
     "execution_count": 297,
     "metadata": {},
     "output_type": "execute_result"
    }
   ],
   "source": [
    "final_data.shape"
   ]
  },
  {
   "cell_type": "code",
   "execution_count": 298,
   "metadata": {},
   "outputs": [
    {
     "data": {
      "text/plain": [
       "(5904, 36)"
      ]
     },
     "execution_count": 298,
     "metadata": {},
     "output_type": "execute_result"
    }
   ],
   "source": [
    "final_train.shape"
   ]
  },
  {
   "cell_type": "code",
   "execution_count": 299,
   "metadata": {},
   "outputs": [
    {
     "data": {
      "text/plain": [
       "(1476, 36)"
      ]
     },
     "execution_count": 299,
     "metadata": {},
     "output_type": "execute_result"
    }
   ],
   "source": [
    "final_test.shape"
   ]
  },
  {
   "cell_type": "code",
   "execution_count": 300,
   "metadata": {},
   "outputs": [
    {
     "name": "stdout",
     "output_type": "stream",
     "text": [
      "1.0    5543\n",
      "0.0     361\n",
      "Name: COVIDResult_Encoded, dtype: int64\n",
      "1.0    1367\n",
      "0.0     109\n",
      "Name: COVIDResult_Encoded, dtype: int64\n"
     ]
    }
   ],
   "source": [
    "print(final_train[target].value_counts())\n",
    "print(final_test[target].value_counts())"
   ]
  },
  {
   "cell_type": "markdown",
   "metadata": {},
   "source": [
    "## 3. Feature Selection"
   ]
  },
  {
   "cell_type": "code",
   "execution_count": 301,
   "metadata": {},
   "outputs": [],
   "source": [
    "X = final_data.loc[:, final_data.columns != target]\n",
    "pos_X = trim_df4.loc[:, trim_df4.columns != target]\n",
    "X_norm = MinMaxScaler().fit_transform(pos_X)\n",
    "Y = final_data[target]"
   ]
  },
  {
   "cell_type": "markdown",
   "metadata": {},
   "source": [
    "###### Number of Features"
   ]
  },
  {
   "cell_type": "code",
   "execution_count": 302,
   "metadata": {},
   "outputs": [],
   "source": [
    "top_n_feats = 35"
   ]
  },
  {
   "cell_type": "code",
   "execution_count": 223,
   "metadata": {},
   "outputs": [],
   "source": [
    "def plot_scores(scores, selector):\n",
    "    plt.bar(range(len(scores)), scores, color='b')\n",
    "    plt.show()"
   ]
  },
  {
   "cell_type": "markdown",
   "metadata": {},
   "source": [
    "#### 3.1 Pearson Correlation"
   ]
  },
  {
   "cell_type": "code",
   "execution_count": 303,
   "metadata": {},
   "outputs": [
    {
     "data": {
      "image/png": "[encoded data removed]",
      "text/plain": [
       "<Figure size 432x288 with 1 Axes>"
      ]
     },
     "metadata": {
      "needs_background": "light"
     },
     "output_type": "display_data"
    },
    {
     "data": {
      "text/plain": [
       "array([ True,  True,  True,  True,  True,  True,  True,  True,  True,\n",
       "        True,  True,  True,  True,  True,  True,  True,  True,  True,\n",
       "        True,  True,  True,  True,  True,  True,  True,  True,  True,\n",
       "        True,  True,  True,  True,  True,  True,  True,  True])"
      ]
     },
     "execution_count": 303,
     "metadata": {},
     "output_type": "execute_result"
    }
   ],
   "source": [
    "def correlation_selector(x, y):\n",
    "    correl_dict = {\n",
    "        col: np.corrcoef(x[col], y)[0, 1] for col in x.columns.tolist()\n",
    "    }\n",
    "    correl_dict = {\n",
    "        col: 0 if np.isnan(cor) else np.abs(cor) for col, cor in correl_dict.items()\n",
    "    }\n",
    "    plot_scores(list(correl_dict.values()), 'correlation')\n",
    "    \n",
    "    correl_dict = dict(sorted(correl_dict.items(), key=lambda item: item[1], reverse=True)[:top_n_feats])\n",
    "    top_n = np.array([\n",
    "        True if col in list(correl_dict.keys()) else False for col in x.columns.tolist()\n",
    "    ])\n",
    "    return top_n\n",
    "\n",
    "\n",
    "corr_top_n = correlation_selector(X, Y)\n",
    "corr_top_n"
   ]
  },
  {
   "cell_type": "markdown",
   "metadata": {},
   "source": [
    "#### 3.2 Chi-Squared"
   ]
  },
  {
   "cell_type": "code",
   "execution_count": 304,
   "metadata": {},
   "outputs": [
    {
     "data": {
      "image/png": "[encoded data removed]",
      "text/plain": [
       "<Figure size 432x288 with 1 Axes>"
      ]
     },
     "metadata": {
      "needs_background": "light"
     },
     "output_type": "display_data"
    },
    {
     "data": {
      "text/plain": [
       "array([ True,  True,  True,  True,  True,  True,  True,  True,  True,\n",
       "        True,  True,  True,  True,  True,  True,  True,  True,  True,\n",
       "        True,  True,  True,  True,  True,  True,  True,  True,  True,\n",
       "        True,  True,  True,  True,  True,  True,  True,  True])"
      ]
     },
     "execution_count": 304,
     "metadata": {},
     "output_type": "execute_result"
    }
   ],
   "source": [
    "def chi_selector(y):\n",
    "    chi_sq = SelectKBest(chi2, k=top_n_feats)\n",
    "    chi_sq.fit(X_norm, y)\n",
    "    top_n = chi_sq.get_support()\n",
    "    plot_scores(chi_sq.scores_, 'chi-squared')\n",
    "    return top_n\n",
    "\n",
    "\n",
    "chi_top_n = chi_selector(Y)\n",
    "chi_top_n"
   ]
  },
  {
   "cell_type": "markdown",
   "metadata": {},
   "source": [
    "#### 3.3 Recursive Feature Elimination"
   ]
  },
  {
   "cell_type": "code",
   "execution_count": 305,
   "metadata": {},
   "outputs": [
    {
     "data": {
      "text/plain": [
       "array([ True,  True,  True,  True,  True,  True,  True,  True,  True,\n",
       "        True,  True,  True,  True,  True,  True,  True,  True,  True,\n",
       "        True,  True,  True,  True,  True,  True,  True,  True,  True,\n",
       "        True,  True,  True,  True,  True,  True,  True,  True])"
      ]
     },
     "execution_count": 305,
     "metadata": {},
     "output_type": "execute_result"
    }
   ],
   "source": [
    "def rfe_selector(y):\n",
    "    rfe = RFE(estimator=LogisticRegression(), n_features_to_select=top_n_feats, step=10, verbose=0)\n",
    "    rfe.fit(X_norm, y)\n",
    "    top_n = rfe.get_support()\n",
    "    return top_n\n",
    "\n",
    "\n",
    "rfe_top_n = rfe_selector(Y)\n",
    "rfe_top_n"
   ]
  },
  {
   "cell_type": "markdown",
   "metadata": {},
   "source": [
    "#### 3.4 Lasso: SelectFromModel"
   ]
  },
  {
   "cell_type": "code",
   "execution_count": 306,
   "metadata": {},
   "outputs": [
    {
     "data": {
      "text/plain": [
       "array([False, False, False, False, False,  True, False,  True, False,\n",
       "       False,  True,  True,  True,  True, False, False,  True,  True,\n",
       "        True, False, False, False, False, False, False, False, False,\n",
       "       False,  True, False,  True,  True, False,  True, False])"
      ]
     },
     "execution_count": 306,
     "metadata": {},
     "output_type": "execute_result"
    }
   ],
   "source": [
    "def lasso_selector(y):\n",
    "    lasso = SelectFromModel(LogisticRegression(penalty=\"l2\"), max_features=top_n_feats)\n",
    "    lasso.fit(X_norm, y)\n",
    "    top_n = lasso.get_support()\n",
    "    return top_n\n",
    "\n",
    "\n",
    "lasso_top_n = lasso_selector(Y)\n",
    "lasso_top_n"
   ]
  },
  {
   "cell_type": "markdown",
   "metadata": {},
   "source": [
    "#### 3.5 RandomForestClassifier: SelectFromModel"
   ]
  },
  {
   "cell_type": "code",
   "execution_count": 307,
   "metadata": {},
   "outputs": [
    {
     "data": {
      "text/plain": [
       "array([ True,  True,  True,  True,  True,  True,  True, False, False,\n",
       "        True, False, False, False, False, False, False, False, False,\n",
       "       False, False, False, False, False, False, False, False, False,\n",
       "       False, False, False, False, False,  True,  True, False])"
      ]
     },
     "execution_count": 307,
     "metadata": {},
     "output_type": "execute_result"
    }
   ],
   "source": [
    "def rfc_selector(x, y):\n",
    "    rfc = SelectFromModel(RandomForestClassifier(n_estimators=100), max_features=top_n_feats)\n",
    "    rfc.fit(x, y)\n",
    "    top_n = rfc.get_support()\n",
    "    return top_n\n",
    "\n",
    "\n",
    "rfc_top_n = rfc_selector(X, Y)\n",
    "rfc_top_n"
   ]
  },
  {
   "cell_type": "markdown",
   "metadata": {},
   "source": [
    "#### 3.6 Cumulative Feature Selection"
   ]
  },
  {
   "cell_type": "code",
   "execution_count": 308,
   "metadata": {
    "scrolled": true
   },
   "outputs": [
    {
     "data": {
      "text/html": [
       "<div>\n",
       "<style scoped>\n",
       "    .dataframe tbody tr th:only-of-type {\n",
       "        vertical-align: middle;\n",
       "    }\n",
       "\n",
       "    .dataframe tbody tr th {\n",
       "        vertical-align: top;\n",
       "    }\n",
       "\n",
       "    .dataframe thead th {\n",
       "        text-align: right;\n",
       "    }\n",
       "</style>\n",
       "<table border=\"1\" class=\"dataframe\">\n",
       "  <thead>\n",
       "    <tr style=\"text-align: right;\">\n",
       "      <th></th>\n",
       "      <th>feature</th>\n",
       "      <th>correlation</th>\n",
       "      <th>chi-sq</th>\n",
       "      <th>rfe</th>\n",
       "      <th>lasso</th>\n",
       "      <th>rfc</th>\n",
       "      <th>total</th>\n",
       "    </tr>\n",
       "  </thead>\n",
       "  <tbody>\n",
       "    <tr>\n",
       "      <th>1</th>\n",
       "      <td>resp_rate</td>\n",
       "      <td>True</td>\n",
       "      <td>True</td>\n",
       "      <td>True</td>\n",
       "      <td>True</td>\n",
       "      <td>True</td>\n",
       "      <td>5</td>\n",
       "    </tr>\n",
       "    <tr>\n",
       "      <th>2</th>\n",
       "      <td>Ethnicity_Encoded</td>\n",
       "      <td>True</td>\n",
       "      <td>True</td>\n",
       "      <td>True</td>\n",
       "      <td>True</td>\n",
       "      <td>True</td>\n",
       "      <td>5</td>\n",
       "    </tr>\n",
       "    <tr>\n",
       "      <th>3</th>\n",
       "      <td>sbp</td>\n",
       "      <td>True</td>\n",
       "      <td>True</td>\n",
       "      <td>True</td>\n",
       "      <td>False</td>\n",
       "      <td>True</td>\n",
       "      <td>4</td>\n",
       "    </tr>\n",
       "    <tr>\n",
       "      <th>4</th>\n",
       "      <td>pulse_ox</td>\n",
       "      <td>True</td>\n",
       "      <td>True</td>\n",
       "      <td>True</td>\n",
       "      <td>False</td>\n",
       "      <td>True</td>\n",
       "      <td>4</td>\n",
       "    </tr>\n",
       "    <tr>\n",
       "      <th>5</th>\n",
       "      <td>heart_rate</td>\n",
       "      <td>True</td>\n",
       "      <td>True</td>\n",
       "      <td>True</td>\n",
       "      <td>False</td>\n",
       "      <td>True</td>\n",
       "      <td>4</td>\n",
       "    </tr>\n",
       "    <tr>\n",
       "      <th>6</th>\n",
       "      <td>dbp</td>\n",
       "      <td>True</td>\n",
       "      <td>True</td>\n",
       "      <td>True</td>\n",
       "      <td>False</td>\n",
       "      <td>True</td>\n",
       "      <td>4</td>\n",
       "    </tr>\n",
       "    <tr>\n",
       "      <th>7</th>\n",
       "      <td>cmp_total_protein</td>\n",
       "      <td>True</td>\n",
       "      <td>True</td>\n",
       "      <td>True</td>\n",
       "      <td>True</td>\n",
       "      <td>False</td>\n",
       "      <td>4</td>\n",
       "    </tr>\n",
       "    <tr>\n",
       "      <th>8</th>\n",
       "      <td>cmp_sodium</td>\n",
       "      <td>True</td>\n",
       "      <td>True</td>\n",
       "      <td>True</td>\n",
       "      <td>True</td>\n",
       "      <td>False</td>\n",
       "      <td>4</td>\n",
       "    </tr>\n",
       "    <tr>\n",
       "      <th>9</th>\n",
       "      <td>cmp_bilirubin</td>\n",
       "      <td>True</td>\n",
       "      <td>True</td>\n",
       "      <td>True</td>\n",
       "      <td>True</td>\n",
       "      <td>False</td>\n",
       "      <td>4</td>\n",
       "    </tr>\n",
       "    <tr>\n",
       "      <th>10</th>\n",
       "      <td>cbc_wbc</td>\n",
       "      <td>True</td>\n",
       "      <td>True</td>\n",
       "      <td>True</td>\n",
       "      <td>False</td>\n",
       "      <td>True</td>\n",
       "      <td>4</td>\n",
       "    </tr>\n",
       "    <tr>\n",
       "      <th>11</th>\n",
       "      <td>cbc_platelets</td>\n",
       "      <td>True</td>\n",
       "      <td>True</td>\n",
       "      <td>True</td>\n",
       "      <td>False</td>\n",
       "      <td>True</td>\n",
       "      <td>4</td>\n",
       "    </tr>\n",
       "    <tr>\n",
       "      <th>12</th>\n",
       "      <td>cbc_neutrophil_c</td>\n",
       "      <td>True</td>\n",
       "      <td>True</td>\n",
       "      <td>True</td>\n",
       "      <td>True</td>\n",
       "      <td>False</td>\n",
       "      <td>4</td>\n",
       "    </tr>\n",
       "    <tr>\n",
       "      <th>13</th>\n",
       "      <td>cbc_monocyte_c</td>\n",
       "      <td>True</td>\n",
       "      <td>True</td>\n",
       "      <td>True</td>\n",
       "      <td>True</td>\n",
       "      <td>False</td>\n",
       "      <td>4</td>\n",
       "    </tr>\n",
       "    <tr>\n",
       "      <th>14</th>\n",
       "      <td>cbc_lymphocyte_perc</td>\n",
       "      <td>True</td>\n",
       "      <td>True</td>\n",
       "      <td>True</td>\n",
       "      <td>True</td>\n",
       "      <td>False</td>\n",
       "      <td>4</td>\n",
       "    </tr>\n",
       "    <tr>\n",
       "      <th>15</th>\n",
       "      <td>cbc_lymphocyte_c</td>\n",
       "      <td>True</td>\n",
       "      <td>True</td>\n",
       "      <td>True</td>\n",
       "      <td>True</td>\n",
       "      <td>False</td>\n",
       "      <td>4</td>\n",
       "    </tr>\n",
       "    <tr>\n",
       "      <th>16</th>\n",
       "      <td>cbc_hematocrit</td>\n",
       "      <td>True</td>\n",
       "      <td>True</td>\n",
       "      <td>True</td>\n",
       "      <td>True</td>\n",
       "      <td>False</td>\n",
       "      <td>4</td>\n",
       "    </tr>\n",
       "    <tr>\n",
       "      <th>17</th>\n",
       "      <td>cbc_eosinophil_perc.2</td>\n",
       "      <td>True</td>\n",
       "      <td>True</td>\n",
       "      <td>True</td>\n",
       "      <td>True</td>\n",
       "      <td>False</td>\n",
       "      <td>4</td>\n",
       "    </tr>\n",
       "    <tr>\n",
       "      <th>18</th>\n",
       "      <td>cbc_eosinophil_perc</td>\n",
       "      <td>True</td>\n",
       "      <td>True</td>\n",
       "      <td>True</td>\n",
       "      <td>True</td>\n",
       "      <td>False</td>\n",
       "      <td>4</td>\n",
       "    </tr>\n",
       "    <tr>\n",
       "      <th>19</th>\n",
       "      <td>FirstRace_Encoded</td>\n",
       "      <td>True</td>\n",
       "      <td>True</td>\n",
       "      <td>True</td>\n",
       "      <td>False</td>\n",
       "      <td>True</td>\n",
       "      <td>4</td>\n",
       "    </tr>\n",
       "    <tr>\n",
       "      <th>20</th>\n",
       "      <td>Age</td>\n",
       "      <td>True</td>\n",
       "      <td>True</td>\n",
       "      <td>True</td>\n",
       "      <td>False</td>\n",
       "      <td>True</td>\n",
       "      <td>4</td>\n",
       "    </tr>\n",
       "    <tr>\n",
       "      <th>21</th>\n",
       "      <td>Admitted</td>\n",
       "      <td>True</td>\n",
       "      <td>True</td>\n",
       "      <td>True</td>\n",
       "      <td>True</td>\n",
       "      <td>False</td>\n",
       "      <td>4</td>\n",
       "    </tr>\n",
       "    <tr>\n",
       "      <th>22</th>\n",
       "      <td>cmp_potassium</td>\n",
       "      <td>True</td>\n",
       "      <td>True</td>\n",
       "      <td>True</td>\n",
       "      <td>False</td>\n",
       "      <td>False</td>\n",
       "      <td>3</td>\n",
       "    </tr>\n",
       "    <tr>\n",
       "      <th>23</th>\n",
       "      <td>cmp_glucose</td>\n",
       "      <td>True</td>\n",
       "      <td>True</td>\n",
       "      <td>True</td>\n",
       "      <td>False</td>\n",
       "      <td>False</td>\n",
       "      <td>3</td>\n",
       "    </tr>\n",
       "    <tr>\n",
       "      <th>24</th>\n",
       "      <td>cmp_creatinine</td>\n",
       "      <td>True</td>\n",
       "      <td>True</td>\n",
       "      <td>True</td>\n",
       "      <td>False</td>\n",
       "      <td>False</td>\n",
       "      <td>3</td>\n",
       "    </tr>\n",
       "    <tr>\n",
       "      <th>25</th>\n",
       "      <td>cmp_chloride</td>\n",
       "      <td>True</td>\n",
       "      <td>True</td>\n",
       "      <td>True</td>\n",
       "      <td>False</td>\n",
       "      <td>False</td>\n",
       "      <td>3</td>\n",
       "    </tr>\n",
       "    <tr>\n",
       "      <th>26</th>\n",
       "      <td>cmp_bun</td>\n",
       "      <td>True</td>\n",
       "      <td>True</td>\n",
       "      <td>True</td>\n",
       "      <td>False</td>\n",
       "      <td>False</td>\n",
       "      <td>3</td>\n",
       "    </tr>\n",
       "    <tr>\n",
       "      <th>27</th>\n",
       "      <td>cmp_bicarbonate</td>\n",
       "      <td>True</td>\n",
       "      <td>True</td>\n",
       "      <td>True</td>\n",
       "      <td>False</td>\n",
       "      <td>False</td>\n",
       "      <td>3</td>\n",
       "    </tr>\n",
       "    <tr>\n",
       "      <th>28</th>\n",
       "      <td>cmp_ast</td>\n",
       "      <td>True</td>\n",
       "      <td>True</td>\n",
       "      <td>True</td>\n",
       "      <td>False</td>\n",
       "      <td>False</td>\n",
       "      <td>3</td>\n",
       "    </tr>\n",
       "    <tr>\n",
       "      <th>29</th>\n",
       "      <td>cmp_alt</td>\n",
       "      <td>True</td>\n",
       "      <td>True</td>\n",
       "      <td>True</td>\n",
       "      <td>False</td>\n",
       "      <td>False</td>\n",
       "      <td>3</td>\n",
       "    </tr>\n",
       "    <tr>\n",
       "      <th>30</th>\n",
       "      <td>cmp_alkaline_phosphatase</td>\n",
       "      <td>True</td>\n",
       "      <td>True</td>\n",
       "      <td>True</td>\n",
       "      <td>False</td>\n",
       "      <td>False</td>\n",
       "      <td>3</td>\n",
       "    </tr>\n",
       "    <tr>\n",
       "      <th>31</th>\n",
       "      <td>cmp_albumin</td>\n",
       "      <td>True</td>\n",
       "      <td>True</td>\n",
       "      <td>True</td>\n",
       "      <td>False</td>\n",
       "      <td>False</td>\n",
       "      <td>3</td>\n",
       "    </tr>\n",
       "    <tr>\n",
       "      <th>32</th>\n",
       "      <td>cbc_hemoglobin</td>\n",
       "      <td>True</td>\n",
       "      <td>True</td>\n",
       "      <td>True</td>\n",
       "      <td>False</td>\n",
       "      <td>False</td>\n",
       "      <td>3</td>\n",
       "    </tr>\n",
       "    <tr>\n",
       "      <th>33</th>\n",
       "      <td>cbc_eosinophil_perc.1</td>\n",
       "      <td>True</td>\n",
       "      <td>True</td>\n",
       "      <td>True</td>\n",
       "      <td>False</td>\n",
       "      <td>False</td>\n",
       "      <td>3</td>\n",
       "    </tr>\n",
       "    <tr>\n",
       "      <th>34</th>\n",
       "      <td>cbc_eosinophil_c</td>\n",
       "      <td>True</td>\n",
       "      <td>True</td>\n",
       "      <td>True</td>\n",
       "      <td>False</td>\n",
       "      <td>False</td>\n",
       "      <td>3</td>\n",
       "    </tr>\n",
       "    <tr>\n",
       "      <th>35</th>\n",
       "      <td>Sex_Encoded</td>\n",
       "      <td>True</td>\n",
       "      <td>True</td>\n",
       "      <td>True</td>\n",
       "      <td>False</td>\n",
       "      <td>False</td>\n",
       "      <td>3</td>\n",
       "    </tr>\n",
       "  </tbody>\n",
       "</table>\n",
       "</div>"
      ],
      "text/plain": [
       "                     feature  correlation  chi-sq   rfe  lasso    rfc  total\n",
       "1                  resp_rate         True    True  True   True   True      5\n",
       "2          Ethnicity_Encoded         True    True  True   True   True      5\n",
       "3                        sbp         True    True  True  False   True      4\n",
       "4                   pulse_ox         True    True  True  False   True      4\n",
       "5                 heart_rate         True    True  True  False   True      4\n",
       "6                        dbp         True    True  True  False   True      4\n",
       "7          cmp_total_protein         True    True  True   True  False      4\n",
       "8                 cmp_sodium         True    True  True   True  False      4\n",
       "9              cmp_bilirubin         True    True  True   True  False      4\n",
       "10                   cbc_wbc         True    True  True  False   True      4\n",
       "11             cbc_platelets         True    True  True  False   True      4\n",
       "12          cbc_neutrophil_c         True    True  True   True  False      4\n",
       "13            cbc_monocyte_c         True    True  True   True  False      4\n",
       "14       cbc_lymphocyte_perc         True    True  True   True  False      4\n",
       "15          cbc_lymphocyte_c         True    True  True   True  False      4\n",
       "16            cbc_hematocrit         True    True  True   True  False      4\n",
       "17     cbc_eosinophil_perc.2         True    True  True   True  False      4\n",
       "18       cbc_eosinophil_perc         True    True  True   True  False      4\n",
       "19         FirstRace_Encoded         True    True  True  False   True      4\n",
       "20                       Age         True    True  True  False   True      4\n",
       "21                  Admitted         True    True  True   True  False      4\n",
       "22             cmp_potassium         True    True  True  False  False      3\n",
       "23               cmp_glucose         True    True  True  False  False      3\n",
       "24            cmp_creatinine         True    True  True  False  False      3\n",
       "25              cmp_chloride         True    True  True  False  False      3\n",
       "26                   cmp_bun         True    True  True  False  False      3\n",
       "27           cmp_bicarbonate         True    True  True  False  False      3\n",
       "28                   cmp_ast         True    True  True  False  False      3\n",
       "29                   cmp_alt         True    True  True  False  False      3\n",
       "30  cmp_alkaline_phosphatase         True    True  True  False  False      3\n",
       "31               cmp_albumin         True    True  True  False  False      3\n",
       "32            cbc_hemoglobin         True    True  True  False  False      3\n",
       "33     cbc_eosinophil_perc.1         True    True  True  False  False      3\n",
       "34          cbc_eosinophil_c         True    True  True  False  False      3\n",
       "35               Sex_Encoded         True    True  True  False  False      3"
      ]
     },
     "execution_count": 308,
     "metadata": {},
     "output_type": "execute_result"
    }
   ],
   "source": [
    "cumm_df = pd.DataFrame({\n",
    "    'feature': X.columns.tolist(),\n",
    "    'correlation': corr_top_n,\n",
    "    'chi-sq': chi_top_n,\n",
    "    'rfe': rfe_top_n,\n",
    "    'lasso': lasso_top_n,\n",
    "    'rfc': rfc_top_n\n",
    "})\n",
    "cumm_df['total'] = np.sum(cumm_df, axis=1)\n",
    "cumm_df = cumm_df.sort_values(['total', 'feature'], ascending=False)\n",
    "cumm_df.index = range(1, len(cumm_df) + 1)\n",
    "cumm_df"
   ]
  },
  {
   "cell_type": "code",
   "execution_count": 309,
   "metadata": {},
   "outputs": [
    {
     "data": {
      "text/plain": [
       "['resp_rate',\n",
       " 'Ethnicity_Encoded',\n",
       " 'sbp',\n",
       " 'pulse_ox',\n",
       " 'heart_rate',\n",
       " 'dbp',\n",
       " 'cmp_total_protein',\n",
       " 'cmp_sodium',\n",
       " 'cmp_bilirubin',\n",
       " 'cbc_wbc',\n",
       " 'cbc_platelets',\n",
       " 'cbc_neutrophil_c',\n",
       " 'cbc_monocyte_c',\n",
       " 'cbc_lymphocyte_perc',\n",
       " 'cbc_lymphocyte_c',\n",
       " 'cbc_hematocrit',\n",
       " 'cbc_eosinophil_perc.2',\n",
       " 'cbc_eosinophil_perc',\n",
       " 'FirstRace_Encoded',\n",
       " 'Age',\n",
       " 'Admitted',\n",
       " 'cmp_potassium',\n",
       " 'cmp_glucose',\n",
       " 'cmp_creatinine',\n",
       " 'cmp_chloride',\n",
       " 'cmp_bun',\n",
       " 'cmp_bicarbonate',\n",
       " 'cmp_ast',\n",
       " 'cmp_alt',\n",
       " 'cmp_alkaline_phosphatase',\n",
       " 'cmp_albumin',\n",
       " 'cbc_hemoglobin',\n",
       " 'cbc_eosinophil_perc.1',\n",
       " 'cbc_eosinophil_c',\n",
       " 'Sex_Encoded']"
      ]
     },
     "execution_count": 309,
     "metadata": {},
     "output_type": "execute_result"
    }
   ],
   "source": [
    "top_n_features = list(cumm_df.iloc[:top_n_feats]['feature'])\n",
    "top_n_features"
   ]
  },
  {
   "cell_type": "markdown",
   "metadata": {},
   "source": [
    "## 4. Model Selection"
   ]
  },
  {
   "cell_type": "markdown",
   "metadata": {},
   "source": [
    "#### 4.1 Train / Test Data"
   ]
  },
  {
   "cell_type": "code",
   "execution_count": 310,
   "metadata": {},
   "outputs": [],
   "source": [
    "X_train = final_train[top_n_features]\n",
    "y_train = final_train[target]\n",
    "X_test = final_test[top_n_features]\n",
    "y_test = final_test[target]"
   ]
  },
  {
   "cell_type": "code",
   "execution_count": 311,
   "metadata": {},
   "outputs": [
    {
     "name": "stdout",
     "output_type": "stream",
     "text": [
      "X_train (5904, 35)\n",
      "y_train (5904,)\n",
      "\n",
      "X_test (1476, 35)\n",
      "y_test (1476,)\n"
     ]
    }
   ],
   "source": [
    "print('X_train', X_train.shape)\n",
    "print('y_train', y_train.shape)\n",
    "print()\n",
    "print('X_test', X_test.shape)\n",
    "print('y_test', y_test.shape)"
   ]
  },
  {
   "cell_type": "markdown",
   "metadata": {},
   "source": [
    "#### 4.2 Model Construction"
   ]
  },
  {
   "cell_type": "markdown",
   "metadata": {},
   "source": [
    "###### 4.2.1 Documentation"
   ]
  },
  {
   "cell_type": "markdown",
   "metadata": {},
   "source": [
    "[Keras Layers/Activation Documentation](https://keras.io/api/layers/)"
   ]
  },
  {
   "cell_type": "markdown",
   "metadata": {},
   "source": [
    "Loss Functions\n",
    "* 'binary_crossentropy'\n",
    "* 'sparse_categorical_crossentropy'\n",
    "\n",
    "Optimizers\n",
    "* 'adam'\n",
    "* 'sgd'"
   ]
  },
  {
   "cell_type": "code",
   "execution_count": 312,
   "metadata": {},
   "outputs": [],
   "source": [
    "tf.keras.backend.set_floatx('float64')\n",
    "tf.random.set_seed(seed)\n",
    "np.random.seed(seed)"
   ]
  },
  {
   "cell_type": "markdown",
   "metadata": {},
   "source": [
    "###### 4.2.2 Models"
   ]
  },
  {
   "cell_type": "code",
   "execution_count": 313,
   "metadata": {},
   "outputs": [],
   "source": [
    "seq1 = Sequential([\n",
    "    BatchNormalization(),\n",
    "    Dense(300, use_bias=False),\n",
    "    BatchNormalization(),\n",
    "    Activation('relu'),\n",
    "    Dense(100, use_bias=False),\n",
    "    Activation('relu'),\n",
    "    BatchNormalization(),\n",
    "    Dense(2, activation='softmax')\n",
    "])"
   ]
  },
  {
   "cell_type": "code",
   "execution_count": 314,
   "metadata": {},
   "outputs": [],
   "source": [
    "seq2 = Sequential([\n",
    "    Dense(top_n_feats, activation='relu'),\n",
    "    Dense(6, activation='relu'),\n",
    "    Dense(2, activation='softmax')\n",
    "])"
   ]
  },
  {
   "cell_type": "code",
   "execution_count": 315,
   "metadata": {},
   "outputs": [],
   "source": [
    "seq3 = Sequential([\n",
    "    Dense(top_n_feats, kernel_initializer='he_normal'),\n",
    "    PReLU(),\n",
    "    Dense(6, kernel_initializer='he_normal'),\n",
    "    PReLU(),\n",
    "    Dense(2, activation='softmax')\n",
    "])"
   ]
  },
  {
   "cell_type": "code",
   "execution_count": 237,
   "metadata": {},
   "outputs": [],
   "source": [
    "# keras.utils.plot_model(model, \"seq_model1.png\", show_shapes=True)"
   ]
  },
  {
   "cell_type": "markdown",
   "metadata": {},
   "source": [
    "#### 4.3 Model Evaluation Functions"
   ]
  },
  {
   "cell_type": "code",
   "execution_count": 238,
   "metadata": {},
   "outputs": [],
   "source": [
    "def plot_metric(hist, metric):\n",
    "    train_metrics = hist.history[metric]\n",
    "    val_metrics = hist.history['val_'+metric]\n",
    "    epochs = range(1, len(train_metrics) + 1)\n",
    "    plt.plot(epochs, train_metrics, 'bo--')\n",
    "    plt.plot(epochs, val_metrics, 'ro-')\n",
    "    plt.title('Training and Validation '+ metric)\n",
    "    plt.xlabel(\"Epochs\")\n",
    "    plt.ylabel(metric)\n",
    "    plt.legend([\"train_\"+metric, 'val_'+metric])\n",
    "    plt.show()"
   ]
  },
  {
   "cell_type": "code",
   "execution_count": 271,
   "metadata": {
    "scrolled": true
   },
   "outputs": [],
   "source": [
    "def plot_history(hist):\n",
    "    display(Markdown('**Training/Validation Loss and Accuracy**'))\n",
    "    pd.DataFrame(hist.history).plot(figsize=(8,5))\n",
    "    plt.grid(True)\n",
    "    plt.gca().set_ylim(0, 1)\n",
    "    plt.show()"
   ]
  },
  {
   "cell_type": "code",
   "execution_count": 337,
   "metadata": {},
   "outputs": [],
   "source": [
    "def metric_evaluation(y_test, y_pred):\n",
    "    display(Markdown('**Metric Scores**'))\n",
    "    print(\"Accuracy: {:.2f}%\".format(accuracy_score(y_test, y_pred) * 100))\n",
    "    print(\"Precision: {:.2f}%\".format(precision_score(y_test, y_pred) * 100))\n",
    "    print(\"Recall: {:.2f}%\".format(recall_score(y_test, y_pred) * 100))\n",
    "    print(\"F1: {:.2f}%\".format(f1_score(y_test, y_pred) * 100))\n",
    "    print(\"\\nConfusion Matrix:\")\n",
    "    print(confusion_matrix(y_test, y_pred))"
   ]
  },
  {
   "cell_type": "code",
   "execution_count": 272,
   "metadata": {},
   "outputs": [],
   "source": [
    "def plot_confusion_matrix(y_test, y_pred):\n",
    "    display(Markdown('**Confusion Matrix**'))\n",
    "    cm_df = pd.DataFrame(\n",
    "        confusion_matrix(y_test, y_pred), columns=['Detected', 'None Detected'], index=['Detected', 'None Detected']\n",
    "    )\n",
    "    ax = sns.heatmap(\n",
    "        data=cm_df, cmap=cm.Blues, annot=True, fmt='d'\n",
    "    )\n",
    "    ax.set(xlabel='Predicted', ylabel='Actual')\n",
    "    plt.show()"
   ]
  },
  {
   "cell_type": "markdown",
   "metadata": {},
   "source": [
    "#### 4.4 Simultaneous Model Evaluation"
   ]
  },
  {
   "cell_type": "code",
   "execution_count": 316,
   "metadata": {},
   "outputs": [],
   "source": [
    "model_lst = [\n",
    "    {'name': 'Sequential: Dense + Batch Normalization Layers, ReLU Activations',\n",
    "     'model': seq1, 'loss': 'sparse_categorical_crossentropy', 'optimizer': Adam(learning_rate=1e-4)},\n",
    "    {'name': 'Sequential: Dense Layers, ReLU Activation',\n",
    "     'model': seq2, 'loss': 'sparse_categorical_crossentropy', 'optimizer': Adam(learning_rate=1e-4)},\n",
    "    {'name': 'Sequential: Dense Layers, PReLU Activation',\n",
    "     'model': seq3, 'loss': 'sparse_categorical_crossentropy', 'optimizer': Adam(learning_rate=1e-4)}\n",
    "]"
   ]
  },
  {
   "cell_type": "code",
   "execution_count": 317,
   "metadata": {},
   "outputs": [],
   "source": [
    "def test_models(models, xy, isolate=None):\n",
    "    X_train, y_train, X_test, y_test = xy\n",
    "    for i, m in enumerate(models):\n",
    "        name, model, loss, optimizer = m.values()\n",
    "        if isolate is not None and i + 1 != isolate:\n",
    "            print('Skipping Model {}...'.format(i + 1))\n",
    "            continue\n",
    "        \n",
    "        display(Markdown('### Model {} – {}'.format(i + 1, name)))\n",
    "        \n",
    "        # 1. Compile\n",
    "        model.compile(\n",
    "            loss=loss, optimizer=optimizer, metrics=['accuracy']\n",
    "        )\n",
    "        \n",
    "        # 2. Fit\n",
    "        history = model.fit(\n",
    "            X_train, y_train, batch_size=200, epochs=30, validation_split=0.2, shuffle=True, verbose=0\n",
    "        )\n",
    "        \n",
    "        # 3. Visualize Model\n",
    "        display(Markdown(\"**Summary**\"))\n",
    "        model.summary()\n",
    "        plot_history(history)\n",
    "        \n",
    "        # 4. Evaluate\n",
    "        display(Markdown(\"**Evaluation and Prediction**\"))\n",
    "        loss, accuracy = model.evaluate(x=X_test, y=y_test)\n",
    "        print(\"\\nLoss: {:.2f}%\".format(loss * 100))\n",
    "        print(\"Accuracy: {:.2f}%\".format(accuracy * 100))\n",
    "        \n",
    "        # 5. Predict\n",
    "        y_prediction_array = model.predict(X_test)\n",
    "        y_prediction = np.argmax(y_prediction_array, axis=1)\n",
    "        \n",
    "        # 6. Visualize Predictions\n",
    "        metric_evaluation(y_test, y_prediction)\n",
    "        plot_confusion_matrix(y_test, y_prediction)\n",
    "        \n",
    "        print()"
   ]
  },
  {
   "cell_type": "code",
   "execution_count": 318,
   "metadata": {
    "scrolled": true
   },
   "outputs": [
    {
     "data": {
      "text/markdown": [
       "### Model 1 – Sequential: Dense + Batch Normalization Layers, ReLU Activations"
      ],
      "text/plain": [
       "<IPython.core.display.Markdown object>"
      ]
     },
     "metadata": {},
     "output_type": "display_data"
    },
    {
     "data": {
      "text/markdown": [
       "**Summary**"
      ],
      "text/plain": [
       "<IPython.core.display.Markdown object>"
      ]
     },
     "metadata": {},
     "output_type": "display_data"
    },
    {
     "name": "stdout",
     "output_type": "stream",
     "text": [
      "Model: \"sequential_12\"\n",
      "_________________________________________________________________\n",
      "Layer (type)                 Output Shape              Param #   \n",
      "=================================================================\n",
      "batch_normalization_12 (Batc (None, 35)                140       \n",
      "_________________________________________________________________\n",
      "dense_36 (Dense)             (None, 300)               10500     \n",
      "_________________________________________________________________\n",
      "batch_normalization_13 (Batc (None, 300)               1200      \n",
      "_________________________________________________________________\n",
      "activation_8 (Activation)    (None, 300)               0         \n",
      "_________________________________________________________________\n",
      "dense_37 (Dense)             (None, 100)               30000     \n",
      "_________________________________________________________________\n",
      "activation_9 (Activation)    (None, 100)               0         \n",
      "_________________________________________________________________\n",
      "batch_normalization_14 (Batc (None, 100)               400       \n",
      "_________________________________________________________________\n",
      "dense_38 (Dense)             (None, 2)                 202       \n",
      "=================================================================\n",
      "Total params: 42,442\n",
      "Trainable params: 41,572\n",
      "Non-trainable params: 870\n",
      "_________________________________________________________________\n"
     ]
    },
    {
     "data": {
      "text/markdown": [
       "**Training/Validation Loss and Accuracy**"
      ],
      "text/plain": [
       "<IPython.core.display.Markdown object>"
      ]
     },
     "metadata": {},
     "output_type": "display_data"
    },
    {
     "data": {
      "image/png": "[encoded data removed]",
      "text/plain": [
       "<Figure size 576x360 with 1 Axes>"
      ]
     },
     "metadata": {
      "needs_background": "light"
     },
     "output_type": "display_data"
    },
    {
     "data": {
      "text/markdown": [
       "**Evaluation and Prediction**"
      ],
      "text/plain": [
       "<IPython.core.display.Markdown object>"
      ]
     },
     "metadata": {},
     "output_type": "display_data"
    },
    {
     "name": "stdout",
     "output_type": "stream",
     "text": [
      "47/47 [==============================] - 0s 1ms/step - loss: 0.3113 - accuracy: 0.9173\n",
      "\n",
      "Loss: 31.13%\n",
      "Accuracy: 91.73%\n"
     ]
    },
    {
     "data": {
      "text/markdown": [
       "**Metric Scores**"
      ],
      "text/plain": [
       "<IPython.core.display.Markdown object>"
      ]
     },
     "metadata": {},
     "output_type": "display_data"
    },
    {
     "name": "stdout",
     "output_type": "stream",
     "text": [
      "Precision: 94.50%\n",
      "Recall: 96.71%\n",
      "F1: 95.59%\n",
      "\n",
      "Confusion Matrix:\n",
      "[[  32   77]\n",
      " [  45 1322]]\n"
     ]
    },
    {
     "data": {
      "text/markdown": [
       "**Confusion Matrix**"
      ],
      "text/plain": [
       "<IPython.core.display.Markdown object>"
      ]
     },
     "metadata": {},
     "output_type": "display_data"
    },
    {
     "data": {
      "image/png": "[encoded data removed]",
      "text/plain": [
       "<Figure size 432x288 with 2 Axes>"
      ]
     },
     "metadata": {
      "needs_background": "light"
     },
     "output_type": "display_data"
    },
    {
     "name": "stdout",
     "output_type": "stream",
     "text": [
      "\n"
     ]
    },
    {
     "data": {
      "text/markdown": [
       "### Model 2 – Sequential: Dense Layers, ReLU Activation"
      ],
      "text/plain": [
       "<IPython.core.display.Markdown object>"
      ]
     },
     "metadata": {},
     "output_type": "display_data"
    },
    {
     "data": {
      "text/markdown": [
       "**Summary**"
      ],
      "text/plain": [
       "<IPython.core.display.Markdown object>"
      ]
     },
     "metadata": {},
     "output_type": "display_data"
    },
    {
     "name": "stdout",
     "output_type": "stream",
     "text": [
      "Model: \"sequential_13\"\n",
      "_________________________________________________________________\n",
      "Layer (type)                 Output Shape              Param #   \n",
      "=================================================================\n",
      "dense_39 (Dense)             (None, 35)                1260      \n",
      "_________________________________________________________________\n",
      "dense_40 (Dense)             (None, 6)                 216       \n",
      "_________________________________________________________________\n",
      "dense_41 (Dense)             (None, 2)                 14        \n",
      "=================================================================\n",
      "Total params: 1,490\n",
      "Trainable params: 1,490\n",
      "Non-trainable params: 0\n",
      "_________________________________________________________________\n"
     ]
    },
    {
     "data": {
      "text/markdown": [
       "**Training/Validation Loss and Accuracy**"
      ],
      "text/plain": [
       "<IPython.core.display.Markdown object>"
      ]
     },
     "metadata": {},
     "output_type": "display_data"
    },
    {
     "data": {
      "image/png": "[encoded data removed]",
      "text/plain": [
       "<Figure size 576x360 with 1 Axes>"
      ]
     },
     "metadata": {
      "needs_background": "light"
     },
     "output_type": "display_data"
    },
    {
     "data": {
      "text/markdown": [
       "**Evaluation and Prediction**"
      ],
      "text/plain": [
       "<IPython.core.display.Markdown object>"
      ]
     },
     "metadata": {},
     "output_type": "display_data"
    },
    {
     "name": "stdout",
     "output_type": "stream",
     "text": [
      "47/47 [==============================] - 0s 1ms/step - loss: 0.2680 - accuracy: 0.9255\n",
      "\n",
      "Loss: 26.80%\n",
      "Accuracy: 92.55%\n"
     ]
    },
    {
     "data": {
      "text/markdown": [
       "**Metric Scores**"
      ],
      "text/plain": [
       "<IPython.core.display.Markdown object>"
      ]
     },
     "metadata": {},
     "output_type": "display_data"
    },
    {
     "name": "stdout",
     "output_type": "stream",
     "text": [
      "Precision: 92.61%\n",
      "Recall: 99.93%\n",
      "F1: 96.13%\n",
      "\n",
      "Confusion Matrix:\n",
      "[[   0  109]\n",
      " [   1 1366]]\n"
     ]
    },
    {
     "data": {
      "text/markdown": [
       "**Confusion Matrix**"
      ],
      "text/plain": [
       "<IPython.core.display.Markdown object>"
      ]
     },
     "metadata": {},
     "output_type": "display_data"
    },
    {
     "data": {
      "image/png": "[encoded data removed]",
      "text/plain": [
       "<Figure size 432x288 with 2 Axes>"
      ]
     },
     "metadata": {
      "needs_background": "light"
     },
     "output_type": "display_data"
    },
    {
     "name": "stdout",
     "output_type": "stream",
     "text": [
      "\n"
     ]
    },
    {
     "data": {
      "text/markdown": [
       "### Model 3 – Sequential: Dense Layers, PReLU Activation"
      ],
      "text/plain": [
       "<IPython.core.display.Markdown object>"
      ]
     },
     "metadata": {},
     "output_type": "display_data"
    },
    {
     "data": {
      "text/markdown": [
       "**Summary**"
      ],
      "text/plain": [
       "<IPython.core.display.Markdown object>"
      ]
     },
     "metadata": {},
     "output_type": "display_data"
    },
    {
     "name": "stdout",
     "output_type": "stream",
     "text": [
      "Model: \"sequential_14\"\n",
      "_________________________________________________________________\n",
      "Layer (type)                 Output Shape              Param #   \n",
      "=================================================================\n",
      "dense_42 (Dense)             (None, 35)                1260      \n",
      "_________________________________________________________________\n",
      "p_re_lu_8 (PReLU)            (None, 35)                35        \n",
      "_________________________________________________________________\n",
      "dense_43 (Dense)             (None, 6)                 216       \n",
      "_________________________________________________________________\n",
      "p_re_lu_9 (PReLU)            (None, 6)                 6         \n",
      "_________________________________________________________________\n",
      "dense_44 (Dense)             (None, 2)                 14        \n",
      "=================================================================\n",
      "Total params: 1,531\n",
      "Trainable params: 1,531\n",
      "Non-trainable params: 0\n",
      "_________________________________________________________________\n"
     ]
    },
    {
     "data": {
      "text/markdown": [
       "**Training/Validation Loss and Accuracy**"
      ],
      "text/plain": [
       "<IPython.core.display.Markdown object>"
      ]
     },
     "metadata": {},
     "output_type": "display_data"
    },
    {
     "data": {
      "image/png": "[encoded data removed]",
      "text/plain": [
       "<Figure size 576x360 with 1 Axes>"
      ]
     },
     "metadata": {
      "needs_background": "light"
     },
     "output_type": "display_data"
    },
    {
     "data": {
      "text/markdown": [
       "**Evaluation and Prediction**"
      ],
      "text/plain": [
       "<IPython.core.display.Markdown object>"
      ]
     },
     "metadata": {},
     "output_type": "display_data"
    },
    {
     "name": "stdout",
     "output_type": "stream",
     "text": [
      "47/47 [==============================] - 0s 923us/step - loss: 0.6097 - accuracy: 0.8076\n",
      "\n",
      "Loss: 60.97%\n",
      "Accuracy: 80.76%\n"
     ]
    },
    {
     "data": {
      "text/markdown": [
       "**Metric Scores**"
      ],
      "text/plain": [
       "<IPython.core.display.Markdown object>"
      ]
     },
     "metadata": {},
     "output_type": "display_data"
    },
    {
     "name": "stdout",
     "output_type": "stream",
     "text": [
      "Precision: 92.27%\n",
      "Recall: 86.47%\n",
      "F1: 89.27%\n",
      "\n",
      "Confusion Matrix:\n",
      "[[  10   99]\n",
      " [ 185 1182]]\n"
     ]
    },
    {
     "data": {
      "text/markdown": [
       "**Confusion Matrix**"
      ],
      "text/plain": [
       "<IPython.core.display.Markdown object>"
      ]
     },
     "metadata": {},
     "output_type": "display_data"
    },
    {
     "data": {
      "image/png": "[encoded data removed]",
      "text/plain": [
       "<Figure size 432x288 with 2 Axes>"
      ]
     },
     "metadata": {
      "needs_background": "light"
     },
     "output_type": "display_data"
    },
    {
     "name": "stdout",
     "output_type": "stream",
     "text": [
      "\n"
     ]
    }
   ],
   "source": [
    "test_models(model_lst, (X_train, y_train, X_test, y_test))"
   ]
  },
  {
   "cell_type": "markdown",
   "metadata": {},
   "source": [
    "## Random Data Generation"
   ]
  },
  {
   "cell_type": "code",
   "execution_count": 319,
   "metadata": {},
   "outputs": [],
   "source": [
    "new_data_points = 7500"
   ]
  },
  {
   "cell_type": "code",
   "execution_count": 320,
   "metadata": {},
   "outputs": [],
   "source": [
    "new_data = pd.DataFrame()"
   ]
  },
  {
   "cell_type": "code",
   "execution_count": 321,
   "metadata": {},
   "outputs": [
    {
     "name": "stdout",
     "output_type": "stream",
     "text": [
      "CPU times: user 69.6 ms, sys: 4.47 ms, total: 74 ms\n",
      "Wall time: 73.1 ms\n"
     ]
    }
   ],
   "source": [
    "%%time\n",
    "\n",
    "total = len(trim_df4)\n",
    "for col in trim_df4.columns.tolist():\n",
    "    if col in code_cols:\n",
    "        counts = trim_df4[col].value_counts()\n",
    "        choices = list(counts.index)\n",
    "        weights = [count/total for count in counts.values]\n",
    "        new_data[col] = np.random.choice(\n",
    "            a=choices, p=weights, size=(new_data_points,)\n",
    "        )\n",
    "    else:\n",
    "        new_data[col] = np.random.normal(\n",
    "            loc=trim_df4[col].mean(), scale=trim_df4[col].std(), size=new_data_points\n",
    "        )"
   ]
  },
  {
   "cell_type": "code",
   "execution_count": 322,
   "metadata": {},
   "outputs": [
    {
     "data": {
      "text/html": [
       "<div>\n",
       "<style scoped>\n",
       "    .dataframe tbody tr th:only-of-type {\n",
       "        vertical-align: middle;\n",
       "    }\n",
       "\n",
       "    .dataframe tbody tr th {\n",
       "        vertical-align: top;\n",
       "    }\n",
       "\n",
       "    .dataframe thead th {\n",
       "        text-align: right;\n",
       "    }\n",
       "</style>\n",
       "<table border=\"1\" class=\"dataframe\">\n",
       "  <thead>\n",
       "    <tr style=\"text-align: right;\">\n",
       "      <th></th>\n",
       "      <th>Admitted</th>\n",
       "      <th>Age</th>\n",
       "      <th>heart_rate</th>\n",
       "      <th>sbp</th>\n",
       "      <th>dbp</th>\n",
       "      <th>pulse_ox</th>\n",
       "      <th>resp_rate</th>\n",
       "      <th>cbc_wbc</th>\n",
       "      <th>cbc_hematocrit</th>\n",
       "      <th>cbc_hemoglobin</th>\n",
       "      <th>...</th>\n",
       "      <th>cmp_alt</th>\n",
       "      <th>cmp_ast</th>\n",
       "      <th>cmp_alkaline_phosphatase</th>\n",
       "      <th>cmp_total_protein</th>\n",
       "      <th>cmp_albumin</th>\n",
       "      <th>cmp_bilirubin</th>\n",
       "      <th>COVIDResult_Encoded</th>\n",
       "      <th>FirstRace_Encoded</th>\n",
       "      <th>Ethnicity_Encoded</th>\n",
       "      <th>Sex_Encoded</th>\n",
       "    </tr>\n",
       "  </thead>\n",
       "  <tbody>\n",
       "    <tr>\n",
       "      <th>0</th>\n",
       "      <td>0</td>\n",
       "      <td>78.438444</td>\n",
       "      <td>73.277885</td>\n",
       "      <td>156.881486</td>\n",
       "      <td>76.346841</td>\n",
       "      <td>97.711297</td>\n",
       "      <td>18.817744</td>\n",
       "      <td>15.862348</td>\n",
       "      <td>45.024476</td>\n",
       "      <td>11.500963</td>\n",
       "      <td>...</td>\n",
       "      <td>136.645715</td>\n",
       "      <td>129.490561</td>\n",
       "      <td>67.069754</td>\n",
       "      <td>7.851282</td>\n",
       "      <td>4.570266</td>\n",
       "      <td>1.280416</td>\n",
       "      <td>1.0</td>\n",
       "      <td>9.0</td>\n",
       "      <td>2.0</td>\n",
       "      <td>0.0</td>\n",
       "    </tr>\n",
       "    <tr>\n",
       "      <th>1</th>\n",
       "      <td>1</td>\n",
       "      <td>52.772321</td>\n",
       "      <td>100.576372</td>\n",
       "      <td>154.224812</td>\n",
       "      <td>79.056662</td>\n",
       "      <td>97.471674</td>\n",
       "      <td>31.451582</td>\n",
       "      <td>12.083587</td>\n",
       "      <td>29.666454</td>\n",
       "      <td>15.946343</td>\n",
       "      <td>...</td>\n",
       "      <td>256.836174</td>\n",
       "      <td>-89.741361</td>\n",
       "      <td>218.627968</td>\n",
       "      <td>7.188622</td>\n",
       "      <td>2.871096</td>\n",
       "      <td>3.502705</td>\n",
       "      <td>1.0</td>\n",
       "      <td>0.0</td>\n",
       "      <td>2.0</td>\n",
       "      <td>0.0</td>\n",
       "    </tr>\n",
       "    <tr>\n",
       "      <th>2</th>\n",
       "      <td>1</td>\n",
       "      <td>64.131080</td>\n",
       "      <td>79.989263</td>\n",
       "      <td>110.997963</td>\n",
       "      <td>57.555526</td>\n",
       "      <td>93.152107</td>\n",
       "      <td>33.090349</td>\n",
       "      <td>5.980147</td>\n",
       "      <td>33.124933</td>\n",
       "      <td>10.481041</td>\n",
       "      <td>...</td>\n",
       "      <td>-238.215360</td>\n",
       "      <td>169.635051</td>\n",
       "      <td>171.204837</td>\n",
       "      <td>6.135956</td>\n",
       "      <td>2.600180</td>\n",
       "      <td>2.271555</td>\n",
       "      <td>1.0</td>\n",
       "      <td>9.0</td>\n",
       "      <td>2.0</td>\n",
       "      <td>1.0</td>\n",
       "    </tr>\n",
       "    <tr>\n",
       "      <th>3</th>\n",
       "      <td>1</td>\n",
       "      <td>50.906483</td>\n",
       "      <td>88.074400</td>\n",
       "      <td>135.935841</td>\n",
       "      <td>64.949152</td>\n",
       "      <td>102.002380</td>\n",
       "      <td>24.481826</td>\n",
       "      <td>11.416264</td>\n",
       "      <td>41.283126</td>\n",
       "      <td>9.271202</td>\n",
       "      <td>...</td>\n",
       "      <td>99.092320</td>\n",
       "      <td>43.246308</td>\n",
       "      <td>-91.439342</td>\n",
       "      <td>7.727635</td>\n",
       "      <td>3.959345</td>\n",
       "      <td>0.223175</td>\n",
       "      <td>1.0</td>\n",
       "      <td>5.0</td>\n",
       "      <td>2.0</td>\n",
       "      <td>0.0</td>\n",
       "    </tr>\n",
       "    <tr>\n",
       "      <th>4</th>\n",
       "      <td>0</td>\n",
       "      <td>7.751812</td>\n",
       "      <td>118.415307</td>\n",
       "      <td>153.297936</td>\n",
       "      <td>84.453330</td>\n",
       "      <td>87.529000</td>\n",
       "      <td>10.295213</td>\n",
       "      <td>16.778923</td>\n",
       "      <td>30.264456</td>\n",
       "      <td>13.196143</td>\n",
       "      <td>...</td>\n",
       "      <td>215.305577</td>\n",
       "      <td>92.267308</td>\n",
       "      <td>98.727583</td>\n",
       "      <td>6.907905</td>\n",
       "      <td>3.153272</td>\n",
       "      <td>-1.888527</td>\n",
       "      <td>1.0</td>\n",
       "      <td>0.0</td>\n",
       "      <td>2.0</td>\n",
       "      <td>1.0</td>\n",
       "    </tr>\n",
       "  </tbody>\n",
       "</table>\n",
       "<p>5 rows × 36 columns</p>\n",
       "</div>"
      ],
      "text/plain": [
       "   Admitted        Age  heart_rate         sbp        dbp    pulse_ox  \\\n",
       "0         0  78.438444   73.277885  156.881486  76.346841   97.711297   \n",
       "1         1  52.772321  100.576372  154.224812  79.056662   97.471674   \n",
       "2         1  64.131080   79.989263  110.997963  57.555526   93.152107   \n",
       "3         1  50.906483   88.074400  135.935841  64.949152  102.002380   \n",
       "4         0   7.751812  118.415307  153.297936  84.453330   87.529000   \n",
       "\n",
       "   resp_rate    cbc_wbc  cbc_hematocrit  cbc_hemoglobin  ...     cmp_alt  \\\n",
       "0  18.817744  15.862348       45.024476       11.500963  ...  136.645715   \n",
       "1  31.451582  12.083587       29.666454       15.946343  ...  256.836174   \n",
       "2  33.090349   5.980147       33.124933       10.481041  ... -238.215360   \n",
       "3  24.481826  11.416264       41.283126        9.271202  ...   99.092320   \n",
       "4  10.295213  16.778923       30.264456       13.196143  ...  215.305577   \n",
       "\n",
       "      cmp_ast  cmp_alkaline_phosphatase  cmp_total_protein  cmp_albumin  \\\n",
       "0  129.490561                 67.069754           7.851282     4.570266   \n",
       "1  -89.741361                218.627968           7.188622     2.871096   \n",
       "2  169.635051                171.204837           6.135956     2.600180   \n",
       "3   43.246308                -91.439342           7.727635     3.959345   \n",
       "4   92.267308                 98.727583           6.907905     3.153272   \n",
       "\n",
       "   cmp_bilirubin  COVIDResult_Encoded  FirstRace_Encoded  Ethnicity_Encoded  \\\n",
       "0       1.280416                  1.0                9.0                2.0   \n",
       "1       3.502705                  1.0                0.0                2.0   \n",
       "2       2.271555                  1.0                9.0                2.0   \n",
       "3       0.223175                  1.0                5.0                2.0   \n",
       "4      -1.888527                  1.0                0.0                2.0   \n",
       "\n",
       "   Sex_Encoded  \n",
       "0          0.0  \n",
       "1          0.0  \n",
       "2          1.0  \n",
       "3          0.0  \n",
       "4          1.0  \n",
       "\n",
       "[5 rows x 36 columns]"
      ]
     },
     "execution_count": 322,
     "metadata": {},
     "output_type": "execute_result"
    }
   ],
   "source": [
    "new_data.head(5)"
   ]
  },
  {
   "cell_type": "code",
   "execution_count": 323,
   "metadata": {},
   "outputs": [
    {
     "data": {
      "text/plain": [
       "(7500, 36)"
      ]
     },
     "execution_count": 323,
     "metadata": {},
     "output_type": "execute_result"
    }
   ],
   "source": [
    "new_data.shape"
   ]
  },
  {
   "cell_type": "code",
   "execution_count": 324,
   "metadata": {
    "scrolled": true
   },
   "outputs": [
    {
     "data": {
      "text/html": [
       "<div>\n",
       "<style scoped>\n",
       "    .dataframe tbody tr th:only-of-type {\n",
       "        vertical-align: middle;\n",
       "    }\n",
       "\n",
       "    .dataframe tbody tr th {\n",
       "        vertical-align: top;\n",
       "    }\n",
       "\n",
       "    .dataframe thead th {\n",
       "        text-align: right;\n",
       "    }\n",
       "</style>\n",
       "<table border=\"1\" class=\"dataframe\">\n",
       "  <thead>\n",
       "    <tr style=\"text-align: right;\">\n",
       "      <th></th>\n",
       "      <th>Admitted</th>\n",
       "      <th>Age</th>\n",
       "      <th>heart_rate</th>\n",
       "      <th>sbp</th>\n",
       "      <th>dbp</th>\n",
       "      <th>pulse_ox</th>\n",
       "      <th>resp_rate</th>\n",
       "      <th>cbc_wbc</th>\n",
       "      <th>cbc_hematocrit</th>\n",
       "      <th>cbc_hemoglobin</th>\n",
       "      <th>...</th>\n",
       "      <th>cmp_alt</th>\n",
       "      <th>cmp_ast</th>\n",
       "      <th>cmp_alkaline_phosphatase</th>\n",
       "      <th>cmp_total_protein</th>\n",
       "      <th>cmp_albumin</th>\n",
       "      <th>cmp_bilirubin</th>\n",
       "      <th>COVIDResult_Encoded</th>\n",
       "      <th>FirstRace_Encoded</th>\n",
       "      <th>Ethnicity_Encoded</th>\n",
       "      <th>Sex_Encoded</th>\n",
       "    </tr>\n",
       "  </thead>\n",
       "  <tbody>\n",
       "    <tr>\n",
       "      <th>count</th>\n",
       "      <td>7500.000000</td>\n",
       "      <td>7500.000000</td>\n",
       "      <td>7500.000000</td>\n",
       "      <td>7500.000000</td>\n",
       "      <td>7500.000000</td>\n",
       "      <td>7500.000000</td>\n",
       "      <td>7500.000000</td>\n",
       "      <td>7500.000000</td>\n",
       "      <td>7500.000000</td>\n",
       "      <td>7500.000000</td>\n",
       "      <td>...</td>\n",
       "      <td>7500.000000</td>\n",
       "      <td>7500.000000</td>\n",
       "      <td>7500.000000</td>\n",
       "      <td>7500.000000</td>\n",
       "      <td>7500.000000</td>\n",
       "      <td>7500.000000</td>\n",
       "      <td>7500.000000</td>\n",
       "      <td>7500.000000</td>\n",
       "      <td>7500.000000</td>\n",
       "      <td>7500.000000</td>\n",
       "    </tr>\n",
       "    <tr>\n",
       "      <th>mean</th>\n",
       "      <td>0.401467</td>\n",
       "      <td>48.977792</td>\n",
       "      <td>94.827625</td>\n",
       "      <td>135.892879</td>\n",
       "      <td>75.739349</td>\n",
       "      <td>97.112193</td>\n",
       "      <td>21.021449</td>\n",
       "      <td>10.180191</td>\n",
       "      <td>38.709594</td>\n",
       "      <td>12.657374</td>\n",
       "      <td>...</td>\n",
       "      <td>43.343198</td>\n",
       "      <td>53.967180</td>\n",
       "      <td>114.207521</td>\n",
       "      <td>7.209553</td>\n",
       "      <td>3.852652</td>\n",
       "      <td>0.859911</td>\n",
       "      <td>0.935733</td>\n",
       "      <td>6.612133</td>\n",
       "      <td>1.952000</td>\n",
       "      <td>0.496933</td>\n",
       "    </tr>\n",
       "    <tr>\n",
       "      <th>std</th>\n",
       "      <td>0.490228</td>\n",
       "      <td>23.559729</td>\n",
       "      <td>23.501569</td>\n",
       "      <td>26.710879</td>\n",
       "      <td>15.456168</td>\n",
       "      <td>3.810889</td>\n",
       "      <td>6.676661</td>\n",
       "      <td>7.426270</td>\n",
       "      <td>6.247412</td>\n",
       "      <td>2.202478</td>\n",
       "      <td>...</td>\n",
       "      <td>144.131704</td>\n",
       "      <td>124.924238</td>\n",
       "      <td>76.709748</td>\n",
       "      <td>0.698645</td>\n",
       "      <td>0.495229</td>\n",
       "      <td>1.468934</td>\n",
       "      <td>0.245244</td>\n",
       "      <td>3.757602</td>\n",
       "      <td>0.353807</td>\n",
       "      <td>0.501356</td>\n",
       "    </tr>\n",
       "    <tr>\n",
       "      <th>min</th>\n",
       "      <td>0.000000</td>\n",
       "      <td>-43.299418</td>\n",
       "      <td>4.645046</td>\n",
       "      <td>36.969653</td>\n",
       "      <td>8.107169</td>\n",
       "      <td>83.177313</td>\n",
       "      <td>-7.884580</td>\n",
       "      <td>-14.911363</td>\n",
       "      <td>12.743121</td>\n",
       "      <td>4.147882</td>\n",
       "      <td>...</td>\n",
       "      <td>-456.301321</td>\n",
       "      <td>-423.734074</td>\n",
       "      <td>-166.816802</td>\n",
       "      <td>4.381355</td>\n",
       "      <td>1.663546</td>\n",
       "      <td>-4.490088</td>\n",
       "      <td>0.000000</td>\n",
       "      <td>0.000000</td>\n",
       "      <td>0.000000</td>\n",
       "      <td>0.000000</td>\n",
       "    </tr>\n",
       "    <tr>\n",
       "      <th>25%</th>\n",
       "      <td>0.000000</td>\n",
       "      <td>33.173811</td>\n",
       "      <td>78.937922</td>\n",
       "      <td>117.194061</td>\n",
       "      <td>65.222349</td>\n",
       "      <td>94.494904</td>\n",
       "      <td>16.599991</td>\n",
       "      <td>5.169603</td>\n",
       "      <td>34.438037</td>\n",
       "      <td>11.165448</td>\n",
       "      <td>...</td>\n",
       "      <td>-54.888992</td>\n",
       "      <td>-29.196799</td>\n",
       "      <td>62.605715</td>\n",
       "      <td>6.740892</td>\n",
       "      <td>3.513387</td>\n",
       "      <td>-0.146917</td>\n",
       "      <td>1.000000</td>\n",
       "      <td>5.000000</td>\n",
       "      <td>2.000000</td>\n",
       "      <td>0.000000</td>\n",
       "    </tr>\n",
       "    <tr>\n",
       "      <th>50%</th>\n",
       "      <td>0.000000</td>\n",
       "      <td>48.881006</td>\n",
       "      <td>94.947328</td>\n",
       "      <td>135.973359</td>\n",
       "      <td>75.781082</td>\n",
       "      <td>97.101627</td>\n",
       "      <td>21.075594</td>\n",
       "      <td>10.234808</td>\n",
       "      <td>38.742682</td>\n",
       "      <td>12.662030</td>\n",
       "      <td>...</td>\n",
       "      <td>43.455881</td>\n",
       "      <td>54.534232</td>\n",
       "      <td>115.042789</td>\n",
       "      <td>7.220184</td>\n",
       "      <td>3.846401</td>\n",
       "      <td>0.851459</td>\n",
       "      <td>1.000000</td>\n",
       "      <td>9.000000</td>\n",
       "      <td>2.000000</td>\n",
       "      <td>0.000000</td>\n",
       "    </tr>\n",
       "    <tr>\n",
       "      <th>75%</th>\n",
       "      <td>1.000000</td>\n",
       "      <td>64.820759</td>\n",
       "      <td>110.976791</td>\n",
       "      <td>154.096438</td>\n",
       "      <td>86.363614</td>\n",
       "      <td>99.726895</td>\n",
       "      <td>25.484283</td>\n",
       "      <td>15.275722</td>\n",
       "      <td>42.942989</td>\n",
       "      <td>14.129651</td>\n",
       "      <td>...</td>\n",
       "      <td>141.951659</td>\n",
       "      <td>138.085115</td>\n",
       "      <td>165.442869</td>\n",
       "      <td>7.683667</td>\n",
       "      <td>4.183891</td>\n",
       "      <td>1.875440</td>\n",
       "      <td>1.000000</td>\n",
       "      <td>9.000000</td>\n",
       "      <td>2.000000</td>\n",
       "      <td>1.000000</td>\n",
       "    </tr>\n",
       "    <tr>\n",
       "      <th>max</th>\n",
       "      <td>1.000000</td>\n",
       "      <td>132.001000</td>\n",
       "      <td>198.928685</td>\n",
       "      <td>233.842087</td>\n",
       "      <td>132.739792</td>\n",
       "      <td>110.588693</td>\n",
       "      <td>43.928290</td>\n",
       "      <td>37.676143</td>\n",
       "      <td>60.304864</td>\n",
       "      <td>21.030687</td>\n",
       "      <td>...</td>\n",
       "      <td>587.019159</td>\n",
       "      <td>507.084156</td>\n",
       "      <td>397.237740</td>\n",
       "      <td>9.660924</td>\n",
       "      <td>5.543099</td>\n",
       "      <td>6.153708</td>\n",
       "      <td>1.000000</td>\n",
       "      <td>9.000000</td>\n",
       "      <td>4.000000</td>\n",
       "      <td>2.000000</td>\n",
       "    </tr>\n",
       "  </tbody>\n",
       "</table>\n",
       "<p>8 rows × 36 columns</p>\n",
       "</div>"
      ],
      "text/plain": [
       "          Admitted          Age   heart_rate          sbp          dbp  \\\n",
       "count  7500.000000  7500.000000  7500.000000  7500.000000  7500.000000   \n",
       "mean      0.401467    48.977792    94.827625   135.892879    75.739349   \n",
       "std       0.490228    23.559729    23.501569    26.710879    15.456168   \n",
       "min       0.000000   -43.299418     4.645046    36.969653     8.107169   \n",
       "25%       0.000000    33.173811    78.937922   117.194061    65.222349   \n",
       "50%       0.000000    48.881006    94.947328   135.973359    75.781082   \n",
       "75%       1.000000    64.820759   110.976791   154.096438    86.363614   \n",
       "max       1.000000   132.001000   198.928685   233.842087   132.739792   \n",
       "\n",
       "          pulse_ox    resp_rate      cbc_wbc  cbc_hematocrit  cbc_hemoglobin  \\\n",
       "count  7500.000000  7500.000000  7500.000000     7500.000000     7500.000000   \n",
       "mean     97.112193    21.021449    10.180191       38.709594       12.657374   \n",
       "std       3.810889     6.676661     7.426270        6.247412        2.202478   \n",
       "min      83.177313    -7.884580   -14.911363       12.743121        4.147882   \n",
       "25%      94.494904    16.599991     5.169603       34.438037       11.165448   \n",
       "50%      97.101627    21.075594    10.234808       38.742682       12.662030   \n",
       "75%      99.726895    25.484283    15.275722       42.942989       14.129651   \n",
       "max     110.588693    43.928290    37.676143       60.304864       21.030687   \n",
       "\n",
       "       ...      cmp_alt      cmp_ast  cmp_alkaline_phosphatase  \\\n",
       "count  ...  7500.000000  7500.000000               7500.000000   \n",
       "mean   ...    43.343198    53.967180                114.207521   \n",
       "std    ...   144.131704   124.924238                 76.709748   \n",
       "min    ...  -456.301321  -423.734074               -166.816802   \n",
       "25%    ...   -54.888992   -29.196799                 62.605715   \n",
       "50%    ...    43.455881    54.534232                115.042789   \n",
       "75%    ...   141.951659   138.085115                165.442869   \n",
       "max    ...   587.019159   507.084156                397.237740   \n",
       "\n",
       "       cmp_total_protein  cmp_albumin  cmp_bilirubin  COVIDResult_Encoded  \\\n",
       "count        7500.000000  7500.000000    7500.000000          7500.000000   \n",
       "mean            7.209553     3.852652       0.859911             0.935733   \n",
       "std             0.698645     0.495229       1.468934             0.245244   \n",
       "min             4.381355     1.663546      -4.490088             0.000000   \n",
       "25%             6.740892     3.513387      -0.146917             1.000000   \n",
       "50%             7.220184     3.846401       0.851459             1.000000   \n",
       "75%             7.683667     4.183891       1.875440             1.000000   \n",
       "max             9.660924     5.543099       6.153708             1.000000   \n",
       "\n",
       "       FirstRace_Encoded  Ethnicity_Encoded  Sex_Encoded  \n",
       "count        7500.000000        7500.000000  7500.000000  \n",
       "mean            6.612133           1.952000     0.496933  \n",
       "std             3.757602           0.353807     0.501356  \n",
       "min             0.000000           0.000000     0.000000  \n",
       "25%             5.000000           2.000000     0.000000  \n",
       "50%             9.000000           2.000000     0.000000  \n",
       "75%             9.000000           2.000000     1.000000  \n",
       "max             9.000000           4.000000     2.000000  \n",
       "\n",
       "[8 rows x 36 columns]"
      ]
     },
     "execution_count": 324,
     "metadata": {},
     "output_type": "execute_result"
    }
   ],
   "source": [
    "real = trim_df4.describe()\n",
    "fake = new_data.describe()\n",
    "fake"
   ]
  },
  {
   "cell_type": "code",
   "execution_count": 325,
   "metadata": {},
   "outputs": [],
   "source": [
    "mean_real = real.iloc[1]\n",
    "mean_fake = fake.iloc[1]\n",
    "std_real = real.iloc[2]\n",
    "std_fake = fake.iloc[2]"
   ]
  },
  {
   "cell_type": "code",
   "execution_count": 326,
   "metadata": {},
   "outputs": [
    {
     "data": {
      "text/plain": [
       "0.09163621411227735"
      ]
     },
     "execution_count": 326,
     "metadata": {},
     "output_type": "execute_result"
    }
   ],
   "source": [
    "(mean_real - mean_fake).mean()"
   ]
  },
  {
   "cell_type": "code",
   "execution_count": 327,
   "metadata": {},
   "outputs": [
    {
     "data": {
      "text/plain": [
       "-0.05858493358959785"
      ]
     },
     "execution_count": 327,
     "metadata": {},
     "output_type": "execute_result"
    }
   ],
   "source": [
    "(std_real - std_fake).mean()"
   ]
  },
  {
   "cell_type": "code",
   "execution_count": 328,
   "metadata": {},
   "outputs": [],
   "source": [
    "new_df = pd.concat([trim_df4, new_data], axis=0).reset_index().drop(columns=['index'])"
   ]
  },
  {
   "cell_type": "code",
   "execution_count": 329,
   "metadata": {},
   "outputs": [
    {
     "data": {
      "text/html": [
       "<div>\n",
       "<style scoped>\n",
       "    .dataframe tbody tr th:only-of-type {\n",
       "        vertical-align: middle;\n",
       "    }\n",
       "\n",
       "    .dataframe tbody tr th {\n",
       "        vertical-align: top;\n",
       "    }\n",
       "\n",
       "    .dataframe thead th {\n",
       "        text-align: right;\n",
       "    }\n",
       "</style>\n",
       "<table border=\"1\" class=\"dataframe\">\n",
       "  <thead>\n",
       "    <tr style=\"text-align: right;\">\n",
       "      <th></th>\n",
       "      <th>Admitted</th>\n",
       "      <th>Age</th>\n",
       "      <th>heart_rate</th>\n",
       "      <th>sbp</th>\n",
       "      <th>dbp</th>\n",
       "      <th>pulse_ox</th>\n",
       "      <th>resp_rate</th>\n",
       "      <th>cbc_wbc</th>\n",
       "      <th>cbc_hematocrit</th>\n",
       "      <th>cbc_hemoglobin</th>\n",
       "      <th>...</th>\n",
       "      <th>cmp_alt</th>\n",
       "      <th>cmp_ast</th>\n",
       "      <th>cmp_alkaline_phosphatase</th>\n",
       "      <th>cmp_total_protein</th>\n",
       "      <th>cmp_albumin</th>\n",
       "      <th>cmp_bilirubin</th>\n",
       "      <th>COVIDResult_Encoded</th>\n",
       "      <th>FirstRace_Encoded</th>\n",
       "      <th>Ethnicity_Encoded</th>\n",
       "      <th>Sex_Encoded</th>\n",
       "    </tr>\n",
       "  </thead>\n",
       "  <tbody>\n",
       "    <tr>\n",
       "      <th>0</th>\n",
       "      <td>1</td>\n",
       "      <td>78.0</td>\n",
       "      <td>94.0</td>\n",
       "      <td>138.0</td>\n",
       "      <td>82.0</td>\n",
       "      <td>96.0</td>\n",
       "      <td>29.0</td>\n",
       "      <td>14.01</td>\n",
       "      <td>34.1</td>\n",
       "      <td>11.0</td>\n",
       "      <td>...</td>\n",
       "      <td>14.0</td>\n",
       "      <td>26.000000</td>\n",
       "      <td>80.0</td>\n",
       "      <td>8.5</td>\n",
       "      <td>4.3</td>\n",
       "      <td>0.5</td>\n",
       "      <td>1.0</td>\n",
       "      <td>9.0</td>\n",
       "      <td>2.0</td>\n",
       "      <td>0.0</td>\n",
       "    </tr>\n",
       "    <tr>\n",
       "      <th>1</th>\n",
       "      <td>0</td>\n",
       "      <td>23.0</td>\n",
       "      <td>121.0</td>\n",
       "      <td>134.0</td>\n",
       "      <td>88.0</td>\n",
       "      <td>98.0</td>\n",
       "      <td>18.0</td>\n",
       "      <td>5.04</td>\n",
       "      <td>36.2</td>\n",
       "      <td>11.9</td>\n",
       "      <td>...</td>\n",
       "      <td>73.0</td>\n",
       "      <td>55.627858</td>\n",
       "      <td>100.0</td>\n",
       "      <td>8.1</td>\n",
       "      <td>4.6</td>\n",
       "      <td>0.6</td>\n",
       "      <td>1.0</td>\n",
       "      <td>9.0</td>\n",
       "      <td>2.0</td>\n",
       "      <td>0.0</td>\n",
       "    </tr>\n",
       "    <tr>\n",
       "      <th>2</th>\n",
       "      <td>0</td>\n",
       "      <td>55.0</td>\n",
       "      <td>83.0</td>\n",
       "      <td>152.0</td>\n",
       "      <td>76.0</td>\n",
       "      <td>98.0</td>\n",
       "      <td>21.0</td>\n",
       "      <td>7.13</td>\n",
       "      <td>36.0</td>\n",
       "      <td>12.0</td>\n",
       "      <td>...</td>\n",
       "      <td>26.0</td>\n",
       "      <td>29.000000</td>\n",
       "      <td>106.0</td>\n",
       "      <td>7.1</td>\n",
       "      <td>4.0</td>\n",
       "      <td>0.7</td>\n",
       "      <td>1.0</td>\n",
       "      <td>0.0</td>\n",
       "      <td>2.0</td>\n",
       "      <td>1.0</td>\n",
       "    </tr>\n",
       "    <tr>\n",
       "      <th>3</th>\n",
       "      <td>1</td>\n",
       "      <td>50.0</td>\n",
       "      <td>88.0</td>\n",
       "      <td>138.0</td>\n",
       "      <td>65.0</td>\n",
       "      <td>87.0</td>\n",
       "      <td>18.0</td>\n",
       "      <td>5.74</td>\n",
       "      <td>32.9</td>\n",
       "      <td>11.6</td>\n",
       "      <td>...</td>\n",
       "      <td>22.0</td>\n",
       "      <td>55.627858</td>\n",
       "      <td>78.0</td>\n",
       "      <td>7.8</td>\n",
       "      <td>3.7</td>\n",
       "      <td>0.5</td>\n",
       "      <td>1.0</td>\n",
       "      <td>9.0</td>\n",
       "      <td>2.0</td>\n",
       "      <td>1.0</td>\n",
       "    </tr>\n",
       "    <tr>\n",
       "      <th>4</th>\n",
       "      <td>0</td>\n",
       "      <td>67.0</td>\n",
       "      <td>90.0</td>\n",
       "      <td>128.0</td>\n",
       "      <td>69.0</td>\n",
       "      <td>98.0</td>\n",
       "      <td>18.0</td>\n",
       "      <td>10.56</td>\n",
       "      <td>31.7</td>\n",
       "      <td>9.8</td>\n",
       "      <td>...</td>\n",
       "      <td>12.0</td>\n",
       "      <td>18.000000</td>\n",
       "      <td>122.0</td>\n",
       "      <td>7.4</td>\n",
       "      <td>3.5</td>\n",
       "      <td>0.2</td>\n",
       "      <td>1.0</td>\n",
       "      <td>0.0</td>\n",
       "      <td>2.0</td>\n",
       "      <td>0.0</td>\n",
       "    </tr>\n",
       "  </tbody>\n",
       "</table>\n",
       "<p>5 rows × 36 columns</p>\n",
       "</div>"
      ],
      "text/plain": [
       "   Admitted   Age  heart_rate    sbp   dbp  pulse_ox  resp_rate  cbc_wbc  \\\n",
       "0         1  78.0        94.0  138.0  82.0      96.0       29.0    14.01   \n",
       "1         0  23.0       121.0  134.0  88.0      98.0       18.0     5.04   \n",
       "2         0  55.0        83.0  152.0  76.0      98.0       21.0     7.13   \n",
       "3         1  50.0        88.0  138.0  65.0      87.0       18.0     5.74   \n",
       "4         0  67.0        90.0  128.0  69.0      98.0       18.0    10.56   \n",
       "\n",
       "   cbc_hematocrit  cbc_hemoglobin  ...  cmp_alt    cmp_ast  \\\n",
       "0            34.1            11.0  ...     14.0  26.000000   \n",
       "1            36.2            11.9  ...     73.0  55.627858   \n",
       "2            36.0            12.0  ...     26.0  29.000000   \n",
       "3            32.9            11.6  ...     22.0  55.627858   \n",
       "4            31.7             9.8  ...     12.0  18.000000   \n",
       "\n",
       "   cmp_alkaline_phosphatase  cmp_total_protein  cmp_albumin  cmp_bilirubin  \\\n",
       "0                      80.0                8.5          4.3            0.5   \n",
       "1                     100.0                8.1          4.6            0.6   \n",
       "2                     106.0                7.1          4.0            0.7   \n",
       "3                      78.0                7.8          3.7            0.5   \n",
       "4                     122.0                7.4          3.5            0.2   \n",
       "\n",
       "   COVIDResult_Encoded  FirstRace_Encoded  Ethnicity_Encoded  Sex_Encoded  \n",
       "0                  1.0                9.0                2.0          0.0  \n",
       "1                  1.0                9.0                2.0          0.0  \n",
       "2                  1.0                0.0                2.0          1.0  \n",
       "3                  1.0                9.0                2.0          1.0  \n",
       "4                  1.0                0.0                2.0          0.0  \n",
       "\n",
       "[5 rows x 36 columns]"
      ]
     },
     "execution_count": 329,
     "metadata": {},
     "output_type": "execute_result"
    }
   ],
   "source": [
    "new_df.head(5)"
   ]
  },
  {
   "cell_type": "code",
   "execution_count": 330,
   "metadata": {},
   "outputs": [
    {
     "data": {
      "text/plain": [
       "(14880, 36)"
      ]
     },
     "execution_count": 330,
     "metadata": {},
     "output_type": "execute_result"
    }
   ],
   "source": [
    "new_df.shape"
   ]
  },
  {
   "cell_type": "code",
   "execution_count": 331,
   "metadata": {},
   "outputs": [
    {
     "data": {
      "text/html": [
       "<div>\n",
       "<style scoped>\n",
       "    .dataframe tbody tr th:only-of-type {\n",
       "        vertical-align: middle;\n",
       "    }\n",
       "\n",
       "    .dataframe tbody tr th {\n",
       "        vertical-align: top;\n",
       "    }\n",
       "\n",
       "    .dataframe thead th {\n",
       "        text-align: right;\n",
       "    }\n",
       "</style>\n",
       "<table border=\"1\" class=\"dataframe\">\n",
       "  <thead>\n",
       "    <tr style=\"text-align: right;\">\n",
       "      <th></th>\n",
       "      <th>Age</th>\n",
       "      <th>heart_rate</th>\n",
       "      <th>sbp</th>\n",
       "      <th>dbp</th>\n",
       "      <th>pulse_ox</th>\n",
       "      <th>resp_rate</th>\n",
       "      <th>cbc_wbc</th>\n",
       "      <th>cbc_hematocrit</th>\n",
       "      <th>cbc_hemoglobin</th>\n",
       "      <th>cbc_platelets</th>\n",
       "      <th>...</th>\n",
       "      <th>cmp_ast</th>\n",
       "      <th>cmp_alkaline_phosphatase</th>\n",
       "      <th>cmp_total_protein</th>\n",
       "      <th>cmp_albumin</th>\n",
       "      <th>cmp_bilirubin</th>\n",
       "      <th>Admitted</th>\n",
       "      <th>FirstRace_Encoded</th>\n",
       "      <th>Ethnicity_Encoded</th>\n",
       "      <th>Sex_Encoded</th>\n",
       "      <th>COVIDResult_Encoded</th>\n",
       "    </tr>\n",
       "  </thead>\n",
       "  <tbody>\n",
       "    <tr>\n",
       "      <th>0</th>\n",
       "      <td>1.232826</td>\n",
       "      <td>-0.029050</td>\n",
       "      <td>0.076388</td>\n",
       "      <td>0.398710</td>\n",
       "      <td>-0.285183</td>\n",
       "      <td>1.189659</td>\n",
       "      <td>0.517899</td>\n",
       "      <td>-0.729687</td>\n",
       "      <td>-0.747168</td>\n",
       "      <td>0.620033</td>\n",
       "      <td>...</td>\n",
       "      <td>-0.231434</td>\n",
       "      <td>-0.444896</td>\n",
       "      <td>1.836084</td>\n",
       "      <td>0.910591</td>\n",
       "      <td>-0.239651</td>\n",
       "      <td>1</td>\n",
       "      <td>9.0</td>\n",
       "      <td>2.0</td>\n",
       "      <td>0.0</td>\n",
       "      <td>1.0</td>\n",
       "    </tr>\n",
       "    <tr>\n",
       "      <th>1</th>\n",
       "      <td>-1.103498</td>\n",
       "      <td>1.124564</td>\n",
       "      <td>-0.072313</td>\n",
       "      <td>0.789975</td>\n",
       "      <td>0.238753</td>\n",
       "      <td>-0.451303</td>\n",
       "      <td>-0.697223</td>\n",
       "      <td>-0.392674</td>\n",
       "      <td>-0.340862</td>\n",
       "      <td>0.725198</td>\n",
       "      <td>...</td>\n",
       "      <td>0.006728</td>\n",
       "      <td>-0.184581</td>\n",
       "      <td>1.266752</td>\n",
       "      <td>1.516856</td>\n",
       "      <td>-0.171651</td>\n",
       "      <td>0</td>\n",
       "      <td>9.0</td>\n",
       "      <td>2.0</td>\n",
       "      <td>0.0</td>\n",
       "      <td>1.0</td>\n",
       "    </tr>\n",
       "    <tr>\n",
       "      <th>2</th>\n",
       "      <td>0.255818</td>\n",
       "      <td>-0.499041</td>\n",
       "      <td>0.596844</td>\n",
       "      <td>0.007445</td>\n",
       "      <td>0.238753</td>\n",
       "      <td>-0.003768</td>\n",
       "      <td>-0.414101</td>\n",
       "      <td>-0.424770</td>\n",
       "      <td>-0.295717</td>\n",
       "      <td>-0.084577</td>\n",
       "      <td>...</td>\n",
       "      <td>-0.207319</td>\n",
       "      <td>-0.106487</td>\n",
       "      <td>-0.156580</td>\n",
       "      <td>0.304327</td>\n",
       "      <td>-0.103651</td>\n",
       "      <td>0</td>\n",
       "      <td>0.0</td>\n",
       "      <td>2.0</td>\n",
       "      <td>1.0</td>\n",
       "      <td>1.0</td>\n",
       "    </tr>\n",
       "    <tr>\n",
       "      <th>3</th>\n",
       "      <td>0.043425</td>\n",
       "      <td>-0.285409</td>\n",
       "      <td>0.076388</td>\n",
       "      <td>-0.709874</td>\n",
       "      <td>-2.642894</td>\n",
       "      <td>-0.451303</td>\n",
       "      <td>-0.602397</td>\n",
       "      <td>-0.922266</td>\n",
       "      <td>-0.476298</td>\n",
       "      <td>-1.304499</td>\n",
       "      <td>...</td>\n",
       "      <td>0.006728</td>\n",
       "      <td>-0.470928</td>\n",
       "      <td>0.839752</td>\n",
       "      <td>-0.301937</td>\n",
       "      <td>-0.239651</td>\n",
       "      <td>1</td>\n",
       "      <td>9.0</td>\n",
       "      <td>2.0</td>\n",
       "      <td>1.0</td>\n",
       "      <td>1.0</td>\n",
       "    </tr>\n",
       "    <tr>\n",
       "      <th>4</th>\n",
       "      <td>0.765562</td>\n",
       "      <td>-0.199956</td>\n",
       "      <td>-0.295366</td>\n",
       "      <td>-0.449031</td>\n",
       "      <td>0.238753</td>\n",
       "      <td>-0.451303</td>\n",
       "      <td>0.050544</td>\n",
       "      <td>-1.114844</td>\n",
       "      <td>-1.288910</td>\n",
       "      <td>0.609516</td>\n",
       "      <td>...</td>\n",
       "      <td>-0.295742</td>\n",
       "      <td>0.101765</td>\n",
       "      <td>0.270419</td>\n",
       "      <td>-0.706113</td>\n",
       "      <td>-0.443652</td>\n",
       "      <td>0</td>\n",
       "      <td>0.0</td>\n",
       "      <td>2.0</td>\n",
       "      <td>0.0</td>\n",
       "      <td>1.0</td>\n",
       "    </tr>\n",
       "  </tbody>\n",
       "</table>\n",
       "<p>5 rows × 36 columns</p>\n",
       "</div>"
      ],
      "text/plain": [
       "        Age  heart_rate       sbp       dbp  pulse_ox  resp_rate   cbc_wbc  \\\n",
       "0  1.232826   -0.029050  0.076388  0.398710 -0.285183   1.189659  0.517899   \n",
       "1 -1.103498    1.124564 -0.072313  0.789975  0.238753  -0.451303 -0.697223   \n",
       "2  0.255818   -0.499041  0.596844  0.007445  0.238753  -0.003768 -0.414101   \n",
       "3  0.043425   -0.285409  0.076388 -0.709874 -2.642894  -0.451303 -0.602397   \n",
       "4  0.765562   -0.199956 -0.295366 -0.449031  0.238753  -0.451303  0.050544   \n",
       "\n",
       "   cbc_hematocrit  cbc_hemoglobin  cbc_platelets  ...   cmp_ast  \\\n",
       "0       -0.729687       -0.747168       0.620033  ... -0.231434   \n",
       "1       -0.392674       -0.340862       0.725198  ...  0.006728   \n",
       "2       -0.424770       -0.295717      -0.084577  ... -0.207319   \n",
       "3       -0.922266       -0.476298      -1.304499  ...  0.006728   \n",
       "4       -1.114844       -1.288910       0.609516  ... -0.295742   \n",
       "\n",
       "   cmp_alkaline_phosphatase  cmp_total_protein  cmp_albumin  cmp_bilirubin  \\\n",
       "0                 -0.444896           1.836084     0.910591      -0.239651   \n",
       "1                 -0.184581           1.266752     1.516856      -0.171651   \n",
       "2                 -0.106487          -0.156580     0.304327      -0.103651   \n",
       "3                 -0.470928           0.839752    -0.301937      -0.239651   \n",
       "4                  0.101765           0.270419    -0.706113      -0.443652   \n",
       "\n",
       "   Admitted  FirstRace_Encoded  Ethnicity_Encoded  Sex_Encoded  \\\n",
       "0         1                9.0                2.0          0.0   \n",
       "1         0                9.0                2.0          0.0   \n",
       "2         0                0.0                2.0          1.0   \n",
       "3         1                9.0                2.0          1.0   \n",
       "4         0                0.0                2.0          0.0   \n",
       "\n",
       "   COVIDResult_Encoded  \n",
       "0                  1.0  \n",
       "1                  1.0  \n",
       "2                  1.0  \n",
       "3                  1.0  \n",
       "4                  1.0  \n",
       "\n",
       "[5 rows x 36 columns]"
      ]
     },
     "execution_count": 331,
     "metadata": {},
     "output_type": "execute_result"
    }
   ],
   "source": [
    "codes_df2 = new_df[code_cols]\n",
    "trim_df6 = new_df.drop(columns=code_cols)\n",
    "scaler2 = StandardScaler()\n",
    "scaled_df2 = pd.DataFrame(data=scaler2.fit_transform(trim_df6), columns=trim_df6.columns.tolist())\n",
    "merged_df2 = pd.concat([scaled_df2, codes_df2], axis=1)\n",
    "merged_df2.head()"
   ]
  },
  {
   "cell_type": "code",
   "execution_count": 332,
   "metadata": {},
   "outputs": [],
   "source": [
    "train2, test2 = train_test_split(merged_df2, test_size=0.2, random_state=seed)"
   ]
  },
  {
   "cell_type": "code",
   "execution_count": 333,
   "metadata": {},
   "outputs": [],
   "source": [
    "final_data2 = merged_df2.copy()\n",
    "final_train2 = train2.copy()\n",
    "final_test2 = test2.copy()\n",
    "target = 'COVIDResult_Encoded'"
   ]
  },
  {
   "cell_type": "code",
   "execution_count": 334,
   "metadata": {},
   "outputs": [
    {
     "name": "stdout",
     "output_type": "stream",
     "text": [
      "1.0    11150\n",
      "0.0      754\n",
      "Name: COVIDResult_Encoded, dtype: int64\n",
      "1.0    2778\n",
      "0.0     198\n",
      "Name: COVIDResult_Encoded, dtype: int64\n"
     ]
    }
   ],
   "source": [
    "print(final_train2[target].value_counts())\n",
    "print(final_test2[target].value_counts())"
   ]
  },
  {
   "cell_type": "code",
   "execution_count": 335,
   "metadata": {},
   "outputs": [],
   "source": [
    "X_train2 = final_train2.loc[:, final_train2.columns != target]\n",
    "y_train2 = final_train2[target]\n",
    "\n",
    "X_test2 = final_test2.loc[:, final_test2.columns != target]\n",
    "y_test2 = final_test2[target]"
   ]
  },
  {
   "cell_type": "code",
   "execution_count": 336,
   "metadata": {
    "scrolled": false
   },
   "outputs": [
    {
     "data": {
      "text/markdown": [
       "### Model 1 – Sequential: Dense + Batch Normalization Layers, ReLU Activations"
      ],
      "text/plain": [
       "<IPython.core.display.Markdown object>"
      ]
     },
     "metadata": {},
     "output_type": "display_data"
    },
    {
     "data": {
      "text/markdown": [
       "**Summary**"
      ],
      "text/plain": [
       "<IPython.core.display.Markdown object>"
      ]
     },
     "metadata": {},
     "output_type": "display_data"
    },
    {
     "name": "stdout",
     "output_type": "stream",
     "text": [
      "Model: \"sequential_12\"\n",
      "_________________________________________________________________\n",
      "Layer (type)                 Output Shape              Param #   \n",
      "=================================================================\n",
      "batch_normalization_12 (Batc (None, 35)                140       \n",
      "_________________________________________________________________\n",
      "dense_36 (Dense)             (None, 300)               10500     \n",
      "_________________________________________________________________\n",
      "batch_normalization_13 (Batc (None, 300)               1200      \n",
      "_________________________________________________________________\n",
      "activation_8 (Activation)    (None, 300)               0         \n",
      "_________________________________________________________________\n",
      "dense_37 (Dense)             (None, 100)               30000     \n",
      "_________________________________________________________________\n",
      "activation_9 (Activation)    (None, 100)               0         \n",
      "_________________________________________________________________\n",
      "batch_normalization_14 (Batc (None, 100)               400       \n",
      "_________________________________________________________________\n",
      "dense_38 (Dense)             (None, 2)                 202       \n",
      "=================================================================\n",
      "Total params: 42,442\n",
      "Trainable params: 41,572\n",
      "Non-trainable params: 870\n",
      "_________________________________________________________________\n"
     ]
    },
    {
     "data": {
      "text/markdown": [
       "**Training/Validation Loss and Accuracy**"
      ],
      "text/plain": [
       "<IPython.core.display.Markdown object>"
      ]
     },
     "metadata": {},
     "output_type": "display_data"
    },
    {
     "data": {
      "image/png": "[encoded data removed]",
      "text/plain": [
       "<Figure size 576x360 with 1 Axes>"
      ]
     },
     "metadata": {
      "needs_background": "light"
     },
     "output_type": "display_data"
    },
    {
     "data": {
      "text/markdown": [
       "**Evaluation and Prediction**"
      ],
      "text/plain": [
       "<IPython.core.display.Markdown object>"
      ]
     },
     "metadata": {},
     "output_type": "display_data"
    },
    {
     "name": "stdout",
     "output_type": "stream",
     "text": [
      "93/93 [==============================] - 0s 2ms/step - loss: 0.2596 - accuracy: 0.9291\n",
      "\n",
      "Loss: 25.96%\n",
      "Accuracy: 92.91%\n"
     ]
    },
    {
     "data": {
      "text/markdown": [
       "**Metric Scores**"
      ],
      "text/plain": [
       "<IPython.core.display.Markdown object>"
      ]
     },
     "metadata": {},
     "output_type": "display_data"
    },
    {
     "name": "stdout",
     "output_type": "stream",
     "text": [
      "Precision: 93.61%\n",
      "Recall: 99.17%\n",
      "F1: 96.31%\n",
      "\n",
      "Confusion Matrix:\n",
      "[[  10  188]\n",
      " [  23 2755]]\n"
     ]
    },
    {
     "data": {
      "text/markdown": [
       "**Confusion Matrix**"
      ],
      "text/plain": [
       "<IPython.core.display.Markdown object>"
      ]
     },
     "metadata": {},
     "output_type": "display_data"
    },
    {
     "data": {
      "image/png": "[encoded data removed]",
      "text/plain": [
       "<Figure size 432x288 with 2 Axes>"
      ]
     },
     "metadata": {
      "needs_background": "light"
     },
     "output_type": "display_data"
    },
    {
     "name": "stdout",
     "output_type": "stream",
     "text": [
      "\n"
     ]
    },
    {
     "data": {
      "text/markdown": [
       "### Model 2 – Sequential: Dense Layers, ReLU Activation"
      ],
      "text/plain": [
       "<IPython.core.display.Markdown object>"
      ]
     },
     "metadata": {},
     "output_type": "display_data"
    },
    {
     "data": {
      "text/markdown": [
       "**Summary**"
      ],
      "text/plain": [
       "<IPython.core.display.Markdown object>"
      ]
     },
     "metadata": {},
     "output_type": "display_data"
    },
    {
     "name": "stdout",
     "output_type": "stream",
     "text": [
      "Model: \"sequential_13\"\n",
      "_________________________________________________________________\n",
      "Layer (type)                 Output Shape              Param #   \n",
      "=================================================================\n",
      "dense_39 (Dense)             (None, 35)                1260      \n",
      "_________________________________________________________________\n",
      "dense_40 (Dense)             (None, 6)                 216       \n",
      "_________________________________________________________________\n",
      "dense_41 (Dense)             (None, 2)                 14        \n",
      "=================================================================\n",
      "Total params: 1,490\n",
      "Trainable params: 1,490\n",
      "Non-trainable params: 0\n",
      "_________________________________________________________________\n"
     ]
    },
    {
     "data": {
      "text/markdown": [
       "**Training/Validation Loss and Accuracy**"
      ],
      "text/plain": [
       "<IPython.core.display.Markdown object>"
      ]
     },
     "metadata": {},
     "output_type": "display_data"
    },
    {
     "data": {
      "image/png": "[encoded data removed]",
      "text/plain": [
       "<Figure size 576x360 with 1 Axes>"
      ]
     },
     "metadata": {
      "needs_background": "light"
     },
     "output_type": "display_data"
    },
    {
     "data": {
      "text/markdown": [
       "**Evaluation and Prediction**"
      ],
      "text/plain": [
       "<IPython.core.display.Markdown object>"
      ]
     },
     "metadata": {},
     "output_type": "display_data"
    },
    {
     "name": "stdout",
     "output_type": "stream",
     "text": [
      "93/93 [==============================] - 0s 2ms/step - loss: 0.2419 - accuracy: 0.9335\n",
      "\n",
      "Loss: 24.19%\n",
      "Accuracy: 93.35%\n"
     ]
    },
    {
     "data": {
      "text/markdown": [
       "**Metric Scores**"
      ],
      "text/plain": [
       "<IPython.core.display.Markdown object>"
      ]
     },
     "metadata": {},
     "output_type": "display_data"
    },
    {
     "name": "stdout",
     "output_type": "stream",
     "text": [
      "Precision: 93.35%\n",
      "Recall: 100.00%\n",
      "F1: 96.56%\n",
      "\n",
      "Confusion Matrix:\n",
      "[[   0  198]\n",
      " [   0 2778]]\n"
     ]
    },
    {
     "data": {
      "text/markdown": [
       "**Confusion Matrix**"
      ],
      "text/plain": [
       "<IPython.core.display.Markdown object>"
      ]
     },
     "metadata": {},
     "output_type": "display_data"
    },
    {
     "data": {
      "image/png": "[encoded data removed]",
      "text/plain": [
       "<Figure size 432x288 with 2 Axes>"
      ]
     },
     "metadata": {
      "needs_background": "light"
     },
     "output_type": "display_data"
    },
    {
     "name": "stdout",
     "output_type": "stream",
     "text": [
      "\n"
     ]
    },
    {
     "data": {
      "text/markdown": [
       "### Model 3 – Sequential: Dense Layers, PReLU Activation"
      ],
      "text/plain": [
       "<IPython.core.display.Markdown object>"
      ]
     },
     "metadata": {},
     "output_type": "display_data"
    },
    {
     "data": {
      "text/markdown": [
       "**Summary**"
      ],
      "text/plain": [
       "<IPython.core.display.Markdown object>"
      ]
     },
     "metadata": {},
     "output_type": "display_data"
    },
    {
     "name": "stdout",
     "output_type": "stream",
     "text": [
      "Model: \"sequential_14\"\n",
      "_________________________________________________________________\n",
      "Layer (type)                 Output Shape              Param #   \n",
      "=================================================================\n",
      "dense_42 (Dense)             (None, 35)                1260      \n",
      "_________________________________________________________________\n",
      "p_re_lu_8 (PReLU)            (None, 35)                35        \n",
      "_________________________________________________________________\n",
      "dense_43 (Dense)             (None, 6)                 216       \n",
      "_________________________________________________________________\n",
      "p_re_lu_9 (PReLU)            (None, 6)                 6         \n",
      "_________________________________________________________________\n",
      "dense_44 (Dense)             (None, 2)                 14        \n",
      "=================================================================\n",
      "Total params: 1,531\n",
      "Trainable params: 1,531\n",
      "Non-trainable params: 0\n",
      "_________________________________________________________________\n"
     ]
    },
    {
     "data": {
      "text/markdown": [
       "**Training/Validation Loss and Accuracy**"
      ],
      "text/plain": [
       "<IPython.core.display.Markdown object>"
      ]
     },
     "metadata": {},
     "output_type": "display_data"
    },
    {
     "data": {
      "image/png": "[encoded data removed]",
      "text/plain": [
       "<Figure size 576x360 with 1 Axes>"
      ]
     },
     "metadata": {
      "needs_background": "light"
     },
     "output_type": "display_data"
    },
    {
     "data": {
      "text/markdown": [
       "**Evaluation and Prediction**"
      ],
      "text/plain": [
       "<IPython.core.display.Markdown object>"
      ]
     },
     "metadata": {},
     "output_type": "display_data"
    },
    {
     "name": "stdout",
     "output_type": "stream",
     "text": [
      "93/93 [==============================] - 0s 2ms/step - loss: 0.2529 - accuracy: 0.9311\n",
      "\n",
      "Loss: 25.29%\n",
      "Accuracy: 93.11%\n"
     ]
    },
    {
     "data": {
      "text/markdown": [
       "**Metric Scores**"
      ],
      "text/plain": [
       "<IPython.core.display.Markdown object>"
      ]
     },
     "metadata": {},
     "output_type": "display_data"
    },
    {
     "name": "stdout",
     "output_type": "stream",
     "text": [
      "Precision: 93.36%\n",
      "Recall: 99.71%\n",
      "F1: 96.43%\n",
      "\n",
      "Confusion Matrix:\n",
      "[[   1  197]\n",
      " [   8 2770]]\n"
     ]
    },
    {
     "data": {
      "text/markdown": [
       "**Confusion Matrix**"
      ],
      "text/plain": [
       "<IPython.core.display.Markdown object>"
      ]
     },
     "metadata": {},
     "output_type": "display_data"
    },
    {
     "data": {
      "image/png": "[encoded data removed]",
      "text/plain": [
       "<Figure size 432x288 with 2 Axes>"
      ]
     },
     "metadata": {
      "needs_background": "light"
     },
     "output_type": "display_data"
    },
    {
     "name": "stdout",
     "output_type": "stream",
     "text": [
      "\n"
     ]
    }
   ],
   "source": [
    "test_models(model_lst, (X_train2, y_train2, X_test2, y_test2))"
   ]
  }
 ],
 "metadata": {
  "kernelspec": {
   "display_name": "Python 3",
   "language": "python",
   "name": "python3"
  },
  "language_info": {
   "codemirror_mode": {
    "name": "ipython",
    "version": 3
   },
   "file_extension": ".py",
   "mimetype": "text/x-python",
   "name": "python",
   "nbconvert_exporter": "python",
   "pygments_lexer": "ipython3",
   "version": "3.6.4"
  }
 },
 "nbformat": 4,
 "nbformat_minor": 1
}
